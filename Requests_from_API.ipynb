{
  "nbformat": 4,
  "nbformat_minor": 0,
  "metadata": {
    "colab": {
      "provenance": [],
      "authorship_tag": "ABX9TyM/zwRGhCVNZq1PJNTD2GhH",
      "include_colab_link": true
    },
    "kernelspec": {
      "name": "python3",
      "display_name": "Python 3"
    },
    "language_info": {
      "name": "python"
    }
  },
  "cells": [
    {
      "cell_type": "markdown",
      "metadata": {
        "id": "view-in-github",
        "colab_type": "text"
      },
      "source": [
        "<a href=\"https://colab.research.google.com/github/OJB-Quantum/Effective-Google-Search-Tips/blob/main/Requests_from_API.ipynb\" target=\"_parent\"><img src=\"https://colab.research.google.com/assets/colab-badge.svg\" alt=\"Open In Colab\"/></a>"
      ]
    },
    {
      "cell_type": "code",
      "execution_count": null,
      "metadata": {
        "colab": {
          "base_uri": "https://localhost:8080/"
        },
        "id": "aFVp1C0AaeN4",
        "outputId": "76db406d-10f5-448e-eb03-6f7b5643c3e0"
      },
      "outputs": [
        {
          "output_type": "stream",
          "name": "stdout",
          "text": [
            "Looking in indexes: https://pypi.org/simple, https://us-python.pkg.dev/colab-wheels/public/simple/\n",
            "Requirement already satisfied: requests in /usr/local/lib/python3.10/dist-packages (2.27.1)\n",
            "Requirement already satisfied: urllib3<1.27,>=1.21.1 in /usr/local/lib/python3.10/dist-packages (from requests) (1.26.15)\n",
            "Requirement already satisfied: certifi>=2017.4.17 in /usr/local/lib/python3.10/dist-packages (from requests) (2022.12.7)\n",
            "Requirement already satisfied: charset-normalizer~=2.0.0 in /usr/local/lib/python3.10/dist-packages (from requests) (2.0.12)\n",
            "Requirement already satisfied: idna<4,>=2.5 in /usr/local/lib/python3.10/dist-packages (from requests) (3.4)\n"
          ]
        }
      ],
      "source": [
        "# Install a pip package in the current Jupyter kernel\n",
        "import sys\n",
        "!{sys.executable} -m pip install requests"
      ]
    },
    {
      "cell_type": "code",
      "source": [
        "pip install wikipedia-api"
      ],
      "metadata": {
        "colab": {
          "base_uri": "https://localhost:8080/"
        },
        "id": "6czOFvbxgmtG",
        "outputId": "53cfa4fa-75d9-4f0d-eac9-6c304396a9bd"
      },
      "execution_count": null,
      "outputs": [
        {
          "output_type": "stream",
          "name": "stdout",
          "text": [
            "Looking in indexes: https://pypi.org/simple, https://us-python.pkg.dev/colab-wheels/public/simple/\n",
            "Requirement already satisfied: wikipedia-api in /usr/local/lib/python3.10/dist-packages (0.5.8)\n",
            "Requirement already satisfied: requests in /usr/local/lib/python3.10/dist-packages (from wikipedia-api) (2.27.1)\n",
            "Requirement already satisfied: urllib3<1.27,>=1.21.1 in /usr/local/lib/python3.10/dist-packages (from requests->wikipedia-api) (1.26.15)\n",
            "Requirement already satisfied: certifi>=2017.4.17 in /usr/local/lib/python3.10/dist-packages (from requests->wikipedia-api) (2022.12.7)\n",
            "Requirement already satisfied: charset-normalizer~=2.0.0 in /usr/local/lib/python3.10/dist-packages (from requests->wikipedia-api) (2.0.12)\n",
            "Requirement already satisfied: idna<4,>=2.5 in /usr/local/lib/python3.10/dist-packages (from requests->wikipedia-api) (3.4)\n"
          ]
        }
      ]
    },
    {
      "cell_type": "code",
      "source": [
        "pip install transformers"
      ],
      "metadata": {
        "id": "FgpL0rKGnyIn",
        "outputId": "18160501-c72f-4f9a-c7bd-a6986e274be7",
        "colab": {
          "base_uri": "https://localhost:8080/"
        }
      },
      "execution_count": null,
      "outputs": [
        {
          "output_type": "stream",
          "name": "stdout",
          "text": [
            "Looking in indexes: https://pypi.org/simple, https://us-python.pkg.dev/colab-wheels/public/simple/\n",
            "Collecting transformers\n",
            "  Downloading transformers-4.30.1-py3-none-any.whl (7.2 MB)\n",
            "\u001b[2K     \u001b[90m━━━━━━━━━━━━━━━━━━━━━━━━━━━━━━━━━━━━━━━━\u001b[0m \u001b[32m7.2/7.2 MB\u001b[0m \u001b[31m69.3 MB/s\u001b[0m eta \u001b[36m0:00:00\u001b[0m\n",
            "\u001b[?25hRequirement already satisfied: filelock in /usr/local/lib/python3.10/dist-packages (from transformers) (3.12.0)\n",
            "Collecting huggingface-hub<1.0,>=0.14.1 (from transformers)\n",
            "  Downloading huggingface_hub-0.15.1-py3-none-any.whl (236 kB)\n",
            "\u001b[2K     \u001b[90m━━━━━━━━━━━━━━━━━━━━━━━━━━━━━━━━━━━━━━\u001b[0m \u001b[32m236.8/236.8 kB\u001b[0m \u001b[31m25.1 MB/s\u001b[0m eta \u001b[36m0:00:00\u001b[0m\n",
            "\u001b[?25hRequirement already satisfied: numpy>=1.17 in /usr/local/lib/python3.10/dist-packages (from transformers) (1.22.4)\n",
            "Requirement already satisfied: packaging>=20.0 in /usr/local/lib/python3.10/dist-packages (from transformers) (23.1)\n",
            "Requirement already satisfied: pyyaml>=5.1 in /usr/local/lib/python3.10/dist-packages (from transformers) (6.0)\n",
            "Requirement already satisfied: regex!=2019.12.17 in /usr/local/lib/python3.10/dist-packages (from transformers) (2022.10.31)\n",
            "Requirement already satisfied: requests in /usr/local/lib/python3.10/dist-packages (from transformers) (2.27.1)\n",
            "Collecting tokenizers!=0.11.3,<0.14,>=0.11.1 (from transformers)\n",
            "  Downloading tokenizers-0.13.3-cp310-cp310-manylinux_2_17_x86_64.manylinux2014_x86_64.whl (7.8 MB)\n",
            "\u001b[2K     \u001b[90m━━━━━━━━━━━━━━━━━━━━━━━━━━━━━━━━━━━━━━━━\u001b[0m \u001b[32m7.8/7.8 MB\u001b[0m \u001b[31m111.7 MB/s\u001b[0m eta \u001b[36m0:00:00\u001b[0m\n",
            "\u001b[?25hCollecting safetensors>=0.3.1 (from transformers)\n",
            "  Downloading safetensors-0.3.1-cp310-cp310-manylinux_2_17_x86_64.manylinux2014_x86_64.whl (1.3 MB)\n",
            "\u001b[2K     \u001b[90m━━━━━━━━━━━━━━━━━━━━━━━━━━━━━━━━━━━━━━━━\u001b[0m \u001b[32m1.3/1.3 MB\u001b[0m \u001b[31m94.4 MB/s\u001b[0m eta \u001b[36m0:00:00\u001b[0m\n",
            "\u001b[?25hRequirement already satisfied: tqdm>=4.27 in /usr/local/lib/python3.10/dist-packages (from transformers) (4.65.0)\n",
            "Requirement already satisfied: fsspec in /usr/local/lib/python3.10/dist-packages (from huggingface-hub<1.0,>=0.14.1->transformers) (2023.4.0)\n",
            "Requirement already satisfied: typing-extensions>=3.7.4.3 in /usr/local/lib/python3.10/dist-packages (from huggingface-hub<1.0,>=0.14.1->transformers) (4.5.0)\n",
            "Requirement already satisfied: urllib3<1.27,>=1.21.1 in /usr/local/lib/python3.10/dist-packages (from requests->transformers) (1.26.15)\n",
            "Requirement already satisfied: certifi>=2017.4.17 in /usr/local/lib/python3.10/dist-packages (from requests->transformers) (2022.12.7)\n",
            "Requirement already satisfied: charset-normalizer~=2.0.0 in /usr/local/lib/python3.10/dist-packages (from requests->transformers) (2.0.12)\n",
            "Requirement already satisfied: idna<4,>=2.5 in /usr/local/lib/python3.10/dist-packages (from requests->transformers) (3.4)\n",
            "Installing collected packages: tokenizers, safetensors, huggingface-hub, transformers\n",
            "Successfully installed huggingface-hub-0.15.1 safetensors-0.3.1 tokenizers-0.13.3 transformers-4.30.1\n"
          ]
        }
      ]
    },
    {
      "cell_type": "code",
      "source": [
        "pip install pyshorteners"
      ],
      "metadata": {
        "id": "TlbJL2fIq4ON",
        "outputId": "35144258-2699-4d0f-c8cc-9b9fa8967a82",
        "colab": {
          "base_uri": "https://localhost:8080/"
        }
      },
      "execution_count": null,
      "outputs": [
        {
          "output_type": "stream",
          "name": "stdout",
          "text": [
            "Looking in indexes: https://pypi.org/simple, https://us-python.pkg.dev/colab-wheels/public/simple/\n",
            "Collecting pyshorteners\n",
            "  Downloading pyshorteners-1.0.1.tar.gz (10.0 kB)\n",
            "  Preparing metadata (setup.py) ... \u001b[?25l\u001b[?25hdone\n",
            "Requirement already satisfied: requests in /usr/local/lib/python3.10/dist-packages (from pyshorteners) (2.27.1)\n",
            "Requirement already satisfied: urllib3<1.27,>=1.21.1 in /usr/local/lib/python3.10/dist-packages (from requests->pyshorteners) (1.26.15)\n",
            "Requirement already satisfied: certifi>=2017.4.17 in /usr/local/lib/python3.10/dist-packages (from requests->pyshorteners) (2022.12.7)\n",
            "Requirement already satisfied: charset-normalizer~=2.0.0 in /usr/local/lib/python3.10/dist-packages (from requests->pyshorteners) (2.0.12)\n",
            "Requirement already satisfied: idna<4,>=2.5 in /usr/local/lib/python3.10/dist-packages (from requests->pyshorteners) (3.4)\n",
            "Building wheels for collected packages: pyshorteners\n",
            "  Building wheel for pyshorteners (setup.py) ... \u001b[?25l\u001b[?25hdone\n",
            "  Created wheel for pyshorteners: filename=pyshorteners-1.0.1-py3-none-any.whl size=17479 sha256=f2700bdaaf8d6cdb31977d55aa960464f00b58c6e30e682dcfe12e0b629aea51\n",
            "  Stored in directory: /root/.cache/pip/wheels/d5/ff/b3/16d8906f92ab0b042f76a4696fcea11d291d79a2b3a3de1e78\n",
            "Successfully built pyshorteners\n",
            "Installing collected packages: pyshorteners\n",
            "Successfully installed pyshorteners-1.0.1\n"
          ]
        }
      ]
    },
    {
      "cell_type": "code",
      "source": [
        "# Wikipedia with summary and 4 results per keyword line, no URLs\n",
        "import requests\n",
        "from transformers import pipeline\n",
        "\n",
        "keywords = [\n",
        "    \"importance of X\",\n",
        "    \"ideal behavior of X\",\n",
        "    \"ideal vs. realistic behavior of X\",\n",
        "    \"significance of X\",\n",
        "    \"applications of X\",\n",
        "    \"physical significance of X\",\n",
        "    \"geometry for the measurement of X\",\n",
        "    \"typical characteristics of X\",\n",
        "    \"with and without X\",\n",
        "    \"what does X represent?\",\n",
        "    \"what is the concept of X?\",\n",
        "    \"taxonomy of X\",\n",
        "    \"table of X\",\n",
        "    \"X table\",\n",
        "    \"difference between X\",\n",
        "    \"the analog of X\",\n",
        "    \"physical meaning of X\",\n",
        "    \"X symbolism\",\n",
        "    \"symbolism of X\",\n",
        "    \"iconographic meaning of X\",\n",
        "    \"why is X important?\",\n",
        "    \"generic model of a X\",\n",
        "    \"generic model representation of X\",\n",
        "    \"schematic representation of X\",\n",
        "    \"Linear model of X\",\n",
        "    \"X is related to?\",\n",
        "    \"Floor plan of X\"\n",
        "]\n",
        "\n",
        "base_url = \"https://en.wikipedia.org/w/api.php\"\n",
        "params = {\n",
        "    \"action\": \"query\",\n",
        "    \"format\": \"json\",\n",
        "    \"list\": \"search\",\n",
        "    \"srsearch\": \"\",\n",
        "    \"srprop\": \"snippet\"\n",
        "}\n",
        "\n",
        "entry = input(\"Enter the word for X: \")\n",
        "\n",
        "summarizer = pipeline(\"summarization\")\n",
        "\n",
        "result_count = 0\n",
        "max_results = 4\n",
        "\n",
        "for keyword in keywords:\n",
        "    keyword_with_entry = keyword.replace(\"X\", entry)\n",
        "    params[\"srsearch\"] = keyword_with_entry\n",
        "    response = requests.get(base_url, params=params).json()\n",
        "    results = response[\"query\"][\"search\"]\n",
        "    if len(results) > 0:\n",
        "        print(f\"Results for keyword: {keyword_with_entry}\\n\")\n",
        "        for result in results:\n",
        "            if result_count >= max_results:\n",
        "                break\n",
        "            title = result[\"title\"]\n",
        "            snippet = result[\"snippet\"]\n",
        "            summary = summarizer(snippet, max_length=100, min_length=30, do_sample=False)[0]['summary_text']\n",
        "            print(f\"Title: {title}\")\n",
        "            print(f\"Summary: {summary}\")\n",
        "            print(\"--------------------------------------------------\")\n",
        "            result_count += 1\n",
        "    else:\n",
        "        print(f\"No results found for keyword: {keyword_with_entry}\\n\")\n",
        "    \n",
        "    if result_count >= max_results:\n",
        "        break\n"
      ],
      "metadata": {
        "id": "5S__4THApyAx",
        "outputId": "f49aa81a-dcd3-4cfd-d058-6e79d26dac97",
        "colab": {
          "base_uri": "https://localhost:8080/"
        }
      },
      "execution_count": 18,
      "outputs": [
        {
          "name": "stdout",
          "output_type": "stream",
          "text": [
            "Enter the word for X: Navajo language\n"
          ]
        },
        {
          "output_type": "stream",
          "name": "stderr",
          "text": [
            "No model was supplied, defaulted to sshleifer/distilbart-cnn-12-6 and revision a4f8f3e (https://huggingface.co/sshleifer/distilbart-cnn-12-6).\n",
            "Using a pipeline without specifying a model name and revision in production is not recommended.\n",
            "Your max_length is set to 100, but your input_length is only 87. Since this is a summarization task, where outputs shorter than the input are typically wanted, you might consider decreasing max_length manually, e.g. summarizer('...', max_length=43)\n"
          ]
        },
        {
          "output_type": "stream",
          "name": "stdout",
          "text": [
            "Results for keyword: importance of Navajo language\n",
            "\n",
            "Title: Navajo\n",
            "Summary:  The <span class=\"searchmatch\">Navajo</span> Reservation is slightly larger than the state of West Virginia . The reservation is located in Arizona, Utah, and New Mexico .\n",
            "--------------------------------------------------\n"
          ]
        },
        {
          "output_type": "stream",
          "name": "stderr",
          "text": [
            "Your max_length is set to 100, but your input_length is only 53. Since this is a summarization task, where outputs shorter than the input are typically wanted, you might consider decreasing max_length manually, e.g. summarizer('...', max_length=26)\n"
          ]
        },
        {
          "output_type": "stream",
          "name": "stdout",
          "text": [
            "Title: Miss Navajo\n",
            "Summary:  Miss <span class=\"searchmatch\">Navajo</span> Council, Inc official site and film Miss . Miss . Navajo is a national Miss of the Navajo .\n",
            "--------------------------------------------------\n"
          ]
        },
        {
          "output_type": "stream",
          "name": "stderr",
          "text": [
            "Your max_length is set to 100, but your input_length is only 74. Since this is a summarization task, where outputs shorter than the input are typically wanted, you might consider decreasing max_length manually, e.g. summarizer('...', max_length=37)\n"
          ]
        },
        {
          "output_type": "stream",
          "name": "stdout",
          "text": [
            "Title: Navajo Livestock Reduction\n",
            "Summary:  Livestock Reduction was imposed by the United States government upon the <span class=\"searchmatch\">Navajo</span> Nation in the 1930s . The reduction was imposed during the Great Depression .\n",
            "--------------------------------------------------\n",
            "Title: Uranium mining and the Navajo people\n",
            "Summary:  The risks of lung cancer due to uranium mining were unknown to the workers . The lack of a word for radiation in the <span class=\"searchmatch\">Navajo</span> language left the miners at risk .\n",
            "--------------------------------------------------\n"
          ]
        }
      ]
    },
    {
      "cell_type": "code",
      "source": [
        "# Wikipedia results with 4 summaries and URLs per keyword line\n",
        "import requests\n",
        "from transformers import pipeline\n",
        "import pyshorteners\n",
        "\n",
        "keywords = [\n",
        "    \"importance of X\",\n",
        "    \"ideal behavior of X\",\n",
        "    \"ideal vs. realistic behavior of X\",\n",
        "    \"significance of X\",\n",
        "    \"applications of X\",\n",
        "    \"physical significance of X\",\n",
        "    \"geometry for the measurement of X\",\n",
        "    \"typical characteristics of X\",\n",
        "    \"with and without X\",\n",
        "    \"what does X represent?\",\n",
        "    \"what is the concept of X?\",\n",
        "    \"taxonomy of X\",\n",
        "    \"table of X\",\n",
        "    \"X table\",\n",
        "    \"difference between X\",\n",
        "    \"the analog of X\",\n",
        "    \"physical meaning of X\",\n",
        "    \"X symbolism\",\n",
        "    \"symbolism of X\",\n",
        "    \"iconographic meaning of X\",\n",
        "    \"why is X important?\",\n",
        "    \"generic model of a X\",\n",
        "    \"generic model representation of X\",\n",
        "    \"schematic representation of X\",\n",
        "    \"Linear model of X\",\n",
        "    \"X is related to?\",\n",
        "    \"Floor plan of X\"\n",
        "]\n",
        "\n",
        "base_url = \"https://en.wikipedia.org/w/api.php\"\n",
        "params = {\n",
        "    \"action\": \"query\",\n",
        "    \"format\": \"json\",\n",
        "    \"list\": \"search\",\n",
        "    \"srsearch\": \"\",\n",
        "    \"srprop\": \"snippet\"\n",
        "}\n",
        "\n",
        "entry = input(\"Enter the word for X: \")\n",
        "\n",
        "summarizer = pipeline(\"summarization\")\n",
        "shortener = pyshorteners.Shortener()\n",
        "\n",
        "for keyword in keywords:\n",
        "    keyword_with_entry = keyword.replace(\"X\", entry)\n",
        "    params[\"srsearch\"] = keyword_with_entry\n",
        "    response = requests.get(base_url, params=params).json()\n",
        "    results = response[\"query\"][\"search\"]\n",
        "    if len(results) > 0:\n",
        "        print(f\"Results for keyword: {keyword_with_entry}\\n\")\n",
        "        for i, result in enumerate(results[:4]):\n",
        "            title = result[\"title\"]\n",
        "            snippet = result[\"snippet\"]\n",
        "            summary = summarizer(snippet, max_length=100, min_length=30, do_sample=False)[0]['summary_text']\n",
        "            page_url = f\"https://en.wikipedia.org/wiki/{title.replace(' ', '_')}\"\n",
        "            shortened_url = shortener.tinyurl.short(page_url)\n",
        "            print(f\"Result {i+1}: {title}\")\n",
        "            print(f\"Summary: {summary}\")\n",
        "            print(f\"URL: {shortened_url}\")\n",
        "            print(\"--------------------------------------------------\")\n",
        "    else:\n",
        "        print(f\"No results found for keyword: {keyword_with_entry}\\n\")\n"
      ],
      "metadata": {
        "id": "ObGRi__Op0IJ",
        "outputId": "72b0f714-caa1-4e2b-a2e3-b998d47be4fe",
        "colab": {
          "base_uri": "https://localhost:8080/"
        }
      },
      "execution_count": 19,
      "outputs": [
        {
          "name": "stdout",
          "output_type": "stream",
          "text": [
            "Enter the word for X: Navajo language\n"
          ]
        },
        {
          "output_type": "stream",
          "name": "stderr",
          "text": [
            "No model was supplied, defaulted to sshleifer/distilbart-cnn-12-6 and revision a4f8f3e (https://huggingface.co/sshleifer/distilbart-cnn-12-6).\n",
            "Using a pipeline without specifying a model name and revision in production is not recommended.\n",
            "Your max_length is set to 100, but your input_length is only 87. Since this is a summarization task, where outputs shorter than the input are typically wanted, you might consider decreasing max_length manually, e.g. summarizer('...', max_length=43)\n"
          ]
        },
        {
          "output_type": "stream",
          "name": "stdout",
          "text": [
            "Results for keyword: importance of Navajo language\n",
            "\n",
            "Result 1: Navajo\n",
            "Summary:  The <span class=\"searchmatch\">Navajo</span> Reservation is slightly larger than the state of West Virginia . The reservation is located in Arizona, Utah, and New Mexico .\n",
            "URL: https://tinyurl.com/wyz22v8\n",
            "--------------------------------------------------\n"
          ]
        },
        {
          "output_type": "stream",
          "name": "stderr",
          "text": [
            "Your max_length is set to 100, but your input_length is only 53. Since this is a summarization task, where outputs shorter than the input are typically wanted, you might consider decreasing max_length manually, e.g. summarizer('...', max_length=26)\n"
          ]
        },
        {
          "output_type": "stream",
          "name": "stdout",
          "text": [
            "Result 2: Miss Navajo\n",
            "Summary:  Miss <span class=\"searchmatch\">Navajo</span> Council, Inc official site and film Miss . Miss . Navajo is a national Miss of the Navajo .\n",
            "URL: https://tinyurl.com/2agg7jcq\n",
            "--------------------------------------------------\n"
          ]
        },
        {
          "output_type": "stream",
          "name": "stderr",
          "text": [
            "Your max_length is set to 100, but your input_length is only 74. Since this is a summarization task, where outputs shorter than the input are typically wanted, you might consider decreasing max_length manually, e.g. summarizer('...', max_length=37)\n"
          ]
        },
        {
          "output_type": "stream",
          "name": "stdout",
          "text": [
            "Result 3: Navajo Livestock Reduction\n",
            "Summary:  Livestock Reduction was imposed by the United States government upon the <span class=\"searchmatch\">Navajo</span> Nation in the 1930s . The reduction was imposed during the Great Depression .\n",
            "URL: https://tinyurl.com/28nav5wt\n",
            "--------------------------------------------------\n",
            "Result 4: Uranium mining and the Navajo people\n",
            "Summary:  The risks of lung cancer due to uranium mining were unknown to the workers . The lack of a word for radiation in the <span class=\"searchmatch\">Navajo</span> language left the miners at risk .\n",
            "URL: https://tinyurl.com/hxcz7sh\n",
            "--------------------------------------------------\n"
          ]
        },
        {
          "output_type": "stream",
          "name": "stderr",
          "text": [
            "Your max_length is set to 100, but your input_length is only 79. Since this is a summarization task, where outputs shorter than the input are typically wanted, you might consider decreasing max_length manually, e.g. summarizer('...', max_length=39)\n"
          ]
        },
        {
          "output_type": "stream",
          "name": "stdout",
          "text": [
            "Results for keyword: ideal behavior of Navajo language\n",
            "\n"
          ]
        },
        {
          "output_type": "stream",
          "name": "stderr",
          "text": [
            "Your max_length is set to 100, but your input_length is only 66. Since this is a summarization task, where outputs shorter than the input are typically wanted, you might consider decreasing max_length manually, e.g. summarizer('...', max_length=33)\n"
          ]
        },
        {
          "output_type": "stream",
          "name": "stdout",
          "text": [
            "Result 1: Navajo medicine\n",
            "Summary:  Navajo medicine dates back thousands of years as many as many Navajo people . Medicine covers a range <span class=\"searchmatch\">of traditional healing practices .\n",
            "URL: https://tinyurl.com/29kdx3xt\n",
            "--------------------------------------------------\n"
          ]
        },
        {
          "output_type": "stream",
          "name": "stderr",
          "text": [
            "Your max_length is set to 100, but your input_length is only 53. Since this is a summarization task, where outputs shorter than the input are typically wanted, you might consider decreasing max_length manually, e.g. summarizer('...', max_length=26)\n"
          ]
        },
        {
          "output_type": "stream",
          "name": "stdout",
          "text": [
            "Result 2: Apache\n",
            "Summary:  Apache communities in Coyotero, Tonto (Coyotero and Tonto) Distant cousins <span class=\"searchmatch\">of the Apache are the Apache, with whom they share the Southern Athabaskan languages .\n",
            "URL: https://tinyurl.com/yam2l6uk\n",
            "--------------------------------------------------\n"
          ]
        },
        {
          "output_type": "stream",
          "name": "stderr",
          "text": [
            "Your max_length is set to 100, but your input_length is only 81. Since this is a summarization task, where outputs shorter than the input are typically wanted, you might consider decreasing max_length manually, e.g. summarizer('...', max_length=40)\n"
          ]
        },
        {
          "output_type": "stream",
          "name": "stdout",
          "text": [
            "Result 3: Rodent\n",
            "Summary:  The Navajo people ate prairie dog baked in mud, while the Paiute ate gophers, squirrels, gophers and squirrels . muskrats, porcupines and groundhogs are eaten by humans .\n",
            "URL: https://tinyurl.com/nn6qsvn\n",
            "--------------------------------------------------\n",
            "Result 4: Indigenous education\n",
            "Summary:  Quantitatively, Lee examined <span class=\"searchmatch\">language</span> levels, usage, and lifespan experiences . Qualitatively and qualitatively interviewed students to learn .\n",
            "URL: https://tinyurl.com/2bwh9l88\n",
            "--------------------------------------------------\n"
          ]
        },
        {
          "output_type": "stream",
          "name": "stderr",
          "text": [
            "Your max_length is set to 100, but your input_length is only 96. Since this is a summarization task, where outputs shorter than the input are typically wanted, you might consider decreasing max_length manually, e.g. summarizer('...', max_length=48)\n"
          ]
        },
        {
          "output_type": "stream",
          "name": "stdout",
          "text": [
            "Results for keyword: ideal vs. realistic behavior of Navajo language\n",
            "\n"
          ]
        },
        {
          "output_type": "stream",
          "name": "stderr",
          "text": [
            "Your max_length is set to 100, but your input_length is only 63. Since this is a summarization task, where outputs shorter than the input are typically wanted, you might consider decreasing max_length manually, e.g. summarizer('...', max_length=31)\n"
          ]
        },
        {
          "output_type": "stream",
          "name": "stdout",
          "text": [
            "Result 1: Cultural assimilation of Native Americans\n",
            "Summary:  Peter Iverson, Diné: A History <span class=\"searchmatch\">of</span> the <span>Navajos, Illinois Press. pp.113–15. ISBN 9780252012853.\n",
            "URL: https://tinyurl.com/hd7bbaw\n",
            "--------------------------------------------------\n"
          ]
        },
        {
          "output_type": "stream",
          "name": "stderr",
          "text": [
            "Your max_length is set to 100, but your input_length is only 67. Since this is a summarization task, where outputs shorter than the input are typically wanted, you might consider decreasing max_length manually, e.g. summarizer('...', max_length=33)\n"
          ]
        },
        {
          "output_type": "stream",
          "name": "stdout",
          "text": [
            "Result 2: Sorcerer (film)\n",
            "Summary:  The film's climax features a surrealistic landscape on the Navajo Nation . The film is set in the Bisti/De-Na-Zin region .\n",
            "URL: https://tinyurl.com/yblarx82\n",
            "--------------------------------------------------\n"
          ]
        },
        {
          "output_type": "stream",
          "name": "stderr",
          "text": [
            "Your max_length is set to 100, but your input_length is only 51. Since this is a summarization task, where outputs shorter than the input are typically wanted, you might consider decreasing max_length manually, e.g. summarizer('...', max_length=25)\n"
          ]
        },
        {
          "output_type": "stream",
          "name": "stdout",
          "text": [
            "Result 3: American frontier\n",
            "Summary:  War <span class=\"searchmatch\">of <span> 1862 (Minnesota Historical Society, 2nd ed. 2001) Stan Hoig, The Sand Creek Massacre (1974) Richard C. Hopkins, &quot;Kit Carson and the <spanclass>Navajo</span> Expedition .\n",
            "URL: https://tinyurl.com/ya6ulhsj\n",
            "--------------------------------------------------\n",
            "Result 4: List of Metal Gear characters\n",
            "Summary:  Staff gave the characters a more realistic look starting with Metal Gear Solid 2: Sons <span class=\"searchmatch\">of <span> Liberty . The staff initially had doubts about PlayStation 2 .\n",
            "URL: https://tinyurl.com/y38mj23f\n",
            "--------------------------------------------------\n"
          ]
        },
        {
          "output_type": "stream",
          "name": "stderr",
          "text": [
            "Your max_length is set to 100, but your input_length is only 93. Since this is a summarization task, where outputs shorter than the input are typically wanted, you might consider decreasing max_length manually, e.g. summarizer('...', max_length=46)\n"
          ]
        },
        {
          "output_type": "stream",
          "name": "stdout",
          "text": [
            "Results for keyword: significance of Navajo language\n",
            "\n"
          ]
        },
        {
          "output_type": "stream",
          "name": "stderr",
          "text": [
            "Your max_length is set to 100, but your input_length is only 64. Since this is a summarization task, where outputs shorter than the input are typically wanted, you might consider decreasing max_length manually, e.g. summarizer('...', max_length=32)\n"
          ]
        },
        {
          "output_type": "stream",
          "name": "stdout",
          "text": [
            "Result 1: Navajo phonology\n",
            "Summary:  The phonology <span class=\"searchmatch\">of </span> the <span>Navajo</span> language is intimately connected to its morphology . For example, the entire range of contrastive consonants can be found in Navajo .\n",
            "URL: https://tinyurl.com/22g59alb\n",
            "--------------------------------------------------\n"
          ]
        },
        {
          "output_type": "stream",
          "name": "stderr",
          "text": [
            "Your max_length is set to 100, but your input_length is only 89. Since this is a summarization task, where outputs shorter than the input are typically wanted, you might consider decreasing max_length manually, e.g. summarizer('...', max_length=44)\n"
          ]
        },
        {
          "output_type": "stream",
          "name": "stdout",
          "text": [
            "Result 2: Navajo Mountain\n",
            "Summary:  The summit is the highest point on the <span class=\"searchmatch\">Navajo</span> Nation . It is a prominent free-standing mountain .\n",
            "URL: https://tinyurl.com/22pjhyax\n",
            "--------------------------------------------------\n"
          ]
        },
        {
          "output_type": "stream",
          "name": "stderr",
          "text": [
            "Your max_length is set to 100, but your input_length is only 99. Since this is a summarization task, where outputs shorter than the input are typically wanted, you might consider decreasing max_length manually, e.g. summarizer('...', max_length=49)\n"
          ]
        },
        {
          "output_type": "stream",
          "name": "stdout",
          "text": [
            "Result 3: Hogan\n",
            "Summary:  hogan is the primary, traditional dwelling <span class=\"searchmatch\">of the <span>Navajo</span> people . hooghan [hoːɣan] is a traditional dwelling of the Navajo people .\n",
            "URL: https://tinyurl.com/qxy9xo2\n",
            "--------------------------------------------------\n",
            "Result 4: Shiprock\n",
            "Summary:  Tsé Bitʼaʼí is a monadnock rising nearly 1,583 feet (482.5 m) above the high-desert plain of the Navajo Nation .\n",
            "URL: https://tinyurl.com/26a3zhc4\n",
            "--------------------------------------------------\n"
          ]
        },
        {
          "output_type": "stream",
          "name": "stderr",
          "text": [
            "Your max_length is set to 100, but your input_length is only 86. Since this is a summarization task, where outputs shorter than the input are typically wanted, you might consider decreasing max_length manually, e.g. summarizer('...', max_length=43)\n"
          ]
        },
        {
          "output_type": "stream",
          "name": "stdout",
          "text": [
            "Results for keyword: applications of Navajo language\n",
            "\n"
          ]
        },
        {
          "output_type": "stream",
          "name": "stderr",
          "text": [
            "Your max_length is set to 100, but your input_length is only 84. Since this is a summarization task, where outputs shorter than the input are typically wanted, you might consider decreasing max_length manually, e.g. summarizer('...', max_length=42)\n"
          ]
        },
        {
          "output_type": "stream",
          "name": "stdout",
          "text": [
            "Result 1: Navajo Nation\n",
            "Summary:  Navajoland is a Native American reservation <span class=\"searchmatch\">of <span> <span searchmatch>Navajos in the United States . Navajo Nation is also known as Navajooland .\n",
            "URL: https://tinyurl.com/gmchu2k\n",
            "--------------------------------------------------\n"
          ]
        },
        {
          "output_type": "stream",
          "name": "stderr",
          "text": [
            "Your max_length is set to 100, but your input_length is only 75. Since this is a summarization task, where outputs shorter than the input are typically wanted, you might consider decreasing max_length manually, e.g. summarizer('...', max_length=37)\n"
          ]
        },
        {
          "output_type": "stream",
          "name": "stdout",
          "text": [
            "Result 2: Navajo Nation Council\n",
            "Summary:  The Navajo Nation Council is the Legislative Branch of the Navajo Nation government . The council meets four times per year . It is the legislative branch of the Navajo Nation Government .\n",
            "URL: https://tinyurl.com/23gn9dy9\n",
            "--------------------------------------------------\n"
          ]
        },
        {
          "output_type": "stream",
          "name": "stderr",
          "text": [
            "Your max_length is set to 100, but your input_length is only 89. Since this is a summarization task, where outputs shorter than the input are typically wanted, you might consider decreasing max_length manually, e.g. summarizer('...', max_length=44)\n"
          ]
        },
        {
          "output_type": "stream",
          "name": "stdout",
          "text": [
            "Result 3: Google Translate\n",
            "Summary:  Google Translate supports 133 languages at various levels . As of June 2023, it is claimed to support 133 languages . It also claims to support software extensions and software extensions .\n",
            "URL: https://tinyurl.com/yym9xwls\n",
            "--------------------------------------------------\n",
            "Result 4: Hogan\n",
            "Summary:  hogan is the primary, traditional dwelling <span class=\"searchmatch\">of the <span>Navajo</span> people . hooghan [hoːɣan] is a traditional dwelling of the Navajo people .\n",
            "URL: https://tinyurl.com/qxy9xo2\n",
            "--------------------------------------------------\n"
          ]
        },
        {
          "output_type": "stream",
          "name": "stderr",
          "text": [
            "Your max_length is set to 100, but your input_length is only 64. Since this is a summarization task, where outputs shorter than the input are typically wanted, you might consider decreasing max_length manually, e.g. summarizer('...', max_length=32)\n"
          ]
        },
        {
          "output_type": "stream",
          "name": "stdout",
          "text": [
            "Results for keyword: physical significance of Navajo language\n",
            "\n"
          ]
        },
        {
          "output_type": "stream",
          "name": "stderr",
          "text": [
            "Your max_length is set to 100, but your input_length is only 99. Since this is a summarization task, where outputs shorter than the input are typically wanted, you might consider decreasing max_length manually, e.g. summarizer('...', max_length=49)\n"
          ]
        },
        {
          "output_type": "stream",
          "name": "stdout",
          "text": [
            "Result 1: Navajo Mountain\n",
            "Summary:  The summit is the highest point on the <span class=\"searchmatch\">Navajo</span> Nation . It is a prominent free-standing mountain .\n",
            "URL: https://tinyurl.com/22pjhyax\n",
            "--------------------------------------------------\n"
          ]
        },
        {
          "output_type": "stream",
          "name": "stderr",
          "text": [
            "Your max_length is set to 100, but your input_length is only 63. Since this is a summarization task, where outputs shorter than the input are typically wanted, you might consider decreasing max_length manually, e.g. summarizer('...', max_length=31)\n"
          ]
        },
        {
          "output_type": "stream",
          "name": "stdout",
          "text": [
            "Result 2: Shiprock\n",
            "Summary:  Tsé Bitʼaʼí is a monadnock rising nearly 1,583 feet (482.5 m) above the high-desert plain of the Navajo Nation .\n",
            "URL: https://tinyurl.com/26a3zhc4\n",
            "--------------------------------------------------\n"
          ]
        },
        {
          "output_type": "stream",
          "name": "stderr",
          "text": [
            "Your max_length is set to 100, but your input_length is only 85. Since this is a summarization task, where outputs shorter than the input are typically wanted, you might consider decreasing max_length manually, e.g. summarizer('...', max_length=42)\n"
          ]
        },
        {
          "output_type": "stream",
          "name": "stdout",
          "text": [
            "Result 3: Navajo medicine\n",
            "Summary:  Navajo healing practices and Western medical procedure coexist as the former is set apart as a way <span class=\"searchmatch\">of the age-long <span> life-long spiritual <span>.significance has allowed the two cultures to coexist .\n",
            "URL: https://tinyurl.com/29kdx3xt\n",
            "--------------------------------------------------\n",
            "Result 4: Languages of Canada\n",
            "Summary:  One language is in use by the sole <span class=\"searchmatch\">Navajo</span> clan . The language was born out of the Oneida Nation . It has several languages under its umbrella .\n",
            "URL: https://tinyurl.com/gpnl4mu\n",
            "--------------------------------------------------\n"
          ]
        },
        {
          "output_type": "stream",
          "name": "stderr",
          "text": [
            "Your max_length is set to 100, but your input_length is only 71. Since this is a summarization task, where outputs shorter than the input are typically wanted, you might consider decreasing max_length manually, e.g. summarizer('...', max_length=35)\n"
          ]
        },
        {
          "output_type": "stream",
          "name": "stdout",
          "text": [
            "Results for keyword: geometry for the measurement of Navajo language\n",
            "\n"
          ]
        },
        {
          "output_type": "stream",
          "name": "stderr",
          "text": [
            "Your max_length is set to 100, but your input_length is only 80. Since this is a summarization task, where outputs shorter than the input are typically wanted, you might consider decreasing max_length manually, e.g. summarizer('...', max_length=40)\n"
          ]
        },
        {
          "output_type": "stream",
          "name": "stdout",
          "text": [
            "Result 1: Mathematics education in the United States\n",
            "Summary:  Learn counting, arithmetic (both <span class=\"searchmatch\">of <span> integers and fractions) and arithmetic . Pre-algebra (prealgebra) learn arithmetic, geometry, statistics and probability .\n",
            "URL: https://tinyurl.com/2oghzqn6\n",
            "--------------------------------------------------\n",
            "Result 2: Pluto\n",
            "Summary:  The discovery of Charon in 1978 allowed the discovery of the Greek language in 1978 . The Greek language is less close in languages such as Somali Buluuto and Navajo, such as Tłóotoo .\n",
            "URL: https://tinyurl.com/7lfltno\n",
            "--------------------------------------------------\n"
          ]
        },
        {
          "output_type": "stream",
          "name": "stderr",
          "text": [
            "Your max_length is set to 100, but your input_length is only 59. Since this is a summarization task, where outputs shorter than the input are typically wanted, you might consider decreasing max_length manually, e.g. summarizer('...', max_length=29)\n"
          ]
        },
        {
          "output_type": "stream",
          "name": "stdout",
          "text": [
            "Result 3: English plurals\n",
            "Summary:  Often <span class=\"searchmatch\">the</span> abbreviation used <span> for <span searchmatch\" and the singular is used also as a plural . This is normal for most units, currency and most units .\n",
            "URL: https://tinyurl.com/yavuyn5p\n",
            "--------------------------------------------------\n",
            "Result 4: List of Coronet Films\n",
            "Summary:  Only a very select number of independently produced films were released in the early 1980s . The transition to videos was made around 1986 . The videos were released for space reasons, but are now only available for free .\n",
            "URL: https://tinyurl.com/23a86fxw\n",
            "--------------------------------------------------\n"
          ]
        },
        {
          "output_type": "stream",
          "name": "stderr",
          "text": [
            "Your max_length is set to 100, but your input_length is only 93. Since this is a summarization task, where outputs shorter than the input are typically wanted, you might consider decreasing max_length manually, e.g. summarizer('...', max_length=46)\n"
          ]
        },
        {
          "output_type": "stream",
          "name": "stdout",
          "text": [
            "Results for keyword: typical characteristics of Navajo language\n",
            "\n"
          ]
        },
        {
          "output_type": "stream",
          "name": "stderr",
          "text": [
            "Your max_length is set to 100, but your input_length is only 96. Since this is a summarization task, where outputs shorter than the input are typically wanted, you might consider decreasing max_length manually, e.g. summarizer('...', max_length=48)\n"
          ]
        },
        {
          "output_type": "stream",
          "name": "stdout",
          "text": [
            "Result 1: Navajo phonology\n",
            "Summary:  The phonology <span class=\"searchmatch\">of </span> the <span>Navajo</span> language is intimately connected to its morphology . For example, the entire range of contrastive consonants can be found in Navajo .\n",
            "URL: https://tinyurl.com/22g59alb\n",
            "--------------------------------------------------\n"
          ]
        },
        {
          "output_type": "stream",
          "name": "stderr",
          "text": [
            "Your max_length is set to 100, but your input_length is only 89. Since this is a summarization task, where outputs shorter than the input are typically wanted, you might consider decreasing max_length manually, e.g. summarizer('...', max_length=44)\n"
          ]
        },
        {
          "output_type": "stream",
          "name": "stdout",
          "text": [
            "Result 2: Monument Valley\n",
            "Summary:  Monument Valley is a region <span class=\"searchmatch\">of the Colorado Plateau characterized as Monument Valley . Monument Valley (pronounced \"Monument Valley\") is the name of a Native American valley . It is located in Monument Valley, a valley of the Colorado Plateau .\n",
            "URL: https://tinyurl.com/jq5848h\n",
            "--------------------------------------------------\n"
          ]
        },
        {
          "output_type": "stream",
          "name": "stderr",
          "text": [
            "Your max_length is set to 100, but your input_length is only 81. Since this is a summarization task, where outputs shorter than the input are typically wanted, you might consider decreasing max_length manually, e.g. summarizer('...', max_length=40)\n"
          ]
        },
        {
          "output_type": "stream",
          "name": "stdout",
          "text": [
            "Result 3: Navajo weaving\n",
            "Summary:  Textiles are textiles produced by <span class=\"searchmatch\">Navajo</span> people, who are based near the Four Corners area of the United States .\n",
            "URL: https://tinyurl.com/222tk46b\n",
            "--------------------------------------------------\n",
            "Result 4: New Mexican Spanish\n",
            "Summary:  Young, Robert W.; Morgan, William, Sr. (1987). Journal of the Linguistic Association of the Southwest 32 (2): 133-161 .\n",
            "URL: https://tinyurl.com/2xuaczdn\n",
            "--------------------------------------------------\n",
            "Results for keyword: with and without Navajo language\n",
            "\n"
          ]
        },
        {
          "output_type": "stream",
          "name": "stderr",
          "text": [
            "Your max_length is set to 100, but your input_length is only 92. Since this is a summarization task, where outputs shorter than the input are typically wanted, you might consider decreasing max_length manually, e.g. summarizer('...', max_length=46)\n"
          ]
        },
        {
          "output_type": "stream",
          "name": "stdout",
          "text": [
            "Result 1: Navajo language\n",
            "Summary:  Navajo or Navaho is a Southern Athabaskan . Navajo is the language of the Athabasan of the Navajo people . Diné bizaad [tìnépìz̥ɑ̀ːt] or Naabeehó [nævəhoʊ,  ˈnɑː-/; . Navaho (Navaho) is the name of the Native Americans who live in\n",
            "URL: https://tinyurl.com/j5vymdg\n",
            "--------------------------------------------------\n"
          ]
        },
        {
          "output_type": "stream",
          "name": "stderr",
          "text": [
            "Your max_length is set to 100, but your input_length is only 76. Since this is a summarization task, where outputs shorter than the input are typically wanted, you might consider decreasing max_length manually, e.g. summarizer('...', max_length=38)\n"
          ]
        },
        {
          "output_type": "stream",
          "name": "stdout",
          "text": [
            "Result 2: Navajo\n",
            "Summary:  The <span class=\"searchmatch\">Navajo</span> language is spoken throughout the region . The states with the largest populations are Virginia and Virginia .\n",
            "URL: https://tinyurl.com/wyz22v8\n",
            "--------------------------------------------------\n"
          ]
        },
        {
          "output_type": "stream",
          "name": "stderr",
          "text": [
            "Your max_length is set to 100, but your input_length is only 79. Since this is a summarization task, where outputs shorter than the input are typically wanted, you might consider decreasing max_length manually, e.g. summarizer('...', max_length=39)\n"
          ]
        },
        {
          "output_type": "stream",
          "name": "stdout",
          "text": [
            "Result 3: Navajo Nation\n",
            "Summary:  Navajo Nation is a Native American reservation of <span class=\"searchmatch\">Navajo</span> Nation . Navajoland is also known as Navajooland .\n",
            "URL: https://tinyurl.com/gmchu2k\n",
            "--------------------------------------------------\n",
            "Result 4: Code talker\n",
            "Summary:  English was developed based on the languages of Comanche, Hopi, Meskwaki, Comanche and Hopi peoples . They used words from their languages for each letter of the English .\n",
            "URL: https://tinyurl.com/p9susfa\n",
            "--------------------------------------------------\n"
          ]
        },
        {
          "output_type": "stream",
          "name": "stderr",
          "text": [
            "Your max_length is set to 100, but your input_length is only 73. Since this is a summarization task, where outputs shorter than the input are typically wanted, you might consider decreasing max_length manually, e.g. summarizer('...', max_length=36)\n"
          ]
        },
        {
          "output_type": "stream",
          "name": "stdout",
          "text": [
            "Results for keyword: what does Navajo language represent?\n",
            "\n"
          ]
        },
        {
          "output_type": "stream",
          "name": "stderr",
          "text": [
            "Your max_length is set to 100, but your input_length is only 69. Since this is a summarization task, where outputs shorter than the input are typically wanted, you might consider decreasing max_length manually, e.g. summarizer('...', max_length=34)\n"
          ]
        },
        {
          "output_type": "stream",
          "name": "stdout",
          "text": [
            "Result 1: Navajo\n",
            "Summary:  The <span class=\"searchmatch\">Navajo</span> Reservation is slightly larger than the state of West Virginia . The language is spoken throughout the region .\n",
            "URL: https://tinyurl.com/wyz22v8\n",
            "--------------------------------------------------\n"
          ]
        },
        {
          "output_type": "stream",
          "name": "stderr",
          "text": [
            "Your max_length is set to 100, but your input_length is only 69. Since this is a summarization task, where outputs shorter than the input are typically wanted, you might consider decreasing max_length manually, e.g. summarizer('...', max_length=34)\n"
          ]
        },
        {
          "output_type": "stream",
          "name": "stdout",
          "text": [
            "Result 2: Skin-walker\n",
            "Summary:  In the <span class=\"searchmatch\">Navajo\" language, yee naaldlooshii translates to &quot;by means of it, it goes on all fours. themselves as an animal. The term is never used for healers .\n",
            "URL: https://tinyurl.com/q5ojt9y\n",
            "--------------------------------------------------\n"
          ]
        },
        {
          "output_type": "stream",
          "name": "stderr",
          "text": [
            "Your max_length is set to 100, but your input_length is only 76. Since this is a summarization task, where outputs shorter than the input are typically wanted, you might consider decreasing max_length manually, e.g. summarizer('...', max_length=38)\n"
          ]
        },
        {
          "output_type": "stream",
          "name": "stdout",
          "text": [
            "Result 3: Code talker\n",
            "Summary:  English was developed based on the Comanche, Hopi, Meskwaki, and Navajo peoples . They used words from their languages for each letter of the English .\n",
            "URL: https://tinyurl.com/p9susfa\n",
            "--------------------------------------------------\n",
            "Result 4: Navajo Nation\n",
            "Summary:  Navajo Nation is a Native American reservation of <span class=\"searchmatch\">Navajo</span> Nation . Navajoland is also known as Navajooland .\n",
            "URL: https://tinyurl.com/gmchu2k\n",
            "--------------------------------------------------\n",
            "Results for keyword: what is the concept of Navajo language?\n",
            "\n",
            "Result 1: Skin-walker\n",
            "Summary:  Yee naaldlooshii translates to &quot;by means \"of it, it goes on all fours&quot;\" . The term is never used for healers in Native American medicine .\n",
            "URL: https://tinyurl.com/q5ojt9y\n",
            "--------------------------------------------------\n",
            "Result 2: Code talker\n",
            "Summary:  The Comanche, Hopi, Meskwaki, and <span class=\"searchmatch\">Navajo</span> peoples . They used words from their languages for each letter .\n",
            "URL: https://tinyurl.com/p9susfa\n",
            "--------------------------------------------------\n",
            "Result 3: Athabaskan languages\n",
            "Summary:  Athabaskan is the largest number of native Americans speaking north of the U.S. Native American language . Navajo is spoken by Native Americans in Mexico . Native Americans speak north of Mexico .\n",
            "URL: https://tinyurl.com/2bcsh58p\n",
            "--------------------------------------------------\n",
            "Result 4: Languages of the United States\n",
            "Summary:  Navajo is an Athabaskan family, with 178,000 speakers . Native Americans live in Arizona, New Mexico, Arizona and New Mexico .\n",
            "URL: https://tinyurl.com/npnnnnx\n",
            "--------------------------------------------------\n",
            "Results for keyword: taxonomy of Navajo language\n",
            "\n"
          ]
        },
        {
          "output_type": "stream",
          "name": "stderr",
          "text": [
            "Your max_length is set to 100, but your input_length is only 66. Since this is a summarization task, where outputs shorter than the input are typically wanted, you might consider decreasing max_length manually, e.g. summarizer('...', max_length=33)\n"
          ]
        },
        {
          "output_type": "stream",
          "name": "stdout",
          "text": [
            "Result 1: Navajo language\n",
            "Summary:  Navajo or Navaho is a Southern Athabaskan . Diné bizaad [tìnépìz̥ɑ̀ːt] or Naabeehó [nævəhoʊ,  ˈnɑː-/; . Navaho . is the name of the Native American tribe .\n",
            "URL: https://tinyurl.com/j5vymdg\n",
            "--------------------------------------------------\n"
          ]
        },
        {
          "output_type": "stream",
          "name": "stderr",
          "text": [
            "Your max_length is set to 100, but your input_length is only 97. Since this is a summarization task, where outputs shorter than the input are typically wanted, you might consider decreasing max_length manually, e.g. summarizer('...', max_length=48)\n"
          ]
        },
        {
          "output_type": "stream",
          "name": "stdout",
          "text": [
            "Result 2: Apache\n",
            "Summary:  Apache communities in Coyotero, Tonto (Coyotero and Tonto) Distant cousins <span class=\"searchmatch\">of the Apache are the Apache, with whom they share the Southern Athabaskan languages .\n",
            "URL: https://tinyurl.com/yam2l6uk\n",
            "--------------------------------------------------\n"
          ]
        },
        {
          "output_type": "stream",
          "name": "stderr",
          "text": [
            "Your max_length is set to 100, but your input_length is only 73. Since this is a summarization task, where outputs shorter than the input are typically wanted, you might consider decreasing max_length manually, e.g. summarizer('...', max_length=36)\n"
          ]
        },
        {
          "output_type": "stream",
          "name": "stdout",
          "text": [
            "Result 3: Dené–Yeniseian languages\n",
            "Summary:  Dené–Yeniseian is a proposed language family . It is a family consisting of the Yeniseian and the Na-Dené languages of northwestern North America .\n",
            "URL: https://tinyurl.com/26gddg55\n",
            "--------------------------------------------------\n",
            "Result 4: Dené–Caucasian languages\n",
            "Summary:  Basque, the Caucasian <span class=\"searchmatch\">languages </span> at its geographic extremes . Swadesh (1959: 114) included &quot;Basque, Ural-Altaic, Basque and the Caucasian .\n",
            "URL: https://tinyurl.com/23c2wfxa\n",
            "--------------------------------------------------\n"
          ]
        },
        {
          "output_type": "stream",
          "name": "stderr",
          "text": [
            "Your max_length is set to 100, but your input_length is only 93. Since this is a summarization task, where outputs shorter than the input are typically wanted, you might consider decreasing max_length manually, e.g. summarizer('...', max_length=46)\n"
          ]
        },
        {
          "output_type": "stream",
          "name": "stdout",
          "text": [
            "Results for keyword: table of Navajo language\n",
            "\n"
          ]
        },
        {
          "output_type": "stream",
          "name": "stderr",
          "text": [
            "Your max_length is set to 100, but your input_length is only 77. Since this is a summarization task, where outputs shorter than the input are typically wanted, you might consider decreasing max_length manually, e.g. summarizer('...', max_length=38)\n"
          ]
        },
        {
          "output_type": "stream",
          "name": "stdout",
          "text": [
            "Result 1: Navajo phonology\n",
            "Summary:  The phonology <span class=\"searchmatch\">of </span> the <span>Navajo</span> language is intimately connected to its morphology . For example, the entire range of contrastive consonants can be found in Navajo .\n",
            "URL: https://tinyurl.com/22g59alb\n",
            "--------------------------------------------------\n"
          ]
        },
        {
          "output_type": "stream",
          "name": "stderr",
          "text": [
            "Your max_length is set to 100, but your input_length is only 87. Since this is a summarization task, where outputs shorter than the input are typically wanted, you might consider decreasing max_length manually, e.g. summarizer('...', max_length=43)\n"
          ]
        },
        {
          "output_type": "stream",
          "name": "stdout",
          "text": [
            "Result 2: Southern Athabaskan languages\n",
            "Summary:  The seven Southern Athabaskan languages can be divided into two groups according to the classification of Harry Hoijer: (I) the Long Walk .\n",
            "URL: https://tinyurl.com/24yua8h4\n",
            "--------------------------------------------------\n"
          ]
        },
        {
          "output_type": "stream",
          "name": "stderr",
          "text": [
            "Your max_length is set to 100, but your input_length is only 86. Since this is a summarization task, where outputs shorter than the input are typically wanted, you might consider decreasing max_length manually, e.g. summarizer('...', max_length=43)\n"
          ]
        },
        {
          "output_type": "stream",
          "name": "stdout",
          "text": [
            "Result 3: Navajo grammar\n",
            "Summary:  <span class=\"searchmatch\">Navajo is a &quot;verb-heavy language . It has a great preponderance of verbs but relatively few nouns . In addition to verbs and nouns, it has other elements .\n",
            "URL: https://tinyurl.com/2ylmpd7h\n",
            "--------------------------------------------------\n",
            "Result 4: Native American languages of Utah\n",
            "Summary:  The language is spoken on the <span class=\"searchmatch\">Navajo</span> Nation, which is split between Arizona and the Navajo Nation . The two languages are shown below .\n",
            "URL: https://tinyurl.com/237uylpj\n",
            "--------------------------------------------------\n"
          ]
        },
        {
          "output_type": "stream",
          "name": "stderr",
          "text": [
            "Your max_length is set to 100, but your input_length is only 63. Since this is a summarization task, where outputs shorter than the input are typically wanted, you might consider decreasing max_length manually, e.g. summarizer('...', max_length=31)\n"
          ]
        },
        {
          "output_type": "stream",
          "name": "stdout",
          "text": [
            "Results for keyword: Navajo language table\n",
            "\n"
          ]
        },
        {
          "output_type": "stream",
          "name": "stderr",
          "text": [
            "Your max_length is set to 100, but your input_length is only 66. Since this is a summarization task, where outputs shorter than the input are typically wanted, you might consider decreasing max_length manually, e.g. summarizer('...', max_length=33)\n"
          ]
        },
        {
          "output_type": "stream",
          "name": "stdout",
          "text": [
            "Result 1: Navajo phonology\n",
            "Summary:  The phonology of <span class=\"searchmatch\">Navajo</span> is intimately connected to its morphology . This article is about the sound system of the Navajo language .\n",
            "URL: https://tinyurl.com/22g59alb\n",
            "--------------------------------------------------\n"
          ]
        },
        {
          "output_type": "stream",
          "name": "stderr",
          "text": [
            "Your max_length is set to 100, but your input_length is only 77. Since this is a summarization task, where outputs shorter than the input are typically wanted, you might consider decreasing max_length manually, e.g. summarizer('...', max_length=38)\n"
          ]
        },
        {
          "output_type": "stream",
          "name": "stdout",
          "text": [
            "Result 2: Southern Athabaskan languages\n",
            "Summary:  Geronimo (Goyaałé) who spoke Chiricahua was a famous raider and war leader . Manuelito spoke <span class=\"searchmatch\">Navajo</span> and is famous .\n",
            "URL: https://tinyurl.com/24yua8h4\n",
            "--------------------------------------------------\n"
          ]
        },
        {
          "output_type": "stream",
          "name": "stderr",
          "text": [
            "Your max_length is set to 100, but your input_length is only 58. Since this is a summarization task, where outputs shorter than the input are typically wanted, you might consider decreasing max_length manually, e.g. summarizer('...', max_length=29)\n"
          ]
        },
        {
          "output_type": "stream",
          "name": "stdout",
          "text": [
            "Result 3: Navajo grammar\n",
            "Summary:  Navajo is a language with a great preponderance of verbs but relatively few nouns . In addition to verbs and nouns, <span class=\"searchmatch\">Navajo has other elements .\n",
            "URL: https://tinyurl.com/2ylmpd7h\n",
            "--------------------------------------------------\n",
            "Result 4: Miss Navajo (film)\n",
            "Summary:  21-year-old Crystal Frazier lives with her family on a farm near <span class=\"searchmatch\">Table <span> Mesa, New Mexico .\n",
            "URL: https://tinyurl.com/25rjg2en\n",
            "--------------------------------------------------\n"
          ]
        },
        {
          "output_type": "stream",
          "name": "stderr",
          "text": [
            "Your max_length is set to 100, but your input_length is only 76. Since this is a summarization task, where outputs shorter than the input are typically wanted, you might consider decreasing max_length manually, e.g. summarizer('...', max_length=38)\n"
          ]
        },
        {
          "output_type": "stream",
          "name": "stdout",
          "text": [
            "Results for keyword: difference between Navajo language\n",
            "\n"
          ]
        },
        {
          "output_type": "stream",
          "name": "stderr",
          "text": [
            "Your max_length is set to 100, but your input_length is only 69. Since this is a summarization task, where outputs shorter than the input are typically wanted, you might consider decreasing max_length manually, e.g. summarizer('...', max_length=34)\n"
          ]
        },
        {
          "output_type": "stream",
          "name": "stdout",
          "text": [
            "Result 1: Navajo phonology\n",
            "Summary:  This article is about the sound system of the <span class=\"searchmatch\">Navajo</span> language . The phonology of the language is defined by the distinction between [ ], / / and ⟨ ⟩ .\n",
            "URL: https://tinyurl.com/22g59alb\n",
            "--------------------------------------------------\n"
          ]
        },
        {
          "output_type": "stream",
          "name": "stderr",
          "text": [
            "Your max_length is set to 100, but your input_length is only 76. Since this is a summarization task, where outputs shorter than the input are typically wanted, you might consider decreasing max_length manually, e.g. summarizer('...', max_length=38)\n"
          ]
        },
        {
          "output_type": "stream",
          "name": "stdout",
          "text": [
            "Result 2: Code talker\n",
            "Summary:  English was developed based on the Comanche, Hopi, Meskwaki, and Navajo peoples . They used words from their languages for each letter of the English .\n",
            "URL: https://tinyurl.com/p9susfa\n",
            "--------------------------------------------------\n"
          ]
        },
        {
          "output_type": "stream",
          "name": "stderr",
          "text": [
            "Your max_length is set to 100, but your input_length is only 66. Since this is a summarization task, where outputs shorter than the input are typically wanted, you might consider decreasing max_length manually, e.g. summarizer('...', max_length=33)\n"
          ]
        },
        {
          "output_type": "stream",
          "name": "stdout",
          "text": [
            "Result 3: Plains Indian Sign Language\n",
            "Summary:  There is also an unrelated sign, <span class=\"searchmatch\">Navajo</span> Family Sign, in a clan of Navajos that has several . who can speak the <span>Navajo . dialect of Plains Sign Talk .\n",
            "URL: https://tinyurl.com/zgfblh9\n",
            "--------------------------------------------------\n",
            "Result 4: Southern Athabaskan languages\n",
            "Summary:  Geronimo (Goyaałé) who spoke Chiricahua was a famous raider and war leader . Manuelito spoke <span class=\"searchmatch\">Navajo</span> and is famous .\n",
            "URL: https://tinyurl.com/24yua8h4\n",
            "--------------------------------------------------\n"
          ]
        },
        {
          "output_type": "stream",
          "name": "stderr",
          "text": [
            "Your max_length is set to 100, but your input_length is only 84. Since this is a summarization task, where outputs shorter than the input are typically wanted, you might consider decreasing max_length manually, e.g. summarizer('...', max_length=42)\n"
          ]
        },
        {
          "output_type": "stream",
          "name": "stdout",
          "text": [
            "Results for keyword: the analog of Navajo language\n",
            "\n",
            "Result 1: Navajo Sandstone\n",
            "Summary:  Sandstone is a geological formation in <span class=\"searchmatch\">the Glen Canyon Group that is spread across the U.S. states of southern Nevada, northern Arizona, northwest Arizona, and southern Arizona . Sandstone formation is spread in southern Nevada and northern Arizona .\n",
            "URL: https://tinyurl.com/2aamj76w\n",
            "--------------------------------------------------\n"
          ]
        },
        {
          "output_type": "stream",
          "name": "stderr",
          "text": [
            "Your max_length is set to 100, but your input_length is only 89. Since this is a summarization task, where outputs shorter than the input are typically wanted, you might consider decreasing max_length manually, e.g. summarizer('...', max_length=44)\n"
          ]
        },
        {
          "output_type": "stream",
          "name": "stdout",
          "text": [
            "Result 2: American Sign Language\n",
            "Summary:  Sign <span class=\"searchmatch\">Language</span> (ASL) is a natural language that serves as the predominant sign for Deaf communities in the U.S. and most of most of the world's Anglophone communities .\n",
            "URL: https://tinyurl.com/oywnv7b\n",
            "--------------------------------------------------\n"
          ]
        },
        {
          "output_type": "stream",
          "name": "stderr",
          "text": [
            "Your max_length is set to 100, but your input_length is only 83. Since this is a summarization task, where outputs shorter than the input are typically wanted, you might consider decreasing max_length manually, e.g. summarizer('...', max_length=41)\n"
          ]
        },
        {
          "output_type": "stream",
          "name": "stdout",
          "text": [
            "Result 3: Dune (franchise)\n",
            "Summary:  from multiple other languages, including Hebrew, Latin, Latin and Chakobsa . Nahuatl is the language of the Aztecs, Greek, Persian, East Indian, Russian, Turkish .\n",
            "URL: https://tinyurl.com/ovolyh3\n",
            "--------------------------------------------------\n",
            "Result 4: Language death\n",
            "Summary:  When a <span class=\"searchmatch\">language dies, such as the loss of word-formation productivity; style loss, such a loss of ritual speech; morphological leveling; . loss of language . loss .\n",
            "URL: https://tinyurl.com/2cjcmvrf\n",
            "--------------------------------------------------\n",
            "Results for keyword: physical meaning of Navajo language\n",
            "\n"
          ]
        },
        {
          "output_type": "stream",
          "name": "stderr",
          "text": [
            "Your max_length is set to 100, but your input_length is only 87. Since this is a summarization task, where outputs shorter than the input are typically wanted, you might consider decreasing max_length manually, e.g. summarizer('...', max_length=43)\n"
          ]
        },
        {
          "output_type": "stream",
          "name": "stdout",
          "text": [
            "Result 1: Navajo language\n",
            "Summary:  Navajo or Navaho is a Southern Athabaskan . Diné bizaad [tìnépìz̥ɑ̀ːt] or Naabeehó [nævəhoʊ,  ˈnɑː-/; . Navaho . is the name of the Native American tribe .\n",
            "URL: https://tinyurl.com/j5vymdg\n",
            "--------------------------------------------------\n"
          ]
        },
        {
          "output_type": "stream",
          "name": "stderr",
          "text": [
            "Your max_length is set to 100, but your input_length is only 48. Since this is a summarization task, where outputs shorter than the input are typically wanted, you might consider decreasing max_length manually, e.g. summarizer('...', max_length=24)\n"
          ]
        },
        {
          "output_type": "stream",
          "name": "stdout",
          "text": [
            "Result 2: Navajo grammar\n",
            "Summary:  <span class=\"searchmatch\">Navajo is a &quot;verb-heavy language . It has a great preponderance of verbs but relatively few nouns . In addition to verbs and nouns, it has other elements .\n",
            "URL: https://tinyurl.com/2ylmpd7h\n",
            "--------------------------------------------------\n"
          ]
        },
        {
          "output_type": "stream",
          "name": "stderr",
          "text": [
            "Your max_length is set to 100, but your input_length is only 53. Since this is a summarization task, where outputs shorter than the input are typically wanted, you might consider decreasing max_length manually, e.g. summarizer('...', max_length=26)\n"
          ]
        },
        {
          "output_type": "stream",
          "name": "stdout",
          "text": [
            "Result 3: Navajo song ceremonial complex\n",
            "Summary:  The <span class=\"searchmatch\">Navajo</span> song ceremonial complex is a spiritual practice used by certain ceremonial people to restore balance and harmony in the world .\n",
            "URL: https://tinyurl.com/27zxzdxz\n",
            "--------------------------------------------------\n",
            "Result 4: Hopi\n",
            "Summary:  Hopi wanted the government to provide protection against the <span class=\"searchmatch\">Navajo</span> tribe . Navajo is an Apachean-language, but distinct from other Apache . At this time, Hopi was the Hopi .\n",
            "URL: https://tinyurl.com/23a3wsbj\n",
            "--------------------------------------------------\n"
          ]
        },
        {
          "output_type": "stream",
          "name": "stderr",
          "text": [
            "Your max_length is set to 100, but your input_length is only 52. Since this is a summarization task, where outputs shorter than the input are typically wanted, you might consider decreasing max_length manually, e.g. summarizer('...', max_length=26)\n"
          ]
        },
        {
          "output_type": "stream",
          "name": "stdout",
          "text": [
            "Results for keyword: Navajo language symbolism\n",
            "\n"
          ]
        },
        {
          "output_type": "stream",
          "name": "stderr",
          "text": [
            "Your max_length is set to 100, but your input_length is only 79. Since this is a summarization task, where outputs shorter than the input are typically wanted, you might consider decreasing max_length manually, e.g. summarizer('...', max_length=39)\n"
          ]
        },
        {
          "output_type": "stream",
          "name": "stdout",
          "text": [
            "Result 1: Wall of Love\n",
            "Summary:  The wall is open to the public free of charge . Words 'I love you' in all major languages, but also in rarer ones like Navajo, Inuit, Bambara and Esperanto .\n",
            "URL: https://tinyurl.com/25cgezbu\n",
            "--------------------------------------------------\n"
          ]
        },
        {
          "output_type": "stream",
          "name": "stderr",
          "text": [
            "Your max_length is set to 100, but your input_length is only 52. Since this is a summarization task, where outputs shorter than the input are typically wanted, you might consider decreasing max_length manually, e.g. summarizer('...', max_length=26)\n"
          ]
        },
        {
          "output_type": "stream",
          "name": "stdout",
          "text": [
            "Result 2: Navajo weaving\n",
            "Summary:  Textiles are textiles produced by <span class=\"searchmatch\">Navajo</span> people, who are based near the Four Corners area of the United States .\n",
            "URL: https://tinyurl.com/222tk46b\n",
            "--------------------------------------------------\n"
          ]
        },
        {
          "output_type": "stream",
          "name": "stderr",
          "text": [
            "Your max_length is set to 100, but your input_length is only 53. Since this is a summarization task, where outputs shorter than the input are typically wanted, you might consider decreasing max_length manually, e.g. summarizer('...', max_length=26)\n"
          ]
        },
        {
          "output_type": "stream",
          "name": "stdout",
          "text": [
            "Result 3: Gladys Reichard\n",
            "Summary:  Reichard was concerned with understanding <span class=\"searchmatch\">language variation, and with connections between linguistic . American languages: Wiyot, Coeur d'Alene and <span>Navajo .\n",
            "URL: https://tinyurl.com/27w49wtp\n",
            "--------------------------------------------------\n",
            "Result 4: Crow Canyon Archaeological District\n",
            "Summary:  People has a rich history of <span class=\"searchmatch\">symbolism and spirituality, and has a deep connection to the Earth .\n",
            "URL: https://tinyurl.com/26xd3hhz\n",
            "--------------------------------------------------\n"
          ]
        },
        {
          "output_type": "stream",
          "name": "stderr",
          "text": [
            "Your max_length is set to 100, but your input_length is only 71. Since this is a summarization task, where outputs shorter than the input are typically wanted, you might consider decreasing max_length manually, e.g. summarizer('...', max_length=35)\n"
          ]
        },
        {
          "output_type": "stream",
          "name": "stdout",
          "text": [
            "Results for keyword: symbolism of Navajo language\n",
            "\n"
          ]
        },
        {
          "output_type": "stream",
          "name": "stderr",
          "text": [
            "Your max_length is set to 100, but your input_length is only 89. Since this is a summarization task, where outputs shorter than the input are typically wanted, you might consider decreasing max_length manually, e.g. summarizer('...', max_length=44)\n"
          ]
        },
        {
          "output_type": "stream",
          "name": "stdout",
          "text": [
            "Result 1: Wall of Love\n",
            "Summary:  The wall is open to the public free <span class=\"searchmatch\">of </span> charge . It is available in all major languages, but also in rarer ones like Inuit, Bambara, Inuit and Esperanto .\n",
            "URL: https://tinyurl.com/25cgezbu\n",
            "--------------------------------------------------\n"
          ]
        },
        {
          "output_type": "stream",
          "name": "stderr",
          "text": [
            "Your max_length is set to 100, but your input_length is only 96. Since this is a summarization task, where outputs shorter than the input are typically wanted, you might consider decreasing max_length manually, e.g. summarizer('...', max_length=48)\n"
          ]
        },
        {
          "output_type": "stream",
          "name": "stdout",
          "text": [
            "Result 2: Navajo weaving\n",
            "Summary:  Textiles are textiles produced by <span class=\"searchmatch\">Navajo</span> people, who are based near the Four Corners area of the United States .\n",
            "URL: https://tinyurl.com/222tk46b\n",
            "--------------------------------------------------\n"
          ]
        },
        {
          "output_type": "stream",
          "name": "stderr",
          "text": [
            "Your max_length is set to 100, but your input_length is only 89. Since this is a summarization task, where outputs shorter than the input are typically wanted, you might consider decreasing max_length manually, e.g. summarizer('...', max_length=44)\n"
          ]
        },
        {
          "output_type": "stream",
          "name": "stdout",
          "text": [
            "Result 3: Gladys Reichard\n",
            "Summary:  Causative Elements in <span class=\"searchmatch\">Navajo</span> (co-authored with Adolph Bitanny) 1944: The Story of the Coeur d'Alene . Hail Chant 1945: Composition and Symbolism .\n",
            "URL: https://tinyurl.com/27w49wtp\n",
            "--------------------------------------------------\n",
            "Result 4: Crow Canyon Archaeological District\n",
            "Summary:  Na-Dené is the language spoken by the Southern Athabaskan people . The culture has a rich history of symbolism, spirituality, spirituality and spirituality .\n",
            "URL: https://tinyurl.com/26xd3hhz\n",
            "--------------------------------------------------\n"
          ]
        },
        {
          "output_type": "stream",
          "name": "stderr",
          "text": [
            "Your max_length is set to 100, but your input_length is only 72. Since this is a summarization task, where outputs shorter than the input are typically wanted, you might consider decreasing max_length manually, e.g. summarizer('...', max_length=36)\n"
          ]
        },
        {
          "output_type": "stream",
          "name": "stdout",
          "text": [
            "Results for keyword: iconographic meaning of Navajo language\n",
            "\n"
          ]
        },
        {
          "output_type": "stream",
          "name": "stderr",
          "text": [
            "Your max_length is set to 100, but your input_length is only 62. Since this is a summarization task, where outputs shorter than the input are typically wanted, you might consider decreasing max_length manually, e.g. summarizer('...', max_length=31)\n"
          ]
        },
        {
          "output_type": "stream",
          "name": "stdout",
          "text": [
            "Result 1: Quetzalcoatl\n",
            "Summary:  The Mesoamerican deity appears on the earliest known depiction of the feathered-serpent deity . Mesoamanic cultures depict the deity as a feathered serpent . The earliest known depictions of the deity appear on religious and symbolic sites .\n",
            "URL: https://tinyurl.com/nr8kmwz\n",
            "--------------------------------------------------\n"
          ]
        },
        {
          "output_type": "stream",
          "name": "stderr",
          "text": [
            "Your max_length is set to 100, but your input_length is only 48. Since this is a summarization task, where outputs shorter than the input are typically wanted, you might consider decreasing max_length manually, e.g. summarizer('...', max_length=24)\n"
          ]
        },
        {
          "output_type": "stream",
          "name": "stdout",
          "text": [
            "Result 2: Swastika\n",
            "Summary:  In various European languages, it is known as the fylfot, gammadion or the fyllfot . In Native Americans, whirling logs <span class=\"searchmatch\">Navajo</span> denote abundance, prosperity, healing, and luck .\n",
            "URL: https://tinyurl.com/bppdhyz\n",
            "--------------------------------------------------\n"
          ]
        },
        {
          "output_type": "stream",
          "name": "stderr",
          "text": [
            "Your max_length is set to 100, but your input_length is only 46. Since this is a summarization task, where outputs shorter than the input are typically wanted, you might consider decreasing max_length manually, e.g. summarizer('...', max_length=23)\n"
          ]
        },
        {
          "output_type": "stream",
          "name": "stdout",
          "text": [
            "Result 3: Fasces\n",
            "Summary:  Mussolini's use persists in governmental and various governments outside Italy, prior to Mussolini. and incorporated into the iconography <span class=\"searchmatch\">of numerous governments outside . Italy, before Mussolini .\n",
            "URL: https://tinyurl.com/cxnxdef\n",
            "--------------------------------------------------\n",
            "Result 4: Real Spaces\n",
            "Summary:  He disregards traditional formal and <span class=\"searchmatch\">iconographical <span> art historical attributes of art and architecture and their connection to social functions throughout time .\n",
            "URL: https://tinyurl.com/29cu32sm\n",
            "--------------------------------------------------\n"
          ]
        },
        {
          "output_type": "stream",
          "name": "stderr",
          "text": [
            "Your max_length is set to 100, but your input_length is only 93. Since this is a summarization task, where outputs shorter than the input are typically wanted, you might consider decreasing max_length manually, e.g. summarizer('...', max_length=46)\n"
          ]
        },
        {
          "output_type": "stream",
          "name": "stdout",
          "text": [
            "Results for keyword: why is Navajo language important?\n",
            "\n",
            "Result 1: Navajo\n",
            "Summary:  The <span class=\"searchmatch\">Navajo</span> Reservation is slightly larger than the state of West Virginia . The region's language is spoken throughout the region .\n",
            "URL: https://tinyurl.com/wyz22v8\n",
            "--------------------------------------------------\n"
          ]
        },
        {
          "output_type": "stream",
          "name": "stderr",
          "text": [
            "Your max_length is set to 100, but your input_length is only 73. Since this is a summarization task, where outputs shorter than the input are typically wanted, you might consider decreasing max_length manually, e.g. summarizer('...', max_length=36)\n"
          ]
        },
        {
          "output_type": "stream",
          "name": "stdout",
          "text": [
            "Result 2: Languages of the United States\n",
            "Summary:  Native American is the largest Native American <span class=\"searchmatch\">language</span>-speaking community by far . Navajo is an Athabaskan . language of the Na-Dené .\n",
            "URL: https://tinyurl.com/npnnnnx\n",
            "--------------------------------------------------\n"
          ]
        },
        {
          "output_type": "stream",
          "name": "stderr",
          "text": [
            "Your max_length is set to 100, but your input_length is only 74. Since this is a summarization task, where outputs shorter than the input are typically wanted, you might consider decreasing max_length manually, e.g. summarizer('...', max_length=37)\n"
          ]
        },
        {
          "output_type": "stream",
          "name": "stdout",
          "text": [
            "Result 3: Sioux language\n",
            "Summary:  The language of the Great Sioux Nation is the fifth language in the United States or Canada, behind Navajo, Cree, Inuit and Inuit . Ojibwe is the language of Native Americans .\n",
            "URL: https://tinyurl.com/2ncvcznv\n",
            "--------------------------------------------------\n",
            "Result 4: Kenneth L. Hale\n",
            "Summary:  Often endangered <span class=\"searchmatch\">languages</span> of North America and Australia . Languages investigated include Navajo, O'odham, Warlpiri .\n",
            "URL: https://tinyurl.com/2yqdrbgc\n",
            "--------------------------------------------------\n",
            "Results for keyword: generic model of a Navajo language\n",
            "\n"
          ]
        },
        {
          "output_type": "stream",
          "name": "stderr",
          "text": [
            "Your max_length is set to 100, but your input_length is only 93. Since this is a summarization task, where outputs shorter than the input are typically wanted, you might consider decreasing max_length manually, e.g. summarizer('...', max_length=46)\n"
          ]
        },
        {
          "output_type": "stream",
          "name": "stdout",
          "text": [
            "Result 1: Welsh language\n",
            "Summary:  Welsh (Cymraeg [kəmˈraːiɡ] or y Gymraeg) is a Brittonic subgroup that is native to the Welsh people . Welsh is a Celtic language .\n",
            "URL: https://tinyurl.com/bqo2x9o\n",
            "--------------------------------------------------\n"
          ]
        },
        {
          "output_type": "stream",
          "name": "stderr",
          "text": [
            "Your max_length is set to 100, but your input_length is only 71. Since this is a summarization task, where outputs shorter than the input are typically wanted, you might consider decreasing max_length manually, e.g. summarizer('...', max_length=35)\n"
          ]
        },
        {
          "output_type": "stream",
          "name": "stdout",
          "text": [
            "Result 2: Blueberry (comics)\n",
            "Summary:  In the English language, the story ends with a cliffhanger, frustratingly leaving English readers with a five volume story . The resolution was the resolution of the story, as it was a resolution <span class=\"searchmatch\">of the story .\n",
            "URL: https://tinyurl.com/23yqxep5\n",
            "--------------------------------------------------\n"
          ]
        },
        {
          "output_type": "stream",
          "name": "stderr",
          "text": [
            "Your max_length is set to 100, but your input_length is only 85. Since this is a summarization task, where outputs shorter than the input are typically wanted, you might consider decreasing max_length manually, e.g. summarizer('...', max_length=42)\n"
          ]
        },
        {
          "output_type": "stream",
          "name": "stdout",
          "text": [
            "Result 3: Rainbow 100\n",
            "Summary:  American <span class=\"searchmatch\">languages</span> began with the Rainbow 100 . Rock Point Community School in Arizona commissioned a chip for the Native American language .\n",
            "URL: https://tinyurl.com/y7lbn6al\n",
            "--------------------------------------------------\n",
            "Result 4: Endonym and exonym\n",
            "Summary:  Searchmatch is a common, native name for a group of people, group <span class=\"searchmatch\">of people, individual person, geographical place, language, dialect or dialect . It is used inside a particular language or dialect, for example .\n",
            "URL: https://tinyurl.com/2cxftp6j\n",
            "--------------------------------------------------\n"
          ]
        },
        {
          "output_type": "stream",
          "name": "stderr",
          "text": [
            "Your max_length is set to 100, but your input_length is only 57. Since this is a summarization task, where outputs shorter than the input are typically wanted, you might consider decreasing max_length manually, e.g. summarizer('...', max_length=28)\n"
          ]
        },
        {
          "output_type": "stream",
          "name": "stdout",
          "text": [
            "Results for keyword: generic model representation of Navajo language\n",
            "\n"
          ]
        },
        {
          "output_type": "stream",
          "name": "stderr",
          "text": [
            "Your max_length is set to 100, but your input_length is only 85. Since this is a summarization task, where outputs shorter than the input are typically wanted, you might consider decreasing max_length manually, e.g. summarizer('...', max_length=42)\n"
          ]
        },
        {
          "output_type": "stream",
          "name": "stdout",
          "text": [
            "Result 1: Demographics of Asian Americans\n",
            "Summary:  The above list displays the population <span class=\"searchmatch\">of <span> LGBT Americans . African Americans, Hispanic Americans, and Caucasian Americans . Asian Americans are Asian Americans .\n",
            "URL: https://tinyurl.com/mtel4gl\n",
            "--------------------------------------------------\n"
          ]
        },
        {
          "output_type": "stream",
          "name": "stderr",
          "text": [
            "Your max_length is set to 100, but your input_length is only 60. Since this is a summarization task, where outputs shorter than the input are typically wanted, you might consider decreasing max_length manually, e.g. summarizer('...', max_length=30)\n"
          ]
        },
        {
          "output_type": "stream",
          "name": "stdout",
          "text": [
            "Result 2: Edward Sapir\n",
            "Summary:  Reports from the Survey of California and Other Indian Languages 6: 1–509. (PDF) (PDF). Reports from a Survey of the Survey . of . California and . Other Indian languages . (PDF), Reports from . the Survey <span class=\"searchmatch\">of</span> California and </span>. California and other Indian . languages . The survey was conducted by Edward Sapir .\n",
            "URL: https://tinyurl.com/2yeoalv5\n",
            "--------------------------------------------------\n"
          ]
        },
        {
          "output_type": "stream",
          "name": "stderr",
          "text": [
            "Your max_length is set to 100, but your input_length is only 67. Since this is a summarization task, where outputs shorter than the input are typically wanted, you might consider decreasing max_length manually, e.g. summarizer('...', max_length=33)\n"
          ]
        },
        {
          "output_type": "stream",
          "name": "stdout",
          "text": [
            "Result 3: National Museum of the American Indian\n",
            "Summary:  Collaborative, and Polshek Partnership Architects <span class=\"searchmatch\">of <span> New York City; Ramona Sakiestewa (Hopi) and Donna House (Navajo) also served as design consultants .\n",
            "URL: https://tinyurl.com/jlopk2m\n",
            "--------------------------------------------------\n",
            "Result 4: Secure communication\n",
            "Summary:  &quot;Do you speak <span class=\"searchmatch\">Navajo</span>?? If the response is yes, increase the percentage of traffic encrypted . This is analogous to . starting every conversation with &qot; do you speak Navajo? &quat; If the answer is yes . increase the . percentage of <span of <span> of . <span . of </span> traffic which is encrypted . Increase the percentage <span. of <\n",
            "URL: https://tinyurl.com/y7rslmsj\n",
            "--------------------------------------------------\n"
          ]
        },
        {
          "output_type": "stream",
          "name": "stderr",
          "text": [
            "Your max_length is set to 100, but your input_length is only 53. Since this is a summarization task, where outputs shorter than the input are typically wanted, you might consider decreasing max_length manually, e.g. summarizer('...', max_length=26)\n"
          ]
        },
        {
          "output_type": "stream",
          "name": "stdout",
          "text": [
            "Results for keyword: schematic representation of Navajo language\n",
            "\n"
          ]
        },
        {
          "output_type": "stream",
          "name": "stderr",
          "text": [
            "Your max_length is set to 100, but your input_length is only 59. Since this is a summarization task, where outputs shorter than the input are typically wanted, you might consider decreasing max_length manually, e.g. summarizer('...', max_length=29)\n"
          ]
        },
        {
          "output_type": "stream",
          "name": "stdout",
          "text": [
            "Result 1: Indian reservation\n",
            "Summary:  The largest reservation, the <span class=\"searchmatch\">Navajo</span> Nation Reservation, is similar in size to the state of West Virginia . Rhode Island .\n",
            "URL: https://tinyurl.com/hnl32fz\n",
            "--------------------------------------------------\n"
          ]
        },
        {
          "output_type": "stream",
          "name": "stderr",
          "text": [
            "Your max_length is set to 100, but your input_length is only 59. Since this is a summarization task, where outputs shorter than the input are typically wanted, you might consider decreasing max_length manually, e.g. summarizer('...', max_length=29)\n"
          ]
        },
        {
          "output_type": "stream",
          "name": "stdout",
          "text": [
            "Result 2: Secure communication\n",
            "Summary:  If the conversation proceeds in <span class=\"searchmatch\">Navajo</span> if the conversation is affirmative, then it uses the common language of the two speakers . This method does not generally provide useful information .\n",
            "URL: https://tinyurl.com/y7rslmsj\n",
            "--------------------------------------------------\n"
          ]
        },
        {
          "output_type": "stream",
          "name": "stderr",
          "text": [
            "Your max_length is set to 100, but your input_length is only 65. Since this is a summarization task, where outputs shorter than the input are typically wanted, you might consider decreasing max_length manually, e.g. summarizer('...', max_length=32)\n"
          ]
        },
        {
          "output_type": "stream",
          "name": "stdout",
          "text": [
            "Result 3: Indigenous peoples of the Americas\n",
            "Summary:  At least a thousand different Indigenous <span class=\"searchmatch\">languages are spoken in the Americas . Several of these languages are recognized as official by several governments .\n",
            "URL: https://tinyurl.com/6u6qpey\n",
            "--------------------------------------------------\n",
            "Result 4: Star Wars (film)\n",
            "Summary:  &quot;Alumna, four others dub Star Wars film into <span class=\"searchmatch\">Navajo <span>language . Arizona State University. (Press release). October 4, 2013. Archived March 5, 2019 .\n",
            "URL: https://tinyurl.com/nnrfbhd\n",
            "--------------------------------------------------\n"
          ]
        },
        {
          "output_type": "stream",
          "name": "stderr",
          "text": [
            "Your max_length is set to 100, but your input_length is only 85. Since this is a summarization task, where outputs shorter than the input are typically wanted, you might consider decreasing max_length manually, e.g. summarizer('...', max_length=42)\n"
          ]
        },
        {
          "output_type": "stream",
          "name": "stdout",
          "text": [
            "Results for keyword: Linear model of Navajo language\n",
            "\n"
          ]
        },
        {
          "output_type": "stream",
          "name": "stderr",
          "text": [
            "Your max_length is set to 100, but your input_length is only 53. Since this is a summarization task, where outputs shorter than the input are typically wanted, you might consider decreasing max_length manually, e.g. summarizer('...', max_length=26)\n"
          ]
        },
        {
          "output_type": "stream",
          "name": "stdout",
          "text": [
            "Result 1: Mirror theory\n",
            "Summary:  Harley (2009) analyses of the morpheme orders of Navajo and Cupeño . Halle, Morris &amp; Alec Marantz. 1993. 'Distributed Morphology and the Pieces'\n",
            "URL: https://tinyurl.com/25dw2boj\n",
            "--------------------------------------------------\n"
          ]
        },
        {
          "output_type": "stream",
          "name": "stderr",
          "text": [
            "Your max_length is set to 100, but your input_length is only 66. Since this is a summarization task, where outputs shorter than the input are typically wanted, you might consider decreasing max_length manually, e.g. summarizer('...', max_length=33)\n"
          ]
        },
        {
          "output_type": "stream",
          "name": "stdout",
          "text": [
            "Result 2: Duolingo\n",
            "Summary:  The platform was founded in 2011 by Luis von Ahn and Severin Hacker . It has since grown to become one of the most popular platforms in the world .\n",
            "URL: https://tinyurl.com/m2xsqsx\n",
            "--------------------------------------------------\n"
          ]
        },
        {
          "output_type": "stream",
          "name": "stderr",
          "text": [
            "Your max_length is set to 100, but your input_length is only 84. Since this is a summarization task, where outputs shorter than the input are typically wanted, you might consider decreasing max_length manually, e.g. summarizer('...', max_length=42)\n"
          ]
        },
        {
          "output_type": "stream",
          "name": "stdout",
          "text": [
            "Result 3: Apache\n",
            "Summary:  Apache communities in Coyotero, Tonto (Coyotero and Tonto) Distant cousins <span class=\"searchmatch\">of the Apache are the Apache, with whom they share the Southern Athabaskan languages .\n",
            "URL: https://tinyurl.com/yam2l6uk\n",
            "--------------------------------------------------\n",
            "Result 4: Evolution of languages\n",
            "Summary:  Apachean <span class=\"searchmatch\">languages like Navajo and Navajo migrated south to the Pueblo area in around 1500s. and 1700s. Apachean .\n",
            "URL: https://tinyurl.com/2d34y6on\n",
            "--------------------------------------------------\n"
          ]
        },
        {
          "output_type": "stream",
          "name": "stderr",
          "text": [
            "Your max_length is set to 100, but your input_length is only 94. Since this is a summarization task, where outputs shorter than the input are typically wanted, you might consider decreasing max_length manually, e.g. summarizer('...', max_length=47)\n"
          ]
        },
        {
          "output_type": "stream",
          "name": "stdout",
          "text": [
            "Results for keyword: Navajo language is related to?\n",
            "\n",
            "Result 1: Navajo language\n",
            "Summary:  Na-Dené family is through which it is spoken across the western areas of North America . Navajo is spoken primarily in the Southwestern region of the U.S.\n",
            "URL: https://tinyurl.com/j5vymdg\n",
            "--------------------------------------------------\n"
          ]
        },
        {
          "output_type": "stream",
          "name": "stderr",
          "text": [
            "Your max_length is set to 100, but your input_length is only 89. Since this is a summarization task, where outputs shorter than the input are typically wanted, you might consider decreasing max_length manually, e.g. summarizer('...', max_length=44)\n"
          ]
        },
        {
          "output_type": "stream",
          "name": "stdout",
          "text": [
            "Result 2: Navajo\n",
            "Summary:  The Apache language is closely related to the <span class=\"searchmatch\" language of Navajos and Apaches . The Apaches migrated from northwestern Canada . The Apache and Navajo are mutually intelligible dialects .\n",
            "URL: https://tinyurl.com/wyz22v8\n",
            "--------------------------------------------------\n"
          ]
        },
        {
          "output_type": "stream",
          "name": "stderr",
          "text": [
            "Your max_length is set to 100, but your input_length is only 69. Since this is a summarization task, where outputs shorter than the input are typically wanted, you might consider decreasing max_length manually, e.g. summarizer('...', max_length=34)\n"
          ]
        },
        {
          "output_type": "stream",
          "name": "stdout",
          "text": [
            "Result 3: Skin-walker\n",
            "Summary:  The term <span class=\"searchmatch\">is never used for healers . The term yee naaldlooshii translates to \"by means of it, it goes on all fours&quot; themselves as animals\"\n",
            "URL: https://tinyurl.com/q5ojt9y\n",
            "--------------------------------------------------\n",
            "Result 4: Code talker\n",
            "Summary:  English was developed based on the Comanche, Hopi, Meskwaki, and Navajo peoples . They used words from their languages for each letter of the English .\n",
            "URL: https://tinyurl.com/p9susfa\n",
            "--------------------------------------------------\n"
          ]
        },
        {
          "output_type": "stream",
          "name": "stderr",
          "text": [
            "Your max_length is set to 100, but your input_length is only 74. Since this is a summarization task, where outputs shorter than the input are typically wanted, you might consider decreasing max_length manually, e.g. summarizer('...', max_length=37)\n"
          ]
        },
        {
          "output_type": "stream",
          "name": "stdout",
          "text": [
            "Results for keyword: Floor plan of Navajo language\n",
            "\n"
          ]
        },
        {
          "output_type": "stream",
          "name": "stderr",
          "text": [
            "Your max_length is set to 100, but your input_length is only 78. Since this is a summarization task, where outputs shorter than the input are typically wanted, you might consider decreasing max_length manually, e.g. summarizer('...', max_length=39)\n"
          ]
        },
        {
          "output_type": "stream",
          "name": "stdout",
          "text": [
            "Result 1: Uranium mining and the Navajo people\n",
            "Summary:  The risks of lung cancer due to uranium mining were unknown to the workers . The lack of a word for radiation in the <span class=\"searchmatch\">Navajo</span> language left the miners at risk .\n",
            "URL: https://tinyurl.com/hxcz7sh\n",
            "--------------------------------------------------\n",
            "Result 2: Canyon de Chelly National Monument\n",
            "Summary:  The monument covers 83,840 acres (131 sq mi; 339 km2) and encompasses the <span class=\"searchmatch\">floors</span> and rims of the three major canyons .\n",
            "URL: https://tinyurl.com/o6ggarr\n",
            "--------------------------------------------------\n"
          ]
        },
        {
          "output_type": "stream",
          "name": "stderr",
          "text": [
            "Your max_length is set to 100, but your input_length is only 89. Since this is a summarization task, where outputs shorter than the input are typically wanted, you might consider decreasing max_length manually, e.g. summarizer('...', max_length=44)\n"
          ]
        },
        {
          "output_type": "stream",
          "name": "stdout",
          "text": [
            "Result 3: Diné Bahaneʼ\n",
            "Summary:  Baahaneʼ <span class=\"searchmatch\">Navajo</span> describes the prehistoric emergence of the creation myth, as a part of a part <span> of the <span>. of the People&quot; story, the . creation myth . The creation myth is a creation myth of the Native Americans .\n",
            "URL: https://tinyurl.com/27ykchf2\n",
            "--------------------------------------------------\n",
            "Result 4: Puebloans\n",
            "Summary:  Puebloan <span class=\"searchmatch\">languages </span> are tonal . However, the tone is not usually shown in the spelling of these languages .\n",
            "URL: https://tinyurl.com/2cc85csp\n",
            "--------------------------------------------------\n"
          ]
        }
      ]
    },
    {
      "cell_type": "code",
      "source": [
        "# Wikidictionary version with summaries and URLs\n",
        "import requests\n",
        "from transformers import pipeline\n",
        "import pyshorteners\n",
        "\n",
        "keywords = [\n",
        "    \"importance of X\",\n",
        "    \"ideal behavior of X\",\n",
        "    \"ideal vs. realistic behavior of X\",\n",
        "    \"significance of X\",\n",
        "    \"applications of X\",\n",
        "    \"physical significance of X\",\n",
        "    \"geometry for the measurement of X\",\n",
        "    \"typical characteristics of X\",\n",
        "    \"with and without X\",\n",
        "    \"what does X represent?\",\n",
        "    \"what is the concept of X?\",\n",
        "    \"taxonomy of X\",\n",
        "    \"table of X\",\n",
        "    \"X table\",\n",
        "    \"difference between X\",\n",
        "    \"the analog of X\",\n",
        "    \"physical meaning of X\",\n",
        "    \"X symbolism\",\n",
        "    \"symbolism of X\",\n",
        "    \"iconographic meaning of X\",\n",
        "    \"why is X important?\",\n",
        "    \"generic model of a X\",\n",
        "    \"generic model representation of X\",\n",
        "    \"schematic representation of X\",\n",
        "    \"Linear model of X\",\n",
        "    \"X is related to?\",\n",
        "    \"Floor plan of X\"\n",
        "]\n",
        "\n",
        "base_url = \"https://en.wiktionary.org/w/api.php\"\n",
        "params = {\n",
        "    \"action\": \"query\",\n",
        "    \"format\": \"json\",\n",
        "    \"list\": \"search\",\n",
        "    \"srsearch\": \"\",\n",
        "    \"srprop\": \"snippet\"\n",
        "}\n",
        "\n",
        "entry = input(\"Enter the word for X: \")\n",
        "\n",
        "summarizer = pipeline(\"summarization\")\n",
        "shortener = pyshorteners.Shortener()\n",
        "\n",
        "for keyword in keywords:\n",
        "    keyword_with_entry = keyword.replace(\"X\", entry)\n",
        "    params[\"srsearch\"] = keyword_with_entry\n",
        "    response = requests.get(base_url, params=params).json()\n",
        "    results = response[\"query\"][\"search\"]\n",
        "    if len(results) > 0:\n",
        "        print(f\"Results for keyword: {keyword_with_entry}\\n\")\n",
        "        for i, result in enumerate(results[:2]):\n",
        "            title = result[\"title\"]\n",
        "            snippet = result[\"snippet\"]\n",
        "            summary = summarizer(snippet, max_length=100, min_length=30, do_sample=False)[0]['summary_text']\n",
        "            page_url = f\"https://en.wiktionary.org/wiki/{title.replace(' ', '_')}\"\n",
        "            shortened_url = shortener.tinyurl.short(page_url)\n",
        "            print(f\"Result {i+1}: {title}\")\n",
        "            print(f\"Summary: {summary}\")\n",
        "            print(f\"URL: {shortened_url}\")\n",
        "            print(\"--------------------------------------------------\")\n",
        "    else:\n",
        "        print(f\"No results found for keyword: {keyword_with_entry}\\n\")\n"
      ],
      "metadata": {
        "id": "4v97K9XgzW4Q",
        "outputId": "14efac69-fa47-4e32-d4c0-7ea7873569f7",
        "colab": {
          "base_uri": "https://localhost:8080/"
        }
      },
      "execution_count": null,
      "outputs": [
        {
          "name": "stdout",
          "output_type": "stream",
          "text": [
            "Enter the word for X: Navajo language\n"
          ]
        },
        {
          "output_type": "stream",
          "name": "stderr",
          "text": [
            "No model was supplied, defaulted to sshleifer/distilbart-cnn-12-6 and revision a4f8f3e (https://huggingface.co/sshleifer/distilbart-cnn-12-6).\n",
            "Using a pipeline without specifying a model name and revision in production is not recommended.\n",
            "Your max_length is set to 100, but your input_length is only 71. Since this is a summarization task, where outputs shorter than the input are typically wanted, you might consider decreasing max_length manually, e.g. summarizer('...', max_length=35)\n"
          ]
        },
        {
          "output_type": "stream",
          "name": "stdout",
          "text": [
            "Results for keyword: importance of Navajo language\n",
            "\n"
          ]
        },
        {
          "output_type": "stream",
          "name": "stderr",
          "text": [
            "Your max_length is set to 100, but your input_length is only 63. Since this is a summarization task, where outputs shorter than the input are typically wanted, you might consider decreasing max_length manually, e.g. summarizer('...', max_length=31)\n"
          ]
        },
        {
          "output_type": "stream",
          "name": "stdout",
          "text": [
            "Result 1: important\n",
            "Summary:  <span class=\"searchmatch\">importance</span> importantissime important present participle . <span = \"importance\", \"importantissime\" and \"important\" are used in French .\n",
            "URL: https://tinyurl.com/26lt987q\n",
            "--------------------------------------------------\n",
            "Result 2: agave\n",
            "Summary:  Several are used as sources of fibre such as sisal, and alcoholic beverages such as tequila . Several are <span class=\"searchmatch\">of economic <span>importance <span importance</span> as sources . Several produce gigantic inflorescences .\n",
            "URL: https://tinyurl.com/29qdpndt\n",
            "--------------------------------------------------\n",
            "No results found for keyword: ideal behavior of Navajo language\n",
            "\n",
            "No results found for keyword: ideal vs. realistic behavior of Navajo language\n",
            "\n"
          ]
        },
        {
          "output_type": "stream",
          "name": "stderr",
          "text": [
            "Your max_length is set to 100, but your input_length is only 43. Since this is a summarization task, where outputs shorter than the input are typically wanted, you might consider decreasing max_length manually, e.g. summarizer('...', max_length=21)\n"
          ]
        },
        {
          "output_type": "stream",
          "name": "stdout",
          "text": [
            "Results for keyword: significance of Navajo language\n",
            "\n"
          ]
        },
        {
          "output_type": "stream",
          "name": "stderr",
          "text": [
            "Your max_length is set to 100, but your input_length is only 74. Since this is a summarization task, where outputs shorter than the input are typically wanted, you might consider decreasing max_length manually, e.g. summarizer('...', max_length=37)\n"
          ]
        },
        {
          "output_type": "stream",
          "name": "stdout",
          "text": [
            "Result 1: baseball\n",
            "Summary:  variant of poker in which cards with baseball-related values have special <span class=\"searchmatch\">significance . For quotations using this term, see Citations:baseball. baseball Annie .\n",
            "URL: https://tinyurl.com/2b2saust\n",
            "--------------------------------------------------\n",
            "Result 2: in vain\n",
            "Summary:  2012, N.H. Pijls, Maximal Myocardial Perfusion as a Measure of the Functional <span class=\"searchmatch\"> of <span> Coronary Artery Disease‎[2]: The problems concerning contrast are the result of contrast between the two types of myocardial perfusion .\n",
            "URL: https://tinyurl.com/28hu5nov\n",
            "--------------------------------------------------\n"
          ]
        },
        {
          "output_type": "stream",
          "name": "stderr",
          "text": [
            "Your max_length is set to 100, but your input_length is only 54. Since this is a summarization task, where outputs shorter than the input are typically wanted, you might consider decreasing max_length manually, e.g. summarizer('...', max_length=27)\n"
          ]
        },
        {
          "output_type": "stream",
          "name": "stdout",
          "text": [
            "Results for keyword: applications of Navajo language\n",
            "\n"
          ]
        },
        {
          "output_type": "stream",
          "name": "stderr",
          "text": [
            "Your max_length is set to 100, but your input_length is only 62. Since this is a summarization task, where outputs shorter than the input are typically wanted, you might consider decreasing max_length manually, e.g. summarizer('...', max_length=31)\n"
          ]
        },
        {
          "output_type": "stream",
          "name": "stdout",
          "text": [
            "Result 1: Czech\n",
            "Summary:  Lees-Marshment, Political Marketing: Principles and Applications . Political marketing: Principles, Applications, Applications . A whole array <span class=\"searchmatch\">of companies and consultants can be found here .\n",
            "URL: https://tinyurl.com/2dxqt7o7\n",
            "--------------------------------------------------\n",
            "Result 2: nation\n",
            "Summary:  Nationism nationism nationless nationlike Nation <span class=\"searchmatch\">of</span> Islam nation . Nation one nation conservatism one-nation conservatism one nation .\n",
            "URL: https://tinyurl.com/27xhtotw\n",
            "--------------------------------------------------\n",
            "No results found for keyword: physical significance of Navajo language\n",
            "\n"
          ]
        },
        {
          "output_type": "stream",
          "name": "stderr",
          "text": [
            "Your max_length is set to 100, but your input_length is only 93. Since this is a summarization task, where outputs shorter than the input are typically wanted, you might consider decreasing max_length manually, e.g. summarizer('...', max_length=46)\n"
          ]
        },
        {
          "output_type": "stream",
          "name": "stdout",
          "text": [
            "Results for keyword: geometry for the measurement of Navajo language\n",
            "\n",
            "Result 1: square\n",
            "Summary:  The size of an area is equal to a 10 foot by 10 foot square, i.e. 100 square feet or roughly 9.3 square metres . Used in real estate .\n",
            "URL: https://tinyurl.com/y7kjtjwt\n",
            "--------------------------------------------------\n",
            "Result 2: foot\n",
            "Summary:  Horace Mann: As to his being on <span class=\"searchmatch\">the</span> foot <span> of a servant, the foot is a unit of length . The foot is an ordinary plural of the ordinary plural .\n",
            "URL: https://tinyurl.com/28cxlh79\n",
            "--------------------------------------------------\n"
          ]
        },
        {
          "output_type": "stream",
          "name": "stderr",
          "text": [
            "Your max_length is set to 100, but your input_length is only 86. Since this is a summarization task, where outputs shorter than the input are typically wanted, you might consider decreasing max_length manually, e.g. summarizer('...', max_length=43)\n"
          ]
        },
        {
          "output_type": "stream",
          "name": "stdout",
          "text": [
            "Results for keyword: typical characteristics of Navajo language\n",
            "\n"
          ]
        },
        {
          "output_type": "stream",
          "name": "stderr",
          "text": [
            "Your max_length is set to 100, but your input_length is only 75. Since this is a summarization task, where outputs shorter than the input are typically wanted, you might consider decreasing max_length manually, e.g. summarizer('...', max_length=37)\n"
          ]
        },
        {
          "output_type": "stream",
          "name": "stdout",
          "text": [
            "Result 1: -ly\n",
            "Summary:  -ly Used to form adjectives from nouns, the adjectives having the sense <span class=\"searchmatch\">of</span> of being like, or having a nature . Doublet is a word that means 'like' or 'typical'\n",
            "URL: https://tinyurl.com/27jgttoe\n",
            "--------------------------------------------------\n",
            "Result 2: female\n",
            "Summary:  Tending to lead to or regulate the development of the female chromosome;   estrogen, the primary estrogen, is the primary ingredient in development of a woman .\n",
            "URL: https://tinyurl.com/2b8dbqw5\n",
            "--------------------------------------------------\n"
          ]
        },
        {
          "output_type": "stream",
          "name": "stderr",
          "text": [
            "Your max_length is set to 100, but your input_length is only 74. Since this is a summarization task, where outputs shorter than the input are typically wanted, you might consider decreasing max_length manually, e.g. summarizer('...', max_length=37)\n"
          ]
        },
        {
          "output_type": "stream",
          "name": "stdout",
          "text": [
            "Results for keyword: with and without Navajo language\n",
            "\n"
          ]
        },
        {
          "output_type": "stream",
          "name": "stderr",
          "text": [
            "Your max_length is set to 100, but your input_length is only 89. Since this is a summarization task, where outputs shorter than the input are typically wanted, you might consider decreasing max_length manually, e.g. summarizer('...', max_length=44)\n"
          ]
        },
        {
          "output_type": "stream",
          "name": "stdout",
          "text": [
            "Result 1: -TĄ́\n",
            "Summary:  Occurs in <span class=\"searchmatch\">Navajo</span> as momentaneous perfective -TĄ́ . (“animate rests”), among many other meanings in the sole Ahtna .\n",
            "URL: https://tinyurl.com/27fqtab8\n",
            "--------------------------------------------------\n",
            "Result 2: nv\n",
            "Summary:  nv (uncountable) (pathology) Initialism of novel/new is initialism . See also: Nv, NV, nv, nV, N-V, n.V., <span class=\"searchmatch\">and</span> n.N.V. (international standards)\n",
            "URL: https://tinyurl.com/2xzahs6r\n",
            "--------------------------------------------------\n",
            "Results for keyword: what does Navajo language represent?\n",
            "\n"
          ]
        },
        {
          "output_type": "stream",
          "name": "stderr",
          "text": [
            "Your max_length is set to 100, but your input_length is only 56. Since this is a summarization task, where outputs shorter than the input are typically wanted, you might consider decreasing max_length manually, e.g. summarizer('...', max_length=28)\n"
          ]
        },
        {
          "output_type": "stream",
          "name": "stdout",
          "text": [
            "Result 1: if\n",
            "Summary:  From English if (as in <span class=\"searchmatch\">what</span> if). (Tokyo)   イ​f [íꜜfù] (Atamadaka – [1) IPA(key): [iɸɯ̟ᵝ] if(イフ) • (ifu)  &quot; . (Ifu) is an alternative to the alternative word \"ifu\" for \"if\"\n",
            "URL: https://tinyurl.com/2amyw5r9\n",
            "--------------------------------------------------\n",
            "Result 2: dictionary\n",
            "Summary:  A synchronic dictionary of a standardised <span class=\"searchmatch\">language is held to only contain information . Information is represented by the use of a number/letter code .\n",
            "URL: https://tinyurl.com/y9aq42hr\n",
            "--------------------------------------------------\n",
            "Results for keyword: what is the concept of Navajo language?\n",
            "\n"
          ]
        },
        {
          "output_type": "stream",
          "name": "stderr",
          "text": [
            "Your max_length is set to 100, but your input_length is only 70. Since this is a summarization task, where outputs shorter than the input are typically wanted, you might consider decreasing max_length manually, e.g. summarizer('...', max_length=35)\n"
          ]
        },
        {
          "output_type": "stream",
          "name": "stdout",
          "text": [
            "Result 1: what\n",
            "Summary:  The Devil, deuce, dickens, hell, hell and hell, heck, fuck <span class=\"searchmatch\">what</span> is more <span> than what? or what's more? or if it's the same? or not? or more? Or if it is the same thing? Or what's not?\n",
            "URL: https://tinyurl.com/ycbmbww7\n",
            "--------------------------------------------------\n",
            "Result 2: understand\n",
            "Summary:  To believe one grasps a <span class=\"searchmatch\">concept: believe misunderstand I don’t understand. comprehend, grasp, know, perceive, pick up what someone is putting down, realise, grok .\n",
            "URL: https://tinyurl.com/24xm89q5\n",
            "--------------------------------------------------\n"
          ]
        },
        {
          "output_type": "stream",
          "name": "stderr",
          "text": [
            "Your max_length is set to 100, but your input_length is only 55. Since this is a summarization task, where outputs shorter than the input are typically wanted, you might consider decreasing max_length manually, e.g. summarizer('...', max_length=27)\n"
          ]
        },
        {
          "output_type": "stream",
          "name": "stdout",
          "text": [
            "Results for keyword: taxonomy of Navajo language\n",
            "\n"
          ]
        },
        {
          "output_type": "stream",
          "name": "stderr",
          "text": [
            "Your max_length is set to 100, but your input_length is only 62. Since this is a summarization task, where outputs shorter than the input are typically wanted, you might consider decreasing max_length manually, e.g. summarizer('...', max_length=31)\n"
          ]
        },
        {
          "output_type": "stream",
          "name": "stdout",
          "text": [
            "Result 1: family\n",
            "Summary:  A category in the classification <span class=\"searchmatch\">of organisms, ranking below order and above genus; a taxon taxon . A taxon is a category in a classification of organisms .\n",
            "URL: https://tinyurl.com/2774gajb\n",
            "--------------------------------------------------\n",
            "Result 2: bivalve\n",
            "Summary:  Any mollusc belonging to the <span class=\"searchmatch\">taxonomic</span> class Bivalvia . Shell consisting of a shell consisting of two hinged sections, such as a scallop, clam, clam .\n",
            "URL: https://tinyurl.com/29m593qw\n",
            "--------------------------------------------------\n",
            "Results for keyword: table of Navajo language\n",
            "\n"
          ]
        },
        {
          "output_type": "stream",
          "name": "stderr",
          "text": [
            "Your max_length is set to 100, but your input_length is only 59. Since this is a summarization task, where outputs shorter than the input are typically wanted, you might consider decreasing max_length manually, e.g. summarizer('...', max_length=29)\n"
          ]
        },
        {
          "output_type": "stream",
          "name": "stdout",
          "text": [
            "Result 1: table\n",
            "Summary:  dressing <span class=\"searchmatch\">table</span> drop-leaf <span . leaf <span>table <span. end <span class=\"search match\">table .table . table . table. table .\n",
            "URL: https://tinyurl.com/24vw24zf\n",
            "--------------------------------------------------\n",
            "Result 2: language/translations\n",
            "Summary:  This page contains translations for <span class=\"searchmatch\">language . See the main entry for more information . The language used in this page is English .\n",
            "URL: https://tinyurl.com/27e6ubrb\n",
            "--------------------------------------------------\n",
            "Results for keyword: Navajo language table\n",
            "\n"
          ]
        },
        {
          "output_type": "stream",
          "name": "stderr",
          "text": [
            "Your max_length is set to 100, but your input_length is only 39. Since this is a summarization task, where outputs shorter than the input are typically wanted, you might consider decreasing max_length manually, e.g. summarizer('...', max_length=19)\n"
          ]
        },
        {
          "output_type": "stream",
          "name": "stdout",
          "text": [
            "Result 1: table\n",
            "Summary:  <span class=\"searchmatch\">table</span> pier, pool, roller, roller and round table . Table includes worktable   geology tea, table tennis, toilet, toilet and worktable .\n",
            "URL: https://tinyurl.com/24vw24zf\n",
            "--------------------------------------------------\n",
            "Result 2: language/translations\n",
            "Summary:  This page contains translations for <span class=\"searchmatch\">language . See the main entry for more information. This page includes translations for various languages .\n",
            "URL: https://tinyurl.com/27e6ubrb\n",
            "--------------------------------------------------\n",
            "Results for keyword: difference between Navajo language\n",
            "\n"
          ]
        },
        {
          "output_type": "stream",
          "name": "stderr",
          "text": [
            "Your max_length is set to 100, but your input_length is only 58. Since this is a summarization task, where outputs shorter than the input are typically wanted, you might consider decreasing max_length manually, e.g. summarizer('...', max_length=29)\n"
          ]
        },
        {
          "output_type": "stream",
          "name": "stdout",
          "text": [
            "Result 1: between\n",
            "Summary:  Fall <span class=\"searchmatch\">between</span> two stools few and far <span classify between and far . Go-<span class\"searchmatch\" means \"between\" and \"in-between\"\n",
            "URL: https://tinyurl.com/wmjyqzx\n",
            "--------------------------------------------------\n",
            "Result 2: nv\n",
            "Summary:  Latin script often do not distinguish <span class=\"searchmatch\">between tonal tonal <span> and tonal tones employed in Mandarin . Latin script does not distinguish between Mandarin and Latin script . Mandarin script often uses words such as this one without indication .\n",
            "URL: https://tinyurl.com/2xzahs6r\n",
            "--------------------------------------------------\n"
          ]
        },
        {
          "output_type": "stream",
          "name": "stderr",
          "text": [
            "Your max_length is set to 100, but your input_length is only 60. Since this is a summarization task, where outputs shorter than the input are typically wanted, you might consider decreasing max_length manually, e.g. summarizer('...', max_length=30)\n"
          ]
        },
        {
          "output_type": "stream",
          "name": "stdout",
          "text": [
            "Results for keyword: the analog of Navajo language\n",
            "\n"
          ]
        },
        {
          "output_type": "stream",
          "name": "stderr",
          "text": [
            "Your max_length is set to 100, but your input_length is only 73. Since this is a summarization task, where outputs shorter than the input are typically wanted, you might consider decreasing max_length manually, e.g. summarizer('...', max_length=36)\n"
          ]
        },
        {
          "output_type": "stream",
          "name": "stdout",
          "text": [
            "Result 1: computer\n",
            "Summary:  expressions with this term in <span class=\"searchmatch\">the</span> middle human-computer interaction   Compound words and expressions are used at the end of this term . Compound word and expression are used in the middle of analog computer appliance computer .\n",
            "URL: https://tinyurl.com/hvxds37\n",
            "--------------------------------------------------\n",
            "Result 2: clock\n",
            "Summary:  alarm clock <span class=\"searchmatch\">analog</span> clock analogue clock around-clock around- clock around . clock around clock a stopped clock is right twice a day atomic clock balloon clock balloon clocks balloon clock beat clock beat . clock beat is clock beat beat by clock beat to clock a biological clock biological clock .\n",
            "URL: https://tinyurl.com/26gtxmxy\n",
            "--------------------------------------------------\n"
          ]
        },
        {
          "output_type": "stream",
          "name": "stderr",
          "text": [
            "Your max_length is set to 100, but your input_length is only 60. Since this is a summarization task, where outputs shorter than the input are typically wanted, you might consider decreasing max_length manually, e.g. summarizer('...', max_length=30)\n"
          ]
        },
        {
          "output_type": "stream",
          "name": "stdout",
          "text": [
            "Results for keyword: physical meaning of Navajo language\n",
            "\n"
          ]
        },
        {
          "output_type": "stream",
          "name": "stderr",
          "text": [
            "Your max_length is set to 100, but your input_length is only 53. Since this is a summarization task, where outputs shorter than the input are typically wanted, you might consider decreasing max_length manually, e.g. summarizer('...', max_length=26)\n"
          ]
        },
        {
          "output_type": "stream",
          "name": "stdout",
          "text": [
            "Result 1: Illinois\n",
            "Summary:  2013, Brett Rushforth, Bonds <span class=\"searchmatch\">of <span> Alliance: Indigenous and Atlantic Slaveries, page 56: Another Illinois word describing a physical detention, kikiȣnakiȣi, was kiki-naki .\n",
            "URL: https://tinyurl.com/2439wg9y\n",
            "--------------------------------------------------\n",
            "Result 2: spirit\n",
            "Summary:  An attempt to connect with the spirit <span class=\"searchmatch\">of a beautiful location . A supernatural being often but not exclusively without a physical form; ghost, fairy, angel .\n",
            "URL: https://tinyurl.com/2a8glovs\n",
            "--------------------------------------------------\n"
          ]
        },
        {
          "output_type": "stream",
          "name": "stderr",
          "text": [
            "Your max_length is set to 100, but your input_length is only 39. Since this is a summarization task, where outputs shorter than the input are typically wanted, you might consider decreasing max_length manually, e.g. summarizer('...', max_length=19)\n"
          ]
        },
        {
          "output_type": "stream",
          "name": "stdout",
          "text": [
            "Results for keyword: Navajo language symbolism\n",
            "\n"
          ]
        },
        {
          "output_type": "stream",
          "name": "stderr",
          "text": [
            "Your max_length is set to 100, but your input_length is only 39. Since this is a summarization task, where outputs shorter than the input are typically wanted, you might consider decreasing max_length manually, e.g. summarizer('...', max_length=19)\n"
          ]
        },
        {
          "output_type": "stream",
          "name": "stdout",
          "text": [
            "Result 1: yurt\n",
            "Summary:  Lydia Laube: Kazakhstan is central to Kazakh ethnic identity . The Kazakh national flag is a national symbol of national identity . It was adopted by the Kazakh authorities of independent Kazakhstan in 2010 .\n",
            "URL: https://tinyurl.com/2dpmgac8\n",
            "--------------------------------------------------\n"
          ]
        },
        {
          "output_type": "stream",
          "name": "stderr",
          "text": [
            "Your max_length is set to 100, but your input_length is only 58. Since this is a summarization task, where outputs shorter than the input are typically wanted, you might consider decreasing max_length manually, e.g. summarizer('...', max_length=29)\n"
          ]
        },
        {
          "output_type": "stream",
          "name": "stdout",
          "text": [
            "Result 2: nature\n",
            "Summary:  \"symbolism\" is a symbol of nature . \"Symbolism is an important part of nature,\" \"symbolicism\" has been used as a tool to help people understand nature's meaning .\n",
            "URL: https://tinyurl.com/2ajsz9vn\n",
            "--------------------------------------------------\n",
            "Results for keyword: symbolism of Navajo language\n",
            "\n"
          ]
        },
        {
          "output_type": "stream",
          "name": "stderr",
          "text": [
            "Your max_length is set to 100, but your input_length is only 39. Since this is a summarization task, where outputs shorter than the input are typically wanted, you might consider decreasing max_length manually, e.g. summarizer('...', max_length=19)\n"
          ]
        },
        {
          "output_type": "stream",
          "name": "stdout",
          "text": [
            "Result 1: yurt\n",
            "Summary:  The yurt remains central to Kazakh ethnic identity, and provides national cultural <span class=\"searchmatch\">symbolism</span> deployed by the authorities .\n",
            "URL: https://tinyurl.com/2dpmgac8\n",
            "--------------------------------------------------\n",
            "Result 2: nature\n",
            "Summary:  \"symbolism\" is a symbol of nature . \"Symbolism is an important part of nature,\" \"symbolicism\" has been used as a tool to help people understand nature's meaning .\n",
            "URL: https://tinyurl.com/2ajsz9vn\n",
            "--------------------------------------------------\n",
            "No results found for keyword: iconographic meaning of Navajo language\n",
            "\n"
          ]
        },
        {
          "output_type": "stream",
          "name": "stderr",
          "text": [
            "Your max_length is set to 100, but your input_length is only 66. Since this is a summarization task, where outputs shorter than the input are typically wanted, you might consider decreasing max_length manually, e.g. summarizer('...', max_length=33)\n"
          ]
        },
        {
          "output_type": "stream",
          "name": "stdout",
          "text": [
            "Results for keyword: why is Navajo language important?\n",
            "\n"
          ]
        },
        {
          "output_type": "stream",
          "name": "stderr",
          "text": [
            "Your max_length is set to 100, but your input_length is only 79. Since this is a summarization task, where outputs shorter than the input are typically wanted, you might consider decreasing max_length manually, e.g. summarizer('...', max_length=39)\n"
          ]
        },
        {
          "output_type": "stream",
          "name": "stdout",
          "text": [
            "Result 1: because\n",
            "Summary:  Used alone to refuse to provide a full answer to a question begun with &quot; <span class=\"searchmatch\">why</span> and usually taken as for the sake (of) My life <span> is ruined because of you!\n",
            "URL: https://tinyurl.com/nwf9p7r\n",
            "--------------------------------------------------\n",
            "Result 2: understand\n",
            "Summary:  Use <span class=\"searchmatch\">is</span> usually limited to the past participle . LAUNCE: Stand-under and under-stand are all one. stands under thee, indeed.\n",
            "URL: https://tinyurl.com/24xm89q5\n",
            "--------------------------------------------------\n"
          ]
        },
        {
          "output_type": "stream",
          "name": "stderr",
          "text": [
            "Your max_length is set to 100, but your input_length is only 42. Since this is a summarization task, where outputs shorter than the input are typically wanted, you might consider decreasing max_length manually, e.g. summarizer('...', max_length=21)\n"
          ]
        },
        {
          "output_type": "stream",
          "name": "stdout",
          "text": [
            "Results for keyword: generic model of a Navajo language\n",
            "\n"
          ]
        },
        {
          "output_type": "stream",
          "name": "stderr",
          "text": [
            "Your max_length is set to 100, but your input_length is only 72. Since this is a summarization task, where outputs shorter than the input are typically wanted, you might consider decreasing max_length manually, e.g. summarizer('...', max_length=36)\n"
          ]
        },
        {
          "output_type": "stream",
          "name": "stdout",
          "text": [
            "Result 1: element\n",
            "Summary:  diagonal element driven element element element <span class=\"searchmatch\">of </span> surprise viral element . element global element identity element element .\n",
            "URL: https://tinyurl.com/2do2ekje\n",
            "--------------------------------------------------\n",
            "Result 2: church\n",
            "Summary:  She goes to <span class=\"searchmatch\">a</span> strict separation between church and state . (informal) Any religious group . She goes from 16th c. to Wiccan church .\n",
            "URL: https://tinyurl.com/22dy6atd\n",
            "--------------------------------------------------\n",
            "No results found for keyword: generic model representation of Navajo language\n",
            "\n",
            "No results found for keyword: schematic representation of Navajo language\n",
            "\n"
          ]
        },
        {
          "output_type": "stream",
          "name": "stderr",
          "text": [
            "Your max_length is set to 100, but your input_length is only 80. Since this is a summarization task, where outputs shorter than the input are typically wanted, you might consider decreasing max_length manually, e.g. summarizer('...', max_length=40)\n"
          ]
        },
        {
          "output_type": "stream",
          "name": "stdout",
          "text": [
            "Results for keyword: Linear model of Navajo language\n",
            "\n"
          ]
        },
        {
          "output_type": "stream",
          "name": "stderr",
          "text": [
            "Your max_length is set to 100, but your input_length is only 67. Since this is a summarization task, where outputs shorter than the input are typically wanted, you might consider decreasing max_length manually, e.g. summarizer('...', max_length=33)\n"
          ]
        },
        {
          "output_type": "stream",
          "name": "stdout",
          "text": [
            "Result 1: dual\n",
            "Summary:  Exhibiting duality. (mathematics, physics) Being the space of the space <span class=\"searchmatch\">of all <span> functionals . (some other space). 2012, Doug Fisher; Hans-J Hans-Frisch, Hans-Lisch .\n",
            "URL: https://tinyurl.com/2c5rsvjg\n",
            "--------------------------------------------------\n",
            "Result 2: write\n",
            "Summary:  Swedish rita (“to draw, design, delineate, define, rough-sketch, carve, write”) Icelandic rita means “to cut, scratch, write, scratch” and German ritzen means ‘to carve’ and ‘scratch’ .\n",
            "URL: https://tinyurl.com/qr22mrc\n",
            "--------------------------------------------------\n",
            "Results for keyword: Navajo language is related to?\n",
            "\n"
          ]
        },
        {
          "output_type": "stream",
          "name": "stderr",
          "text": [
            "Your max_length is set to 100, but your input_length is only 99. Since this is a summarization task, where outputs shorter than the input are typically wanted, you might consider decreasing max_length manually, e.g. summarizer('...', max_length=49)\n"
          ]
        },
        {
          "output_type": "stream",
          "name": "stdout",
          "text": [
            "Result 1: Navachóis\n",
            "Summary:  From Spanish <span class=\"searchmatch\">navajo</span> + - - is (“-ish, -ese”, “language” suffix) Navachóis f (genitive Navachoise) the <span>Navajo’s language is the name of Navajo . Navajo is the Spanish word for “navajo” and “is” .\n",
            "URL: https://tinyurl.com/2dnvxo69\n",
            "--------------------------------------------------\n",
            "Result 2: Dinékʼehjí\n",
            "Summary:  From diné (“<span class=\"searchmatch\">Navajo”) + -kʼehjí (‘in the fashion of’) Dinék�iedehji means “in the style of” and ‘in fashion’ of the language .\n",
            "URL: https://tinyurl.com/2bmsxjdd\n",
            "--------------------------------------------------\n"
          ]
        },
        {
          "output_type": "stream",
          "name": "stderr",
          "text": [
            "Your max_length is set to 100, but your input_length is only 72. Since this is a summarization task, where outputs shorter than the input are typically wanted, you might consider decreasing max_length manually, e.g. summarizer('...', max_length=36)\n"
          ]
        },
        {
          "output_type": "stream",
          "name": "stdout",
          "text": [
            "Results for keyword: Floor plan of Navajo language\n",
            "\n"
          ]
        },
        {
          "output_type": "stream",
          "name": "stderr",
          "text": [
            "Your max_length is set to 100, but your input_length is only 89. Since this is a summarization task, where outputs shorter than the input are typically wanted, you might consider decreasing max_length manually, e.g. summarizer('...', max_length=44)\n"
          ]
        },
        {
          "output_type": "stream",
          "name": "stdout",
          "text": [
            "Result 1: business\n",
            "Summary:  Your ferret left his business all over the <span class=\"searchmatch\">floor</span>. The act of defecation, or the excrement itself, is particularly that of a non-human animal .\n",
            "URL: https://tinyurl.com/2bc4bah9\n",
            "--------------------------------------------------\n",
            "Result 2: war\n",
            "Summary:  An elevated area on the <span class=\"searchmatch\">floor <span> is an elevated area of water, a kind of contraption for luring and catching fish . Lifehacks. lifehacks .\n",
            "URL: https://tinyurl.com/2dltr6aw\n",
            "--------------------------------------------------\n"
          ]
        }
      ]
    },
    {
      "cell_type": "code",
      "source": [],
      "metadata": {
        "id": "PRwu-E_MBPHV"
      },
      "execution_count": null,
      "outputs": []
    }
  ]
}