{
  "nbformat": 4,
  "nbformat_minor": 0,
  "metadata": {
    "colab": {
      "provenance": [],
      "authorship_tag": "ABX9TyMnMCpPfm9AdI/6uezF1S98",
      "include_colab_link": true
    },
    "kernelspec": {
      "name": "python3",
      "display_name": "Python 3"
    },
    "language_info": {
      "name": "python"
    }
  },
  "cells": [
    {
      "cell_type": "markdown",
      "metadata": {
        "id": "view-in-github",
        "colab_type": "text"
      },
      "source": [
        "<a href=\"https://colab.research.google.com/github/OJB-Quantum/Effective-Google-Search-Tips/blob/main/Requests_from_API.ipynb\" target=\"_parent\"><img src=\"https://colab.research.google.com/assets/colab-badge.svg\" alt=\"Open In Colab\"/></a>"
      ]
    },
    {
      "cell_type": "code",
      "execution_count": 1,
      "metadata": {
        "colab": {
          "base_uri": "https://localhost:8080/"
        },
        "id": "aFVp1C0AaeN4",
        "outputId": "76db406d-10f5-448e-eb03-6f7b5643c3e0"
      },
      "outputs": [
        {
          "output_type": "stream",
          "name": "stdout",
          "text": [
            "Looking in indexes: https://pypi.org/simple, https://us-python.pkg.dev/colab-wheels/public/simple/\n",
            "Requirement already satisfied: requests in /usr/local/lib/python3.10/dist-packages (2.27.1)\n",
            "Requirement already satisfied: urllib3<1.27,>=1.21.1 in /usr/local/lib/python3.10/dist-packages (from requests) (1.26.15)\n",
            "Requirement already satisfied: certifi>=2017.4.17 in /usr/local/lib/python3.10/dist-packages (from requests) (2022.12.7)\n",
            "Requirement already satisfied: charset-normalizer~=2.0.0 in /usr/local/lib/python3.10/dist-packages (from requests) (2.0.12)\n",
            "Requirement already satisfied: idna<4,>=2.5 in /usr/local/lib/python3.10/dist-packages (from requests) (3.4)\n"
          ]
        }
      ],
      "source": [
        "# Install a pip package in the current Jupyter kernel\n",
        "import sys\n",
        "!{sys.executable} -m pip install requests"
      ]
    },
    {
      "cell_type": "code",
      "source": [
        "pip install wikipedia-api"
      ],
      "metadata": {
        "colab": {
          "base_uri": "https://localhost:8080/"
        },
        "id": "6czOFvbxgmtG",
        "outputId": "53cfa4fa-75d9-4f0d-eac9-6c304396a9bd"
      },
      "execution_count": 5,
      "outputs": [
        {
          "output_type": "stream",
          "name": "stdout",
          "text": [
            "Looking in indexes: https://pypi.org/simple, https://us-python.pkg.dev/colab-wheels/public/simple/\n",
            "Requirement already satisfied: wikipedia-api in /usr/local/lib/python3.10/dist-packages (0.5.8)\n",
            "Requirement already satisfied: requests in /usr/local/lib/python3.10/dist-packages (from wikipedia-api) (2.27.1)\n",
            "Requirement already satisfied: urllib3<1.27,>=1.21.1 in /usr/local/lib/python3.10/dist-packages (from requests->wikipedia-api) (1.26.15)\n",
            "Requirement already satisfied: certifi>=2017.4.17 in /usr/local/lib/python3.10/dist-packages (from requests->wikipedia-api) (2022.12.7)\n",
            "Requirement already satisfied: charset-normalizer~=2.0.0 in /usr/local/lib/python3.10/dist-packages (from requests->wikipedia-api) (2.0.12)\n",
            "Requirement already satisfied: idna<4,>=2.5 in /usr/local/lib/python3.10/dist-packages (from requests->wikipedia-api) (3.4)\n"
          ]
        }
      ]
    },
    {
      "cell_type": "code",
      "source": [
        "pip install transformers"
      ],
      "metadata": {
        "id": "FgpL0rKGnyIn",
        "outputId": "18160501-c72f-4f9a-c7bd-a6986e274be7",
        "colab": {
          "base_uri": "https://localhost:8080/"
        }
      },
      "execution_count": 6,
      "outputs": [
        {
          "output_type": "stream",
          "name": "stdout",
          "text": [
            "Looking in indexes: https://pypi.org/simple, https://us-python.pkg.dev/colab-wheels/public/simple/\n",
            "Collecting transformers\n",
            "  Downloading transformers-4.30.1-py3-none-any.whl (7.2 MB)\n",
            "\u001b[2K     \u001b[90m━━━━━━━━━━━━━━━━━━━━━━━━━━━━━━━━━━━━━━━━\u001b[0m \u001b[32m7.2/7.2 MB\u001b[0m \u001b[31m69.3 MB/s\u001b[0m eta \u001b[36m0:00:00\u001b[0m\n",
            "\u001b[?25hRequirement already satisfied: filelock in /usr/local/lib/python3.10/dist-packages (from transformers) (3.12.0)\n",
            "Collecting huggingface-hub<1.0,>=0.14.1 (from transformers)\n",
            "  Downloading huggingface_hub-0.15.1-py3-none-any.whl (236 kB)\n",
            "\u001b[2K     \u001b[90m━━━━━━━━━━━━━━━━━━━━━━━━━━━━━━━━━━━━━━\u001b[0m \u001b[32m236.8/236.8 kB\u001b[0m \u001b[31m25.1 MB/s\u001b[0m eta \u001b[36m0:00:00\u001b[0m\n",
            "\u001b[?25hRequirement already satisfied: numpy>=1.17 in /usr/local/lib/python3.10/dist-packages (from transformers) (1.22.4)\n",
            "Requirement already satisfied: packaging>=20.0 in /usr/local/lib/python3.10/dist-packages (from transformers) (23.1)\n",
            "Requirement already satisfied: pyyaml>=5.1 in /usr/local/lib/python3.10/dist-packages (from transformers) (6.0)\n",
            "Requirement already satisfied: regex!=2019.12.17 in /usr/local/lib/python3.10/dist-packages (from transformers) (2022.10.31)\n",
            "Requirement already satisfied: requests in /usr/local/lib/python3.10/dist-packages (from transformers) (2.27.1)\n",
            "Collecting tokenizers!=0.11.3,<0.14,>=0.11.1 (from transformers)\n",
            "  Downloading tokenizers-0.13.3-cp310-cp310-manylinux_2_17_x86_64.manylinux2014_x86_64.whl (7.8 MB)\n",
            "\u001b[2K     \u001b[90m━━━━━━━━━━━━━━━━━━━━━━━━━━━━━━━━━━━━━━━━\u001b[0m \u001b[32m7.8/7.8 MB\u001b[0m \u001b[31m111.7 MB/s\u001b[0m eta \u001b[36m0:00:00\u001b[0m\n",
            "\u001b[?25hCollecting safetensors>=0.3.1 (from transformers)\n",
            "  Downloading safetensors-0.3.1-cp310-cp310-manylinux_2_17_x86_64.manylinux2014_x86_64.whl (1.3 MB)\n",
            "\u001b[2K     \u001b[90m━━━━━━━━━━━━━━━━━━━━━━━━━━━━━━━━━━━━━━━━\u001b[0m \u001b[32m1.3/1.3 MB\u001b[0m \u001b[31m94.4 MB/s\u001b[0m eta \u001b[36m0:00:00\u001b[0m\n",
            "\u001b[?25hRequirement already satisfied: tqdm>=4.27 in /usr/local/lib/python3.10/dist-packages (from transformers) (4.65.0)\n",
            "Requirement already satisfied: fsspec in /usr/local/lib/python3.10/dist-packages (from huggingface-hub<1.0,>=0.14.1->transformers) (2023.4.0)\n",
            "Requirement already satisfied: typing-extensions>=3.7.4.3 in /usr/local/lib/python3.10/dist-packages (from huggingface-hub<1.0,>=0.14.1->transformers) (4.5.0)\n",
            "Requirement already satisfied: urllib3<1.27,>=1.21.1 in /usr/local/lib/python3.10/dist-packages (from requests->transformers) (1.26.15)\n",
            "Requirement already satisfied: certifi>=2017.4.17 in /usr/local/lib/python3.10/dist-packages (from requests->transformers) (2022.12.7)\n",
            "Requirement already satisfied: charset-normalizer~=2.0.0 in /usr/local/lib/python3.10/dist-packages (from requests->transformers) (2.0.12)\n",
            "Requirement already satisfied: idna<4,>=2.5 in /usr/local/lib/python3.10/dist-packages (from requests->transformers) (3.4)\n",
            "Installing collected packages: tokenizers, safetensors, huggingface-hub, transformers\n",
            "Successfully installed huggingface-hub-0.15.1 safetensors-0.3.1 tokenizers-0.13.3 transformers-4.30.1\n"
          ]
        }
      ]
    },
    {
      "cell_type": "code",
      "source": [
        "pip install pyshorteners"
      ],
      "metadata": {
        "id": "TlbJL2fIq4ON",
        "outputId": "35144258-2699-4d0f-c8cc-9b9fa8967a82",
        "colab": {
          "base_uri": "https://localhost:8080/"
        }
      },
      "execution_count": 10,
      "outputs": [
        {
          "output_type": "stream",
          "name": "stdout",
          "text": [
            "Looking in indexes: https://pypi.org/simple, https://us-python.pkg.dev/colab-wheels/public/simple/\n",
            "Collecting pyshorteners\n",
            "  Downloading pyshorteners-1.0.1.tar.gz (10.0 kB)\n",
            "  Preparing metadata (setup.py) ... \u001b[?25l\u001b[?25hdone\n",
            "Requirement already satisfied: requests in /usr/local/lib/python3.10/dist-packages (from pyshorteners) (2.27.1)\n",
            "Requirement already satisfied: urllib3<1.27,>=1.21.1 in /usr/local/lib/python3.10/dist-packages (from requests->pyshorteners) (1.26.15)\n",
            "Requirement already satisfied: certifi>=2017.4.17 in /usr/local/lib/python3.10/dist-packages (from requests->pyshorteners) (2022.12.7)\n",
            "Requirement already satisfied: charset-normalizer~=2.0.0 in /usr/local/lib/python3.10/dist-packages (from requests->pyshorteners) (2.0.12)\n",
            "Requirement already satisfied: idna<4,>=2.5 in /usr/local/lib/python3.10/dist-packages (from requests->pyshorteners) (3.4)\n",
            "Building wheels for collected packages: pyshorteners\n",
            "  Building wheel for pyshorteners (setup.py) ... \u001b[?25l\u001b[?25hdone\n",
            "  Created wheel for pyshorteners: filename=pyshorteners-1.0.1-py3-none-any.whl size=17479 sha256=f2700bdaaf8d6cdb31977d55aa960464f00b58c6e30e682dcfe12e0b629aea51\n",
            "  Stored in directory: /root/.cache/pip/wheels/d5/ff/b3/16d8906f92ab0b042f76a4696fcea11d291d79a2b3a3de1e78\n",
            "Successfully built pyshorteners\n",
            "Installing collected packages: pyshorteners\n",
            "Successfully installed pyshorteners-1.0.1\n"
          ]
        }
      ]
    },
    {
      "cell_type": "code",
      "source": [
        "# Wikipedia version with snippets and no summary\n",
        "import requests\n",
        "\n",
        "keywords = [\n",
        "    \"importance of X\",\n",
        "    \"ideal behavior of X\",\n",
        "    \"ideal vs. realistic behavior of X\",\n",
        "    \"significance of X\",\n",
        "    \"applications of X\",\n",
        "    \"physical significance of X\",\n",
        "    \"geometry for the measurement of X\",\n",
        "    \"typical characteristics of X\",\n",
        "    \"with and without X\",\n",
        "    \"what does X represent?\",\n",
        "    \"what is the concept of X?\",\n",
        "    \"taxonomy of X\",\n",
        "    \"table of X\",\n",
        "    \"X table\",\n",
        "    \"difference between X\",\n",
        "    \"the analog of X\",\n",
        "    \"physical meaning of X\",\n",
        "    \"X symbolism\",\n",
        "    \"symbolism of X\",\n",
        "    \"iconographic meaning of X\",\n",
        "    \"why is X important?\",\n",
        "    \"generic model of a X\",\n",
        "    \"generic model representation of X\",\n",
        "    \"schematic representation of X\",\n",
        "    \"Linear model of X\",\n",
        "    \"X is related to?\",\n",
        "    \"Floor plan of X\"\n",
        "]\n",
        "\n",
        "base_url = \"https://en.wikipedia.org/w/api.php\"\n",
        "params = {\n",
        "    \"action\": \"query\",\n",
        "    \"format\": \"json\",\n",
        "    \"list\": \"search\",\n",
        "    \"srsearch\": \"\",\n",
        "    \"srprop\": \"snippet\"\n",
        "}\n",
        "\n",
        "entry = input(\"Enter your X entry: \")\n",
        "\n",
        "for keyword in keywords:\n",
        "    keyword_with_entry = keyword.replace(\"X\", entry)\n",
        "    params[\"srsearch\"] = keyword_with_entry\n",
        "    response = requests.get(base_url, params=params).json()\n",
        "    results = response[\"query\"][\"search\"]\n",
        "    if len(results) > 0:\n",
        "        print(f\"Results for keyword: {keyword_with_entry}\\n\")\n",
        "        for result in results:\n",
        "            print(f\"Title: {result['title']}\")\n",
        "            print(f\"Snippet: {result['snippet']}\")\n",
        "            print(\"--------------------------------------------------\")\n",
        "    else:\n",
        "        print(f\"No results found for keyword: {keyword_with_entry}\\n\")\n"
      ],
      "metadata": {
        "colab": {
          "base_uri": "https://localhost:8080/"
        },
        "id": "C3tBtRlJbf8n",
        "outputId": "380ac31a-f4a8-4156-e373-0d251a181167"
      },
      "execution_count": null,
      "outputs": [
        {
          "output_type": "stream",
          "name": "stdout",
          "text": [
            "Enter your X entry: Navajo language\n",
            "Results for keyword: importance of Navajo language\n",
            "\n",
            "Title: Navajo\n",
            "Snippet: square km) <span class=\"searchmatch\">of</span> land in Arizona, Utah, and New Mexico. The <span class=\"searchmatch\">Navajo</span> Reservation is slightly larger than the state <span class=\"searchmatch\">of</span> West Virginia. The <span class=\"searchmatch\">Navajo</span> <span class=\"searchmatch\">language</span> is spoken\n",
            "--------------------------------------------------\n",
            "Title: Miss Navajo\n",
            "Snippet: <span class=\"searchmatch\">importance</span> <span class=\"searchmatch\">of</span> <span class=\"searchmatch\">Navajo</span> women with respect and honor.&quot; Office <span class=\"searchmatch\">of</span> Miss <span class=\"searchmatch\">Navajo</span> Nation Miss <span class=\"searchmatch\">Navajo</span> Council, Inc official site Miss <span class=\"searchmatch\">Navajo</span> film MISS <span class=\"searchmatch\">NAVAJO</span> site\n",
            "--------------------------------------------------\n",
            "Title: Navajo Livestock Reduction\n",
            "Snippet: The <span class=\"searchmatch\">Navajo</span> Livestock Reduction was imposed by the United States government upon the <span class=\"searchmatch\">Navajo</span> Nation in the 1930s, during the Great Depression. The reduction\n",
            "--------------------------------------------------\n",
            "Title: Uranium mining and the Navajo people\n",
            "Snippet:  the risks <span class=\"searchmatch\">of</span> lung cancer due to uranium mining were unknown to the workers, and the lack <span class=\"searchmatch\">of</span> a word for radiation in the <span class=\"searchmatch\">Navajo</span> <span class=\"searchmatch\">language</span> left the miners\n",
            "--------------------------------------------------\n",
            "Title: Sharon Burch\n",
            "Snippet: traditional <span class=\"searchmatch\">Navajo</span> ways and living. Many <span class=\"searchmatch\">of</span> her songs are in <span class=\"searchmatch\">Navajo</span> <span class=\"searchmatch\">language</span> and capture the sacredness <span class=\"searchmatch\">of</span> Mother Earth, Father Sun and the <span class=\"searchmatch\">importance</span> <span class=\"searchmatch\">of</span> family\n",
            "--------------------------------------------------\n",
            "Title: Navajo song ceremonial complex\n",
            "Snippet: The <span class=\"searchmatch\">Navajo</span> song ceremonial complex is a spiritual practice used by certain <span class=\"searchmatch\">Navajo</span> ceremonial people to restore and maintain balance and harmony in the\n",
            "--------------------------------------------------\n",
            "Title: Indigenous education\n",
            "Snippet: Quantitatively, Lee examined <span class=\"searchmatch\">language</span> levels, <span class=\"searchmatch\">language</span> usage, and lifespan experiences <span class=\"searchmatch\">of</span> <span class=\"searchmatch\">Navajo</span> students. Qualitatively, Lee interviewed <span class=\"searchmatch\">Navajo</span> students to learn\n",
            "--------------------------------------------------\n",
            "Title: Navajo trading posts\n",
            "Snippet: <span class=\"searchmatch\">Navajo</span> trading posts flourished on the <span class=\"searchmatch\">Navajo</span> Indian Reservation in Arizona, New Mexico, and Utah from 1868 until about 1970. Trading posts, usually owned\n",
            "--------------------------------------------------\n",
            "Title: Navajo Dam\n",
            "Snippet: <span class=\"searchmatch\">Navajo</span> Dam is a dam on the San Juan River, a tributary <span class=\"searchmatch\">of</span> the Colorado River, in northwestern New Mexico in the United States. The 402-foot (123 m) high\n",
            "--------------------------------------------------\n",
            "Title: American Sign Language\n",
            "Snippet: Sign <span class=\"searchmatch\">Language</span> (ASL) is a natural <span class=\"searchmatch\">language</span> that serves as the predominant sign <span class=\"searchmatch\">language</span> <span class=\"searchmatch\">of</span> Deaf communities in the United States <span class=\"searchmatch\">of</span> America and most <span class=\"searchmatch\">of</span> Anglophone\n",
            "--------------------------------------------------\n",
            "Results for keyword: ideal behavior of Navajo language\n",
            "\n",
            "Title: Navajo medicine\n",
            "Snippet: <span class=\"searchmatch\">Navajo</span> medicine covers a range <span class=\"searchmatch\">of</span> traditional healing practices <span class=\"searchmatch\">of</span> the Indigenous American <span class=\"searchmatch\">Navajo</span> people. It dates back thousands <span class=\"searchmatch\">of</span> years as many Navajo\n",
            "--------------------------------------------------\n",
            "Title: Apache\n",
            "Snippet: Coyotero, Tonto). Distant cousins <span class=\"searchmatch\">of</span> the Apache are the <span class=\"searchmatch\">Navajo</span>, with whom they share the Southern Athabaskan <span class=\"searchmatch\">languages</span>. There are Apache communities in\n",
            "--------------------------------------------------\n",
            "Title: Rodent\n",
            "Snippet: but also muskrats, porcupines, and groundhogs are eaten by humans. The <span class=\"searchmatch\">Navajo</span> people ate prairie dog baked in mud, while the Paiute ate gophers, squirrels\n",
            "--------------------------------------------------\n",
            "Title: Indigenous education\n",
            "Snippet: Quantitatively, Lee examined <span class=\"searchmatch\">language</span> levels, <span class=\"searchmatch\">language</span> usage, and lifespan experiences <span class=\"searchmatch\">of</span> <span class=\"searchmatch\">Navajo</span> students. Qualitatively, Lee interviewed <span class=\"searchmatch\">Navajo</span> students to learn\n",
            "--------------------------------------------------\n",
            "Title: Lesbian\n",
            "Snippet: used for women in relation to their sexual identity or sexual <span class=\"searchmatch\">behavior</span>, regardless <span class=\"searchmatch\">of</span> sexual orientation, or as an adjective to characterize or associate\n",
            "--------------------------------------------------\n",
            "Title: Witchcraft\n",
            "Snippet: are believed to take the forms <span class=\"searchmatch\">of</span> animals in order to travel in secret and do harm to the innocent. In the <span class=\"searchmatch\">Navajo</span> <span class=\"searchmatch\">language</span>, yee naaldlooshii translates\n",
            "--------------------------------------------------\n",
            "Title: American black bear\n",
            "Snippet: <span class=\"searchmatch\">of</span> the Horse on <span class=\"searchmatch\">Navajo</span> &amp; Apache Folklore, University Press <span class=\"searchmatch\">of</span> Colorado, ISBN 0-87081-496-6 National Park Service. (2020, September 10). The story <span class=\"searchmatch\">of</span> Sleeping\n",
            "--------------------------------------------------\n",
            "Title: Sociology of gender\n",
            "Snippet: <span class=\"searchmatch\">of</span> a third gender has existed. In Native American culture, the two spirit had gender roles different from men and women. More specifically, in <span class=\"searchmatch\">Navajo</span>\n",
            "--------------------------------------------------\n",
            "Title: Time zone\n",
            "Snippet: four <span class=\"searchmatch\">ideal</span> time zones having north–south borders, the first centered on Washington, D.C., but by 1872 the first was centered on meridian 75° west <span class=\"searchmatch\">of</span> Greenwich\n",
            "--------------------------------------------------\n",
            "Title: Cultural assimilation of Native Americans\n",
            "Snippet: University <span class=\"searchmatch\">of</span> Illinois Press. pp. 113–15. ISBN 9780252012853. Peter Iverson, Diné: A History <span class=\"searchmatch\">of</span> the <span class=\"searchmatch\">Navajos</span> (2002) p 144 Donald A. Grinde Jr, &quot;<span class=\"searchmatch\">Navajo</span> Opposition\n",
            "--------------------------------------------------\n",
            "Results for keyword: ideal vs. realistic behavior of Navajo language\n",
            "\n",
            "Title: Cultural assimilation of Native Americans\n",
            "Snippet: University <span class=\"searchmatch\">of</span> Illinois Press. pp. 113–15. ISBN 9780252012853. Peter Iverson, Diné: A History <span class=\"searchmatch\">of</span> the <span class=\"searchmatch\">Navajos</span> (2002) p 144 Donald A. Grinde Jr, &quot;<span class=\"searchmatch\">Navajo</span> Opposition\n",
            "--------------------------------------------------\n",
            "Title: Sorcerer (film)\n",
            "Snippet: the desired effect. One <span class=\"searchmatch\">of</span> the most notable ones is depicted in the film's climax. It features a surrealistic landscape on <span class=\"searchmatch\">Navajo</span> Nation lands in the Bisti/De-Na-Zin\n",
            "--------------------------------------------------\n",
            "Title: American frontier\n",
            "Snippet: War <span class=\"searchmatch\">of</span> 1862 (Minnesota Historical Society, 2nd ed. 2001) Stan Hoig, The Sand Creek Massacre (1974) Richard C. Hopkins, &quot;Kit Carson and the <span class=\"searchmatch\">Navajo</span> Expedition&quot;\n",
            "--------------------------------------------------\n",
            "Title: List of Metal Gear characters\n",
            "Snippet: PlayStation 2, the staff gave the characters a more <span class=\"searchmatch\">realistic</span> look starting with Metal Gear Solid 2: Sons <span class=\"searchmatch\">of</span> Liberty although they initially had doubts about\n",
            "--------------------------------------------------\n",
            "Results for keyword: significance of Navajo language\n",
            "\n",
            "Title: Navajo phonology\n",
            "Snippet: sound system <span class=\"searchmatch\">of</span> the <span class=\"searchmatch\">Navajo</span> <span class=\"searchmatch\">language</span>. The phonology <span class=\"searchmatch\">of</span> <span class=\"searchmatch\">Navajo</span> is intimately connected to its morphology. For example, the entire range <span class=\"searchmatch\">of</span> contrastive consonants\n",
            "--------------------------------------------------\n",
            "Title: Navajo Mountain\n",
            "Snippet: place in the traditions <span class=\"searchmatch\">of</span> three local Native American tribes. The summit is the highest point on the <span class=\"searchmatch\">Navajo</span> Nation. <span class=\"searchmatch\">Navajo</span> Mountain is a prominent free-standing\n",
            "--------------------------------------------------\n",
            "Title: Hogan\n",
            "Snippet: hogan (/ˈhoʊɡɑːn/ or /ˈhoʊɡən/; from <span class=\"searchmatch\">Navajo</span> hooghan [hoːɣan]) is the primary, traditional dwelling <span class=\"searchmatch\">of</span> the <span class=\"searchmatch\">Navajo</span> people. Other traditional structures\n",
            "--------------------------------------------------\n",
            "Title: Dinétah\n",
            "Snippet: homeland <span class=\"searchmatch\">of</span> the <span class=\"searchmatch\">Navajo</span> tribe <span class=\"searchmatch\">of</span> Native Americans. In the <span class=\"searchmatch\">Navajo</span> <span class=\"searchmatch\">language</span>, the word &quot;Dinétah&quot; means &quot;among the people&quot; or &quot;among the <span class=\"searchmatch\">Navajo</span>&quot; (diné is\n",
            "--------------------------------------------------\n",
            "Title: Shiprock\n",
            "Snippet: (<span class=\"searchmatch\">Navajo</span>: Tsé Bitʼaʼí, &quot;rock with wings&quot; or &quot;winged rock&quot;) is a monadnock rising nearly 1,583 feet (482.5 m) above the high-desert plain <span class=\"searchmatch\">of</span> the <span class=\"searchmatch\">Navajo</span> Nation\n",
            "--------------------------------------------------\n",
            "Title: Bannock (Indigenous American)\n",
            "Snippet: staple to tribes in North America. Other <span class=\"searchmatch\">languages</span> do offer hints <span class=\"searchmatch\">of</span> European influence, however, for example <span class=\"searchmatch\">Navajo</span>: bááh dah díníilghaazhh &quot;bread that bubbles&quot;\n",
            "--------------------------------------------------\n",
            "Title: Uranium mining and the Navajo people\n",
            "Snippet: language left the miners unaware <span class=\"searchmatch\">of</span> the associated health hazards. The cultural <span class=\"searchmatch\">significance</span> <span class=\"searchmatch\">of</span> water for the <span class=\"searchmatch\">Navajo</span> people and the environmental damage\n",
            "--------------------------------------------------\n",
            "Title: Robert W. Young\n",
            "Snippet: professor emeritus <span class=\"searchmatch\">of</span> linguistics at the University <span class=\"searchmatch\">of</span> New Mexico, was an American linguist known for his work on the <span class=\"searchmatch\">Navajo</span> <span class=\"searchmatch\">language</span>. From the late 1930s\n",
            "--------------------------------------------------\n",
            "Title: Navajo medicine\n",
            "Snippet: spiritual <span class=\"searchmatch\">significance</span> has allowed the <span class=\"searchmatch\">Navajo</span> healing practices and Western medical procedure to coexist as the former is set apart as a way <span class=\"searchmatch\">of</span> age-long\n",
            "--------------------------------------------------\n",
            "Title: Gladys Reichard\n",
            "Snippet: her studies <span class=\"searchmatch\">of</span> three different Native American <span class=\"searchmatch\">languages</span>: Wiyot, Coeur d'Alene and <span class=\"searchmatch\">Navajo</span>. Reichard was concerned with understanding <span class=\"searchmatch\">language</span> variation\n",
            "--------------------------------------------------\n",
            "Results for keyword: applications of Navajo language\n",
            "\n",
            "Title: Navajo Nation\n",
            "Snippet: 18694; -109.57361 The <span class=\"searchmatch\">Navajo</span> Nation (<span class=\"searchmatch\">Navajo</span>: Naabeehó Diné Biyaad), also known as Navajoland, is a Native American reservation <span class=\"searchmatch\">of</span> <span class=\"searchmatch\">Navajos</span> in the United States\n",
            "--------------------------------------------------\n",
            "Title: Navajo Nation Council\n",
            "Snippet: The <span class=\"searchmatch\">Navajo</span> Nation Council (<span class=\"searchmatch\">Navajo</span>: Béésh bąąh dah siʼání) is the Legislative Branch <span class=\"searchmatch\">of</span> the <span class=\"searchmatch\">Navajo</span> Nation government. The council meets four times per\n",
            "--------------------------------------------------\n",
            "Title: Google Translate\n",
            "Snippet: extensions and software <span class=\"searchmatch\">applications</span>. As <span class=\"searchmatch\">of</span> June 2023, Google Translate supports 133 <span class=\"searchmatch\">languages</span> at various levels, and as <span class=\"searchmatch\">of</span> April 2016[update], claimed\n",
            "--------------------------------------------------\n",
            "Title: Hogan\n",
            "Snippet: hogan (/ˈhoʊɡɑːn/ or /ˈhoʊɡən/; from <span class=\"searchmatch\">Navajo</span> hooghan [hoːɣan]) is the primary, traditional dwelling <span class=\"searchmatch\">of</span> the <span class=\"searchmatch\">Navajo</span> people. Other traditional structures\n",
            "--------------------------------------------------\n",
            "Title: Ben Shelly\n",
            "Snippet: the 7th president <span class=\"searchmatch\">of</span> the <span class=\"searchmatch\">Navajo</span> Nation. He was the first president to have been elected both president and vice president <span class=\"searchmatch\">of</span> the <span class=\"searchmatch\">Navajo</span> Nation, as well\n",
            "--------------------------------------------------\n",
            "Title: Uranium mining and the Navajo people\n",
            "Snippet:  the risks <span class=\"searchmatch\">of</span> lung cancer due to uranium mining were unknown to the workers, and the lack <span class=\"searchmatch\">of</span> a word for radiation in the <span class=\"searchmatch\">Navajo</span> <span class=\"searchmatch\">language</span> left the miners\n",
            "--------------------------------------------------\n",
            "Title: Welsh language\n",
            "Snippet: (Cymraeg [kəmˈraːiɡ] (listen) or y Gymraeg [ə ɡəmˈraːiɡ]) is a Celtic <span class=\"searchmatch\">language</span> <span class=\"searchmatch\">of</span> the Brittonic subgroup that is native to the Welsh people. Welsh is spoken\n",
            "--------------------------------------------------\n",
            "Title: Animacy\n",
            "Snippet: Athabaskan <span class=\"searchmatch\">languages</span> (such as Western Apache and <span class=\"searchmatch\">Navajo</span>) whose animacy hierarchy has been the subject <span class=\"searchmatch\">of</span> intense study. The Tamil <span class=\"searchmatch\">language</span> has a noun\n",
            "--------------------------------------------------\n",
            "Title: American Sign Language\n",
            "Snippet: Sign <span class=\"searchmatch\">Language</span> (ASL) is a natural <span class=\"searchmatch\">language</span> that serves as the predominant sign <span class=\"searchmatch\">language</span> <span class=\"searchmatch\">of</span> Deaf communities in the United States <span class=\"searchmatch\">of</span> America and most <span class=\"searchmatch\">of</span> Anglophone\n",
            "--------------------------------------------------\n",
            "Title: Duolingo\n",
            "Snippet: and provides <span class=\"searchmatch\">language</span> certification. The platform was founded in 2011 by Luis von Ahn and Severin Hacker and has since grown to become one <span class=\"searchmatch\">of</span> the most popular\n",
            "--------------------------------------------------\n",
            "Results for keyword: physical significance of Navajo language\n",
            "\n",
            "Title: Navajo Mountain\n",
            "Snippet: place in the traditions <span class=\"searchmatch\">of</span> three local Native American tribes. The summit is the highest point on the <span class=\"searchmatch\">Navajo</span> Nation. <span class=\"searchmatch\">Navajo</span> Mountain is a prominent free-standing\n",
            "--------------------------------------------------\n",
            "Title: Shiprock\n",
            "Snippet: (<span class=\"searchmatch\">Navajo</span>: Tsé Bitʼaʼí, &quot;rock with wings&quot; or &quot;winged rock&quot;) is a monadnock rising nearly 1,583 feet (482.5 m) above the high-desert plain <span class=\"searchmatch\">of</span> the <span class=\"searchmatch\">Navajo</span> Nation\n",
            "--------------------------------------------------\n",
            "Title: Navajo medicine\n",
            "Snippet: spiritual <span class=\"searchmatch\">significance</span> has allowed the <span class=\"searchmatch\">Navajo</span> healing practices and Western medical procedure to coexist as the former is set apart as a way <span class=\"searchmatch\">of</span> age-long\n",
            "--------------------------------------------------\n",
            "Title: Languages of Canada\n",
            "Snippet: hosted several <span class=\"searchmatch\">languages</span> under its umbrella. One is potentially <span class=\"searchmatch\">Navajo</span> Sign <span class=\"searchmatch\">Language</span> which is in use by a sole <span class=\"searchmatch\">Navajo</span> clan. Born out <span class=\"searchmatch\">of</span> the Oneida Nation\n",
            "--------------------------------------------------\n",
            "Title: Western Apache language\n",
            "Snippet: Western Apache is most closely related to other Southern Athabaskan <span class=\"searchmatch\">languages</span> like <span class=\"searchmatch\">Navajo</span>, Chiricahua Apache, Mescalero Apache, Lipan Apache, Plains Apache\n",
            "--------------------------------------------------\n",
            "Title: Peyote\n",
            "Snippet: did not mention the use <span class=\"searchmatch\">of</span> peyote before its introduction by the neighboring Utes. The <span class=\"searchmatch\">Navajo</span> Nation now has the most members <span class=\"searchmatch\">of</span> the Native American Church\n",
            "--------------------------------------------------\n",
            "Title: Sweat lodge\n",
            "Snippet: Moons' Camp, Rosebud Creek, Montana; October 5, 1980. Inter-tribal council <span class=\"searchmatch\">of</span> <span class=\"searchmatch\">Navajo</span>, Hopi, Muskogee, Chippewa-Cree, Northern Cheyenne, Haudenosaunee and Lakota\n",
            "--------------------------------------------------\n",
            "Title: Swastika\n",
            "Snippet: pērkonkrusts ('cross <span class=\"searchmatch\">of</span> thunder', 'thunder cross'), cross <span class=\"searchmatch\">of</span> Perun or <span class=\"searchmatch\">of</span> Perkūnas), cross <span class=\"searchmatch\">of</span> branches, cross <span class=\"searchmatch\">of</span> Laima) whirling logs (<span class=\"searchmatch\">Navajo</span>): can denote abundance\n",
            "--------------------------------------------------\n",
            "Title: Colorado River\n",
            "Snippet: <span class=\"searchmatch\">Navajo</span> settled in the Colorado Basin after the 1000s. In the 1500s, Spanish explorers began mapping and claiming the watershed, which became part <span class=\"searchmatch\">of</span> Mexico\n",
            "--------------------------------------------------\n",
            "Title: A Radiant Curve\n",
            "Snippet: Luci Tapahonso's <span class=\"searchmatch\">Navajo</span> culture. These stories include memories <span class=\"searchmatch\">of</span> her family, generational teachings, and her perspective as a <span class=\"searchmatch\">Navajo</span> person living in\n",
            "--------------------------------------------------\n",
            "Results for keyword: geometry for the measurement of Navajo language\n",
            "\n",
            "Title: Mathematics education in the United States\n",
            "Snippet: learn counting, rudimentary arithmetic (both <span class=\"searchmatch\">of</span> integers and fractions), <span class=\"searchmatch\">the</span> number line, <span class=\"searchmatch\">geometry</span>, <span class=\"searchmatch\">measurements</span>, statistics and probability. Pre-algebra\n",
            "--------------------------------------------------\n",
            "Title: English plurals\n",
            "Snippet: However, often <span class=\"searchmatch\">the</span> abbreviation used <span class=\"searchmatch\">for</span> <span class=\"searchmatch\">the</span> singular is used also as <span class=\"searchmatch\">the</span> abbreviation <span class=\"searchmatch\">for</span> <span class=\"searchmatch\">the</span> plural; this is normal <span class=\"searchmatch\">for</span> most units <span class=\"searchmatch\">of</span> <span class=\"searchmatch\">measurement</span> and currency\n",
            "--------------------------------------------------\n",
            "Title: List of Coronet Films\n",
            "Snippet: addition to films, before making <span class=\"searchmatch\">the</span> transition to strictly videos around 1986. <span class=\"searchmatch\">For</span> space reasons, only a very select number <span class=\"searchmatch\">of</span> independently produced films\n",
            "--------------------------------------------------\n",
            "Title: List of Encyclopædia Britannica Films titles\n",
            "Snippet: Britannica's Tales Around <span class=\"searchmatch\">the</span> World. Works by or about List <span class=\"searchmatch\">of</span> Encyclopædia Britannica Films titles at Internet Archive Catalog <span class=\"searchmatch\">of</span> Copyright Entries: Third\n",
            "--------------------------------------------------\n",
            "Title: Pluto\n",
            "Snippet: is less close in <span class=\"searchmatch\">languages</span> whose phonology differs widely from Greek's, such as Somali Buluuto and <span class=\"searchmatch\">Navajo</span> Tłóotoo. <span class=\"searchmatch\">The</span> discovery <span class=\"searchmatch\">of</span> Charon in 1978 allowed\n",
            "--------------------------------------------------\n",
            "Title: Mazda Wankel engine\n",
            "Snippet: eccentricity, also 1/4 <span class=\"searchmatch\">the</span> difference between stator's major and minor axes). These metrics function similarly to <span class=\"searchmatch\">the</span> bore and stroke <span class=\"searchmatch\">measurements</span> <span class=\"searchmatch\">of</span> a piston engine\n",
            "--------------------------------------------------\n",
            "Title: Relationship between religion and science\n",
            "Snippet: proponents <span class=\"searchmatch\">of</span> his views. In <span class=\"searchmatch\">the</span> view <span class=\"searchmatch\">of</span> <span class=\"searchmatch\">the</span> Lubavitcher rabbi Menachem Mendel Schneerson, non-Euclidean <span class=\"searchmatch\">geometry</span> such as Lobachevsky's hyperbolic <span class=\"searchmatch\">geometry</span> and\n",
            "--------------------------------------------------\n",
            "Title: List of Guggenheim Fellowships awarded in 1999\n",
            "Snippet: Spruck, Professor <span class=\"searchmatch\">of</span> Mathematics, Johns Hopkins University: Nonlinear problems in <span class=\"searchmatch\">geometry</span>. Richard Stamelman, Professor <span class=\"searchmatch\">of</span> Romance <span class=\"searchmatch\">Languages</span> and Literatures\n",
            "--------------------------------------------------\n",
            "Title: Posidonia Shale\n",
            "Snippet: biomarkers <span class=\"searchmatch\">for</span> <span class=\"searchmatch\">the</span> lower Toarcian subperiod <span class=\"searchmatch\">of</span> <span class=\"searchmatch\">the</span> Lower Jurassic, based on foramifera and algae microfossils. Using Gamma-Ray <span class=\"searchmatch\">measurements</span> was found <span class=\"searchmatch\">the</span> deposition\n",
            "--------------------------------------------------\n",
            "Results for keyword: typical characteristics of Navajo language\n",
            "\n",
            "Title: Navajo phonology\n",
            "Snippet: sound system <span class=\"searchmatch\">of</span> the <span class=\"searchmatch\">Navajo</span> <span class=\"searchmatch\">language</span>. The phonology <span class=\"searchmatch\">of</span> <span class=\"searchmatch\">Navajo</span> is intimately connected to its morphology. For example, the entire range <span class=\"searchmatch\">of</span> contrastive consonants\n",
            "--------------------------------------------------\n",
            "Title: Monument Valley\n",
            "Snippet: Monument Valley (<span class=\"searchmatch\">Navajo</span>: Tsé Biiʼ Ndzisgaii, pronounced [tsʰépìːʔ ǹtsɪ̀skɑ̀ìː], meaning valley <span class=\"searchmatch\">of</span> the rocks) is a region <span class=\"searchmatch\">of</span> the Colorado Plateau characterized\n",
            "--------------------------------------------------\n",
            "Title: Navajo weaving\n",
            "Snippet: <span class=\"searchmatch\">Navajo</span> weaving (<span class=\"searchmatch\">Navajo</span>: diyogí) are textiles produced by <span class=\"searchmatch\">Navajo</span> people, who are based near the Four Corners area <span class=\"searchmatch\">of</span> the United States. <span class=\"searchmatch\">Navajo</span> textiles\n",
            "--------------------------------------------------\n",
            "Title: New Mexican Spanish\n",
            "Snippet: Journal <span class=\"searchmatch\">of</span> the Linguistic Association <span class=\"searchmatch\">of</span> the Southwest. 32 (2): 133-161. Young, Robert W.; Morgan, William, Sr. (1987). The <span class=\"searchmatch\">Navajo</span> <span class=\"searchmatch\">Language</span>: A grammar\n",
            "--------------------------------------------------\n",
            "Title: American Indian English\n",
            "Snippet: English are not always maintained in American Indian dialects <span class=\"searchmatch\">of</span> English. For example, <span class=\"searchmatch\">Navajo</span> English may have KIT–DRESS, KIT–FLEECE, or FACE–DRESS mergers\n",
            "--------------------------------------------------\n",
            "Title: Ojibwe language\n",
            "Snippet: grammatical <span class=\"searchmatch\">characteristics</span> <span class=\"searchmatch\">of</span> Ojibwe are shared across its dialects. The Ojibwe <span class=\"searchmatch\">language</span> is polysynthetic, exhibiting <span class=\"searchmatch\">characteristics</span> <span class=\"searchmatch\">of</span> synthesis and\n",
            "--------------------------------------------------\n",
            "Title: Tone (linguistics)\n",
            "Snippet: (including <span class=\"searchmatch\">Navajo</span>), and the Oto-Manguean <span class=\"searchmatch\">languages</span> <span class=\"searchmatch\">of</span> Mexico. Among the Mayan <span class=\"searchmatch\">languages</span>, which are mostly non-tonal, Yucatec (with the largest number <span class=\"searchmatch\">of</span> speakers)\n",
            "--------------------------------------------------\n",
            "Title: High-context and low-context cultures\n",
            "Snippet: few words or use <span class=\"searchmatch\">of</span> a prolonged silence <span class=\"searchmatch\">characteristic</span> <span class=\"searchmatch\">of</span> Texan English, whereas a New Yorker would be very explicit (as <span class=\"searchmatch\">typical</span> <span class=\"searchmatch\">of</span> New York City English)\n",
            "--------------------------------------------------\n",
            "Title: Plains Apache language\n",
            "Snippet: the most divergent member of the Southern Athabaskan <span class=\"searchmatch\">languages</span>, a family which also includes <span class=\"searchmatch\">Navajo</span>, Chiricahua Apache, Mescalero Apache, Lipan Apache,\n",
            "--------------------------------------------------\n",
            "Title: Agglutination\n",
            "Snippet: enough morphemes to convey the meaning <span class=\"searchmatch\">of</span> what would be a complex sentence in other <span class=\"searchmatch\">languages</span>. Conversely, <span class=\"searchmatch\">Navajo</span> contains affixes for some uses, but overlays\n",
            "--------------------------------------------------\n",
            "Results for keyword: with and without Navajo language\n",
            "\n",
            "Title: Navajo language\n",
            "Snippet: <span class=\"searchmatch\">Navajo</span> or Navaho (/ˈnævəhoʊ, ˈnɑː-/; <span class=\"searchmatch\">Navajo</span>: Diné bizaad [tìnépìz̥ɑ̀ːt] or Naabeehó bizaad [nɑ̀ːpèːhópìz̥ɑ̀ːt]) is a Southern Athabaskan <span class=\"searchmatch\">language</span> of the\n",
            "--------------------------------------------------\n",
            "Title: Navajo\n",
            "Snippet: Virginia. The <span class=\"searchmatch\">Navajo</span> <span class=\"searchmatch\">language</span> is spoken throughout the region, <span class=\"searchmatch\">and</span> most <span class=\"searchmatch\">Navajos</span> also speak English. The states <span class=\"searchmatch\">with</span> the largest <span class=\"searchmatch\">Navajo</span> populations are\n",
            "--------------------------------------------------\n",
            "Title: Code talker\n",
            "Snippet: formally developed based on the <span class=\"searchmatch\">languages</span> of the Comanche, Hopi, Meskwaki, <span class=\"searchmatch\">and</span> <span class=\"searchmatch\">Navajo</span> peoples. They used words from their <span class=\"searchmatch\">languages</span> for each letter of the English\n",
            "--------------------------------------------------\n",
            "Title: Navajo Nation\n",
            "Snippet: 18694; -109.57361 The <span class=\"searchmatch\">Navajo</span> Nation (<span class=\"searchmatch\">Navajo</span>: Naabeehó Diné Biyaad), also known as Navajoland, is a Native American reservation of <span class=\"searchmatch\">Navajos</span> in the United States\n",
            "--------------------------------------------------\n",
            "Title: Navajo grammar\n",
            "Snippet: <span class=\"searchmatch\">Navajo</span> is a &quot;verb-heavy&quot; <span class=\"searchmatch\">language</span> – it has a great preponderance of verbs but relatively few nouns. In addition to verbs <span class=\"searchmatch\">and</span> nouns, <span class=\"searchmatch\">Navajo</span> has other elements\n",
            "--------------------------------------------------\n",
            "Title: Long Walk of the Navajo\n",
            "Snippet: the <span class=\"searchmatch\">Navajo</span>, also called the Long Walk to Bosque Redondo (<span class=\"searchmatch\">Navajo</span>: Hwéeldi), was the 1864 deportation <span class=\"searchmatch\">and</span> attempted ethnic cleansing of the <span class=\"searchmatch\">Navajo</span> people\n",
            "--------------------------------------------------\n",
            "Title: Plains Indian Sign Language\n",
            "Snippet: who can speak the <span class=\"searchmatch\">Navajo</span> dialect of Plains Sign Talk. There is also an unrelated sign <span class=\"searchmatch\">language</span>, <span class=\"searchmatch\">Navajo</span> Family Sign, in a clan of <span class=\"searchmatch\">Navajos</span> that has several\n",
            "--------------------------------------------------\n",
            "Title: Hogan\n",
            "Snippet: hogan (/ˈhoʊɡɑːn/ or /ˈhoʊɡən/; from <span class=\"searchmatch\">Navajo</span> hooghan [hoːɣan]) is the primary, traditional dwelling of the <span class=\"searchmatch\">Navajo</span> people. Other traditional structures\n",
            "--------------------------------------------------\n",
            "Title: Native Americans and World War II\n",
            "Snippet: Johnston came up <span class=\"searchmatch\">with</span> the idea of using the <span class=\"searchmatch\">Navajo</span> <span class=\"searchmatch\">language</span> as military code. Johnston, a missionaries' son, grew up on a reservation <span class=\"searchmatch\">and</span> understood the\n",
            "--------------------------------------------------\n",
            "Title: Languages of the United States\n",
            "Snippet: thousand Khmer – 193 thousand <span class=\"searchmatch\">Navajo</span> – 155 thousand other Indo-European <span class=\"searchmatch\">languages</span> – 662 thousand Yoruba, Twi, Igbo <span class=\"searchmatch\">and</span> other <span class=\"searchmatch\">languages</span> of West Africa – 640 thousand\n",
            "--------------------------------------------------\n",
            "Results for keyword: what does Navajo language represent?\n",
            "\n",
            "Title: Navajo\n",
            "Snippet: The <span class=\"searchmatch\">Navajo</span> Reservation is slightly larger than the state of West Virginia. The <span class=\"searchmatch\">Navajo</span> <span class=\"searchmatch\">language</span> is spoken throughout the region, and most <span class=\"searchmatch\">Navajos</span> also\n",
            "--------------------------------------------------\n",
            "Title: Skin-walker\n",
            "Snippet: themselves as an animal. The term is never used for healers. In the <span class=\"searchmatch\">Navajo</span> <span class=\"searchmatch\">language</span>, yee naaldlooshii translates to &quot;by means of it, it goes on all fours&quot;\n",
            "--------------------------------------------------\n",
            "Title: Code talker\n",
            "Snippet: formally developed based on the <span class=\"searchmatch\">languages</span> of the Comanche, Hopi, Meskwaki, and <span class=\"searchmatch\">Navajo</span> peoples. They used words from their <span class=\"searchmatch\">languages</span> for each letter of the English\n",
            "--------------------------------------------------\n",
            "Title: Navajo Nation\n",
            "Snippet: 18694; -109.57361 The <span class=\"searchmatch\">Navajo</span> Nation (<span class=\"searchmatch\">Navajo</span>: Naabeehó Diné Biyaad), also known as Navajoland, is a Native American reservation of <span class=\"searchmatch\">Navajos</span> in the United States\n",
            "--------------------------------------------------\n",
            "Title: Athabaskan languages\n",
            "Snippet: North American native language, while <span class=\"searchmatch\">Navajo</span> is spoken by the largest number of people of any native <span class=\"searchmatch\">language</span> north of Mexico. The word Athabaskan is\n",
            "--------------------------------------------------\n",
            "Title: Languages of the United States\n",
            "Snippet: The United States <span class=\"searchmatch\">does</span> not have an official <span class=\"searchmatch\">language</span> at the federal level, but the most commonly used <span class=\"searchmatch\">language</span> is English (specifically, American English)\n",
            "--------------------------------------------------\n",
            "Title: Uranium mining and the Navajo people\n",
            "Snippet: radiation in the <span class=\"searchmatch\">Navajo</span> <span class=\"searchmatch\">language</span> left the miners unaware of the associated health hazards. The cultural significance of water for the <span class=\"searchmatch\">Navajo</span> people and the\n",
            "--------------------------------------------------\n",
            "Title: Á\n",
            "Snippet: Icelandic, Irish, Lakota, <span class=\"searchmatch\">Navajo</span>, Occitan, Portuguese, Sámi, Slovak, Spanish, Vietnamese, Welsh, and Western Apache <span class=\"searchmatch\">languages</span> as a variant of the letter\n",
            "--------------------------------------------------\n",
            "Title: Hopi language\n",
            "Snippet: and <span class=\"searchmatch\">Navajo</span> both are supported by bilingual education programs in Arizona, and children acquire the Native American <span class=\"searchmatch\">languages</span> as their first <span class=\"searchmatch\">language</span>. More\n",
            "--------------------------------------------------\n",
            "Title: Na-Dene languages\n",
            "Snippet: spoken Na-Dene <span class=\"searchmatch\">language</span> today is <span class=\"searchmatch\">Navajo</span>. In February 2008, a proposal connecting Na-Dene (excluding Haida) to the Yeniseian <span class=\"searchmatch\">languages</span> of central Siberia\n",
            "--------------------------------------------------\n",
            "Results for keyword: what is the concept of Navajo language?\n",
            "\n",
            "Title: Skin-walker\n",
            "Snippet: <span class=\"searchmatch\">The</span> term <span class=\"searchmatch\">is</span> never used for healers. In <span class=\"searchmatch\">the</span> <span class=\"searchmatch\">Navajo</span> <span class=\"searchmatch\">language</span>, yee naaldlooshii translates to &quot;by means <span class=\"searchmatch\">of</span> it, it goes on all fours&quot;. While perhaps <span class=\"searchmatch\">the</span> most\n",
            "--------------------------------------------------\n",
            "Title: Code talker\n",
            "Snippet: developed based on <span class=\"searchmatch\">the</span> <span class=\"searchmatch\">languages</span> <span class=\"searchmatch\">of</span> <span class=\"searchmatch\">the</span> Comanche, Hopi, Meskwaki, and <span class=\"searchmatch\">Navajo</span> peoples. They used words from their <span class=\"searchmatch\">languages</span> for each letter <span class=\"searchmatch\">of</span> <span class=\"searchmatch\">the</span> English alphabet\n",
            "--------------------------------------------------\n",
            "Title: Athabaskan languages\n",
            "Snippet: American native <span class=\"searchmatch\">language</span>, while <span class=\"searchmatch\">Navajo</span> <span class=\"searchmatch\">is</span> spoken by <span class=\"searchmatch\">the</span> largest number <span class=\"searchmatch\">of</span> people <span class=\"searchmatch\">of</span> any native <span class=\"searchmatch\">language</span> north <span class=\"searchmatch\">of</span> Mexico. <span class=\"searchmatch\">The</span> word Athabaskan <span class=\"searchmatch\">is</span> an anglicized\n",
            "--------------------------------------------------\n",
            "Title: Languages of the United States\n",
            "Snippet: community by far <span class=\"searchmatch\">is</span> <span class=\"searchmatch\">the</span> <span class=\"searchmatch\">Navajo</span>. <span class=\"searchmatch\">Navajo</span> <span class=\"searchmatch\">is</span> an Athabaskan <span class=\"searchmatch\">language</span> <span class=\"searchmatch\">of</span> <span class=\"searchmatch\">the</span> Na-Dené family, with 178,000 speakers, primarily in <span class=\"searchmatch\">the</span> states <span class=\"searchmatch\">of</span> Arizona, New Mexico\n",
            "--------------------------------------------------\n",
            "Title: Hopi language\n",
            "Snippet: frozen&quot;. Hopi <span class=\"searchmatch\">is</span> part <span class=\"searchmatch\">of</span> <span class=\"searchmatch\">the</span> Pueblo linguistic area (a Sprachbund) along with members <span class=\"searchmatch\">of</span> <span class=\"searchmatch\">the</span> Tanoan family, <span class=\"searchmatch\">the</span> Keresan <span class=\"searchmatch\">languages</span>, Zuni, and <span class=\"searchmatch\">Navajo</span>. Hopi speakers\n",
            "--------------------------------------------------\n",
            "Title: Dance Hall of the Dead\n",
            "Snippet: Dance Hall <span class=\"searchmatch\">Of</span> <span class=\"searchmatch\">The</span> Dead <span class=\"searchmatch\">is</span> <span class=\"searchmatch\">the</span> second crime fiction novel in <span class=\"searchmatch\">the</span> Joe Leaphorn / Jim Chee <span class=\"searchmatch\">Navajo</span> Tribal Police series by Tony Hillerman, first published\n",
            "--------------------------------------------------\n",
            "Title: Apache\n",
            "Snippet: Coyotero, Tonto). Distant cousins <span class=\"searchmatch\">of</span> <span class=\"searchmatch\">the</span> Apache are <span class=\"searchmatch\">the</span> <span class=\"searchmatch\">Navajo</span>, with whom they share <span class=\"searchmatch\">the</span> Southern Athabaskan <span class=\"searchmatch\">languages</span>. There are Apache communities in\n",
            "--------------------------------------------------\n",
            "Title: Mazda Nagare (car design)\n",
            "Snippet: flow) <span class=\"searchmatch\">is</span> an automotive design <span class=\"searchmatch\">language</span> created by Franz von Holzhausen and Laurens van den Acker for Mazda. Incorporated into a number <span class=\"searchmatch\">of</span> <span class=\"searchmatch\">concept</span> cars\n",
            "--------------------------------------------------\n",
            "Title: Two-spirit\n",
            "Snippet: to Kristopher Kohl Miner <span class=\"searchmatch\">of</span> <span class=\"searchmatch\">the</span> Ho-Chunk Nation, Native people such as anthropologist Dr. Wesley Thomas <span class=\"searchmatch\">of</span> <span class=\"searchmatch\">the</span> Dine or <span class=\"searchmatch\">Navajo</span> tribe also contributed to\n",
            "--------------------------------------------------\n",
            "Title: Synthetic language\n",
            "Snippet: <span class=\"searchmatch\">languages</span> are agglutinative, although <span class=\"searchmatch\">Navajo</span> and other Athabaskan <span class=\"searchmatch\">languages</span> are often classified as fusional) and oligosynthetic <span class=\"searchmatch\">languages</span>. <span class=\"searchmatch\">Language</span> exhibits\n",
            "--------------------------------------------------\n",
            "Results for keyword: taxonomy of Navajo language\n",
            "\n",
            "Title: Navajo language\n",
            "Snippet: <span class=\"searchmatch\">Navajo</span> or Navaho (/ˈnævəhoʊ, ˈnɑː-/; <span class=\"searchmatch\">Navajo</span>: Diné bizaad [tìnépìz̥ɑ̀ːt] or Naabeehó bizaad [nɑ̀ːpèːhópìz̥ɑ̀ːt]) is a Southern Athabaskan <span class=\"searchmatch\">language</span> <span class=\"searchmatch\">of</span> the\n",
            "--------------------------------------------------\n",
            "Title: Apache\n",
            "Snippet: Coyotero, Tonto). Distant cousins <span class=\"searchmatch\">of</span> the Apache are the <span class=\"searchmatch\">Navajo</span>, with whom they share the Southern Athabaskan <span class=\"searchmatch\">languages</span>. There are Apache communities in\n",
            "--------------------------------------------------\n",
            "Title: Dené–Yeniseian languages\n",
            "Snippet: it currently stands is a hypothesis <span class=\"searchmatch\">of</span> <span class=\"searchmatch\">language</span> relatedness but not yet a proper hypothesis <span class=\"searchmatch\">of</span> <span class=\"searchmatch\">language</span> <span class=\"searchmatch\">taxonomy</span>&quot;. He leaves &quot;open the possibility that\n",
            "--------------------------------------------------\n",
            "Title: Dené–Caucasian languages\n",
            "Snippet: Basque and <span class=\"searchmatch\">Navajo</span>, the <span class=\"searchmatch\">languages</span> at its geographic extremes. According to Swadesh (1959: 114), it included &quot;Basque, the Caucasian <span class=\"searchmatch\">languages</span>, Ural-Altaic\n",
            "--------------------------------------------------\n",
            "Title: Cleome serrulata\n",
            "Snippet: bee spider-flower, skunk weed, <span class=\"searchmatch\">Navajo</span> spinach, and guaco, is a species <span class=\"searchmatch\">of</span> annual plant in the genus Cleome. Many species <span class=\"searchmatch\">of</span> insects are attracted to it,\n",
            "--------------------------------------------------\n",
            "Title: Zuni language\n",
            "Snippet: Zuni is a <span class=\"searchmatch\">language</span> in the Pueblo linguistic area, it shares a number <span class=\"searchmatch\">of</span> features with Hopi, Keresan, and Tanoan (and to a lesser extent <span class=\"searchmatch\">Navajo</span>) that are\n",
            "--------------------------------------------------\n",
            "Title: Salix babylonica\n",
            "Snippet: fragilis, can have either one or two), so even this difference may not be <span class=\"searchmatch\">taxonomically</span> significant. A horticultural variant with twisted twigs and trunk, the\n",
            "--------------------------------------------------\n",
            "Title: Peyote\n",
            "Snippet: did not mention the use <span class=\"searchmatch\">of</span> peyote before its introduction by the neighboring Utes. The <span class=\"searchmatch\">Navajo</span> Nation now has the most members <span class=\"searchmatch\">of</span> the Native American Church\n",
            "--------------------------------------------------\n",
            "Title: Juglans regia\n",
            "Snippet: Francis H., 1944, Ethnobotany <span class=\"searchmatch\">of</span> the <span class=\"searchmatch\">Navajo</span>, Santa Fe, NM. School <span class=\"searchmatch\">of</span> American Research, page 39 Grimassi, Raven. Encyclopedia <span class=\"searchmatch\">of</span> Wicca &amp; Witchcraft. Llewellyn\n",
            "--------------------------------------------------\n",
            "Title: Juniperus communis\n",
            "Snippet: as medicine by many cultures including the <span class=\"searchmatch\">Navajo</span> people. Western American tribes combined the berries <span class=\"searchmatch\">of</span> J. communis with Berberis root bark in a herbal\n",
            "--------------------------------------------------\n",
            "Results for keyword: table of Navajo language\n",
            "\n",
            "Title: Navajo phonology\n",
            "Snippet: sound system <span class=\"searchmatch\">of</span> the <span class=\"searchmatch\">Navajo</span> <span class=\"searchmatch\">language</span>. The phonology <span class=\"searchmatch\">of</span> <span class=\"searchmatch\">Navajo</span> is intimately connected to its morphology. For example, the entire range <span class=\"searchmatch\">of</span> contrastive consonants\n",
            "--------------------------------------------------\n",
            "Title: Southern Athabaskan languages\n",
            "Snippet: the Long Walk <span class=\"searchmatch\">of</span> the <span class=\"searchmatch\">Navajo</span>. The seven Southern Athabaskan <span class=\"searchmatch\">languages</span> can be divided into two groups according to the classification <span class=\"searchmatch\">of</span> Harry Hoijer: (I)\n",
            "--------------------------------------------------\n",
            "Title: Native American languages of Utah\n",
            "Snippet: given in sub-pages below. The two <span class=\"searchmatch\">languages</span> are shown in the <span class=\"searchmatch\">table</span> below: <span class=\"searchmatch\">Navajo</span> <span class=\"searchmatch\">language</span> is spoken on the <span class=\"searchmatch\">Navajo</span> Nation, which is split between Arizona\n",
            "--------------------------------------------------\n",
            "Title: Navajo grammar\n",
            "Snippet: <span class=\"searchmatch\">Navajo</span> is a &quot;verb-heavy&quot; <span class=\"searchmatch\">language</span> – it has a great preponderance <span class=\"searchmatch\">of</span> verbs but relatively few nouns. In addition to verbs and nouns, <span class=\"searchmatch\">Navajo</span> has other elements\n",
            "--------------------------------------------------\n",
            "Title: Miss Navajo (film)\n",
            "Snippet: pageant for the title <span class=\"searchmatch\">of</span> Miss <span class=\"searchmatch\">Navajo</span> Nation 2005–2006. 21-year-old Crystal Frazier lives with her family on a farm near <span class=\"searchmatch\">Table</span> Mesa, New Mexico, having\n",
            "--------------------------------------------------\n",
            "Title: Languages of the United States\n",
            "Snippet: Khmer – 193 thousand <span class=\"searchmatch\">Navajo</span> – 155 thousand other Indo-European <span class=\"searchmatch\">languages</span> – 662 thousand Yoruba, Twi, Igbo and other <span class=\"searchmatch\">languages</span> <span class=\"searchmatch\">of</span> West Africa – 640 thousand\n",
            "--------------------------------------------------\n",
            "Title: Navajo County, Arizona\n",
            "Snippet: <span class=\"searchmatch\">Navajo</span> County (<span class=\"searchmatch\">Navajo</span>: Tʼiisyaakin Áłtsʼíísí Bił Hahoodzo) is in the northern part <span class=\"searchmatch\">of</span> the U.S. state <span class=\"searchmatch\">of</span> Arizona. As <span class=\"searchmatch\">of</span> the 2020 census, its population\n",
            "--------------------------------------------------\n",
            "Title: Prefix\n",
            "Snippet: farmer goes. Verbs in the <span class=\"searchmatch\">Navajo</span> <span class=\"searchmatch\">language</span> are formed from a word stem and multiple affixes. For example, each verb requires one <span class=\"searchmatch\">of</span> four non-syllabic prefixes\n",
            "--------------------------------------------------\n",
            "Title: Na-Dene languages\n",
            "Snippet: spoken Na-Dene <span class=\"searchmatch\">language</span> today is <span class=\"searchmatch\">Navajo</span>. In February 2008, a proposal connecting Na-Dene (excluding Haida) to the Yeniseian <span class=\"searchmatch\">languages</span> <span class=\"searchmatch\">of</span> central Siberia\n",
            "--------------------------------------------------\n",
            "Title: Athabaskan languages\n",
            "Snippet: any North American native <span class=\"searchmatch\">language</span>, while <span class=\"searchmatch\">Navajo</span> is spoken by the largest number <span class=\"searchmatch\">of</span> people <span class=\"searchmatch\">of</span> any native <span class=\"searchmatch\">language</span> north <span class=\"searchmatch\">of</span> Mexico. The word Athabaskan\n",
            "--------------------------------------------------\n",
            "Results for keyword: Navajo language table\n",
            "\n",
            "Title: Southern Athabaskan languages\n",
            "Snippet: whose first <span class=\"searchmatch\">language</span> was Southern Athabaskan. Geronimo (Goyaałé) who spoke Chiricahua was a famous raider and war leader. Manuelito spoke <span class=\"searchmatch\">Navajo</span> and is famous\n",
            "--------------------------------------------------\n",
            "Title: Navajo phonology\n",
            "Snippet: delimiters. This article is about the sound system of the <span class=\"searchmatch\">Navajo</span> <span class=\"searchmatch\">language</span>. The phonology of <span class=\"searchmatch\">Navajo</span> is intimately connected to its morphology. For example\n",
            "--------------------------------------------------\n",
            "Title: Navajo grammar\n",
            "Snippet: <span class=\"searchmatch\">Navajo</span> is a &quot;verb-heavy&quot; <span class=\"searchmatch\">language</span> – it has a great preponderance of verbs but relatively few nouns. In addition to verbs and nouns, <span class=\"searchmatch\">Navajo</span> has other elements\n",
            "--------------------------------------------------\n",
            "Title: Miss Navajo (film)\n",
            "Snippet: pageant for the title of Miss <span class=\"searchmatch\">Navajo</span> Nation 2005–2006. 21-year-old Crystal Frazier lives with her family on a farm near <span class=\"searchmatch\">Table</span> Mesa, New Mexico, having recently\n",
            "--------------------------------------------------\n",
            "Title: Languages of the United States\n",
            "Snippet: thousand Khmer – 193 thousand <span class=\"searchmatch\">Navajo</span> – 155 thousand other Indo-European <span class=\"searchmatch\">languages</span> – 662 thousand Yoruba, Twi, Igbo and other <span class=\"searchmatch\">languages</span> of West Africa – 640 thousand\n",
            "--------------------------------------------------\n",
            "Title: Na-Dene languages\n",
            "Snippet: spoken Na-Dene <span class=\"searchmatch\">language</span> today is <span class=\"searchmatch\">Navajo</span>. In February 2008, a proposal connecting Na-Dene (excluding Haida) to the Yeniseian <span class=\"searchmatch\">languages</span> of central Siberia\n",
            "--------------------------------------------------\n",
            "Title: Native American languages of Utah\n",
            "Snippet: given in sub-pages below. The two <span class=\"searchmatch\">languages</span> are shown in the <span class=\"searchmatch\">table</span> below: <span class=\"searchmatch\">Navajo</span> <span class=\"searchmatch\">language</span> is spoken on the <span class=\"searchmatch\">Navajo</span> Nation, which is split between Arizona\n",
            "--------------------------------------------------\n",
            "Title: Navajo County, Arizona\n",
            "Snippet: <span class=\"searchmatch\">Navajo</span> County (<span class=\"searchmatch\">Navajo</span>: Tʼiisyaakin Áłtsʼíísí Bił Hahoodzo) is in the northern part of the U.S. state of Arizona. As of the 2020 census, its population\n",
            "--------------------------------------------------\n",
            "Title: Prefix\n",
            "Snippet: eds. (2003). The Bantu <span class=\"searchmatch\">languages</span>. London: Routledge. pp. 103–110. ISBN 9780700711345. Young &amp; Morgan (1980). The <span class=\"searchmatch\">Navajo</span> <span class=\"searchmatch\">Language</span>: A Grammar and Colloquial\n",
            "--------------------------------------------------\n",
            "Title: Athabaskan languages\n",
            "Snippet: North American native language, while <span class=\"searchmatch\">Navajo</span> is spoken by the largest number of people of any native <span class=\"searchmatch\">language</span> north of Mexico. The word Athabaskan is\n",
            "--------------------------------------------------\n",
            "Results for keyword: difference between Navajo language\n",
            "\n",
            "Title: Navajo phonology\n",
            "Snippet: distinction <span class=\"searchmatch\">between</span> [ ], / / and ⟨ ⟩, see IPA § Brackets and transcription delimiters. This article is about the sound system of the <span class=\"searchmatch\">Navajo</span> <span class=\"searchmatch\">language</span>. The phonology\n",
            "--------------------------------------------------\n",
            "Title: Code talker\n",
            "Snippet: formally developed based on the <span class=\"searchmatch\">languages</span> of the Comanche, Hopi, Meskwaki, and <span class=\"searchmatch\">Navajo</span> peoples. They used words from their <span class=\"searchmatch\">languages</span> for each letter of the English\n",
            "--------------------------------------------------\n",
            "Title: Plains Indian Sign Language\n",
            "Snippet: who can speak the <span class=\"searchmatch\">Navajo</span> dialect of Plains Sign Talk. There is also an unrelated sign <span class=\"searchmatch\">language</span>, <span class=\"searchmatch\">Navajo</span> Family Sign, in a clan of <span class=\"searchmatch\">Navajos</span> that has several\n",
            "--------------------------------------------------\n",
            "Title: Southern Athabaskan languages\n",
            "Snippet: whose first <span class=\"searchmatch\">language</span> was Southern Athabaskan. Geronimo (Goyaałé) who spoke Chiricahua was a famous raider and war leader. Manuelito spoke <span class=\"searchmatch\">Navajo</span> and is famous\n",
            "--------------------------------------------------\n",
            "Title: Athabaskan languages\n",
            "Snippet: North American native language, while <span class=\"searchmatch\">Navajo</span> is spoken by the largest number of people of any native <span class=\"searchmatch\">language</span> north of Mexico. The word Athabaskan is\n",
            "--------------------------------------------------\n",
            "Title: Navajo weaving\n",
            "Snippet: <span class=\"searchmatch\">Navajo</span> weaving (<span class=\"searchmatch\">Navajo</span>: diyogí) are textiles produced by <span class=\"searchmatch\">Navajo</span> people, who are based near the Four Corners area of the United States. <span class=\"searchmatch\">Navajo</span> textiles\n",
            "--------------------------------------------------\n",
            "Title: Languages of the United States\n",
            "Snippet: thousand Khmer – 193 thousand <span class=\"searchmatch\">Navajo</span> – 155 thousand other Indo-European <span class=\"searchmatch\">languages</span> – 662 thousand Yoruba, Twi, Igbo and other <span class=\"searchmatch\">languages</span> of West Africa – 640 thousand\n",
            "--------------------------------------------------\n",
            "Title: Hopi language\n",
            "Snippet: and <span class=\"searchmatch\">Navajo</span> both are supported by bilingual education programs in Arizona, and children acquire the Native American <span class=\"searchmatch\">languages</span> as their first <span class=\"searchmatch\">language</span>. More\n",
            "--------------------------------------------------\n",
            "Title: Dinétah\n",
            "Snippet: the <span class=\"searchmatch\">Navajo</span> tribe of Native Americans. In the <span class=\"searchmatch\">Navajo</span> <span class=\"searchmatch\">language</span>, the word &quot;Dinétah&quot; means &quot;among the people&quot; or &quot;among the <span class=\"searchmatch\">Navajo</span>&quot; (diné is the <span class=\"searchmatch\">Navajo</span> word\n",
            "--------------------------------------------------\n",
            "Title: Sioux language\n",
            "Snippet: language in the United States or Canada, behind <span class=\"searchmatch\">Navajo</span>, Cree, Inuit <span class=\"searchmatch\">languages</span>, and Ojibwe. Since 2019, &quot;the <span class=\"searchmatch\">language</span> of the Great Sioux Nation, comprised of three\n",
            "--------------------------------------------------\n",
            "Results for keyword: the analog of Navajo language\n",
            "\n",
            "Title: Navajo Sandstone\n",
            "Snippet: <span class=\"searchmatch\">The</span> <span class=\"searchmatch\">Navajo</span> Sandstone is a geological formation in <span class=\"searchmatch\">the</span> Glen Canyon Group that is spread across <span class=\"searchmatch\">the</span> U.S. states <span class=\"searchmatch\">of</span> southern Nevada, northern Arizona, northwest\n",
            "--------------------------------------------------\n",
            "Title: American Sign Language\n",
            "Snippet: Sign <span class=\"searchmatch\">Language</span> (ASL) is a natural <span class=\"searchmatch\">language</span> that serves as <span class=\"searchmatch\">the</span> predominant sign <span class=\"searchmatch\">language</span> <span class=\"searchmatch\">of</span> Deaf communities in <span class=\"searchmatch\">the</span> United States <span class=\"searchmatch\">of</span> America and most <span class=\"searchmatch\">of</span> Anglophone\n",
            "--------------------------------------------------\n",
            "Title: Dune (franchise)\n",
            "Snippet: from multiple other languages, including Hebrew, <span class=\"searchmatch\">Navajo</span>, Latin, Chakobsa, <span class=\"searchmatch\">the</span> Nahuatl <span class=\"searchmatch\">language</span> <span class=\"searchmatch\">of</span> <span class=\"searchmatch\">the</span> Aztecs, Greek, Persian, East Indian, Russian, Turkish\n",
            "--------------------------------------------------\n",
            "Title: Language death\n",
            "Snippet: loss <span class=\"searchmatch\">of</span> word-formation productivity; style loss, such as <span class=\"searchmatch\">the</span> loss <span class=\"searchmatch\">of</span> ritual speech; morphological leveling; <span class=\"searchmatch\">analogical</span> leveling. When a <span class=\"searchmatch\">language</span> dies\n",
            "--------------------------------------------------\n",
            "Title: Career Enrichment Center\n",
            "Snippet: speaking <span class=\"searchmatch\">of</span> Japanese. <span class=\"searchmatch\">Navajo</span> - <span class=\"searchmatch\">Navajo</span> is <span class=\"searchmatch\">the</span> official <span class=\"searchmatch\">language</span> <span class=\"searchmatch\">of</span> <span class=\"searchmatch\">the</span> <span class=\"searchmatch\">Navajo</span> Nation, <span class=\"searchmatch\">the</span> very largest indigenous First Nations reservation on <span class=\"searchmatch\">the</span> North American\n",
            "--------------------------------------------------\n",
            "Title: Suzette Haden Elgin\n",
            "Snippet: linguistics, and was <span class=\"searchmatch\">the</span> first UCSD student ever to write two dissertations (on English and <span class=\"searchmatch\">Navajo</span>). She created <span class=\"searchmatch\">the</span> engineered <span class=\"searchmatch\">language</span> Láadan for her Native\n",
            "--------------------------------------------------\n",
            "Title: Canyons of the Ancients National Monument\n",
            "Snippet: ancestors <span class=\"searchmatch\">of</span> <span class=\"searchmatch\">the</span> Ute and <span class=\"searchmatch\">Navajo</span>, moved into <span class=\"searchmatch\">the</span> southwestern Colorado and southeastern Utah and came to inhabit <span class=\"searchmatch\">the</span> region. <span class=\"searchmatch\">The</span> ancestors to <span class=\"searchmatch\">the</span> <span class=\"searchmatch\">Navajo</span> were\n",
            "--------------------------------------------------\n",
            "Title: Atomic bombings of Hiroshima and Nagasaki\n",
            "Snippet: unit <span class=\"searchmatch\">of</span> energy absorbed. From <span class=\"searchmatch\">the</span> radiation dose reconstruction work, which were also informed by <span class=\"searchmatch\">the</span> 1962 BREN Tower Japanese city <span class=\"searchmatch\">analog</span>, <span class=\"searchmatch\">the</span> estimated\n",
            "--------------------------------------------------\n",
            "Title: Dune (novel)\n",
            "Snippet: names from a variety <span class=\"searchmatch\">of</span> other <span class=\"searchmatch\">languages</span>, including Hebrew, <span class=\"searchmatch\">Navajo</span>, Latin, Dutch (&quot;Landsraad&quot;), Chakobsa, <span class=\"searchmatch\">the</span> Nahuatl <span class=\"searchmatch\">language</span> <span class=\"searchmatch\">of</span> <span class=\"searchmatch\">the</span> Aztecs, Greek, Persian\n",
            "--------------------------------------------------\n",
            "Title: Turkish Americans\n",
            "Snippet: experiments to <span class=\"searchmatch\">the</span> International Space Station.&quot; Yalçın Ayaslı is founder <span class=\"searchmatch\">of</span> Hittite Microwave Corporation. His company was taken over by <span class=\"searchmatch\">Analog</span> Devices for\n",
            "--------------------------------------------------\n",
            "Results for keyword: physical meaning of Navajo language\n",
            "\n",
            "Title: Navajo language\n",
            "Snippet: <span class=\"searchmatch\">Navajo</span> or Navaho (/ˈnævəhoʊ, ˈnɑː-/; <span class=\"searchmatch\">Navajo</span>: Diné bizaad [tìnépìz̥ɑ̀ːt] or Naabeehó bizaad [nɑ̀ːpèːhópìz̥ɑ̀ːt]) is a Southern Athabaskan <span class=\"searchmatch\">language</span> <span class=\"searchmatch\">of</span> the\n",
            "--------------------------------------------------\n",
            "Title: Navajo grammar\n",
            "Snippet: <span class=\"searchmatch\">Navajo</span> is a &quot;verb-heavy&quot; <span class=\"searchmatch\">language</span> – it has a great preponderance <span class=\"searchmatch\">of</span> verbs but relatively few nouns. In addition to verbs and nouns, <span class=\"searchmatch\">Navajo</span> has other elements\n",
            "--------------------------------------------------\n",
            "Title: Navajo song ceremonial complex\n",
            "Snippet: The <span class=\"searchmatch\">Navajo</span> song ceremonial complex is a spiritual practice used by certain <span class=\"searchmatch\">Navajo</span> ceremonial people to restore and maintain balance and harmony in the\n",
            "--------------------------------------------------\n",
            "Title: Hopi\n",
            "Snippet: They wanted the government to provide protection against the <span class=\"searchmatch\">Navajo</span>, an Apachean-<span class=\"searchmatch\">language</span> tribe, but distinct from other Apache. At this time, the Hopi\n",
            "--------------------------------------------------\n",
            "Title: Apache\n",
            "Snippet: Coyotero, Tonto). Distant cousins <span class=\"searchmatch\">of</span> the Apache are the <span class=\"searchmatch\">Navajo</span>, with whom they share the Southern Athabaskan <span class=\"searchmatch\">languages</span>. There are Apache communities in\n",
            "--------------------------------------------------\n",
            "Title: Diné Bahaneʼ\n",
            "Snippet: Baahaneʼ (<span class=\"searchmatch\">Navajo</span>: &quot;Story <span class=\"searchmatch\">of</span> the People&quot;), the <span class=\"searchmatch\">Navajo</span> creation myth, describes the prehistoric emergence <span class=\"searchmatch\">of</span> the <span class=\"searchmatch\">Navajo</span> as a part <span class=\"searchmatch\">of</span> the <span class=\"searchmatch\">Navajo</span> religious\n",
            "--------------------------------------------------\n",
            "Title: Google Translate\n",
            "Snippet: input is not available for all <span class=\"searchmatch\">languages</span>. In January 2015, the apps gained the ability to propose translations <span class=\"searchmatch\">of</span> <span class=\"searchmatch\">physical</span> signs in real time using the\n",
            "--------------------------------------------------\n",
            "Title: Iich'aa\n",
            "Snippet: Iich'aa (<span class=\"searchmatch\">Navajo</span>: Iichʼąh, pronounced “eech aaw”, no inflexion) is a culture-bound syndrome found in the <span class=\"searchmatch\">Navajo</span> Native American culture. The non-exclusive\n",
            "--------------------------------------------------\n",
            "Title: Anthropology\n",
            "Snippet: anthropology studies how <span class=\"searchmatch\">language</span> influences social life. Biological or <span class=\"searchmatch\">physical</span> anthropology studies the biological development <span class=\"searchmatch\">of</span> humans. Archaeological\n",
            "--------------------------------------------------\n",
            "Title: G (disambiguation)\n",
            "Snippet: Cherot G (2004 film), a documentary about methamphetamine use among the <span class=\"searchmatch\">Navajo</span> G (musical note) G major, a scale G major chord, Chord names and symbols\n",
            "--------------------------------------------------\n",
            "Results for keyword: Navajo language symbolism\n",
            "\n",
            "Title: Wall of Love\n",
            "Snippet: words 'I love you' in all major languages, but also in rarer ones like <span class=\"searchmatch\">Navajo</span>, Inuit, Bambara and Esperanto. The wall is open to the public free of charge\n",
            "--------------------------------------------------\n",
            "Title: Navajo weaving\n",
            "Snippet: <span class=\"searchmatch\">Navajo</span> weaving (<span class=\"searchmatch\">Navajo</span>: diyogí) are textiles produced by <span class=\"searchmatch\">Navajo</span> people, who are based near the Four Corners area of the United States. <span class=\"searchmatch\">Navajo</span> textiles\n",
            "--------------------------------------------------\n",
            "Title: Gladys Reichard\n",
            "Snippet: American languages: Wiyot, Coeur d'Alene and <span class=\"searchmatch\">Navajo</span>. Reichard was concerned with understanding <span class=\"searchmatch\">language</span> variation, and with connections between linguistic\n",
            "--------------------------------------------------\n",
            "Title: Crow Canyon Archaeological District\n",
            "Snippet: people has a rich history of <span class=\"searchmatch\">symbolism</span>, spirituality, and has a deep connection to the Earth. Beginning with the <span class=\"searchmatch\">Navajo</span> creation story, colors have both\n",
            "--------------------------------------------------\n",
            "Title: Swastika\n",
            "Snippet: cross of Laima) whirling logs (<span class=\"searchmatch\">Navajo</span>): can denote abundance, prosperity, healing, and luck In various European <span class=\"searchmatch\">languages</span>, it is known as the fylfot, gammadion\n",
            "--------------------------------------------------\n",
            "Title: Puebloans\n",
            "Snippet: Puebloan <span class=\"searchmatch\">languages</span>, as well as <span class=\"searchmatch\">Navajo</span>, are tonal. However, the tone is not usually shown in the spelling of these <span class=\"searchmatch\">languages</span> save for <span class=\"searchmatch\">Navajo</span>, Towa, and\n",
            "--------------------------------------------------\n",
            "Title: Hero Twins in Native American culture\n",
            "Snippet: Nádleehé are <span class=\"searchmatch\">Navajo</span> goddesses, the latter of which gave birth to the Hero Twins Monster Slayer and Born-for-Water. In the creation myth of the <span class=\"searchmatch\">Navajo</span> the hero\n",
            "--------------------------------------------------\n",
            "Title: Washington Matthews\n",
            "Snippet: linguist known for his studies of Native American peoples, especially the <span class=\"searchmatch\">Navajo</span>. Matthews was born in Killiney, near Dublin, Ireland in 1843 to Nicolas\n",
            "--------------------------------------------------\n",
            "Title: Oraibi, Arizona\n",
            "Snippet: Oraibi, also referred to as Old Oraibi, is a Hopi village in <span class=\"searchmatch\">Navajo</span> County, Arizona, United States, in the northeastern part of the state. Known as Orayvi\n",
            "--------------------------------------------------\n",
            "Title: Axis mundi\n",
            "Snippet: form as world axis. Secular structures can also function as axes mundi. In <span class=\"searchmatch\">Navajo</span> culture, the hogan acts as a symbolic cosmic center. In some Asian cultures\n",
            "--------------------------------------------------\n",
            "Results for keyword: symbolism of Navajo language\n",
            "\n",
            "Title: Wall of Love\n",
            "Snippet: you' in all major <span class=\"searchmatch\">languages</span>, but also in rarer ones like <span class=\"searchmatch\">Navajo</span>, Inuit, Bambara and Esperanto. The wall is open to the public free <span class=\"searchmatch\">of</span> charge.[citation\n",
            "--------------------------------------------------\n",
            "Title: Navajo weaving\n",
            "Snippet: <span class=\"searchmatch\">Navajo</span> weaving (<span class=\"searchmatch\">Navajo</span>: diyogí) are textiles produced by <span class=\"searchmatch\">Navajo</span> people, who are based near the Four Corners area <span class=\"searchmatch\">of</span> the United States. <span class=\"searchmatch\">Navajo</span> textiles\n",
            "--------------------------------------------------\n",
            "Title: Gladys Reichard\n",
            "Snippet: Causative Elements in <span class=\"searchmatch\">Navajo</span> (co-authored with Adolph Bitanny) 1944: The Story <span class=\"searchmatch\">of</span> the <span class=\"searchmatch\">Navajo</span> Hail Chant 1945: Composition and <span class=\"searchmatch\">Symbolism</span> <span class=\"searchmatch\">of</span> the Coeur d'Alene\n",
            "--------------------------------------------------\n",
            "Title: Crow Canyon Archaeological District\n",
            "Snippet: Na-Dené, which is the <span class=\"searchmatch\">language</span> spoken by the Southern Athabaskan people. The culture <span class=\"searchmatch\">of</span> the <span class=\"searchmatch\">Navajo</span> people has a rich history <span class=\"searchmatch\">of</span> <span class=\"searchmatch\">symbolism</span>, spirituality, and\n",
            "--------------------------------------------------\n",
            "Title: Swastika\n",
            "Snippet: symbolising night or tantric aspects <span class=\"searchmatch\">of</span> Kali. In Jain <span class=\"searchmatch\">symbolism</span>, it represents Suparshvanatha – the seventh <span class=\"searchmatch\">of</span> 24 Tirthankaras (spiritual teachers and\n",
            "--------------------------------------------------\n",
            "Title: Puebloans\n",
            "Snippet: Puebloan <span class=\"searchmatch\">languages</span>, as well as <span class=\"searchmatch\">Navajo</span>, are tonal. However, the tone is not usually shown in the spelling <span class=\"searchmatch\">of</span> these <span class=\"searchmatch\">languages</span> save for <span class=\"searchmatch\">Navajo</span>, Towa, and\n",
            "--------------------------------------------------\n",
            "Title: Oraibi, Arizona\n",
            "Snippet: referred to as Old Oraibi, is a Hopi village in <span class=\"searchmatch\">Navajo</span> County, Arizona, United States, in the northeastern part <span class=\"searchmatch\">of</span> the state. Known as Orayvi by the native inhabitants\n",
            "--------------------------------------------------\n",
            "Title: Axis mundi\n",
            "Snippet: Mairet). &quot;<span class=\"searchmatch\">Symbolism</span> <span class=\"searchmatch\">of</span> the Centre&quot;. In Images and Symbols. Princeton, 1991. ISBN 069102068X. p.48–51 Mircea Eliade (tr. Philip Mairet). &quot;<span class=\"searchmatch\">Symbolism</span> <span class=\"searchmatch\">of</span> the Centre&quot;\n",
            "--------------------------------------------------\n",
            "Title: Washington Matthews\n",
            "Snippet: ethnographer, and linguist known for his studies <span class=\"searchmatch\">of</span> Native American peoples, especially the <span class=\"searchmatch\">Navajo</span>. Matthews was born in Killiney, near Dublin, Ireland\n",
            "--------------------------------------------------\n",
            "Title: Hero Twins in Native American culture\n",
            "Snippet: the end <span class=\"searchmatch\">of</span> Xibalba. Their tale ends with them becoming the sun and moon. Yolkai Estsan and Asdzą́ą́ Nádleehé are <span class=\"searchmatch\">Navajo</span> goddesses, the latter <span class=\"searchmatch\">of</span> which gave\n",
            "--------------------------------------------------\n",
            "Results for keyword: iconographic meaning of Navajo language\n",
            "\n",
            "Title: Quetzalcoatl\n",
            "Snippet: religious and symbolic <span class=\"searchmatch\">meaning</span> <span class=\"searchmatch\">of</span> the feathered-serpent deity in Mesoamerican cultures. The earliest known <span class=\"searchmatch\">iconographic</span> depiction <span class=\"searchmatch\">of</span> the deity appears on\n",
            "--------------------------------------------------\n",
            "Title: Swastika\n",
            "Snippet: cross of Laima) whirling logs (<span class=\"searchmatch\">Navajo</span>): can denote abundance, prosperity, healing, and luck In various European <span class=\"searchmatch\">languages</span>, it is known as the fylfot, gammadion\n",
            "--------------------------------------------------\n",
            "Title: Fasces\n",
            "Snippet: and incorporated into the iconography <span class=\"searchmatch\">of</span> numerous governments outside Italy, prior to Mussolini. Such <span class=\"searchmatch\">iconographical</span> use persists in governmental and various\n",
            "--------------------------------------------------\n",
            "Title: Real Spaces\n",
            "Snippet: attributes <span class=\"searchmatch\">of</span> art and architecture and their connection to social functions throughout time. He disregards traditional formal and <span class=\"searchmatch\">iconographical</span> art historical\n",
            "--------------------------------------------------\n",
            "Title: Art\n",
            "Snippet: The <span class=\"searchmatch\">iconographic</span> content <span class=\"searchmatch\">of</span> art could cause controversy, as with late medieval depictions <span class=\"searchmatch\">of</span> the new motif <span class=\"searchmatch\">of</span> the Swoon <span class=\"searchmatch\">of</span> the Virgin in scenes <span class=\"searchmatch\">of</span> the\n",
            "--------------------------------------------------\n",
            "Title: Charnel ground\n",
            "Snippet: important Varnamala (or 'garland <span class=\"searchmatch\">of</span> bija phonemes' in twilight <span class=\"searchmatch\">language</span> is <span class=\"searchmatch\">iconographically</span> represented by a 'garland <span class=\"searchmatch\">of</span> severed heads or skulls' (Sanskrit:\n",
            "--------------------------------------------------\n",
            "Title: Maya Hero Twins\n",
            "Snippet: beard.[citation needed] Certain <span class=\"searchmatch\">iconographic</span> scenes are suggestive <span class=\"searchmatch\">of</span> episodes in the Popol Vuh. The Twins' shooting <span class=\"searchmatch\">of</span> a steeply descending bird (the\n",
            "--------------------------------------------------\n",
            "Title: List of traditional territories of the indigenous peoples of North America\n",
            "Snippet: Retrieved May 17, 2015. Mark Sullivan. &quot;The Maya Origin <span class=\"searchmatch\">of</span> a Mexican God: The <span class=\"searchmatch\">Iconographic</span> Primacy <span class=\"searchmatch\">of</span> Tezcatlipoca at Chichén Itzá over Tula, and its Possible\n",
            "--------------------------------------------------\n",
            "Results for keyword: why is Navajo language important?\n",
            "\n",
            "Title: Navajo\n",
            "Snippet: The <span class=\"searchmatch\">Navajo</span> Reservation <span class=\"searchmatch\">is</span> slightly larger than the state of West Virginia. The <span class=\"searchmatch\">Navajo</span> <span class=\"searchmatch\">language</span> <span class=\"searchmatch\">is</span> spoken throughout the region, and most <span class=\"searchmatch\">Navajos</span> also\n",
            "--------------------------------------------------\n",
            "Title: Languages of the United States\n",
            "Snippet: and other <span class=\"searchmatch\">language</span> surveys, the largest Native American <span class=\"searchmatch\">language</span>-speaking community by far <span class=\"searchmatch\">is</span> the <span class=\"searchmatch\">Navajo</span>. <span class=\"searchmatch\">Navajo</span> <span class=\"searchmatch\">is</span> an Athabaskan <span class=\"searchmatch\">language</span> of the Na-Dené\n",
            "--------------------------------------------------\n",
            "Title: Spider Grandmother\n",
            "Snippet: Spider Grandmother (Hopi Kokyangwuti, <span class=\"searchmatch\">Navajo</span> Na'ashjé'ii Asdzáá) <span class=\"searchmatch\">is</span> an <span class=\"searchmatch\">important</span> figure in the mythology, oral traditions and folklore of many Native American\n",
            "--------------------------------------------------\n",
            "Title: Sioux language\n",
            "Snippet: language in the United States or Canada, behind <span class=\"searchmatch\">Navajo</span>, Cree, Inuit <span class=\"searchmatch\">languages</span>, and Ojibwe. Since 2019, &quot;the <span class=\"searchmatch\">language</span> of the Great Sioux Nation, comprised of three\n",
            "--------------------------------------------------\n",
            "Title: Kenneth L. Hale\n",
            "Snippet: often endangered <span class=\"searchmatch\">languages</span>—especially indigenous <span class=\"searchmatch\">languages</span> of North America and Australia. <span class=\"searchmatch\">Languages</span> investigated by Hale include <span class=\"searchmatch\">Navajo</span>, O'odham, Warlpiri\n",
            "--------------------------------------------------\n",
            "Title: Uranium mining and the Navajo people\n",
            "Snippet: radiation in the <span class=\"searchmatch\">Navajo</span> <span class=\"searchmatch\">language</span> left the miners unaware of the associated health hazards. The cultural significance of water for the <span class=\"searchmatch\">Navajo</span> people and the\n",
            "--------------------------------------------------\n",
            "Title: Diné Bahaneʼ\n",
            "Snippet: Baahaneʼ (<span class=\"searchmatch\">Navajo</span>: &quot;Story of the People&quot;), the <span class=\"searchmatch\">Navajo</span> creation myth, describes the prehistoric emergence of the <span class=\"searchmatch\">Navajo</span> as a part of the <span class=\"searchmatch\">Navajo</span> religious\n",
            "--------------------------------------------------\n",
            "Title: Long-term nuclear waste warning messages\n",
            "Snippet: written <span class=\"searchmatch\">language</span>. In 1994, Level II, III, and IV messages in English were translated into French, Spanish, Chinese, Arabic, Russian, and <span class=\"searchmatch\">Navajo</span>, with plans\n",
            "--------------------------------------------------\n",
            "Title: Indigenous education\n",
            "Snippet: compartmentalizing <span class=\"searchmatch\">is</span> the most common approach for teaching <span class=\"searchmatch\">Navajo</span> <span class=\"searchmatch\">language</span> in schools today. Through her study, Lee (2007) concluded that “<span class=\"searchmatch\">Navajo</span>-<span class=\"searchmatch\">language</span> use in\n",
            "--------------------------------------------------\n",
            "Title: Rosetta Stone (software)\n",
            "Snippet:  Arthur. &quot;A <span class=\"searchmatch\">Language</span> Lost, and Found].&quot; Imagine Louisiana, spring 2008: 44–45. Brossy, Chee. &quot;New media for Diné – <span class=\"searchmatch\">Navajo</span> Times.&quot; <span class=\"searchmatch\">Navajo</span> Times. Dec. 6\n",
            "--------------------------------------------------\n",
            "Results for keyword: generic model of a Navajo language\n",
            "\n",
            "Title: Welsh language\n",
            "Snippet: Welsh (Cymraeg [kəmˈraːiɡ] (listen) or y Gymraeg [<span class=\"searchmatch\">ə</span> ɡəmˈraːiɡ]) is <span class=\"searchmatch\">a</span> Celtic <span class=\"searchmatch\">language</span> <span class=\"searchmatch\">of</span> the Brittonic subgroup that is native to the Welsh people. Welsh\n",
            "--------------------------------------------------\n",
            "Title: Blueberry (comics)\n",
            "Snippet: publish &quot;La piste des <span class=\"searchmatch\">Navajos</span>&quot; in the English <span class=\"searchmatch\">language</span>, frustratingly left English readers with <span class=\"searchmatch\">a</span> cliffhanger, as it was the resolution <span class=\"searchmatch\">of</span> <span class=\"searchmatch\">a</span> five volume story\n",
            "--------------------------------------------------\n",
            "Title: Endonym and exonym\n",
            "Snippet: autonym) is <span class=\"searchmatch\">a</span> common, native name for <span class=\"searchmatch\">a</span> group <span class=\"searchmatch\">of</span> people, individual person, geographical place, <span class=\"searchmatch\">language</span> or dialect, meaning that it is used inside <span class=\"searchmatch\">a</span> particular\n",
            "--------------------------------------------------\n",
            "Title: Rainbow 100\n",
            "Snippet: American <span class=\"searchmatch\">languages</span> began with the Rainbow 100. Rock Point Community School on the <span class=\"searchmatch\">Navajo</span> reservation in Arizona commissioned <span class=\"searchmatch\">a</span> ROM chip for the <span class=\"searchmatch\">Navajo</span> language\n",
            "--------------------------------------------------\n",
            "Title: List of Congressional Gold Medal recipients\n",
            "Snippet: 2008-12-04. {{cite news}}: |last= has <span class=\"searchmatch\">generic</span> name (help) CNN (July 26, 2001). &quot;President Bush Honors World War II <span class=\"searchmatch\">Navajo</span> Code Talkers Receiving Congressional\n",
            "--------------------------------------------------\n",
            "Title: Edward Sapir\n",
            "Snippet: and <span class=\"searchmatch\">A</span>.L. Kroeber 1905–1925&quot; (PDF). Reports from the Survey <span class=\"searchmatch\">of</span> California and Other Indian <span class=\"searchmatch\">Languages</span>. 6: 1–509. {{cite journal}}: |last3= has <span class=\"searchmatch\">generic</span> name\n",
            "--------------------------------------------------\n",
            "Title: Cultural impact of Star Wars\n",
            "Snippet: &quot;Navajo Star Wars a crowd pleaser&quot;. <span class=\"searchmatch\">Navajo</span> Times. Riley, Kiera (September 24, 2021). &quot;Preserving the force <span class=\"searchmatch\">of</span> <span class=\"searchmatch\">Navajo</span> <span class=\"searchmatch\">language</span>&quot;. Cronkite News, Indian Country\n",
            "--------------------------------------------------\n",
            "Title: Native American cultures in the United States\n",
            "Snippet: million speakers <span class=\"searchmatch\">of</span> Nahuatl); Na-Dené comes in second with approximately 200,000 speakers (nearly 180,000 <span class=\"searchmatch\">of</span> these are speakers <span class=\"searchmatch\">of</span> <span class=\"searchmatch\">Navajo</span>), and Algic in\n",
            "--------------------------------------------------\n",
            "Title: Gay\n",
            "Snippet: Two-Spirit. Estrada, Gabriel S. (2011). &quot;Two Spirits, Nádleeh, and LGBTQ2 <span class=\"searchmatch\">Navajo</span> Gaze&quot;. American Indian Culture and Research Journal. UCLA American Indian\n",
            "--------------------------------------------------\n",
            "Title: American English\n",
            "Snippet: English, is the set <span class=\"searchmatch\">of</span> varieties <span class=\"searchmatch\">of</span> the English <span class=\"searchmatch\">language</span> native to the United States. English is the most widely spoken <span class=\"searchmatch\">language</span> in the United States\n",
            "--------------------------------------------------\n",
            "Results for keyword: generic model representation of Navajo language\n",
            "\n",
            "Title: Demographics of Asian Americans\n",
            "Snippet: growth <span class=\"searchmatch\">of</span> LGBT <span class=\"searchmatch\">representation</span> among African Americans, Hispanic Americans, and Caucasian Americans. The above list displays the population <span class=\"searchmatch\">of</span> Asian Americans\n",
            "--------------------------------------------------\n",
            "Title: Edward Sapir\n",
            "Snippet: (PDF). Reports from the Survey <span class=\"searchmatch\">of</span> California and Other Indian <span class=\"searchmatch\">Languages</span>. 6: 1–509. {{cite journal}}: |last3= has <span class=\"searchmatch\">generic</span> name (help) &quot;Edward Sapir&quot;. Encyclopædia\n",
            "--------------------------------------------------\n",
            "Title: List of Indigenous peoples\n",
            "Snippet: Mescalero <span class=\"searchmatch\">of</span> Arizona, New Mexico, and Northern Chihuahua. Western Apache <span class=\"searchmatch\">of</span> Western Arizona. <span class=\"searchmatch\">Navajo</span> <span class=\"searchmatch\">of</span> the Four Corners region. O'odham <span class=\"searchmatch\">of</span> Sonora, Mexico\n",
            "--------------------------------------------------\n",
            "Title: National Museum of the American Indian\n",
            "Snippet: Collaborative, and Polshek Partnership Architects <span class=\"searchmatch\">of</span> New York City; Ramona Sakiestewa (Hopi) and Donna House (<span class=\"searchmatch\">Navajo</span>/Oneida) also served as design consultants\n",
            "--------------------------------------------------\n",
            "Title: Secure communication\n",
            "Snippet: increase the percentage <span class=\"searchmatch\">of</span> <span class=\"searchmatch\">generic</span> traffic which is encrypted. This is analogous to beginning every conversation with &quot;Do you speak <span class=\"searchmatch\">Navajo</span>?&quot; If the response\n",
            "--------------------------------------------------\n",
            "Title: Joseph Campbell\n",
            "Snippet: <span class=\"searchmatch\">of</span> a <span class=\"searchmatch\">Navajo</span> ceremony that was performed by singer (medicine man) Jeff King and recorded by artist and ethnologist Maud Oakes, recounting the story <span class=\"searchmatch\">of</span>\n",
            "--------------------------------------------------\n",
            "Title: Korean Americans\n",
            "Snippet: news}}: |author= has <span class=\"searchmatch\">generic</span> name (help)CS1 maint: multiple names: authors list (link) &quot;Ministry <span class=\"searchmatch\">of</span> Foreign Affairs, Republic <span class=\"searchmatch\">of</span> Korea&quot;. 31 March 2013\n",
            "--------------------------------------------------\n",
            "Title: Religion\n",
            "Snippet: came into use when the first Parliament <span class=\"searchmatch\">of</span> the World's Religions was held in Chicago in 1893. <span class=\"searchmatch\">Representation</span> at the Parliament was not comprehensive.\n",
            "--------------------------------------------------\n",
            "Title: Religion in the United States\n",
            "Snippet: the lower <span class=\"searchmatch\">representation</span> <span class=\"searchmatch\">of</span> adherents <span class=\"searchmatch\">of</span> 1) all kinds (62.7%), 2) Christians (59.9%), 3) Protestants (less than 36%); and the greater number <span class=\"searchmatch\">of</span> unaffiliated\n",
            "--------------------------------------------------\n",
            "Title: Pocahontas (1995 film)\n",
            "Snippet: for Educators&quot;. Journal <span class=\"searchmatch\">of</span> <span class=\"searchmatch\">Navajo</span> Education. Retrieved October 5, 2013. Kutsuzawa, Kiyomi. &quot;Disney's Pocahontas: reproduction <span class=\"searchmatch\">of</span> gender, orientalism, and\n",
            "--------------------------------------------------\n",
            "Results for keyword: schematic representation of Navajo language\n",
            "\n",
            "Title: Indian reservation\n",
            "Snippet: Rhode Island. The largest reservation, the <span class=\"searchmatch\">Navajo</span> Nation Reservation, is similar in size to the state <span class=\"searchmatch\">of</span> West Virginia. Reservations are unevenly distributed\n",
            "--------------------------------------------------\n",
            "Title: Secure communication\n",
            "Snippet: is affirmative, then the conversation proceeds in <span class=\"searchmatch\">Navajo</span>, otherwise it uses the common <span class=\"searchmatch\">language</span> <span class=\"searchmatch\">of</span> the two speakers. This method does not generally provide\n",
            "--------------------------------------------------\n",
            "Title: Indigenous peoples of the Americas\n",
            "Snippet:  At least a thousand different Indigenous <span class=\"searchmatch\">languages</span> are spoken in the Americas. Several <span class=\"searchmatch\">of</span> these <span class=\"searchmatch\">languages</span> are recognized as official by several governments\n",
            "--------------------------------------------------\n",
            "Title: Star Wars (film)\n",
            "Snippet: Retrieved March 5, 2019. &quot;Alumna, four others dub Star Wars film into <span class=\"searchmatch\">Navajo</span> <span class=\"searchmatch\">language</span>&quot; (Press release). Arizona State University. October 4, 2013. Archived\n",
            "--------------------------------------------------\n",
            "Title: Racism in the United States\n",
            "Snippet: study analyzing the interaction <span class=\"searchmatch\">of</span> assimilation and racial-ethnic schemas for Hispanic youth found that strong <span class=\"searchmatch\">schematic</span> identities for Hispanic youth undermined\n",
            "--------------------------------------------------\n",
            "Results for keyword: Linear model of Navajo language\n",
            "\n",
            "Title: Mirror theory\n",
            "Snippet: analyses <span class=\"searchmatch\">of</span> the morpheme orders <span class=\"searchmatch\">of</span> <span class=\"searchmatch\">Navajo</span> and Cupeño by Harley (2009). Halle, Morris &amp; Alec Marantz. 1993. 'Distributed Morphology and the Pieces <span class=\"searchmatch\">of</span> Inflection\n",
            "--------------------------------------------------\n",
            "Title: Duolingo\n",
            "Snippet: and provides <span class=\"searchmatch\">language</span> certification. The platform was founded in 2011 by Luis von Ahn and Severin Hacker and has since grown to become one <span class=\"searchmatch\">of</span> the most popular\n",
            "--------------------------------------------------\n",
            "Title: Apache\n",
            "Snippet: Coyotero, Tonto). Distant cousins <span class=\"searchmatch\">of</span> the Apache are the <span class=\"searchmatch\">Navajo</span>, with whom they share the Southern Athabaskan <span class=\"searchmatch\">languages</span>. There are Apache communities in\n",
            "--------------------------------------------------\n",
            "Title: Evolution of languages\n",
            "Snippet: and 1700s. Apachean <span class=\"searchmatch\">languages</span> like the <span class=\"searchmatch\">Navajo</span> <span class=\"searchmatch\">language</span> migrated south to the Pueblo <span class=\"searchmatch\">language</span> area in around 1500. The establishment <span class=\"searchmatch\">of</span> the Spanish Empire\n",
            "--------------------------------------------------\n",
            "Title: High-context and low-context cultures\n",
            "Snippet: similar difference between <span class=\"searchmatch\">Navajo</span>-speakers and English speakers in a United States school. Hall and Hall proposed a &quot;spectrum&quot; <span class=\"searchmatch\">of</span> national cultures from &quot;High-Context\n",
            "--------------------------------------------------\n",
            "Title: Mazda RX-7\n",
            "Snippet: limited production run <span class=\"searchmatch\">of</span> special North American <span class=\"searchmatch\">models</span> known as the Leathersport <span class=\"searchmatch\">Models</span>. This package was essentially an uprated GS <span class=\"searchmatch\">model</span> with added LS badges\n",
            "--------------------------------------------------\n",
            "Title: Crimson Skies: High Road to Revenge\n",
            "Snippet: must cross <span class=\"searchmatch\">Navajo</span> Nation which has had its borders closed. The Fortune Hunters retrieve a sacred statue and return it to the <span class=\"searchmatch\">Navajo</span> as a show <span class=\"searchmatch\">of</span> good will\n",
            "--------------------------------------------------\n",
            "Title: Downwinders\n",
            "Snippet: undocumented tribal ceremonies. <span class=\"searchmatch\">Language</span> and cultural barriers pose further obstacles to <span class=\"searchmatch\">Navajo</span> downwinders; since many elderly <span class=\"searchmatch\">Navajos</span> do not speak English, their\n",
            "--------------------------------------------------\n",
            "Title: Narrative\n",
            "Snippet: Research Council. Eder, D. J. (2007). Bringing <span class=\"searchmatch\">Navajo</span> Storytelling Practices into Schools: The Importance <span class=\"searchmatch\">of</span> Maintaining Cultural Integrity. Anthropology\n",
            "--------------------------------------------------\n",
            "Title: Symmetry\n",
            "Snippet: <span class=\"searchmatch\">models</span>, <span class=\"searchmatch\">language</span>, and music. This article describes symmetry from three perspectives: in mathematics, including geometry, the most familiar type <span class=\"searchmatch\">of</span> symmetry\n",
            "--------------------------------------------------\n",
            "Results for keyword: Navajo language is related to?\n",
            "\n",
            "Title: Navajo language\n",
            "Snippet: Na-Dené family, through which it <span class=\"searchmatch\">is</span> <span class=\"searchmatch\">related</span> <span class=\"searchmatch\">to</span> <span class=\"searchmatch\">languages</span> spoken across the western areas of North America. <span class=\"searchmatch\">Navajo</span> <span class=\"searchmatch\">is</span> spoken primarily in the Southwestern\n",
            "--------------------------------------------------\n",
            "Title: Navajo\n",
            "Snippet: mutually intelligible dialects. The Apache <span class=\"searchmatch\">language</span> <span class=\"searchmatch\">is</span> closely <span class=\"searchmatch\">related</span> <span class=\"searchmatch\">to</span> the <span class=\"searchmatch\">Navajo</span> <span class=\"searchmatch\">Language</span>; the <span class=\"searchmatch\">Navajos</span> and Apaches migrated from northwestern Canada\n",
            "--------------------------------------------------\n",
            "Title: Skin-walker\n",
            "Snippet: themselves as an animal. The term <span class=\"searchmatch\">is</span> never used for healers. In the <span class=\"searchmatch\">Navajo</span> <span class=\"searchmatch\">language</span>, yee naaldlooshii translates <span class=\"searchmatch\">to</span> &quot;by means of it, it goes on all fours&quot;\n",
            "--------------------------------------------------\n",
            "Title: Navajo Nation\n",
            "Snippet: 18694; -109.57361 The <span class=\"searchmatch\">Navajo</span> Nation (<span class=\"searchmatch\">Navajo</span>: Naabeehó Diné Biyaad), also known as Navajoland, <span class=\"searchmatch\">is</span> a Native American reservation of <span class=\"searchmatch\">Navajos</span> in the United States\n",
            "--------------------------------------------------\n",
            "Title: Navajo phonology\n",
            "Snippet: delimiters. This article <span class=\"searchmatch\">is</span> about the sound system of the <span class=\"searchmatch\">Navajo</span> <span class=\"searchmatch\">language</span>. The phonology of <span class=\"searchmatch\">Navajo</span> <span class=\"searchmatch\">is</span> intimately connected <span class=\"searchmatch\">to</span> its morphology. For example\n",
            "--------------------------------------------------\n",
            "Title: Code talker\n",
            "Snippet: formally developed based on the <span class=\"searchmatch\">languages</span> of the Comanche, Hopi, Meskwaki, and <span class=\"searchmatch\">Navajo</span> peoples. They used words from their <span class=\"searchmatch\">languages</span> for each letter of the English\n",
            "--------------------------------------------------\n",
            "Title: Navajo Language Academy\n",
            "Snippet: <span class=\"searchmatch\">Navajo</span> <span class=\"searchmatch\">Language</span> Academy (NLA; <span class=\"searchmatch\">Navajo</span> Diné Bizaad Naalkaah) <span class=\"searchmatch\">is</span> a non-profit educational and advocacy organization which focuses on the <span class=\"searchmatch\">Navajo</span> <span class=\"searchmatch\">language</span>\n",
            "--------------------------------------------------\n",
            "Title: Southern Athabaskan languages\n",
            "Snippet: first <span class=\"searchmatch\">language</span> was Southern Athabaskan. Geronimo (Goyaałé) who spoke Chiricahua was a famous raider and war leader. Manuelito spoke <span class=\"searchmatch\">Navajo</span> and <span class=\"searchmatch\">is</span> famous\n",
            "--------------------------------------------------\n",
            "Title: Long Walk of the Navajo\n",
            "Snippet: the <span class=\"searchmatch\">Navajo</span>, also called the Long Walk <span class=\"searchmatch\">to</span> Bosque Redondo (<span class=\"searchmatch\">Navajo</span>: Hwéeldi), was the 1864 deportation and attempted ethnic cleansing of the <span class=\"searchmatch\">Navajo</span> people\n",
            "--------------------------------------------------\n",
            "Title: Antelope Canyon\n",
            "Snippet: <span class=\"searchmatch\">Navajo</span> Upper Antelope Canyon <span class=\"searchmatch\">is</span> a slot canyon in the American Southwest, on <span class=\"searchmatch\">Navajo</span> land east of Lechee, Arizona. It includes six separate, scenic slot\n",
            "--------------------------------------------------\n",
            "Results for keyword: Floor plan of Navajo language\n",
            "\n",
            "Title: Uranium mining and the Navajo people\n",
            "Snippet:  the risks <span class=\"searchmatch\">of</span> lung cancer due to uranium mining were unknown to the workers, and the lack <span class=\"searchmatch\">of</span> a word for radiation in the <span class=\"searchmatch\">Navajo</span> <span class=\"searchmatch\">language</span> left the miners\n",
            "--------------------------------------------------\n",
            "Title: Canyon de Chelly National Monument\n",
            "Snippet: known as the Anasazi) to the <span class=\"searchmatch\">Navajo</span>. The monument covers 83,840 acres (131 sq mi; 339 km2) and encompasses the <span class=\"searchmatch\">floors</span> and rims <span class=\"searchmatch\">of</span> the three major canyons:\n",
            "--------------------------------------------------\n",
            "Title: Diné Bahaneʼ\n",
            "Snippet: Baahaneʼ (<span class=\"searchmatch\">Navajo</span>: &quot;Story <span class=\"searchmatch\">of</span> the People&quot;), the <span class=\"searchmatch\">Navajo</span> creation myth, describes the prehistoric emergence <span class=\"searchmatch\">of</span> the <span class=\"searchmatch\">Navajo</span> as a part <span class=\"searchmatch\">of</span> the <span class=\"searchmatch\">Navajo</span> religious\n",
            "--------------------------------------------------\n",
            "Title: Puebloans\n",
            "Snippet: Puebloan <span class=\"searchmatch\">languages</span>, as well as <span class=\"searchmatch\">Navajo</span>, are tonal. However, the tone is not usually shown in the spelling <span class=\"searchmatch\">of</span> these <span class=\"searchmatch\">languages</span> save for <span class=\"searchmatch\">Navajo</span>, Towa, and\n",
            "--------------------------------------------------\n",
            "Title: Western use of the swastika in the early 20th century\n",
            "Snippet: added to the center <span class=\"searchmatch\">of</span> the flag to distance it from the symbol <span class=\"searchmatch\">of</span> the Nazi party. Because this was a popular symbol with the <span class=\"searchmatch\">Navajo</span> people, the Arizona\n",
            "--------------------------------------------------\n",
            "Title: San Juan River (Colorado River tributary)\n",
            "Snippet: to the north <span class=\"searchmatch\">of</span> <span class=\"searchmatch\">Navajo</span> Mountain and 80 miles (130 km) northeast <span class=\"searchmatch\">of</span> Page, Arizona. Tributaries <span class=\"searchmatch\">of</span> the upper San Juan River above <span class=\"searchmatch\">Navajo</span> Dam include the\n",
            "--------------------------------------------------\n",
            "Title: Grand Canyon\n",
            "Snippet: Canyon (Hopi: Öngtupqa, Yavapai: Wi:kaʼi:la, <span class=\"searchmatch\">Navajo</span>: Bidááʼ Haʼaztʼiʼ Tsékooh, Southern Paiute <span class=\"searchmatch\">language</span>: Paxa’uipi, Spanish: Gran Cañón or Gran Cañón\n",
            "--------------------------------------------------\n",
            "Title: Arizona\n",
            "Snippet: Arizona (/ˌærɪˈzoʊnə/ (listen) ARR-ih-ZOH-nə; <span class=\"searchmatch\">Navajo</span>: Hoozdo Hahoodzo [hoː˥z̥to˩ ha˩hoː˩tso˩]; O'odham: Alĭ ṣonak [ˈaɭi̥ ˈʂɔnak]) is a state in the Southwestern\n",
            "--------------------------------------------------\n",
            "Title: Ancestral Puebloans\n",
            "Snippet: by <span class=\"searchmatch\">Navajo</span>. Contemporary Puebloans object to the use <span class=\"searchmatch\">of</span> this term, with some viewing it as derogatory. The Ancestral Puebloans lived in a range <span class=\"searchmatch\">of</span> structures\n",
            "--------------------------------------------------\n",
            "Title: Address\n",
            "Snippet: countries. For example, the <span class=\"searchmatch\">Navajo</span> Nation in the United States was still assigning rural addresses as <span class=\"searchmatch\">of</span> 2015 and the lack <span class=\"searchmatch\">of</span> addresses can be used for\n",
            "--------------------------------------------------\n"
          ]
        }
      ]
    },
    {
      "cell_type": "code",
      "source": [
        "# Wikipedia with summary and 50 results per keyword line, no URLs\n",
        "import requests\n",
        "from transformers import pipeline\n",
        "\n",
        "keywords = [\n",
        "    \"importance of X\",\n",
        "    \"ideal behavior of X\",\n",
        "    \"ideal vs. realistic behavior of X\",\n",
        "    \"significance of X\",\n",
        "    \"applications of X\",\n",
        "    \"physical significance of X\",\n",
        "    \"geometry for the measurement of X\",\n",
        "    \"typical characteristics of X\",\n",
        "    \"with and without X\",\n",
        "    \"what does X represent?\",\n",
        "    \"what is the concept of X?\",\n",
        "    \"taxonomy of X\",\n",
        "    \"table of X\",\n",
        "    \"X table\",\n",
        "    \"difference between X\",\n",
        "    \"the analog of X\",\n",
        "    \"physical meaning of X\",\n",
        "    \"X symbolism\",\n",
        "    \"symbolism of X\",\n",
        "    \"iconographic meaning of X\",\n",
        "    \"why is X important?\",\n",
        "    \"generic model of a X\",\n",
        "    \"generic model representation of X\",\n",
        "    \"schematic representation of X\",\n",
        "    \"Linear model of X\",\n",
        "    \"X is related to?\",\n",
        "    \"Floor plan of X\"\n",
        "]\n",
        "\n",
        "base_url = \"https://en.wikipedia.org/w/api.php\"\n",
        "params = {\n",
        "    \"action\": \"query\",\n",
        "    \"format\": \"json\",\n",
        "    \"list\": \"search\",\n",
        "    \"srsearch\": \"\",\n",
        "    \"srprop\": \"snippet\"\n",
        "}\n",
        "\n",
        "entry = input(\"Enter the word for X: \")\n",
        "\n",
        "summarizer = pipeline(\"summarization\")\n",
        "\n",
        "result_count = 0\n",
        "max_results = 50\n",
        "\n",
        "for keyword in keywords:\n",
        "    keyword_with_entry = keyword.replace(\"X\", entry)\n",
        "    params[\"srsearch\"] = keyword_with_entry\n",
        "    response = requests.get(base_url, params=params).json()\n",
        "    results = response[\"query\"][\"search\"]\n",
        "    if len(results) > 0:\n",
        "        print(f\"Results for keyword: {keyword_with_entry}\\n\")\n",
        "        for result in results:\n",
        "            if result_count >= max_results:\n",
        "                break\n",
        "            title = result[\"title\"]\n",
        "            snippet = result[\"snippet\"]\n",
        "            summary = summarizer(snippet, max_length=100, min_length=30, do_sample=False)[0]['summary_text']\n",
        "            print(f\"Title: {title}\")\n",
        "            print(f\"Summary: {summary}\")\n",
        "            print(\"--------------------------------------------------\")\n",
        "            result_count += 1\n",
        "    else:\n",
        "        print(f\"No results found for keyword: {keyword_with_entry}\\n\")\n",
        "    \n",
        "    if result_count >= max_results:\n",
        "        break\n"
      ],
      "metadata": {
        "id": "5S__4THApyAx",
        "outputId": "8c8afbc9-9ee9-4be1-f075-ed8703861f47",
        "colab": {
          "base_uri": "https://localhost:8080/"
        }
      },
      "execution_count": 9,
      "outputs": [
        {
          "name": "stdout",
          "output_type": "stream",
          "text": [
            "Enter the word for X: Navajo language\n"
          ]
        },
        {
          "output_type": "stream",
          "name": "stderr",
          "text": [
            "No model was supplied, defaulted to sshleifer/distilbart-cnn-12-6 and revision a4f8f3e (https://huggingface.co/sshleifer/distilbart-cnn-12-6).\n",
            "Using a pipeline without specifying a model name and revision in production is not recommended.\n",
            "Your max_length is set to 100, but your input_length is only 87. Since this is a summarization task, where outputs shorter than the input are typically wanted, you might consider decreasing max_length manually, e.g. summarizer('...', max_length=43)\n"
          ]
        },
        {
          "output_type": "stream",
          "name": "stdout",
          "text": [
            "Results for keyword: importance of Navajo language\n",
            "\n",
            "Title: Navajo\n",
            "Summary:  The <span class=\"searchmatch\">Navajo</span> Reservation is slightly larger than the state of West Virginia . The reservation is located in Arizona, Utah, and New Mexico .\n",
            "--------------------------------------------------\n"
          ]
        },
        {
          "output_type": "stream",
          "name": "stderr",
          "text": [
            "Your max_length is set to 100, but your input_length is only 53. Since this is a summarization task, where outputs shorter than the input are typically wanted, you might consider decreasing max_length manually, e.g. summarizer('...', max_length=26)\n"
          ]
        },
        {
          "output_type": "stream",
          "name": "stdout",
          "text": [
            "Title: Miss Navajo\n",
            "Summary:  Miss <span class=\"searchmatch\">Navajo</span> Council, Inc official site and film Miss . Miss . Navajo is a national Miss of the Navajo .\n",
            "--------------------------------------------------\n"
          ]
        },
        {
          "output_type": "stream",
          "name": "stderr",
          "text": [
            "Your max_length is set to 100, but your input_length is only 74. Since this is a summarization task, where outputs shorter than the input are typically wanted, you might consider decreasing max_length manually, e.g. summarizer('...', max_length=37)\n"
          ]
        },
        {
          "output_type": "stream",
          "name": "stdout",
          "text": [
            "Title: Navajo Livestock Reduction\n",
            "Summary:  Livestock Reduction was imposed by the United States government upon the <span class=\"searchmatch\">Navajo</span> Nation in the 1930s . The reduction was imposed during the Great Depression .\n",
            "--------------------------------------------------\n",
            "Title: Uranium mining and the Navajo people\n",
            "Summary:  The risks of lung cancer due to uranium mining were unknown to the workers . The lack of a word for radiation in the <span class=\"searchmatch\">Navajo</span> language left the miners at risk .\n",
            "--------------------------------------------------\n"
          ]
        },
        {
          "output_type": "stream",
          "name": "stderr",
          "text": [
            "Your max_length is set to 100, but your input_length is only 48. Since this is a summarization task, where outputs shorter than the input are typically wanted, you might consider decreasing max_length manually, e.g. summarizer('...', max_length=24)\n"
          ]
        },
        {
          "output_type": "stream",
          "name": "stdout",
          "text": [
            "Title: Sharon Burch\n",
            "Summary:  Many of her songs are in <span class=\"searchmatch\">Navajo</span> ways and living . Her songs capture the sacredness of Mother Earth, Father Sun and Mother Earth .\n",
            "--------------------------------------------------\n"
          ]
        },
        {
          "output_type": "stream",
          "name": "stderr",
          "text": [
            "Your max_length is set to 100, but your input_length is only 81. Since this is a summarization task, where outputs shorter than the input are typically wanted, you might consider decreasing max_length manually, e.g. summarizer('...', max_length=40)\n"
          ]
        },
        {
          "output_type": "stream",
          "name": "stdout",
          "text": [
            "Title: Navajo song ceremonial complex\n",
            "Summary:  The <span class=\"searchmatch\">Navajo</span> song ceremonial complex is a spiritual practice used by certain ceremonial people to restore balance and harmony in the world .\n",
            "--------------------------------------------------\n"
          ]
        },
        {
          "output_type": "stream",
          "name": "stderr",
          "text": [
            "Your max_length is set to 100, but your input_length is only 54. Since this is a summarization task, where outputs shorter than the input are typically wanted, you might consider decreasing max_length manually, e.g. summarizer('...', max_length=27)\n"
          ]
        },
        {
          "output_type": "stream",
          "name": "stdout",
          "text": [
            "Title: Indigenous education\n",
            "Summary:  Quantitatively, Lee examined <span class=\"searchmatch\">language</span> levels, usage, and lifespan experiences . Qualitatively and qualitatively interviewed students to learn .\n",
            "--------------------------------------------------\n"
          ]
        },
        {
          "output_type": "stream",
          "name": "stderr",
          "text": [
            "Your max_length is set to 100, but your input_length is only 62. Since this is a summarization task, where outputs shorter than the input are typically wanted, you might consider decreasing max_length manually, e.g. summarizer('...', max_length=31)\n"
          ]
        },
        {
          "output_type": "stream",
          "name": "stdout",
          "text": [
            "Title: Navajo trading posts\n",
            "Summary:  Trading posts flourished on the Navajo Indian Reservation in Arizona, New Mexico, and Utah from 1868 until about 1970 . Trading posts, usually owned by the Native Americans, were often owned by Native Americans .\n",
            "--------------------------------------------------\n"
          ]
        },
        {
          "output_type": "stream",
          "name": "stderr",
          "text": [
            "Your max_length is set to 100, but your input_length is only 95. Since this is a summarization task, where outputs shorter than the input are typically wanted, you might consider decreasing max_length manually, e.g. summarizer('...', max_length=47)\n"
          ]
        },
        {
          "output_type": "stream",
          "name": "stdout",
          "text": [
            "Title: Navajo Dam\n",
            "Summary:  The Navajo Dam is a dam on the San Juan River, a tributary <span class=\"searchmatch\">of the Colorado River, in northwestern New Mexico . The 402-foot (123 m) high high is the largest dam in the United States .\n",
            "--------------------------------------------------\n",
            "Title: American Sign Language\n",
            "Summary:  Sign is a natural language that serves as the predominant sign of language in the United States and most of the world's deaf communities . Sign is used in the majority of deaf communities in the U.S. Deaf communities .\n",
            "--------------------------------------------------\n"
          ]
        },
        {
          "output_type": "stream",
          "name": "stderr",
          "text": [
            "Your max_length is set to 100, but your input_length is only 79. Since this is a summarization task, where outputs shorter than the input are typically wanted, you might consider decreasing max_length manually, e.g. summarizer('...', max_length=39)\n"
          ]
        },
        {
          "output_type": "stream",
          "name": "stdout",
          "text": [
            "Results for keyword: ideal behavior of Navajo language\n",
            "\n"
          ]
        },
        {
          "output_type": "stream",
          "name": "stderr",
          "text": [
            "Your max_length is set to 100, but your input_length is only 66. Since this is a summarization task, where outputs shorter than the input are typically wanted, you might consider decreasing max_length manually, e.g. summarizer('...', max_length=33)\n"
          ]
        },
        {
          "output_type": "stream",
          "name": "stdout",
          "text": [
            "Title: Navajo medicine\n",
            "Summary:  Navajo medicine dates back thousands of years as many as many Navajo people . Medicine covers a range <span class=\"searchmatch\">of traditional healing practices .\n",
            "--------------------------------------------------\n"
          ]
        },
        {
          "output_type": "stream",
          "name": "stderr",
          "text": [
            "Your max_length is set to 100, but your input_length is only 53. Since this is a summarization task, where outputs shorter than the input are typically wanted, you might consider decreasing max_length manually, e.g. summarizer('...', max_length=26)\n"
          ]
        },
        {
          "output_type": "stream",
          "name": "stdout",
          "text": [
            "Title: Apache\n",
            "Summary:  Apache communities in Coyotero, Tonto (Coyotero and Tonto) Distant cousins <span class=\"searchmatch\">of the Apache are the Apache, with whom they share the Southern Athabaskan languages .\n",
            "--------------------------------------------------\n"
          ]
        },
        {
          "output_type": "stream",
          "name": "stderr",
          "text": [
            "Your max_length is set to 100, but your input_length is only 81. Since this is a summarization task, where outputs shorter than the input are typically wanted, you might consider decreasing max_length manually, e.g. summarizer('...', max_length=40)\n"
          ]
        },
        {
          "output_type": "stream",
          "name": "stdout",
          "text": [
            "Title: Rodent\n",
            "Summary:  The Navajo people ate prairie dog baked in mud, while the Paiute ate gophers, squirrels, gophers and squirrels . muskrats, porcupines and groundhogs are eaten by humans .\n",
            "--------------------------------------------------\n"
          ]
        },
        {
          "output_type": "stream",
          "name": "stderr",
          "text": [
            "Your max_length is set to 100, but your input_length is only 47. Since this is a summarization task, where outputs shorter than the input are typically wanted, you might consider decreasing max_length manually, e.g. summarizer('...', max_length=23)\n"
          ]
        },
        {
          "output_type": "stream",
          "name": "stdout",
          "text": [
            "Title: Indigenous education\n",
            "Summary:  Quantitatively, Lee examined <span class=\"searchmatch\">language</span> levels, usage, and lifespan experiences . Qualitatively and qualitatively interviewed students to learn .\n",
            "--------------------------------------------------\n"
          ]
        },
        {
          "output_type": "stream",
          "name": "stderr",
          "text": [
            "Your max_length is set to 100, but your input_length is only 84. Since this is a summarization task, where outputs shorter than the input are typically wanted, you might consider decreasing max_length manually, e.g. summarizer('...', max_length=42)\n"
          ]
        },
        {
          "output_type": "stream",
          "name": "stdout",
          "text": [
            "Title: Lesbian\n",
            "Summary:  Used for women in relation to their sexual identity or sexual . identity or . sexual . orientation, regardless of sexual orientation, or as an adjective to characterize or associate . Adjective used to describe or associate women's behavior or sexual identity .\n",
            "--------------------------------------------------\n"
          ]
        },
        {
          "output_type": "stream",
          "name": "stderr",
          "text": [
            "Your max_length is set to 100, but your input_length is only 66. Since this is a summarization task, where outputs shorter than the input are typically wanted, you might consider decreasing max_length manually, e.g. summarizer('...', max_length=33)\n"
          ]
        },
        {
          "output_type": "stream",
          "name": "stdout",
          "text": [
            "Title: American black bear\n",
            "Summary:  Apache Folklore, University Press, ISBN 0-870818181-496-6 National Park Service. (2020, September 10). The story <span class=\"searchmatch\">of</span> Sleeping Sleeping .\n",
            "--------------------------------------------------\n"
          ]
        },
        {
          "output_type": "stream",
          "name": "stderr",
          "text": [
            "Your max_length is set to 100, but your input_length is only 59. Since this is a summarization task, where outputs shorter than the input are typically wanted, you might consider decreasing max_length manually, e.g. summarizer('...', max_length=29)\n"
          ]
        },
        {
          "output_type": "stream",
          "name": "stdout",
          "text": [
            "Title: Witchcraft\n",
            "Summary:  In the <span class=\"searchmatch\">Navajo</span> language, yee naaldlooshii translates as \"Yee naaloooshii\" The Navajo people are believed to take the forms of animals in order to travel in secret and harm innocent .\n",
            "--------------------------------------------------\n"
          ]
        },
        {
          "output_type": "stream",
          "name": "stderr",
          "text": [
            "Your max_length is set to 100, but your input_length is only 52. Since this is a summarization task, where outputs shorter than the input are typically wanted, you might consider decreasing max_length manually, e.g. summarizer('...', max_length=26)\n"
          ]
        },
        {
          "output_type": "stream",
          "name": "stdout",
          "text": [
            "Title: Time zone\n",
            "Summary:  Four <span class=\"searchmatch\">ideal</span> time zones had north–south borders, the first centered on Washington, D.C., but by 1872 the first was centered on meridian 75° west of Greenwich .\n",
            "--------------------------------------------------\n"
          ]
        },
        {
          "output_type": "stream",
          "name": "stderr",
          "text": [
            "Your max_length is set to 100, but your input_length is only 96. Since this is a summarization task, where outputs shorter than the input are typically wanted, you might consider decreasing max_length manually, e.g. summarizer('...', max_length=48)\n"
          ]
        },
        {
          "output_type": "stream",
          "name": "stdout",
          "text": [
            "Title: Sociology of gender\n",
            "Summary:  Native American spirit had gender roles different from men and women . In Native American culture, a third gender has existed . In Navajo culture, the two spirit had roles that were different from those of men and woman .\n",
            "--------------------------------------------------\n",
            "Title: Cultural assimilation of Native Americans\n",
            "Summary:  Peter Iverson, Diné: A History <span class=\"searchmatch\">of</span> the <span>Navajos, Illinois Press. pp.113–15. ISBN 9780252012853.\n",
            "--------------------------------------------------\n"
          ]
        },
        {
          "output_type": "stream",
          "name": "stderr",
          "text": [
            "Your max_length is set to 100, but your input_length is only 96. Since this is a summarization task, where outputs shorter than the input are typically wanted, you might consider decreasing max_length manually, e.g. summarizer('...', max_length=48)\n"
          ]
        },
        {
          "output_type": "stream",
          "name": "stdout",
          "text": [
            "Results for keyword: ideal vs. realistic behavior of Navajo language\n",
            "\n"
          ]
        },
        {
          "output_type": "stream",
          "name": "stderr",
          "text": [
            "Your max_length is set to 100, but your input_length is only 63. Since this is a summarization task, where outputs shorter than the input are typically wanted, you might consider decreasing max_length manually, e.g. summarizer('...', max_length=31)\n"
          ]
        },
        {
          "output_type": "stream",
          "name": "stdout",
          "text": [
            "Title: Cultural assimilation of Native Americans\n",
            "Summary:  Peter Iverson, Diné: A History <span class=\"searchmatch\">of</span> the <span>Navajos, Illinois Press. pp.113–15. ISBN 9780252012853.\n",
            "--------------------------------------------------\n"
          ]
        },
        {
          "output_type": "stream",
          "name": "stderr",
          "text": [
            "Your max_length is set to 100, but your input_length is only 67. Since this is a summarization task, where outputs shorter than the input are typically wanted, you might consider decreasing max_length manually, e.g. summarizer('...', max_length=33)\n"
          ]
        },
        {
          "output_type": "stream",
          "name": "stdout",
          "text": [
            "Title: Sorcerer (film)\n",
            "Summary:  The film's climax features a surrealistic landscape on the Navajo Nation . The film is set in the Bisti/De-Na-Zin region .\n",
            "--------------------------------------------------\n"
          ]
        },
        {
          "output_type": "stream",
          "name": "stderr",
          "text": [
            "Your max_length is set to 100, but your input_length is only 51. Since this is a summarization task, where outputs shorter than the input are typically wanted, you might consider decreasing max_length manually, e.g. summarizer('...', max_length=25)\n"
          ]
        },
        {
          "output_type": "stream",
          "name": "stdout",
          "text": [
            "Title: American frontier\n",
            "Summary:  War <span class=\"searchmatch\">of <span> 1862 (Minnesota Historical Society, 2nd ed. 2001) Stan Hoig, The Sand Creek Massacre (1974) Richard C. Hopkins, &quot;Kit Carson and the <spanclass>Navajo</span> Expedition .\n",
            "--------------------------------------------------\n",
            "Title: List of Metal Gear characters\n",
            "Summary:  Staff gave the characters a more realistic look starting with Metal Gear Solid 2: Sons <span class=\"searchmatch\">of <span> Liberty . The staff initially had doubts about PlayStation 2 .\n",
            "--------------------------------------------------\n"
          ]
        },
        {
          "output_type": "stream",
          "name": "stderr",
          "text": [
            "Your max_length is set to 100, but your input_length is only 93. Since this is a summarization task, where outputs shorter than the input are typically wanted, you might consider decreasing max_length manually, e.g. summarizer('...', max_length=46)\n"
          ]
        },
        {
          "output_type": "stream",
          "name": "stdout",
          "text": [
            "Results for keyword: significance of Navajo language\n",
            "\n"
          ]
        },
        {
          "output_type": "stream",
          "name": "stderr",
          "text": [
            "Your max_length is set to 100, but your input_length is only 64. Since this is a summarization task, where outputs shorter than the input are typically wanted, you might consider decreasing max_length manually, e.g. summarizer('...', max_length=32)\n"
          ]
        },
        {
          "output_type": "stream",
          "name": "stdout",
          "text": [
            "Title: Navajo phonology\n",
            "Summary:  The phonology <span class=\"searchmatch\">of </span> the <span>Navajo</span> language is intimately connected to its morphology . For example, the entire range of contrastive consonants can be found in Navajo .\n",
            "--------------------------------------------------\n"
          ]
        },
        {
          "output_type": "stream",
          "name": "stderr",
          "text": [
            "Your max_length is set to 100, but your input_length is only 89. Since this is a summarization task, where outputs shorter than the input are typically wanted, you might consider decreasing max_length manually, e.g. summarizer('...', max_length=44)\n"
          ]
        },
        {
          "output_type": "stream",
          "name": "stdout",
          "text": [
            "Title: Navajo Mountain\n",
            "Summary:  The summit is the highest point on the <span class=\"searchmatch\">Navajo</span> Nation . It is a prominent free-standing mountain .\n",
            "--------------------------------------------------\n",
            "Title: Hogan\n",
            "Summary:  hogan is the primary, traditional dwelling <span class=\"searchmatch\">of the <span>Navajo</span> people . hooghan [hoːɣan] is a traditional dwelling of the Navajo people .\n",
            "--------------------------------------------------\n"
          ]
        },
        {
          "output_type": "stream",
          "name": "stderr",
          "text": [
            "Your max_length is set to 100, but your input_length is only 99. Since this is a summarization task, where outputs shorter than the input are typically wanted, you might consider decreasing max_length manually, e.g. summarizer('...', max_length=49)\n"
          ]
        },
        {
          "output_type": "stream",
          "name": "stdout",
          "text": [
            "Title: Dinétah\n",
            "Summary:  In the <span class=\"searchmatch\">Navajo</span> language, the word &quot;Dinétah means \"among the people\"\n",
            "--------------------------------------------------\n"
          ]
        },
        {
          "output_type": "stream",
          "name": "stderr",
          "text": [
            "Your max_length is set to 100, but your input_length is only 79. Since this is a summarization task, where outputs shorter than the input are typically wanted, you might consider decreasing max_length manually, e.g. summarizer('...', max_length=39)\n"
          ]
        },
        {
          "output_type": "stream",
          "name": "stdout",
          "text": [
            "Title: Shiprock\n",
            "Summary:  Tsé Bitʼaʼí is a monadnock rising nearly 1,583 feet (482.5 m) above the high-desert plain of the Navajo Nation .\n",
            "--------------------------------------------------\n"
          ]
        },
        {
          "output_type": "stream",
          "name": "stderr",
          "text": [
            "Your max_length is set to 100, but your input_length is only 69. Since this is a summarization task, where outputs shorter than the input are typically wanted, you might consider decreasing max_length manually, e.g. summarizer('...', max_length=34)\n"
          ]
        },
        {
          "output_type": "stream",
          "name": "stdout",
          "text": [
            "Title: Bannock (Indigenous American)\n",
            "Summary:  Native American language is a staple to tribes in North America . Native Americans often speak of European influence, but the Navajo language offers clues to European influence .\n",
            "--------------------------------------------------\n"
          ]
        },
        {
          "output_type": "stream",
          "name": "stderr",
          "text": [
            "Your max_length is set to 100, but your input_length is only 63. Since this is a summarization task, where outputs shorter than the input are typically wanted, you might consider decreasing max_length manually, e.g. summarizer('...', max_length=31)\n"
          ]
        },
        {
          "output_type": "stream",
          "name": "stdout",
          "text": [
            "Title: Uranium mining and the Navajo people\n",
            "Summary:  Language left the miners unaware of the associated health hazards . The cultural <span class=\"searchmatch\">significance of water for the <span>Navajo</span> people and the environmental damage .\n",
            "--------------------------------------------------\n"
          ]
        },
        {
          "output_type": "stream",
          "name": "stderr",
          "text": [
            "Your max_length is set to 100, but your input_length is only 74. Since this is a summarization task, where outputs shorter than the input are typically wanted, you might consider decreasing max_length manually, e.g. summarizer('...', max_length=37)\n"
          ]
        },
        {
          "output_type": "stream",
          "name": "stdout",
          "text": [
            "Title: Navajo medicine\n",
            "Summary:  Navajo healing practices and Western medical procedure coexist as the former is set apart as a way <span class=\"searchmatch\">of the age-long <span> life-long spiritual <span>.significance has allowed the two cultures to coexist .\n",
            "--------------------------------------------------\n"
          ]
        },
        {
          "output_type": "stream",
          "name": "stderr",
          "text": [
            "Your max_length is set to 100, but your input_length is only 62. Since this is a summarization task, where outputs shorter than the input are typically wanted, you might consider decreasing max_length manually, e.g. summarizer('...', max_length=31)\n"
          ]
        },
        {
          "output_type": "stream",
          "name": "stdout",
          "text": [
            "Title: Robert W. Young\n",
            "Summary:  American linguist known for his work on the <span class=\"searchmatch\">Navajo</span> language . He was a professor emeritus of linguistics at the University of New Mexico .\n",
            "--------------------------------------------------\n",
            "Title: Navajo Dam\n",
            "Summary:  The Navajo Dam is a dam on the San Juan River, a tributary <span class=\"searchmatch\">of the Colorado River, in northwestern New Mexico . The 402-foot (123 m) high high is the largest dam in the United States .\n",
            "--------------------------------------------------\n"
          ]
        },
        {
          "output_type": "stream",
          "name": "stderr",
          "text": [
            "Your max_length is set to 100, but your input_length is only 86. Since this is a summarization task, where outputs shorter than the input are typically wanted, you might consider decreasing max_length manually, e.g. summarizer('...', max_length=43)\n"
          ]
        },
        {
          "output_type": "stream",
          "name": "stdout",
          "text": [
            "Results for keyword: applications of Navajo language\n",
            "\n"
          ]
        },
        {
          "output_type": "stream",
          "name": "stderr",
          "text": [
            "Your max_length is set to 100, but your input_length is only 84. Since this is a summarization task, where outputs shorter than the input are typically wanted, you might consider decreasing max_length manually, e.g. summarizer('...', max_length=42)\n"
          ]
        },
        {
          "output_type": "stream",
          "name": "stdout",
          "text": [
            "Title: Navajo Nation\n",
            "Summary:  Navajoland is a Native American reservation <span class=\"searchmatch\">of <span> <span searchmatch>Navajos in the United States . Navajo Nation is also known as Navajooland .\n",
            "--------------------------------------------------\n"
          ]
        },
        {
          "output_type": "stream",
          "name": "stderr",
          "text": [
            "Your max_length is set to 100, but your input_length is only 75. Since this is a summarization task, where outputs shorter than the input are typically wanted, you might consider decreasing max_length manually, e.g. summarizer('...', max_length=37)\n"
          ]
        },
        {
          "output_type": "stream",
          "name": "stdout",
          "text": [
            "Title: Navajo Nation Council\n",
            "Summary:  The Navajo Nation Council is the Legislative Branch of the Navajo Nation government . The council meets four times per year . It is the legislative branch of the Navajo Nation Government .\n",
            "--------------------------------------------------\n"
          ]
        },
        {
          "output_type": "stream",
          "name": "stderr",
          "text": [
            "Your max_length is set to 100, but your input_length is only 89. Since this is a summarization task, where outputs shorter than the input are typically wanted, you might consider decreasing max_length manually, e.g. summarizer('...', max_length=44)\n"
          ]
        },
        {
          "output_type": "stream",
          "name": "stdout",
          "text": [
            "Title: Google Translate\n",
            "Summary:  Google Translate supports 133 languages at various levels . As of June 2023, it is claimed to support 133 languages . It also claims to support software extensions and software extensions .\n",
            "--------------------------------------------------\n"
          ]
        },
        {
          "output_type": "stream",
          "name": "stderr",
          "text": [
            "Your max_length is set to 100, but your input_length is only 74. Since this is a summarization task, where outputs shorter than the input are typically wanted, you might consider decreasing max_length manually, e.g. summarizer('...', max_length=37)\n"
          ]
        },
        {
          "output_type": "stream",
          "name": "stdout",
          "text": [
            "Title: Hogan\n",
            "Summary:  hogan is the primary, traditional dwelling <span class=\"searchmatch\">of the <span>Navajo</span> people . hooghan [hoːɣan] is a traditional dwelling of the Navajo people .\n",
            "--------------------------------------------------\n"
          ]
        },
        {
          "output_type": "stream",
          "name": "stderr",
          "text": [
            "Your max_length is set to 100, but your input_length is only 74. Since this is a summarization task, where outputs shorter than the input are typically wanted, you might consider decreasing max_length manually, e.g. summarizer('...', max_length=37)\n"
          ]
        },
        {
          "output_type": "stream",
          "name": "stdout",
          "text": [
            "Title: Ben Shelly\n",
            "Summary:  He was the 7th president of the Navajo Nation . He was also the first president to have been elected both president and vice president .\n",
            "--------------------------------------------------\n"
          ]
        },
        {
          "output_type": "stream",
          "name": "stderr",
          "text": [
            "Your max_length is set to 100, but your input_length is only 87. Since this is a summarization task, where outputs shorter than the input are typically wanted, you might consider decreasing max_length manually, e.g. summarizer('...', max_length=43)\n"
          ]
        },
        {
          "output_type": "stream",
          "name": "stdout",
          "text": [
            "Title: Uranium mining and the Navajo people\n",
            "Summary:  The risks of lung cancer due to uranium mining were unknown to the workers . The lack of a word for radiation in the <span class=\"searchmatch\">Navajo</span> language left the miners at risk .\n",
            "--------------------------------------------------\n"
          ]
        },
        {
          "output_type": "stream",
          "name": "stderr",
          "text": [
            "Your max_length is set to 100, but your input_length is only 74. Since this is a summarization task, where outputs shorter than the input are typically wanted, you might consider decreasing max_length manually, e.g. summarizer('...', max_length=37)\n"
          ]
        },
        {
          "output_type": "stream",
          "name": "stdout",
          "text": [
            "Title: Welsh language\n",
            "Summary:  Welsh is a Brittonic subgroup that is native to the Welsh people . Welsh is spoken in Welsh dialect . Gymraeg is a Celtic Celtic language .\n",
            "--------------------------------------------------\n"
          ]
        },
        {
          "output_type": "stream",
          "name": "stderr",
          "text": [
            "Your max_length is set to 100, but your input_length is only 81. Since this is a summarization task, where outputs shorter than the input are typically wanted, you might consider decreasing max_length manually, e.g. summarizer('...', max_length=40)\n"
          ]
        },
        {
          "output_type": "stream",
          "name": "stdout",
          "text": [
            "Title: Animacy\n",
            "Summary:  Athabaskan <span class=\"searchmatch\">languages have been subject to intense study . The Tamil language has a noun . Tamil is a Tamil language .\n",
            "--------------------------------------------------\n"
          ]
        },
        {
          "output_type": "stream",
          "name": "stderr",
          "text": [
            "Your max_length is set to 100, but your input_length is only 95. Since this is a summarization task, where outputs shorter than the input are typically wanted, you might consider decreasing max_length manually, e.g. summarizer('...', max_length=47)\n"
          ]
        },
        {
          "output_type": "stream",
          "name": "stdout",
          "text": [
            "Title: Rosetta Stone (software)\n",
            "Summary:  First awards were given to the Chitimacha Tribe of Louisiana and the Navajo of Navajo Nation . The Endangered Endangered Language was also awarded to the Native Americans of Louisiana .\n",
            "--------------------------------------------------\n",
            "Title: American Sign Language\n",
            "Summary:  Sign is a natural language that serves as the predominant sign of language in the United States and most of the world's deaf communities . Sign is used in the majority of deaf communities in the U.S. Deaf communities .\n",
            "--------------------------------------------------\n"
          ]
        },
        {
          "output_type": "stream",
          "name": "stderr",
          "text": [
            "Your max_length is set to 100, but your input_length is only 64. Since this is a summarization task, where outputs shorter than the input are typically wanted, you might consider decreasing max_length manually, e.g. summarizer('...', max_length=32)\n"
          ]
        },
        {
          "output_type": "stream",
          "name": "stdout",
          "text": [
            "Results for keyword: physical significance of Navajo language\n",
            "\n"
          ]
        },
        {
          "output_type": "stream",
          "name": "stderr",
          "text": [
            "Your max_length is set to 100, but your input_length is only 99. Since this is a summarization task, where outputs shorter than the input are typically wanted, you might consider decreasing max_length manually, e.g. summarizer('...', max_length=49)\n"
          ]
        },
        {
          "output_type": "stream",
          "name": "stdout",
          "text": [
            "Title: Navajo Mountain\n",
            "Summary:  The summit is the highest point on the <span class=\"searchmatch\">Navajo</span> Nation . It is a prominent free-standing mountain .\n",
            "--------------------------------------------------\n"
          ]
        },
        {
          "output_type": "stream",
          "name": "stderr",
          "text": [
            "Your max_length is set to 100, but your input_length is only 63. Since this is a summarization task, where outputs shorter than the input are typically wanted, you might consider decreasing max_length manually, e.g. summarizer('...', max_length=31)\n"
          ]
        },
        {
          "output_type": "stream",
          "name": "stdout",
          "text": [
            "Title: Shiprock\n",
            "Summary:  Tsé Bitʼaʼí is a monadnock rising nearly 1,583 feet (482.5 m) above the high-desert plain of the Navajo Nation .\n",
            "--------------------------------------------------\n"
          ]
        },
        {
          "output_type": "stream",
          "name": "stderr",
          "text": [
            "Your max_length is set to 100, but your input_length is only 85. Since this is a summarization task, where outputs shorter than the input are typically wanted, you might consider decreasing max_length manually, e.g. summarizer('...', max_length=42)\n"
          ]
        },
        {
          "output_type": "stream",
          "name": "stdout",
          "text": [
            "Title: Navajo medicine\n",
            "Summary:  Navajo healing practices and Western medical procedure coexist as the former is set apart as a way <span class=\"searchmatch\">of the age-long <span> life-long spiritual <span>.significance has allowed the two cultures to coexist .\n",
            "--------------------------------------------------\n"
          ]
        },
        {
          "output_type": "stream",
          "name": "stderr",
          "text": [
            "Your max_length is set to 100, but your input_length is only 64. Since this is a summarization task, where outputs shorter than the input are typically wanted, you might consider decreasing max_length manually, e.g. summarizer('...', max_length=32)\n"
          ]
        },
        {
          "output_type": "stream",
          "name": "stdout",
          "text": [
            "Title: Languages of Canada\n",
            "Summary:  One language is in use by the sole <span class=\"searchmatch\">Navajo</span> clan . The language was born out of the Oneida Nation . It has several languages under its umbrella .\n",
            "--------------------------------------------------\n"
          ]
        },
        {
          "output_type": "stream",
          "name": "stderr",
          "text": [
            "Your max_length is set to 100, but your input_length is only 58. Since this is a summarization task, where outputs shorter than the input are typically wanted, you might consider decreasing max_length manually, e.g. summarizer('...', max_length=29)\n"
          ]
        },
        {
          "output_type": "stream",
          "name": "stdout",
          "text": [
            "Title: Peyote\n",
            "Summary:  Navajo Nation now has the most members of the Native American Church . The Utes. did not mention the use of peyote before its introduction by the neighboring Utes .\n",
            "--------------------------------------------------\n",
            "Title: Western Apache language\n",
            "Summary:  Western Apache is most closely related to other Southern Athabaskan <span class=\"searchmatch\">languages </span> like Navajo, Chiricahua Apache, Mescalero Apache, Lipan Apache, Plains Apache .\n",
            "--------------------------------------------------\n"
          ]
        }
      ]
    },
    {
      "cell_type": "code",
      "source": [
        "# Wikipedia results with summary and URLs\n",
        "import requests\n",
        "from transformers import pipeline\n",
        "import pyshorteners\n",
        "\n",
        "keywords = [\n",
        "    \"importance of X\",\n",
        "    \"ideal behavior of X\",\n",
        "    \"ideal vs. realistic behavior of X\",\n",
        "    \"significance of X\",\n",
        "    \"applications of X\",\n",
        "    \"physical significance of X\",\n",
        "    \"geometry for the measurement of X\",\n",
        "    \"typical characteristics of X\",\n",
        "    \"with and without X\",\n",
        "    \"what does X represent?\",\n",
        "    \"what is the concept of X?\",\n",
        "    \"taxonomy of X\",\n",
        "    \"table of X\",\n",
        "    \"X table\",\n",
        "    \"difference between X\",\n",
        "    \"the analog of X\",\n",
        "    \"physical meaning of X\",\n",
        "    \"X symbolism\",\n",
        "    \"symbolism of X\",\n",
        "    \"iconographic meaning of X\",\n",
        "    \"why is X important?\",\n",
        "    \"generic model of a X\",\n",
        "    \"generic model representation of X\",\n",
        "    \"schematic representation of X\",\n",
        "    \"Linear model of X\",\n",
        "    \"X is related to?\",\n",
        "    \"Floor plan of X\"\n",
        "]\n",
        "\n",
        "base_url = \"https://en.wikipedia.org/w/api.php\"\n",
        "params = {\n",
        "    \"action\": \"query\",\n",
        "    \"format\": \"json\",\n",
        "    \"list\": \"search\",\n",
        "    \"srsearch\": \"\",\n",
        "    \"srprop\": \"snippet\"\n",
        "}\n",
        "\n",
        "entry = input(\"Enter the word for X: \")\n",
        "\n",
        "summarizer = pipeline(\"summarization\")\n",
        "shortener = pyshorteners.Shortener()\n",
        "\n",
        "for keyword in keywords:\n",
        "    keyword_with_entry = keyword.replace(\"X\", entry)\n",
        "    params[\"srsearch\"] = keyword_with_entry\n",
        "    response = requests.get(base_url, params=params).json()\n",
        "    results = response[\"query\"][\"search\"]\n",
        "    if len(results) > 0:\n",
        "        print(f\"Results for keyword: {keyword_with_entry}\\n\")\n",
        "        for i, result in enumerate(results[:4]):\n",
        "            title = result[\"title\"]\n",
        "            snippet = result[\"snippet\"]\n",
        "            summary = summarizer(snippet, max_length=100, min_length=30, do_sample=False)[0]['summary_text']\n",
        "            page_url = f\"https://en.wikipedia.org/wiki/{title.replace(' ', '_')}\"\n",
        "            shortened_url = shortener.tinyurl.short(page_url)\n",
        "            print(f\"Result {i+1}: {title}\")\n",
        "            print(f\"Summary: {summary}\")\n",
        "            print(f\"URL: {shortened_url}\")\n",
        "            print(\"--------------------------------------------------\")\n",
        "    else:\n",
        "        print(f\"No results found for keyword: {keyword_with_entry}\\n\")\n"
      ],
      "metadata": {
        "id": "ObGRi__Op0IJ",
        "outputId": "bbec058a-9a96-4a73-d7b2-054718e433c1",
        "colab": {
          "base_uri": "https://localhost:8080/"
        }
      },
      "execution_count": 14,
      "outputs": [
        {
          "name": "stdout",
          "output_type": "stream",
          "text": [
            "Enter the word for X: Navajo language\n"
          ]
        },
        {
          "output_type": "stream",
          "name": "stderr",
          "text": [
            "No model was supplied, defaulted to sshleifer/distilbart-cnn-12-6 and revision a4f8f3e (https://huggingface.co/sshleifer/distilbart-cnn-12-6).\n",
            "Using a pipeline without specifying a model name and revision in production is not recommended.\n",
            "Your max_length is set to 100, but your input_length is only 87. Since this is a summarization task, where outputs shorter than the input are typically wanted, you might consider decreasing max_length manually, e.g. summarizer('...', max_length=43)\n"
          ]
        },
        {
          "output_type": "stream",
          "name": "stdout",
          "text": [
            "Results for keyword: importance of Navajo language\n",
            "\n",
            "Result 1: Navajo\n",
            "Summary:  The <span class=\"searchmatch\">Navajo</span> Reservation is slightly larger than the state of West Virginia . The reservation is located in Arizona, Utah, and New Mexico .\n",
            "URL: https://tinyurl.com/wyz22v8\n",
            "--------------------------------------------------\n"
          ]
        },
        {
          "output_type": "stream",
          "name": "stderr",
          "text": [
            "Your max_length is set to 100, but your input_length is only 53. Since this is a summarization task, where outputs shorter than the input are typically wanted, you might consider decreasing max_length manually, e.g. summarizer('...', max_length=26)\n"
          ]
        },
        {
          "output_type": "stream",
          "name": "stdout",
          "text": [
            "Result 2: Miss Navajo\n",
            "Summary:  Miss <span class=\"searchmatch\">Navajo</span> Council, Inc official site and film Miss . Miss . Navajo is a national Miss of the Navajo .\n",
            "URL: https://tinyurl.com/2agg7jcq\n",
            "--------------------------------------------------\n"
          ]
        },
        {
          "output_type": "stream",
          "name": "stderr",
          "text": [
            "Your max_length is set to 100, but your input_length is only 74. Since this is a summarization task, where outputs shorter than the input are typically wanted, you might consider decreasing max_length manually, e.g. summarizer('...', max_length=37)\n"
          ]
        },
        {
          "output_type": "stream",
          "name": "stdout",
          "text": [
            "Result 3: Navajo Livestock Reduction\n",
            "Summary:  Livestock Reduction was imposed by the United States government upon the <span class=\"searchmatch\">Navajo</span> Nation in the 1930s . The reduction was imposed during the Great Depression .\n",
            "URL: https://tinyurl.com/28nav5wt\n",
            "--------------------------------------------------\n",
            "Result 4: Uranium mining and the Navajo people\n",
            "Summary:  The risks of lung cancer due to uranium mining were unknown to the workers . The lack of a word for radiation in the <span class=\"searchmatch\">Navajo</span> language left the miners at risk .\n",
            "URL: https://tinyurl.com/hxcz7sh\n",
            "--------------------------------------------------\n"
          ]
        },
        {
          "output_type": "stream",
          "name": "stderr",
          "text": [
            "Your max_length is set to 100, but your input_length is only 79. Since this is a summarization task, where outputs shorter than the input are typically wanted, you might consider decreasing max_length manually, e.g. summarizer('...', max_length=39)\n"
          ]
        },
        {
          "output_type": "stream",
          "name": "stdout",
          "text": [
            "Results for keyword: ideal behavior of Navajo language\n",
            "\n"
          ]
        },
        {
          "output_type": "stream",
          "name": "stderr",
          "text": [
            "Your max_length is set to 100, but your input_length is only 66. Since this is a summarization task, where outputs shorter than the input are typically wanted, you might consider decreasing max_length manually, e.g. summarizer('...', max_length=33)\n"
          ]
        },
        {
          "output_type": "stream",
          "name": "stdout",
          "text": [
            "Result 1: Navajo medicine\n",
            "Summary:  Navajo medicine dates back thousands of years as many as many Navajo people . Medicine covers a range <span class=\"searchmatch\">of traditional healing practices .\n",
            "URL: https://tinyurl.com/29kdx3xt\n",
            "--------------------------------------------------\n"
          ]
        },
        {
          "output_type": "stream",
          "name": "stderr",
          "text": [
            "Your max_length is set to 100, but your input_length is only 53. Since this is a summarization task, where outputs shorter than the input are typically wanted, you might consider decreasing max_length manually, e.g. summarizer('...', max_length=26)\n"
          ]
        },
        {
          "output_type": "stream",
          "name": "stdout",
          "text": [
            "Result 2: Apache\n",
            "Summary:  Apache communities in Coyotero, Tonto (Coyotero and Tonto) Distant cousins <span class=\"searchmatch\">of the Apache are the Apache, with whom they share the Southern Athabaskan languages .\n",
            "URL: https://tinyurl.com/yam2l6uk\n",
            "--------------------------------------------------\n"
          ]
        },
        {
          "output_type": "stream",
          "name": "stderr",
          "text": [
            "Your max_length is set to 100, but your input_length is only 81. Since this is a summarization task, where outputs shorter than the input are typically wanted, you might consider decreasing max_length manually, e.g. summarizer('...', max_length=40)\n"
          ]
        },
        {
          "output_type": "stream",
          "name": "stdout",
          "text": [
            "Result 3: Rodent\n",
            "Summary:  The Navajo people ate prairie dog baked in mud, while the Paiute ate gophers, squirrels, gophers and squirrels . muskrats, porcupines and groundhogs are eaten by humans .\n",
            "URL: https://tinyurl.com/nn6qsvn\n",
            "--------------------------------------------------\n",
            "Result 4: Indigenous education\n",
            "Summary:  Quantitatively, Lee examined <span class=\"searchmatch\">language</span> levels, usage, and lifespan experiences . Qualitatively and qualitatively interviewed students to learn .\n",
            "URL: https://tinyurl.com/2bwh9l88\n",
            "--------------------------------------------------\n"
          ]
        },
        {
          "output_type": "stream",
          "name": "stderr",
          "text": [
            "Your max_length is set to 100, but your input_length is only 96. Since this is a summarization task, where outputs shorter than the input are typically wanted, you might consider decreasing max_length manually, e.g. summarizer('...', max_length=48)\n"
          ]
        },
        {
          "output_type": "stream",
          "name": "stdout",
          "text": [
            "Results for keyword: ideal vs. realistic behavior of Navajo language\n",
            "\n"
          ]
        },
        {
          "output_type": "stream",
          "name": "stderr",
          "text": [
            "Your max_length is set to 100, but your input_length is only 63. Since this is a summarization task, where outputs shorter than the input are typically wanted, you might consider decreasing max_length manually, e.g. summarizer('...', max_length=31)\n"
          ]
        },
        {
          "output_type": "stream",
          "name": "stdout",
          "text": [
            "Result 1: Cultural assimilation of Native Americans\n",
            "Summary:  Peter Iverson, Diné: A History <span class=\"searchmatch\">of</span> the <span>Navajos, Illinois Press. pp.113–15. ISBN 9780252012853.\n",
            "URL: https://tinyurl.com/hd7bbaw\n",
            "--------------------------------------------------\n"
          ]
        },
        {
          "output_type": "stream",
          "name": "stderr",
          "text": [
            "Your max_length is set to 100, but your input_length is only 67. Since this is a summarization task, where outputs shorter than the input are typically wanted, you might consider decreasing max_length manually, e.g. summarizer('...', max_length=33)\n"
          ]
        },
        {
          "output_type": "stream",
          "name": "stdout",
          "text": [
            "Result 2: Sorcerer (film)\n",
            "Summary:  The film's climax features a surrealistic landscape on the Navajo Nation . The film is set in the Bisti/De-Na-Zin region .\n",
            "URL: https://tinyurl.com/yblarx82\n",
            "--------------------------------------------------\n"
          ]
        },
        {
          "output_type": "stream",
          "name": "stderr",
          "text": [
            "Your max_length is set to 100, but your input_length is only 51. Since this is a summarization task, where outputs shorter than the input are typically wanted, you might consider decreasing max_length manually, e.g. summarizer('...', max_length=25)\n"
          ]
        },
        {
          "output_type": "stream",
          "name": "stdout",
          "text": [
            "Result 3: American frontier\n",
            "Summary:  War <span class=\"searchmatch\">of <span> 1862 (Minnesota Historical Society, 2nd ed. 2001) Stan Hoig, The Sand Creek Massacre (1974) Richard C. Hopkins, &quot;Kit Carson and the <spanclass>Navajo</span> Expedition .\n",
            "URL: https://tinyurl.com/ya6ulhsj\n",
            "--------------------------------------------------\n",
            "Result 4: List of Metal Gear characters\n",
            "Summary:  Staff gave the characters a more realistic look starting with Metal Gear Solid 2: Sons <span class=\"searchmatch\">of <span> Liberty . The staff initially had doubts about PlayStation 2 .\n",
            "URL: https://tinyurl.com/y38mj23f\n",
            "--------------------------------------------------\n"
          ]
        },
        {
          "output_type": "stream",
          "name": "stderr",
          "text": [
            "Your max_length is set to 100, but your input_length is only 93. Since this is a summarization task, where outputs shorter than the input are typically wanted, you might consider decreasing max_length manually, e.g. summarizer('...', max_length=46)\n"
          ]
        },
        {
          "output_type": "stream",
          "name": "stdout",
          "text": [
            "Results for keyword: significance of Navajo language\n",
            "\n"
          ]
        },
        {
          "output_type": "stream",
          "name": "stderr",
          "text": [
            "Your max_length is set to 100, but your input_length is only 64. Since this is a summarization task, where outputs shorter than the input are typically wanted, you might consider decreasing max_length manually, e.g. summarizer('...', max_length=32)\n"
          ]
        },
        {
          "output_type": "stream",
          "name": "stdout",
          "text": [
            "Result 1: Navajo phonology\n",
            "Summary:  The phonology <span class=\"searchmatch\">of </span> the <span>Navajo</span> language is intimately connected to its morphology . For example, the entire range of contrastive consonants can be found in Navajo .\n",
            "URL: https://tinyurl.com/22g59alb\n",
            "--------------------------------------------------\n"
          ]
        },
        {
          "output_type": "stream",
          "name": "stderr",
          "text": [
            "Your max_length is set to 100, but your input_length is only 89. Since this is a summarization task, where outputs shorter than the input are typically wanted, you might consider decreasing max_length manually, e.g. summarizer('...', max_length=44)\n"
          ]
        },
        {
          "output_type": "stream",
          "name": "stdout",
          "text": [
            "Result 2: Navajo Mountain\n",
            "Summary:  The summit is the highest point on the <span class=\"searchmatch\">Navajo</span> Nation . It is a prominent free-standing mountain .\n",
            "URL: https://tinyurl.com/22pjhyax\n",
            "--------------------------------------------------\n",
            "Result 3: Hogan\n",
            "Summary:  hogan is the primary, traditional dwelling <span class=\"searchmatch\">of the <span>Navajo</span> people . hooghan [hoːɣan] is a traditional dwelling of the Navajo people .\n",
            "URL: https://tinyurl.com/qxy9xo2\n",
            "--------------------------------------------------\n",
            "Result 4: Dinétah\n",
            "Summary:  In the <span class=\"searchmatch\">Navajo</span> language, the word &quot;Dinétah means \"among the people\"\n",
            "URL: https://tinyurl.com/27zzmzym\n",
            "--------------------------------------------------\n"
          ]
        },
        {
          "output_type": "stream",
          "name": "stderr",
          "text": [
            "Your max_length is set to 100, but your input_length is only 86. Since this is a summarization task, where outputs shorter than the input are typically wanted, you might consider decreasing max_length manually, e.g. summarizer('...', max_length=43)\n"
          ]
        },
        {
          "output_type": "stream",
          "name": "stdout",
          "text": [
            "Results for keyword: applications of Navajo language\n",
            "\n"
          ]
        },
        {
          "output_type": "stream",
          "name": "stderr",
          "text": [
            "Your max_length is set to 100, but your input_length is only 84. Since this is a summarization task, where outputs shorter than the input are typically wanted, you might consider decreasing max_length manually, e.g. summarizer('...', max_length=42)\n"
          ]
        },
        {
          "output_type": "stream",
          "name": "stdout",
          "text": [
            "Result 1: Navajo Nation\n",
            "Summary:  Navajoland is a Native American reservation <span class=\"searchmatch\">of <span> <span searchmatch>Navajos in the United States . Navajo Nation is also known as Navajooland .\n",
            "URL: https://tinyurl.com/gmchu2k\n",
            "--------------------------------------------------\n"
          ]
        },
        {
          "output_type": "stream",
          "name": "stderr",
          "text": [
            "Your max_length is set to 100, but your input_length is only 75. Since this is a summarization task, where outputs shorter than the input are typically wanted, you might consider decreasing max_length manually, e.g. summarizer('...', max_length=37)\n"
          ]
        },
        {
          "output_type": "stream",
          "name": "stdout",
          "text": [
            "Result 2: Navajo Nation Council\n",
            "Summary:  The Navajo Nation Council is the Legislative Branch of the Navajo Nation government . The council meets four times per year . It is the legislative branch of the Navajo Nation Government .\n",
            "URL: https://tinyurl.com/23gn9dy9\n",
            "--------------------------------------------------\n"
          ]
        },
        {
          "output_type": "stream",
          "name": "stderr",
          "text": [
            "Your max_length is set to 100, but your input_length is only 74. Since this is a summarization task, where outputs shorter than the input are typically wanted, you might consider decreasing max_length manually, e.g. summarizer('...', max_length=37)\n"
          ]
        },
        {
          "output_type": "stream",
          "name": "stdout",
          "text": [
            "Result 3: Google Translate\n",
            "Summary:  Google Translate supports 133 languages at various levels . As of June 2023, it is claimed to support 133 languages . It also claims to support software extensions and software extensions .\n",
            "URL: https://tinyurl.com/yym9xwls\n",
            "--------------------------------------------------\n",
            "Result 4: Ben Shelly\n",
            "Summary:  He was the 7th president of the Navajo Nation . He was also the first president to have been elected both president and vice president .\n",
            "URL: https://tinyurl.com/26j3yjrv\n",
            "--------------------------------------------------\n"
          ]
        },
        {
          "output_type": "stream",
          "name": "stderr",
          "text": [
            "Your max_length is set to 100, but your input_length is only 64. Since this is a summarization task, where outputs shorter than the input are typically wanted, you might consider decreasing max_length manually, e.g. summarizer('...', max_length=32)\n"
          ]
        },
        {
          "output_type": "stream",
          "name": "stdout",
          "text": [
            "Results for keyword: physical significance of Navajo language\n",
            "\n"
          ]
        },
        {
          "output_type": "stream",
          "name": "stderr",
          "text": [
            "Your max_length is set to 100, but your input_length is only 99. Since this is a summarization task, where outputs shorter than the input are typically wanted, you might consider decreasing max_length manually, e.g. summarizer('...', max_length=49)\n"
          ]
        },
        {
          "output_type": "stream",
          "name": "stdout",
          "text": [
            "Result 1: Navajo Mountain\n",
            "Summary:  The summit is the highest point on the <span class=\"searchmatch\">Navajo</span> Nation . It is a prominent free-standing mountain .\n",
            "URL: https://tinyurl.com/22pjhyax\n",
            "--------------------------------------------------\n"
          ]
        },
        {
          "output_type": "stream",
          "name": "stderr",
          "text": [
            "Your max_length is set to 100, but your input_length is only 63. Since this is a summarization task, where outputs shorter than the input are typically wanted, you might consider decreasing max_length manually, e.g. summarizer('...', max_length=31)\n"
          ]
        },
        {
          "output_type": "stream",
          "name": "stdout",
          "text": [
            "Result 2: Shiprock\n",
            "Summary:  Tsé Bitʼaʼí is a monadnock rising nearly 1,583 feet (482.5 m) above the high-desert plain of the Navajo Nation .\n",
            "URL: https://tinyurl.com/26a3zhc4\n",
            "--------------------------------------------------\n"
          ]
        },
        {
          "output_type": "stream",
          "name": "stderr",
          "text": [
            "Your max_length is set to 100, but your input_length is only 85. Since this is a summarization task, where outputs shorter than the input are typically wanted, you might consider decreasing max_length manually, e.g. summarizer('...', max_length=42)\n"
          ]
        },
        {
          "output_type": "stream",
          "name": "stdout",
          "text": [
            "Result 3: Navajo medicine\n",
            "Summary:  Navajo healing practices and Western medical procedure coexist as the former is set apart as a way <span class=\"searchmatch\">of the age-long <span> life-long spiritual <span>.significance has allowed the two cultures to coexist .\n",
            "URL: https://tinyurl.com/29kdx3xt\n",
            "--------------------------------------------------\n",
            "Result 4: Languages of Canada\n",
            "Summary:  One language is in use by the sole <span class=\"searchmatch\">Navajo</span> clan . The language was born out of the Oneida Nation . It has several languages under its umbrella .\n",
            "URL: https://tinyurl.com/gpnl4mu\n",
            "--------------------------------------------------\n"
          ]
        },
        {
          "output_type": "stream",
          "name": "stderr",
          "text": [
            "Your max_length is set to 100, but your input_length is only 71. Since this is a summarization task, where outputs shorter than the input are typically wanted, you might consider decreasing max_length manually, e.g. summarizer('...', max_length=35)\n"
          ]
        },
        {
          "output_type": "stream",
          "name": "stdout",
          "text": [
            "Results for keyword: geometry for the measurement of Navajo language\n",
            "\n"
          ]
        },
        {
          "output_type": "stream",
          "name": "stderr",
          "text": [
            "Your max_length is set to 100, but your input_length is only 80. Since this is a summarization task, where outputs shorter than the input are typically wanted, you might consider decreasing max_length manually, e.g. summarizer('...', max_length=40)\n"
          ]
        },
        {
          "output_type": "stream",
          "name": "stdout",
          "text": [
            "Result 1: Mathematics education in the United States\n",
            "Summary:  Learn counting, arithmetic (both <span class=\"searchmatch\">of <span> integers and fractions) and arithmetic . Pre-algebra (prealgebra) learn arithmetic, geometry, statistics and probability .\n",
            "URL: https://tinyurl.com/2oghzqn6\n",
            "--------------------------------------------------\n",
            "Result 2: Pluto\n",
            "Summary:  The discovery of Charon in 1978 allowed the discovery of the Greek language in 1978 . The Greek language is less close in languages such as Somali Buluuto and Navajo, such as Tłóotoo .\n",
            "URL: https://tinyurl.com/7lfltno\n",
            "--------------------------------------------------\n"
          ]
        },
        {
          "output_type": "stream",
          "name": "stderr",
          "text": [
            "Your max_length is set to 100, but your input_length is only 59. Since this is a summarization task, where outputs shorter than the input are typically wanted, you might consider decreasing max_length manually, e.g. summarizer('...', max_length=29)\n"
          ]
        },
        {
          "output_type": "stream",
          "name": "stdout",
          "text": [
            "Result 3: English plurals\n",
            "Summary:  Often <span class=\"searchmatch\">the</span> abbreviation used <span> for <span searchmatch\" and the singular is used also as a plural . This is normal for most units, currency and most units .\n",
            "URL: https://tinyurl.com/yavuyn5p\n",
            "--------------------------------------------------\n",
            "Result 4: List of Coronet Films\n",
            "Summary:  Only a very select number of independently produced films were released in the early 1980s . The transition to videos was made around 1986 . The videos were released for space reasons, but are now only available for free .\n",
            "URL: https://tinyurl.com/23a86fxw\n",
            "--------------------------------------------------\n"
          ]
        },
        {
          "output_type": "stream",
          "name": "stderr",
          "text": [
            "Your max_length is set to 100, but your input_length is only 93. Since this is a summarization task, where outputs shorter than the input are typically wanted, you might consider decreasing max_length manually, e.g. summarizer('...', max_length=46)\n"
          ]
        },
        {
          "output_type": "stream",
          "name": "stdout",
          "text": [
            "Results for keyword: typical characteristics of Navajo language\n",
            "\n"
          ]
        },
        {
          "output_type": "stream",
          "name": "stderr",
          "text": [
            "Your max_length is set to 100, but your input_length is only 96. Since this is a summarization task, where outputs shorter than the input are typically wanted, you might consider decreasing max_length manually, e.g. summarizer('...', max_length=48)\n"
          ]
        },
        {
          "output_type": "stream",
          "name": "stdout",
          "text": [
            "Result 1: Navajo phonology\n",
            "Summary:  The phonology <span class=\"searchmatch\">of </span> the <span>Navajo</span> language is intimately connected to its morphology . For example, the entire range of contrastive consonants can be found in Navajo .\n",
            "URL: https://tinyurl.com/22g59alb\n",
            "--------------------------------------------------\n"
          ]
        },
        {
          "output_type": "stream",
          "name": "stderr",
          "text": [
            "Your max_length is set to 100, but your input_length is only 89. Since this is a summarization task, where outputs shorter than the input are typically wanted, you might consider decreasing max_length manually, e.g. summarizer('...', max_length=44)\n"
          ]
        },
        {
          "output_type": "stream",
          "name": "stdout",
          "text": [
            "Result 2: Monument Valley\n",
            "Summary:  Monument Valley is a region <span class=\"searchmatch\">of the Colorado Plateau characterized as Monument Valley . Monument Valley (pronounced \"Monument Valley\") is the name of a Native American valley . It is located in Monument Valley, a valley of the Colorado Plateau .\n",
            "URL: https://tinyurl.com/jq5848h\n",
            "--------------------------------------------------\n"
          ]
        },
        {
          "output_type": "stream",
          "name": "stderr",
          "text": [
            "Your max_length is set to 100, but your input_length is only 81. Since this is a summarization task, where outputs shorter than the input are typically wanted, you might consider decreasing max_length manually, e.g. summarizer('...', max_length=40)\n"
          ]
        },
        {
          "output_type": "stream",
          "name": "stdout",
          "text": [
            "Result 3: Navajo weaving\n",
            "Summary:  Textiles are textiles produced by <span class=\"searchmatch\">Navajo</span> people, who are based near the Four Corners area of the United States .\n",
            "URL: https://tinyurl.com/222tk46b\n",
            "--------------------------------------------------\n",
            "Result 4: New Mexican Spanish\n",
            "Summary:  Young, Robert W.; Morgan, William, Sr. (1987). Journal of the Linguistic Association of the Southwest 32 (2): 133-161 .\n",
            "URL: https://tinyurl.com/2xuaczdn\n",
            "--------------------------------------------------\n",
            "Results for keyword: with and without Navajo language\n",
            "\n"
          ]
        },
        {
          "output_type": "stream",
          "name": "stderr",
          "text": [
            "Your max_length is set to 100, but your input_length is only 76. Since this is a summarization task, where outputs shorter than the input are typically wanted, you might consider decreasing max_length manually, e.g. summarizer('...', max_length=38)\n"
          ]
        },
        {
          "output_type": "stream",
          "name": "stdout",
          "text": [
            "Result 1: Navajo language\n",
            "Summary:  Navajo or Navaho is a Southern Athabaskan . Navajo is the language of the Athabasan of the Navajo people . Diné bizaad [tìnépìz̥ɑ̀ːt] or Naabeehó [nævəhoʊ,  ˈnɑː-/; . Navaho (Navaho) is the name of the Native Americans who live in\n",
            "URL: https://tinyurl.com/j5vymdg\n",
            "--------------------------------------------------\n"
          ]
        },
        {
          "output_type": "stream",
          "name": "stderr",
          "text": [
            "Your max_length is set to 100, but your input_length is only 92. Since this is a summarization task, where outputs shorter than the input are typically wanted, you might consider decreasing max_length manually, e.g. summarizer('...', max_length=46)\n"
          ]
        },
        {
          "output_type": "stream",
          "name": "stdout",
          "text": [
            "Result 2: Navajo Nation\n",
            "Summary:  Navajo Nation is a Native American reservation of <span class=\"searchmatch\">Navajo</span> Nation . Navajoland is also known as Navajooland .\n",
            "URL: https://tinyurl.com/gmchu2k\n",
            "--------------------------------------------------\n"
          ]
        },
        {
          "output_type": "stream",
          "name": "stderr",
          "text": [
            "Your max_length is set to 100, but your input_length is only 79. Since this is a summarization task, where outputs shorter than the input are typically wanted, you might consider decreasing max_length manually, e.g. summarizer('...', max_length=39)\n"
          ]
        },
        {
          "output_type": "stream",
          "name": "stdout",
          "text": [
            "Result 3: Navajo\n",
            "Summary:  The <span class=\"searchmatch\">Navajo</span> language is spoken throughout the region . The states with the largest populations are Virginia and Virginia .\n",
            "URL: https://tinyurl.com/wyz22v8\n",
            "--------------------------------------------------\n",
            "Result 4: Code talker\n",
            "Summary:  English was developed based on the languages of Comanche, Hopi, Meskwaki, Comanche and Hopi peoples . They used words from their languages for each letter of the English .\n",
            "URL: https://tinyurl.com/p9susfa\n",
            "--------------------------------------------------\n"
          ]
        },
        {
          "output_type": "stream",
          "name": "stderr",
          "text": [
            "Your max_length is set to 100, but your input_length is only 73. Since this is a summarization task, where outputs shorter than the input are typically wanted, you might consider decreasing max_length manually, e.g. summarizer('...', max_length=36)\n"
          ]
        },
        {
          "output_type": "stream",
          "name": "stdout",
          "text": [
            "Results for keyword: what does Navajo language represent?\n",
            "\n"
          ]
        },
        {
          "output_type": "stream",
          "name": "stderr",
          "text": [
            "Your max_length is set to 100, but your input_length is only 69. Since this is a summarization task, where outputs shorter than the input are typically wanted, you might consider decreasing max_length manually, e.g. summarizer('...', max_length=34)\n"
          ]
        },
        {
          "output_type": "stream",
          "name": "stdout",
          "text": [
            "Result 1: Navajo\n",
            "Summary:  The <span class=\"searchmatch\">Navajo</span> Reservation is slightly larger than the state of West Virginia . The language is spoken throughout the region .\n",
            "URL: https://tinyurl.com/wyz22v8\n",
            "--------------------------------------------------\n"
          ]
        },
        {
          "output_type": "stream",
          "name": "stderr",
          "text": [
            "Your max_length is set to 100, but your input_length is only 69. Since this is a summarization task, where outputs shorter than the input are typically wanted, you might consider decreasing max_length manually, e.g. summarizer('...', max_length=34)\n"
          ]
        },
        {
          "output_type": "stream",
          "name": "stdout",
          "text": [
            "Result 2: Skin-walker\n",
            "Summary:  In the <span class=\"searchmatch\">Navajo\" language, yee naaldlooshii translates to &quot;by means of it, it goes on all fours. themselves as an animal. The term is never used for healers .\n",
            "URL: https://tinyurl.com/q5ojt9y\n",
            "--------------------------------------------------\n"
          ]
        },
        {
          "output_type": "stream",
          "name": "stderr",
          "text": [
            "Your max_length is set to 100, but your input_length is only 76. Since this is a summarization task, where outputs shorter than the input are typically wanted, you might consider decreasing max_length manually, e.g. summarizer('...', max_length=38)\n"
          ]
        },
        {
          "output_type": "stream",
          "name": "stdout",
          "text": [
            "Result 3: Code talker\n",
            "Summary:  English was developed based on the Comanche, Hopi, Meskwaki, and Navajo peoples . They used words from their languages for each letter of the English .\n",
            "URL: https://tinyurl.com/p9susfa\n",
            "--------------------------------------------------\n",
            "Result 4: Navajo Nation\n",
            "Summary:  Navajo Nation is a Native American reservation of <span class=\"searchmatch\">Navajo</span> Nation . Navajoland is also known as Navajooland .\n",
            "URL: https://tinyurl.com/gmchu2k\n",
            "--------------------------------------------------\n",
            "Results for keyword: what is the concept of Navajo language?\n",
            "\n",
            "Result 1: Skin-walker\n",
            "Summary:  Yee naaldlooshii translates to &quot;by means \"of it, it goes on all fours&quot;\" . The term is never used for healers in Native American medicine .\n",
            "URL: https://tinyurl.com/q5ojt9y\n",
            "--------------------------------------------------\n",
            "Result 2: Code talker\n",
            "Summary:  The Comanche, Hopi, Meskwaki, and <span class=\"searchmatch\">Navajo</span> peoples . They used words from their languages for each letter .\n",
            "URL: https://tinyurl.com/p9susfa\n",
            "--------------------------------------------------\n",
            "Result 3: Athabaskan languages\n",
            "Summary:  Athabaskan is the largest number of native Americans speaking north of the U.S. Native American language . Navajo is spoken by Native Americans in Mexico . Native Americans speak north of Mexico .\n",
            "URL: https://tinyurl.com/2bcsh58p\n",
            "--------------------------------------------------\n",
            "Result 4: Languages of the United States\n",
            "Summary:  Navajo is an Athabaskan family, with 178,000 speakers . Native Americans live in Arizona, New Mexico, Arizona and New Mexico .\n",
            "URL: https://tinyurl.com/npnnnnx\n",
            "--------------------------------------------------\n",
            "Results for keyword: taxonomy of Navajo language\n",
            "\n"
          ]
        },
        {
          "output_type": "stream",
          "name": "stderr",
          "text": [
            "Your max_length is set to 100, but your input_length is only 66. Since this is a summarization task, where outputs shorter than the input are typically wanted, you might consider decreasing max_length manually, e.g. summarizer('...', max_length=33)\n"
          ]
        },
        {
          "output_type": "stream",
          "name": "stdout",
          "text": [
            "Result 1: Navajo language\n",
            "Summary:  Navajo or Navaho is a Southern Athabaskan . Diné bizaad [tìnépìz̥ɑ̀ːt] or Naabeehó [nævəhoʊ,  ˈnɑː-/; . Navaho . is the name of the Native American tribe .\n",
            "URL: https://tinyurl.com/j5vymdg\n",
            "--------------------------------------------------\n"
          ]
        },
        {
          "output_type": "stream",
          "name": "stderr",
          "text": [
            "Your max_length is set to 100, but your input_length is only 87. Since this is a summarization task, where outputs shorter than the input are typically wanted, you might consider decreasing max_length manually, e.g. summarizer('...', max_length=43)\n"
          ]
        },
        {
          "output_type": "stream",
          "name": "stdout",
          "text": [
            "Result 2: Apache\n",
            "Summary:  Apache communities in Coyotero, Tonto (Coyotero and Tonto) Distant cousins <span class=\"searchmatch\">of the Apache are the Apache, with whom they share the Southern Athabaskan languages .\n",
            "URL: https://tinyurl.com/yam2l6uk\n",
            "--------------------------------------------------\n"
          ]
        },
        {
          "output_type": "stream",
          "name": "stderr",
          "text": [
            "Your max_length is set to 100, but your input_length is only 73. Since this is a summarization task, where outputs shorter than the input are typically wanted, you might consider decreasing max_length manually, e.g. summarizer('...', max_length=36)\n"
          ]
        },
        {
          "output_type": "stream",
          "name": "stdout",
          "text": [
            "Result 3: Dené–Yeniseian languages\n",
            "Summary:  &quot;. it currently stands is a hypothesis <span class=\"searchmatch\">of </span> relatedness but not yet a proper hypothesis . He leaves open the possibility that there is a possibility that relatedness is relatedness .\n",
            "URL: https://tinyurl.com/26gddg55\n",
            "--------------------------------------------------\n",
            "Result 4: Dené–Caucasian languages\n",
            "Summary:  Basque, the Caucasian <span class=\"searchmatch\">languages </span> at its geographic extremes . Swadesh (1959: 114) included &quot;Basque, Ural-Altaic, Basque and the Caucasian .\n",
            "URL: https://tinyurl.com/23c2wfxa\n",
            "--------------------------------------------------\n"
          ]
        },
        {
          "output_type": "stream",
          "name": "stderr",
          "text": [
            "Your max_length is set to 100, but your input_length is only 93. Since this is a summarization task, where outputs shorter than the input are typically wanted, you might consider decreasing max_length manually, e.g. summarizer('...', max_length=46)\n"
          ]
        },
        {
          "output_type": "stream",
          "name": "stdout",
          "text": [
            "Results for keyword: table of Navajo language\n",
            "\n"
          ]
        },
        {
          "output_type": "stream",
          "name": "stderr",
          "text": [
            "Your max_length is set to 100, but your input_length is only 77. Since this is a summarization task, where outputs shorter than the input are typically wanted, you might consider decreasing max_length manually, e.g. summarizer('...', max_length=38)\n"
          ]
        },
        {
          "output_type": "stream",
          "name": "stdout",
          "text": [
            "Result 1: Navajo phonology\n",
            "Summary:  The phonology <span class=\"searchmatch\">of </span> the <span>Navajo</span> language is intimately connected to its morphology . For example, the entire range of contrastive consonants can be found in Navajo .\n",
            "URL: https://tinyurl.com/22g59alb\n",
            "--------------------------------------------------\n"
          ]
        },
        {
          "output_type": "stream",
          "name": "stderr",
          "text": [
            "Your max_length is set to 100, but your input_length is only 86. Since this is a summarization task, where outputs shorter than the input are typically wanted, you might consider decreasing max_length manually, e.g. summarizer('...', max_length=43)\n"
          ]
        },
        {
          "output_type": "stream",
          "name": "stdout",
          "text": [
            "Result 2: Southern Athabaskan languages\n",
            "Summary:  The seven Southern Athabaskan languages can be divided into two groups according to the classification of Harry Hoijer: (I) the Long Walk .\n",
            "URL: https://tinyurl.com/24yua8h4\n",
            "--------------------------------------------------\n"
          ]
        },
        {
          "output_type": "stream",
          "name": "stderr",
          "text": [
            "Your max_length is set to 100, but your input_length is only 87. Since this is a summarization task, where outputs shorter than the input are typically wanted, you might consider decreasing max_length manually, e.g. summarizer('...', max_length=43)\n"
          ]
        },
        {
          "output_type": "stream",
          "name": "stdout",
          "text": [
            "Result 3: Native American languages of Utah\n",
            "Summary:  The language is spoken on the <span class=\"searchmatch\">Navajo</span> Nation, which is split between Arizona and the Navajo Nation . The two languages are shown below .\n",
            "URL: https://tinyurl.com/237uylpj\n",
            "--------------------------------------------------\n",
            "Result 4: Navajo grammar\n",
            "Summary:  <span class=\"searchmatch\">Navajo is a &quot;verb-heavy language . It has a great preponderance of verbs but relatively few nouns . In addition to verbs and nouns, it has other elements .\n",
            "URL: https://tinyurl.com/2ylmpd7h\n",
            "--------------------------------------------------\n"
          ]
        },
        {
          "output_type": "stream",
          "name": "stderr",
          "text": [
            "Your max_length is set to 100, but your input_length is only 66. Since this is a summarization task, where outputs shorter than the input are typically wanted, you might consider decreasing max_length manually, e.g. summarizer('...', max_length=33)\n"
          ]
        },
        {
          "output_type": "stream",
          "name": "stdout",
          "text": [
            "Results for keyword: Navajo language table\n",
            "\n"
          ]
        },
        {
          "output_type": "stream",
          "name": "stderr",
          "text": [
            "Your max_length is set to 100, but your input_length is only 63. Since this is a summarization task, where outputs shorter than the input are typically wanted, you might consider decreasing max_length manually, e.g. summarizer('...', max_length=31)\n"
          ]
        },
        {
          "output_type": "stream",
          "name": "stdout",
          "text": [
            "Result 1: Southern Athabaskan languages\n",
            "Summary:  Geronimo (Goyaałé) who spoke Chiricahua was a famous raider and war leader . Manuelito spoke <span class=\"searchmatch\">Navajo</span> and is famous .\n",
            "URL: https://tinyurl.com/24yua8h4\n",
            "--------------------------------------------------\n"
          ]
        },
        {
          "output_type": "stream",
          "name": "stderr",
          "text": [
            "Your max_length is set to 100, but your input_length is only 77. Since this is a summarization task, where outputs shorter than the input are typically wanted, you might consider decreasing max_length manually, e.g. summarizer('...', max_length=38)\n"
          ]
        },
        {
          "output_type": "stream",
          "name": "stdout",
          "text": [
            "Result 2: Navajo phonology\n",
            "Summary:  The phonology of <span class=\"searchmatch\">Navajo</span> is intimately connected to its morphology . This article is about the sound system of the Navajo language .\n",
            "URL: https://tinyurl.com/22g59alb\n",
            "--------------------------------------------------\n"
          ]
        },
        {
          "output_type": "stream",
          "name": "stderr",
          "text": [
            "Your max_length is set to 100, but your input_length is only 75. Since this is a summarization task, where outputs shorter than the input are typically wanted, you might consider decreasing max_length manually, e.g. summarizer('...', max_length=37)\n"
          ]
        },
        {
          "output_type": "stream",
          "name": "stdout",
          "text": [
            "Result 3: Navajo grammar\n",
            "Summary:  Navajo is a language with a great preponderance of verbs but relatively few nouns . In addition to verbs and nouns, <span class=\"searchmatch\">Navajo has other elements .\n",
            "URL: https://tinyurl.com/2ylmpd7h\n",
            "--------------------------------------------------\n",
            "Result 4: Languages of the United States\n",
            "Summary:  662 thousand Yoruba, Twi, Igbo, Yoruba and other Yoruba languages of West Africa . 640 thousand Khmer, 193 thousand <span class=\"searchmatch\">Navajo</span> – 155 thousand other Indo-European languages .\n",
            "URL: https://tinyurl.com/npnnnnx\n",
            "--------------------------------------------------\n"
          ]
        },
        {
          "output_type": "stream",
          "name": "stderr",
          "text": [
            "Your max_length is set to 100, but your input_length is only 76. Since this is a summarization task, where outputs shorter than the input are typically wanted, you might consider decreasing max_length manually, e.g. summarizer('...', max_length=38)\n"
          ]
        },
        {
          "output_type": "stream",
          "name": "stdout",
          "text": [
            "Results for keyword: difference between Navajo language\n",
            "\n"
          ]
        },
        {
          "output_type": "stream",
          "name": "stderr",
          "text": [
            "Your max_length is set to 100, but your input_length is only 69. Since this is a summarization task, where outputs shorter than the input are typically wanted, you might consider decreasing max_length manually, e.g. summarizer('...', max_length=34)\n"
          ]
        },
        {
          "output_type": "stream",
          "name": "stdout",
          "text": [
            "Result 1: Navajo phonology\n",
            "Summary:  This article is about the sound system of the <span class=\"searchmatch\">Navajo</span> language . The phonology of the language is defined by the distinction between [ ], / / and ⟨ ⟩ .\n",
            "URL: https://tinyurl.com/22g59alb\n",
            "--------------------------------------------------\n"
          ]
        },
        {
          "output_type": "stream",
          "name": "stderr",
          "text": [
            "Your max_length is set to 100, but your input_length is only 76. Since this is a summarization task, where outputs shorter than the input are typically wanted, you might consider decreasing max_length manually, e.g. summarizer('...', max_length=38)\n"
          ]
        },
        {
          "output_type": "stream",
          "name": "stdout",
          "text": [
            "Result 2: Code talker\n",
            "Summary:  English was developed based on the Comanche, Hopi, Meskwaki, and Navajo peoples . They used words from their languages for each letter of the English .\n",
            "URL: https://tinyurl.com/p9susfa\n",
            "--------------------------------------------------\n"
          ]
        },
        {
          "output_type": "stream",
          "name": "stderr",
          "text": [
            "Your max_length is set to 100, but your input_length is only 66. Since this is a summarization task, where outputs shorter than the input are typically wanted, you might consider decreasing max_length manually, e.g. summarizer('...', max_length=33)\n"
          ]
        },
        {
          "output_type": "stream",
          "name": "stdout",
          "text": [
            "Result 3: Plains Indian Sign Language\n",
            "Summary:  There is also an unrelated sign, <span class=\"searchmatch\">Navajo</span> Family Sign, in a clan of Navajos that has several . who can speak the <span>Navajo . dialect of Plains Sign Talk .\n",
            "URL: https://tinyurl.com/zgfblh9\n",
            "--------------------------------------------------\n",
            "Result 4: Southern Athabaskan languages\n",
            "Summary:  Geronimo (Goyaałé) who spoke Chiricahua was a famous raider and war leader . Manuelito spoke <span class=\"searchmatch\">Navajo</span> and is famous .\n",
            "URL: https://tinyurl.com/24yua8h4\n",
            "--------------------------------------------------\n"
          ]
        },
        {
          "output_type": "stream",
          "name": "stderr",
          "text": [
            "Your max_length is set to 100, but your input_length is only 84. Since this is a summarization task, where outputs shorter than the input are typically wanted, you might consider decreasing max_length manually, e.g. summarizer('...', max_length=42)\n"
          ]
        },
        {
          "output_type": "stream",
          "name": "stdout",
          "text": [
            "Results for keyword: the analog of Navajo language\n",
            "\n",
            "Result 1: Navajo Sandstone\n",
            "Summary:  Sandstone is a geological formation in <span class=\"searchmatch\">the Glen Canyon Group that is spread across the U.S. states of southern Nevada, northern Arizona, northwest Arizona, and southern Arizona . Sandstone formation is spread in southern Nevada and northern Arizona .\n",
            "URL: https://tinyurl.com/2aamj76w\n",
            "--------------------------------------------------\n"
          ]
        },
        {
          "output_type": "stream",
          "name": "stderr",
          "text": [
            "Your max_length is set to 100, but your input_length is only 89. Since this is a summarization task, where outputs shorter than the input are typically wanted, you might consider decreasing max_length manually, e.g. summarizer('...', max_length=44)\n"
          ]
        },
        {
          "output_type": "stream",
          "name": "stdout",
          "text": [
            "Result 2: American Sign Language\n",
            "Summary:  Sign <span class=\"searchmatch\">Language</span> (ASL) is a natural language that serves as the predominant sign for Deaf communities in the U.S. and most of most of the world's Anglophone communities .\n",
            "URL: https://tinyurl.com/oywnv7b\n",
            "--------------------------------------------------\n"
          ]
        },
        {
          "output_type": "stream",
          "name": "stderr",
          "text": [
            "Your max_length is set to 100, but your input_length is only 83. Since this is a summarization task, where outputs shorter than the input are typically wanted, you might consider decreasing max_length manually, e.g. summarizer('...', max_length=41)\n"
          ]
        },
        {
          "output_type": "stream",
          "name": "stdout",
          "text": [
            "Result 3: Dune (franchise)\n",
            "Summary:  from multiple other languages, including Hebrew, Latin, Latin and Chakobsa . Nahuatl is the language of the Aztecs, Greek, Persian, East Indian, Russian, Turkish .\n",
            "URL: https://tinyurl.com/ovolyh3\n",
            "--------------------------------------------------\n",
            "Result 4: Language death\n",
            "Summary:  When a <span class=\"searchmatch\">language dies, such as the loss of word-formation productivity; style loss, such a loss of ritual speech; morphological leveling; . loss of language . loss .\n",
            "URL: https://tinyurl.com/2cjcmvrf\n",
            "--------------------------------------------------\n",
            "Results for keyword: physical meaning of Navajo language\n",
            "\n"
          ]
        },
        {
          "output_type": "stream",
          "name": "stderr",
          "text": [
            "Your max_length is set to 100, but your input_length is only 87. Since this is a summarization task, where outputs shorter than the input are typically wanted, you might consider decreasing max_length manually, e.g. summarizer('...', max_length=43)\n"
          ]
        },
        {
          "output_type": "stream",
          "name": "stdout",
          "text": [
            "Result 1: Navajo language\n",
            "Summary:  Navajo or Navaho is a Southern Athabaskan . Diné bizaad [tìnépìz̥ɑ̀ːt] or Naabeehó [nævəhoʊ,  ˈnɑː-/; . Navaho . is the name of the Native American tribe .\n",
            "URL: https://tinyurl.com/j5vymdg\n",
            "--------------------------------------------------\n"
          ]
        },
        {
          "output_type": "stream",
          "name": "stderr",
          "text": [
            "Your max_length is set to 100, but your input_length is only 48. Since this is a summarization task, where outputs shorter than the input are typically wanted, you might consider decreasing max_length manually, e.g. summarizer('...', max_length=24)\n"
          ]
        },
        {
          "output_type": "stream",
          "name": "stdout",
          "text": [
            "Result 2: Navajo grammar\n",
            "Summary:  <span class=\"searchmatch\">Navajo is a &quot;verb-heavy language . It has a great preponderance of verbs but relatively few nouns . In addition to verbs and nouns, it has other elements .\n",
            "URL: https://tinyurl.com/2ylmpd7h\n",
            "--------------------------------------------------\n"
          ]
        },
        {
          "output_type": "stream",
          "name": "stderr",
          "text": [
            "Your max_length is set to 100, but your input_length is only 53. Since this is a summarization task, where outputs shorter than the input are typically wanted, you might consider decreasing max_length manually, e.g. summarizer('...', max_length=26)\n"
          ]
        },
        {
          "output_type": "stream",
          "name": "stdout",
          "text": [
            "Result 3: Navajo song ceremonial complex\n",
            "Summary:  The <span class=\"searchmatch\">Navajo</span> song ceremonial complex is a spiritual practice used by certain ceremonial people to restore balance and harmony in the world .\n",
            "URL: https://tinyurl.com/27zxzdxz\n",
            "--------------------------------------------------\n",
            "Result 4: Hopi\n",
            "Summary:  Hopi wanted the government to provide protection against the <span class=\"searchmatch\">Navajo</span> tribe . Navajo is an Apachean-language, but distinct from other Apache . At this time, Hopi was the Hopi .\n",
            "URL: https://tinyurl.com/23a3wsbj\n",
            "--------------------------------------------------\n"
          ]
        },
        {
          "output_type": "stream",
          "name": "stderr",
          "text": [
            "Your max_length is set to 100, but your input_length is only 52. Since this is a summarization task, where outputs shorter than the input are typically wanted, you might consider decreasing max_length manually, e.g. summarizer('...', max_length=26)\n"
          ]
        },
        {
          "output_type": "stream",
          "name": "stdout",
          "text": [
            "Results for keyword: Navajo language symbolism\n",
            "\n"
          ]
        },
        {
          "output_type": "stream",
          "name": "stderr",
          "text": [
            "Your max_length is set to 100, but your input_length is only 79. Since this is a summarization task, where outputs shorter than the input are typically wanted, you might consider decreasing max_length manually, e.g. summarizer('...', max_length=39)\n"
          ]
        },
        {
          "output_type": "stream",
          "name": "stdout",
          "text": [
            "Result 1: Wall of Love\n",
            "Summary:  The wall is open to the public free of charge . Words 'I love you' in all major languages, but also in rarer ones like Navajo, Inuit, Bambara and Esperanto .\n",
            "URL: https://tinyurl.com/25cgezbu\n",
            "--------------------------------------------------\n"
          ]
        },
        {
          "output_type": "stream",
          "name": "stderr",
          "text": [
            "Your max_length is set to 100, but your input_length is only 52. Since this is a summarization task, where outputs shorter than the input are typically wanted, you might consider decreasing max_length manually, e.g. summarizer('...', max_length=26)\n"
          ]
        },
        {
          "output_type": "stream",
          "name": "stdout",
          "text": [
            "Result 2: Navajo weaving\n",
            "Summary:  Textiles are textiles produced by <span class=\"searchmatch\">Navajo</span> people, who are based near the Four Corners area of the United States .\n",
            "URL: https://tinyurl.com/222tk46b\n",
            "--------------------------------------------------\n"
          ]
        },
        {
          "output_type": "stream",
          "name": "stderr",
          "text": [
            "Your max_length is set to 100, but your input_length is only 53. Since this is a summarization task, where outputs shorter than the input are typically wanted, you might consider decreasing max_length manually, e.g. summarizer('...', max_length=26)\n"
          ]
        },
        {
          "output_type": "stream",
          "name": "stdout",
          "text": [
            "Result 3: Gladys Reichard\n",
            "Summary:  Reichard was concerned with understanding <span class=\"searchmatch\">language variation, and with connections between linguistic . American languages: Wiyot, Coeur d'Alene and <span>Navajo .\n",
            "URL: https://tinyurl.com/27w49wtp\n",
            "--------------------------------------------------\n",
            "Result 4: Crow Canyon Archaeological District\n",
            "Summary:  People has a rich history of <span class=\"searchmatch\">symbolism and spirituality, and has a deep connection to the Earth .\n",
            "URL: https://tinyurl.com/26xd3hhz\n",
            "--------------------------------------------------\n"
          ]
        },
        {
          "output_type": "stream",
          "name": "stderr",
          "text": [
            "Your max_length is set to 100, but your input_length is only 71. Since this is a summarization task, where outputs shorter than the input are typically wanted, you might consider decreasing max_length manually, e.g. summarizer('...', max_length=35)\n"
          ]
        },
        {
          "output_type": "stream",
          "name": "stdout",
          "text": [
            "Results for keyword: symbolism of Navajo language\n",
            "\n"
          ]
        },
        {
          "output_type": "stream",
          "name": "stderr",
          "text": [
            "Your max_length is set to 100, but your input_length is only 89. Since this is a summarization task, where outputs shorter than the input are typically wanted, you might consider decreasing max_length manually, e.g. summarizer('...', max_length=44)\n"
          ]
        },
        {
          "output_type": "stream",
          "name": "stdout",
          "text": [
            "Result 1: Wall of Love\n",
            "Summary:  The wall is open to the public free <span class=\"searchmatch\">of </span> charge . It is available in all major languages, but also in rarer ones like Inuit, Bambara, Inuit and Esperanto .\n",
            "URL: https://tinyurl.com/25cgezbu\n",
            "--------------------------------------------------\n"
          ]
        },
        {
          "output_type": "stream",
          "name": "stderr",
          "text": [
            "Your max_length is set to 100, but your input_length is only 96. Since this is a summarization task, where outputs shorter than the input are typically wanted, you might consider decreasing max_length manually, e.g. summarizer('...', max_length=48)\n"
          ]
        },
        {
          "output_type": "stream",
          "name": "stdout",
          "text": [
            "Result 2: Navajo weaving\n",
            "Summary:  Textiles are textiles produced by <span class=\"searchmatch\">Navajo</span> people, who are based near the Four Corners area of the United States .\n",
            "URL: https://tinyurl.com/222tk46b\n",
            "--------------------------------------------------\n"
          ]
        },
        {
          "output_type": "stream",
          "name": "stderr",
          "text": [
            "Your max_length is set to 100, but your input_length is only 70. Since this is a summarization task, where outputs shorter than the input are typically wanted, you might consider decreasing max_length manually, e.g. summarizer('...', max_length=35)\n"
          ]
        },
        {
          "output_type": "stream",
          "name": "stdout",
          "text": [
            "Result 3: Gladys Reichard\n",
            "Summary:  Causative Elements in <span class=\"searchmatch\">Navajo</span> (co-authored with Adolph Bitanny) 1944: The Story of the Coeur d'Alene . Hail Chant 1945: Composition and Symbolism .\n",
            "URL: https://tinyurl.com/27w49wtp\n",
            "--------------------------------------------------\n",
            "Result 4: Swastika\n",
            "Summary:  In Jain, it represents Suparshvanatha, the seventh of the 24 Tirthankaras (spiritual teachers and spiritual teachers) symbolising night or tantric aspects of Kali .\n",
            "URL: https://tinyurl.com/bppdhyz\n",
            "--------------------------------------------------\n"
          ]
        },
        {
          "output_type": "stream",
          "name": "stderr",
          "text": [
            "Your max_length is set to 100, but your input_length is only 72. Since this is a summarization task, where outputs shorter than the input are typically wanted, you might consider decreasing max_length manually, e.g. summarizer('...', max_length=36)\n"
          ]
        },
        {
          "output_type": "stream",
          "name": "stdout",
          "text": [
            "Results for keyword: iconographic meaning of Navajo language\n",
            "\n"
          ]
        },
        {
          "output_type": "stream",
          "name": "stderr",
          "text": [
            "Your max_length is set to 100, but your input_length is only 62. Since this is a summarization task, where outputs shorter than the input are typically wanted, you might consider decreasing max_length manually, e.g. summarizer('...', max_length=31)\n"
          ]
        },
        {
          "output_type": "stream",
          "name": "stdout",
          "text": [
            "Result 1: Quetzalcoatl\n",
            "Summary:  The Mesoamerican deity appears on the earliest known depiction of the feathered-serpent deity . Mesoamanic cultures depict the deity as a feathered serpent . The earliest known depictions of the deity appear on religious and symbolic sites .\n",
            "URL: https://tinyurl.com/nr8kmwz\n",
            "--------------------------------------------------\n"
          ]
        },
        {
          "output_type": "stream",
          "name": "stderr",
          "text": [
            "Your max_length is set to 100, but your input_length is only 48. Since this is a summarization task, where outputs shorter than the input are typically wanted, you might consider decreasing max_length manually, e.g. summarizer('...', max_length=24)\n"
          ]
        },
        {
          "output_type": "stream",
          "name": "stdout",
          "text": [
            "Result 2: Swastika\n",
            "Summary:  In various European languages, it is known as the fylfot, gammadion or the fyllfot . In Native Americans, whirling logs <span class=\"searchmatch\">Navajo</span> denote abundance, prosperity, healing, and luck .\n",
            "URL: https://tinyurl.com/bppdhyz\n",
            "--------------------------------------------------\n"
          ]
        },
        {
          "output_type": "stream",
          "name": "stderr",
          "text": [
            "Your max_length is set to 100, but your input_length is only 46. Since this is a summarization task, where outputs shorter than the input are typically wanted, you might consider decreasing max_length manually, e.g. summarizer('...', max_length=23)\n"
          ]
        },
        {
          "output_type": "stream",
          "name": "stdout",
          "text": [
            "Result 3: Fasces\n",
            "Summary:  Mussolini's use persists in governmental and various governments outside Italy, prior to Mussolini. and incorporated into the iconography <span class=\"searchmatch\">of numerous governments outside . Italy, before Mussolini .\n",
            "URL: https://tinyurl.com/cxnxdef\n",
            "--------------------------------------------------\n",
            "Result 4: Real Spaces\n",
            "Summary:  He disregards traditional formal and <span class=\"searchmatch\">iconographical <span> art historical attributes of art and architecture and their connection to social functions throughout time .\n",
            "URL: https://tinyurl.com/29cu32sm\n",
            "--------------------------------------------------\n"
          ]
        },
        {
          "output_type": "stream",
          "name": "stderr",
          "text": [
            "Your max_length is set to 100, but your input_length is only 93. Since this is a summarization task, where outputs shorter than the input are typically wanted, you might consider decreasing max_length manually, e.g. summarizer('...', max_length=46)\n"
          ]
        },
        {
          "output_type": "stream",
          "name": "stdout",
          "text": [
            "Results for keyword: why is Navajo language important?\n",
            "\n",
            "Result 1: Navajo\n",
            "Summary:  The <span class=\"searchmatch\">Navajo</span> Reservation is slightly larger than the state of West Virginia . The region's language is spoken throughout the region .\n",
            "URL: https://tinyurl.com/wyz22v8\n",
            "--------------------------------------------------\n"
          ]
        },
        {
          "output_type": "stream",
          "name": "stderr",
          "text": [
            "Your max_length is set to 100, but your input_length is only 74. Since this is a summarization task, where outputs shorter than the input are typically wanted, you might consider decreasing max_length manually, e.g. summarizer('...', max_length=37)\n"
          ]
        },
        {
          "output_type": "stream",
          "name": "stdout",
          "text": [
            "Result 2: Languages of the United States\n",
            "Summary:  Native American is the largest Native American <span class=\"searchmatch\">language</span>-speaking community by far . Navajo is an Athabaskan . language of the Na-Dené .\n",
            "URL: https://tinyurl.com/npnnnnx\n",
            "--------------------------------------------------\n"
          ]
        },
        {
          "output_type": "stream",
          "name": "stderr",
          "text": [
            "Your max_length is set to 100, but your input_length is only 74. Since this is a summarization task, where outputs shorter than the input are typically wanted, you might consider decreasing max_length manually, e.g. summarizer('...', max_length=37)\n"
          ]
        },
        {
          "output_type": "stream",
          "name": "stdout",
          "text": [
            "Result 3: Spider Grandmother\n",
            "Summary:  Spider Grandmother (Hopi Kokyangwuti, <span class=\"searchmatch\">Navajo</span> Na'ashjé'ii Asdzáá) is an important figure in Native American mythology .\n",
            "URL: https://tinyurl.com/2846dm5g\n",
            "--------------------------------------------------\n",
            "Result 4: Kenneth L. Hale\n",
            "Summary:  Often endangered <span class=\"searchmatch\">languages</span> of North America and Australia . Languages investigated include Navajo, O'odham, Warlpiri .\n",
            "URL: https://tinyurl.com/2yqdrbgc\n",
            "--------------------------------------------------\n",
            "Results for keyword: generic model of a Navajo language\n",
            "\n"
          ]
        },
        {
          "output_type": "stream",
          "name": "stderr",
          "text": [
            "Your max_length is set to 100, but your input_length is only 93. Since this is a summarization task, where outputs shorter than the input are typically wanted, you might consider decreasing max_length manually, e.g. summarizer('...', max_length=46)\n"
          ]
        },
        {
          "output_type": "stream",
          "name": "stdout",
          "text": [
            "Result 1: Welsh language\n",
            "Summary:  Welsh (Cymraeg [kəmˈraːiɡ] or y Gymraeg) is a Brittonic subgroup that is native to the Welsh people . Welsh is a Celtic language .\n",
            "URL: https://tinyurl.com/bqo2x9o\n",
            "--------------------------------------------------\n"
          ]
        },
        {
          "output_type": "stream",
          "name": "stderr",
          "text": [
            "Your max_length is set to 100, but your input_length is only 71. Since this is a summarization task, where outputs shorter than the input are typically wanted, you might consider decreasing max_length manually, e.g. summarizer('...', max_length=35)\n"
          ]
        },
        {
          "output_type": "stream",
          "name": "stdout",
          "text": [
            "Result 2: Blueberry (comics)\n",
            "Summary:  In the English language, the story ends with a cliffhanger, frustratingly leaving English readers with a five volume story . The resolution was the resolution of the story, as it was a resolution <span class=\"searchmatch\">of the story .\n",
            "URL: https://tinyurl.com/23yqxep5\n",
            "--------------------------------------------------\n"
          ]
        },
        {
          "output_type": "stream",
          "name": "stderr",
          "text": [
            "Your max_length is set to 100, but your input_length is only 85. Since this is a summarization task, where outputs shorter than the input are typically wanted, you might consider decreasing max_length manually, e.g. summarizer('...', max_length=42)\n"
          ]
        },
        {
          "output_type": "stream",
          "name": "stdout",
          "text": [
            "Result 3: Rainbow 100\n",
            "Summary:  American <span class=\"searchmatch\">languages</span> began with the Rainbow 100 . Rock Point Community School in Arizona commissioned a chip for the Native American language .\n",
            "URL: https://tinyurl.com/y7lbn6al\n",
            "--------------------------------------------------\n",
            "Result 4: Endonym and exonym\n",
            "Summary:  Searchmatch is a common, native name for a group of people, group <span class=\"searchmatch\">of people, individual person, geographical place, language, dialect or dialect . It is used inside a particular language or dialect, for example .\n",
            "URL: https://tinyurl.com/2cxftp6j\n",
            "--------------------------------------------------\n"
          ]
        },
        {
          "output_type": "stream",
          "name": "stderr",
          "text": [
            "Your max_length is set to 100, but your input_length is only 57. Since this is a summarization task, where outputs shorter than the input are typically wanted, you might consider decreasing max_length manually, e.g. summarizer('...', max_length=28)\n"
          ]
        },
        {
          "output_type": "stream",
          "name": "stdout",
          "text": [
            "Results for keyword: generic model representation of Navajo language\n",
            "\n"
          ]
        },
        {
          "output_type": "stream",
          "name": "stderr",
          "text": [
            "Your max_length is set to 100, but your input_length is only 85. Since this is a summarization task, where outputs shorter than the input are typically wanted, you might consider decreasing max_length manually, e.g. summarizer('...', max_length=42)\n"
          ]
        },
        {
          "output_type": "stream",
          "name": "stdout",
          "text": [
            "Result 1: Demographics of Asian Americans\n",
            "Summary:  The above list displays the population <span class=\"searchmatch\">of <span> LGBT Americans . African Americans, Hispanic Americans, and Caucasian Americans . Asian Americans are Asian Americans .\n",
            "URL: https://tinyurl.com/mtel4gl\n",
            "--------------------------------------------------\n"
          ]
        },
        {
          "output_type": "stream",
          "name": "stderr",
          "text": [
            "Your max_length is set to 100, but your input_length is only 60. Since this is a summarization task, where outputs shorter than the input are typically wanted, you might consider decreasing max_length manually, e.g. summarizer('...', max_length=30)\n"
          ]
        },
        {
          "output_type": "stream",
          "name": "stdout",
          "text": [
            "Result 2: Edward Sapir\n",
            "Summary:  Reports from the Survey of California and Other Indian Languages 6: 1–509. (PDF) (PDF). Reports from a Survey of the Survey . of . California and . Other Indian languages . (PDF), Reports from . the Survey <span class=\"searchmatch\">of</span> California and </span>. California and other Indian . languages . The survey was conducted by Edward Sapir .\n",
            "URL: https://tinyurl.com/2yeoalv5\n",
            "--------------------------------------------------\n"
          ]
        },
        {
          "output_type": "stream",
          "name": "stderr",
          "text": [
            "Your max_length is set to 100, but your input_length is only 67. Since this is a summarization task, where outputs shorter than the input are typically wanted, you might consider decreasing max_length manually, e.g. summarizer('...', max_length=33)\n"
          ]
        },
        {
          "output_type": "stream",
          "name": "stdout",
          "text": [
            "Result 3: National Museum of the American Indian\n",
            "Summary:  Collaborative, and Polshek Partnership Architects <span class=\"searchmatch\">of <span> New York City; Ramona Sakiestewa (Hopi) and Donna House (Navajo) also served as design consultants .\n",
            "URL: https://tinyurl.com/jlopk2m\n",
            "--------------------------------------------------\n",
            "Result 4: Secure communication\n",
            "Summary:  &quot;Do you speak <span class=\"searchmatch\">Navajo</span>?? If the response is yes, increase the percentage of traffic encrypted . This is analogous to . starting every conversation with &qot; do you speak Navajo? &quat; If the answer is yes . increase the . percentage of <span of <span> of . <span . of </span> traffic which is encrypted . Increase the percentage <span. of <\n",
            "URL: https://tinyurl.com/y7rslmsj\n",
            "--------------------------------------------------\n"
          ]
        },
        {
          "output_type": "stream",
          "name": "stderr",
          "text": [
            "Your max_length is set to 100, but your input_length is only 53. Since this is a summarization task, where outputs shorter than the input are typically wanted, you might consider decreasing max_length manually, e.g. summarizer('...', max_length=26)\n"
          ]
        },
        {
          "output_type": "stream",
          "name": "stdout",
          "text": [
            "Results for keyword: schematic representation of Navajo language\n",
            "\n"
          ]
        },
        {
          "output_type": "stream",
          "name": "stderr",
          "text": [
            "Your max_length is set to 100, but your input_length is only 59. Since this is a summarization task, where outputs shorter than the input are typically wanted, you might consider decreasing max_length manually, e.g. summarizer('...', max_length=29)\n"
          ]
        },
        {
          "output_type": "stream",
          "name": "stdout",
          "text": [
            "Result 1: Indian reservation\n",
            "Summary:  The largest reservation, the <span class=\"searchmatch\">Navajo</span> Nation Reservation, is similar in size to the state of West Virginia . Rhode Island .\n",
            "URL: https://tinyurl.com/hnl32fz\n",
            "--------------------------------------------------\n"
          ]
        },
        {
          "output_type": "stream",
          "name": "stderr",
          "text": [
            "Your max_length is set to 100, but your input_length is only 59. Since this is a summarization task, where outputs shorter than the input are typically wanted, you might consider decreasing max_length manually, e.g. summarizer('...', max_length=29)\n"
          ]
        },
        {
          "output_type": "stream",
          "name": "stdout",
          "text": [
            "Result 2: Secure communication\n",
            "Summary:  If the conversation proceeds in <span class=\"searchmatch\">Navajo</span> if the conversation is affirmative, then it uses the common language of the two speakers . This method does not generally provide useful information .\n",
            "URL: https://tinyurl.com/y7rslmsj\n",
            "--------------------------------------------------\n"
          ]
        },
        {
          "output_type": "stream",
          "name": "stderr",
          "text": [
            "Your max_length is set to 100, but your input_length is only 65. Since this is a summarization task, where outputs shorter than the input are typically wanted, you might consider decreasing max_length manually, e.g. summarizer('...', max_length=32)\n"
          ]
        },
        {
          "output_type": "stream",
          "name": "stdout",
          "text": [
            "Result 3: Indigenous peoples of the Americas\n",
            "Summary:  At least a thousand different Indigenous <span class=\"searchmatch\">languages are spoken in the Americas . Several of these languages are recognized as official by several governments .\n",
            "URL: https://tinyurl.com/6u6qpey\n",
            "--------------------------------------------------\n",
            "Result 4: Star Wars (film)\n",
            "Summary:  &quot;Alumna, four others dub Star Wars film into <span class=\"searchmatch\">Navajo <span>language . Arizona State University. (Press release). October 4, 2013. Archived March 5, 2019 .\n",
            "URL: https://tinyurl.com/nnrfbhd\n",
            "--------------------------------------------------\n"
          ]
        },
        {
          "output_type": "stream",
          "name": "stderr",
          "text": [
            "Your max_length is set to 100, but your input_length is only 85. Since this is a summarization task, where outputs shorter than the input are typically wanted, you might consider decreasing max_length manually, e.g. summarizer('...', max_length=42)\n"
          ]
        },
        {
          "output_type": "stream",
          "name": "stdout",
          "text": [
            "Results for keyword: Linear model of Navajo language\n",
            "\n"
          ]
        },
        {
          "output_type": "stream",
          "name": "stderr",
          "text": [
            "Your max_length is set to 100, but your input_length is only 66. Since this is a summarization task, where outputs shorter than the input are typically wanted, you might consider decreasing max_length manually, e.g. summarizer('...', max_length=33)\n"
          ]
        },
        {
          "output_type": "stream",
          "name": "stdout",
          "text": [
            "Result 1: Mirror theory\n",
            "Summary:  Harley (2009) analyses of the morpheme orders of Navajo and Cupeño . Halle, Morris &amp; Alec Marantz. 1993. 'Distributed Morphology and the Pieces'\n",
            "URL: https://tinyurl.com/25dw2boj\n",
            "--------------------------------------------------\n"
          ]
        },
        {
          "output_type": "stream",
          "name": "stderr",
          "text": [
            "Your max_length is set to 100, but your input_length is only 53. Since this is a summarization task, where outputs shorter than the input are typically wanted, you might consider decreasing max_length manually, e.g. summarizer('...', max_length=26)\n"
          ]
        },
        {
          "output_type": "stream",
          "name": "stdout",
          "text": [
            "Result 2: Apache\n",
            "Summary:  Apache communities in Coyotero, Tonto (Coyotero and Tonto) Distant cousins <span class=\"searchmatch\">of the Apache are the Apache, with whom they share the Southern Athabaskan languages .\n",
            "URL: https://tinyurl.com/yam2l6uk\n",
            "--------------------------------------------------\n"
          ]
        },
        {
          "output_type": "stream",
          "name": "stderr",
          "text": [
            "Your max_length is set to 100, but your input_length is only 84. Since this is a summarization task, where outputs shorter than the input are typically wanted, you might consider decreasing max_length manually, e.g. summarizer('...', max_length=42)\n"
          ]
        },
        {
          "output_type": "stream",
          "name": "stdout",
          "text": [
            "Result 3: Duolingo\n",
            "Summary:  The platform was founded in 2011 by Luis von Ahn and Severin Hacker . It has since grown to become one of the most popular platforms in the world .\n",
            "URL: https://tinyurl.com/m2xsqsx\n",
            "--------------------------------------------------\n",
            "Result 4: Evolution of languages\n",
            "Summary:  Apachean <span class=\"searchmatch\">languages like Navajo and Navajo migrated south to the Pueblo area in around 1500s. and 1700s. Apachean .\n",
            "URL: https://tinyurl.com/2d34y6on\n",
            "--------------------------------------------------\n"
          ]
        },
        {
          "output_type": "stream",
          "name": "stderr",
          "text": [
            "Your max_length is set to 100, but your input_length is only 94. Since this is a summarization task, where outputs shorter than the input are typically wanted, you might consider decreasing max_length manually, e.g. summarizer('...', max_length=47)\n"
          ]
        },
        {
          "output_type": "stream",
          "name": "stdout",
          "text": [
            "Results for keyword: Navajo language is related to?\n",
            "\n",
            "Result 1: Navajo language\n",
            "Summary:  Na-Dené family is through which it is spoken across the western areas of North America . Navajo is spoken primarily in the Southwestern region of the U.S.\n",
            "URL: https://tinyurl.com/j5vymdg\n",
            "--------------------------------------------------\n"
          ]
        },
        {
          "output_type": "stream",
          "name": "stderr",
          "text": [
            "Your max_length is set to 100, but your input_length is only 89. Since this is a summarization task, where outputs shorter than the input are typically wanted, you might consider decreasing max_length manually, e.g. summarizer('...', max_length=44)\n"
          ]
        },
        {
          "output_type": "stream",
          "name": "stdout",
          "text": [
            "Result 2: Navajo\n",
            "Summary:  The Apache language is closely related to the <span class=\"searchmatch\" language of Navajos and Apaches . The Apaches migrated from northwestern Canada . The Apache and Navajo are mutually intelligible dialects .\n",
            "URL: https://tinyurl.com/wyz22v8\n",
            "--------------------------------------------------\n"
          ]
        },
        {
          "output_type": "stream",
          "name": "stderr",
          "text": [
            "Your max_length is set to 100, but your input_length is only 69. Since this is a summarization task, where outputs shorter than the input are typically wanted, you might consider decreasing max_length manually, e.g. summarizer('...', max_length=34)\n"
          ]
        },
        {
          "output_type": "stream",
          "name": "stdout",
          "text": [
            "Result 3: Skin-walker\n",
            "Summary:  The term <span class=\"searchmatch\">is never used for healers . The term yee naaldlooshii translates to \"by means of it, it goes on all fours&quot; themselves as animals\"\n",
            "URL: https://tinyurl.com/q5ojt9y\n",
            "--------------------------------------------------\n",
            "Result 4: Code talker\n",
            "Summary:  English was developed based on the Comanche, Hopi, Meskwaki, and Navajo peoples . They used words from their languages for each letter of the English .\n",
            "URL: https://tinyurl.com/p9susfa\n",
            "--------------------------------------------------\n"
          ]
        },
        {
          "output_type": "stream",
          "name": "stderr",
          "text": [
            "Your max_length is set to 100, but your input_length is only 74. Since this is a summarization task, where outputs shorter than the input are typically wanted, you might consider decreasing max_length manually, e.g. summarizer('...', max_length=37)\n"
          ]
        },
        {
          "output_type": "stream",
          "name": "stdout",
          "text": [
            "Results for keyword: Floor plan of Navajo language\n",
            "\n"
          ]
        },
        {
          "output_type": "stream",
          "name": "stderr",
          "text": [
            "Your max_length is set to 100, but your input_length is only 78. Since this is a summarization task, where outputs shorter than the input are typically wanted, you might consider decreasing max_length manually, e.g. summarizer('...', max_length=39)\n"
          ]
        },
        {
          "output_type": "stream",
          "name": "stdout",
          "text": [
            "Result 1: Uranium mining and the Navajo people\n",
            "Summary:  The risks of lung cancer due to uranium mining were unknown to the workers . The lack of a word for radiation in the <span class=\"searchmatch\">Navajo</span> language left the miners at risk .\n",
            "URL: https://tinyurl.com/hxcz7sh\n",
            "--------------------------------------------------\n",
            "Result 2: Canyon de Chelly National Monument\n",
            "Summary:  The monument covers 83,840 acres (131 sq mi; 339 km2) and encompasses the <span class=\"searchmatch\">floors</span> and rims of the three major canyons .\n",
            "URL: https://tinyurl.com/o6ggarr\n",
            "--------------------------------------------------\n"
          ]
        },
        {
          "output_type": "stream",
          "name": "stderr",
          "text": [
            "Your max_length is set to 100, but your input_length is only 89. Since this is a summarization task, where outputs shorter than the input are typically wanted, you might consider decreasing max_length manually, e.g. summarizer('...', max_length=44)\n"
          ]
        },
        {
          "output_type": "stream",
          "name": "stdout",
          "text": [
            "Result 3: Diné Bahaneʼ\n",
            "Summary:  Baahaneʼ <span class=\"searchmatch\">Navajo</span> describes the prehistoric emergence of the creation myth, as a part of a part <span> of the <span>. of the People&quot; story, the . creation myth . The creation myth is a creation myth of the Native Americans .\n",
            "URL: https://tinyurl.com/27ykchf2\n",
            "--------------------------------------------------\n",
            "Result 4: Puebloans\n",
            "Summary:  Puebloan <span class=\"searchmatch\">languages </span> are tonal . However, the tone is not usually shown in the spelling of these languages .\n",
            "URL: https://tinyurl.com/2cc85csp\n",
            "--------------------------------------------------\n"
          ]
        }
      ]
    },
    {
      "cell_type": "code",
      "source": [
        "# Wikidictionary version with summaries and URLs\n",
        "import requests\n",
        "from transformers import pipeline\n",
        "import pyshorteners\n",
        "\n",
        "keywords = [\n",
        "    \"importance of X\",\n",
        "    \"ideal behavior of X\",\n",
        "    \"ideal vs. realistic behavior of X\",\n",
        "    \"significance of X\",\n",
        "    \"applications of X\",\n",
        "    \"physical significance of X\",\n",
        "    \"geometry for the measurement of X\",\n",
        "    \"typical characteristics of X\",\n",
        "    \"with and without X\",\n",
        "    \"what does X represent?\",\n",
        "    \"what is the concept of X?\",\n",
        "    \"taxonomy of X\",\n",
        "    \"table of X\",\n",
        "    \"X table\",\n",
        "    \"difference between X\",\n",
        "    \"the analog of X\",\n",
        "    \"physical meaning of X\",\n",
        "    \"X symbolism\",\n",
        "    \"symbolism of X\",\n",
        "    \"iconographic meaning of X\",\n",
        "    \"why is X important?\",\n",
        "    \"generic model of a X\",\n",
        "    \"generic model representation of X\",\n",
        "    \"schematic representation of X\",\n",
        "    \"Linear model of X\",\n",
        "    \"X is related to?\",\n",
        "    \"Floor plan of X\"\n",
        "]\n",
        "\n",
        "base_url = \"https://en.wiktionary.org/w/api.php\"\n",
        "params = {\n",
        "    \"action\": \"query\",\n",
        "    \"format\": \"json\",\n",
        "    \"list\": \"search\",\n",
        "    \"srsearch\": \"\",\n",
        "    \"srprop\": \"snippet\"\n",
        "}\n",
        "\n",
        "entry = input(\"Enter the word for X: \")\n",
        "\n",
        "summarizer = pipeline(\"summarization\")\n",
        "shortener = pyshorteners.Shortener()\n",
        "\n",
        "for keyword in keywords:\n",
        "    keyword_with_entry = keyword.replace(\"X\", entry)\n",
        "    params[\"srsearch\"] = keyword_with_entry\n",
        "    response = requests.get(base_url, params=params).json()\n",
        "    results = response[\"query\"][\"search\"]\n",
        "    if len(results) > 0:\n",
        "        print(f\"Results for keyword: {keyword_with_entry}\\n\")\n",
        "        for i, result in enumerate(results[:2]):\n",
        "            title = result[\"title\"]\n",
        "            snippet = result[\"snippet\"]\n",
        "            summary = summarizer(snippet, max_length=100, min_length=30, do_sample=False)[0]['summary_text']\n",
        "            page_url = f\"https://en.wiktionary.org/wiki/{title.replace(' ', '_')}\"\n",
        "            shortened_url = shortener.tinyurl.short(page_url)\n",
        "            print(f\"Result {i+1}: {title}\")\n",
        "            print(f\"Summary: {summary}\")\n",
        "            print(f\"URL: {shortened_url}\")\n",
        "            print(\"--------------------------------------------------\")\n",
        "    else:\n",
        "        print(f\"No results found for keyword: {keyword_with_entry}\\n\")\n"
      ],
      "metadata": {
        "id": "4v97K9XgzW4Q",
        "outputId": "14efac69-fa47-4e32-d4c0-7ea7873569f7",
        "colab": {
          "base_uri": "https://localhost:8080/"
        }
      },
      "execution_count": 17,
      "outputs": [
        {
          "name": "stdout",
          "output_type": "stream",
          "text": [
            "Enter the word for X: Navajo language\n"
          ]
        },
        {
          "output_type": "stream",
          "name": "stderr",
          "text": [
            "No model was supplied, defaulted to sshleifer/distilbart-cnn-12-6 and revision a4f8f3e (https://huggingface.co/sshleifer/distilbart-cnn-12-6).\n",
            "Using a pipeline without specifying a model name and revision in production is not recommended.\n",
            "Your max_length is set to 100, but your input_length is only 71. Since this is a summarization task, where outputs shorter than the input are typically wanted, you might consider decreasing max_length manually, e.g. summarizer('...', max_length=35)\n"
          ]
        },
        {
          "output_type": "stream",
          "name": "stdout",
          "text": [
            "Results for keyword: importance of Navajo language\n",
            "\n"
          ]
        },
        {
          "output_type": "stream",
          "name": "stderr",
          "text": [
            "Your max_length is set to 100, but your input_length is only 63. Since this is a summarization task, where outputs shorter than the input are typically wanted, you might consider decreasing max_length manually, e.g. summarizer('...', max_length=31)\n"
          ]
        },
        {
          "output_type": "stream",
          "name": "stdout",
          "text": [
            "Result 1: important\n",
            "Summary:  <span class=\"searchmatch\">importance</span> importantissime important present participle . <span = \"importance\", \"importantissime\" and \"important\" are used in French .\n",
            "URL: https://tinyurl.com/26lt987q\n",
            "--------------------------------------------------\n",
            "Result 2: agave\n",
            "Summary:  Several are used as sources of fibre such as sisal, and alcoholic beverages such as tequila . Several are <span class=\"searchmatch\">of economic <span>importance <span importance</span> as sources . Several produce gigantic inflorescences .\n",
            "URL: https://tinyurl.com/29qdpndt\n",
            "--------------------------------------------------\n",
            "No results found for keyword: ideal behavior of Navajo language\n",
            "\n",
            "No results found for keyword: ideal vs. realistic behavior of Navajo language\n",
            "\n"
          ]
        },
        {
          "output_type": "stream",
          "name": "stderr",
          "text": [
            "Your max_length is set to 100, but your input_length is only 43. Since this is a summarization task, where outputs shorter than the input are typically wanted, you might consider decreasing max_length manually, e.g. summarizer('...', max_length=21)\n"
          ]
        },
        {
          "output_type": "stream",
          "name": "stdout",
          "text": [
            "Results for keyword: significance of Navajo language\n",
            "\n"
          ]
        },
        {
          "output_type": "stream",
          "name": "stderr",
          "text": [
            "Your max_length is set to 100, but your input_length is only 74. Since this is a summarization task, where outputs shorter than the input are typically wanted, you might consider decreasing max_length manually, e.g. summarizer('...', max_length=37)\n"
          ]
        },
        {
          "output_type": "stream",
          "name": "stdout",
          "text": [
            "Result 1: baseball\n",
            "Summary:  variant of poker in which cards with baseball-related values have special <span class=\"searchmatch\">significance . For quotations using this term, see Citations:baseball. baseball Annie .\n",
            "URL: https://tinyurl.com/2b2saust\n",
            "--------------------------------------------------\n",
            "Result 2: in vain\n",
            "Summary:  2012, N.H. Pijls, Maximal Myocardial Perfusion as a Measure of the Functional <span class=\"searchmatch\"> of <span> Coronary Artery Disease‎[2]: The problems concerning contrast are the result of contrast between the two types of myocardial perfusion .\n",
            "URL: https://tinyurl.com/28hu5nov\n",
            "--------------------------------------------------\n"
          ]
        },
        {
          "output_type": "stream",
          "name": "stderr",
          "text": [
            "Your max_length is set to 100, but your input_length is only 54. Since this is a summarization task, where outputs shorter than the input are typically wanted, you might consider decreasing max_length manually, e.g. summarizer('...', max_length=27)\n"
          ]
        },
        {
          "output_type": "stream",
          "name": "stdout",
          "text": [
            "Results for keyword: applications of Navajo language\n",
            "\n"
          ]
        },
        {
          "output_type": "stream",
          "name": "stderr",
          "text": [
            "Your max_length is set to 100, but your input_length is only 62. Since this is a summarization task, where outputs shorter than the input are typically wanted, you might consider decreasing max_length manually, e.g. summarizer('...', max_length=31)\n"
          ]
        },
        {
          "output_type": "stream",
          "name": "stdout",
          "text": [
            "Result 1: Czech\n",
            "Summary:  Lees-Marshment, Political Marketing: Principles and Applications . Political marketing: Principles, Applications, Applications . A whole array <span class=\"searchmatch\">of companies and consultants can be found here .\n",
            "URL: https://tinyurl.com/2dxqt7o7\n",
            "--------------------------------------------------\n",
            "Result 2: nation\n",
            "Summary:  Nationism nationism nationless nationlike Nation <span class=\"searchmatch\">of</span> Islam nation . Nation one nation conservatism one-nation conservatism one nation .\n",
            "URL: https://tinyurl.com/27xhtotw\n",
            "--------------------------------------------------\n",
            "No results found for keyword: physical significance of Navajo language\n",
            "\n"
          ]
        },
        {
          "output_type": "stream",
          "name": "stderr",
          "text": [
            "Your max_length is set to 100, but your input_length is only 93. Since this is a summarization task, where outputs shorter than the input are typically wanted, you might consider decreasing max_length manually, e.g. summarizer('...', max_length=46)\n"
          ]
        },
        {
          "output_type": "stream",
          "name": "stdout",
          "text": [
            "Results for keyword: geometry for the measurement of Navajo language\n",
            "\n",
            "Result 1: square\n",
            "Summary:  The size of an area is equal to a 10 foot by 10 foot square, i.e. 100 square feet or roughly 9.3 square metres . Used in real estate .\n",
            "URL: https://tinyurl.com/y7kjtjwt\n",
            "--------------------------------------------------\n",
            "Result 2: foot\n",
            "Summary:  Horace Mann: As to his being on <span class=\"searchmatch\">the</span> foot <span> of a servant, the foot is a unit of length . The foot is an ordinary plural of the ordinary plural .\n",
            "URL: https://tinyurl.com/28cxlh79\n",
            "--------------------------------------------------\n"
          ]
        },
        {
          "output_type": "stream",
          "name": "stderr",
          "text": [
            "Your max_length is set to 100, but your input_length is only 86. Since this is a summarization task, where outputs shorter than the input are typically wanted, you might consider decreasing max_length manually, e.g. summarizer('...', max_length=43)\n"
          ]
        },
        {
          "output_type": "stream",
          "name": "stdout",
          "text": [
            "Results for keyword: typical characteristics of Navajo language\n",
            "\n"
          ]
        },
        {
          "output_type": "stream",
          "name": "stderr",
          "text": [
            "Your max_length is set to 100, but your input_length is only 75. Since this is a summarization task, where outputs shorter than the input are typically wanted, you might consider decreasing max_length manually, e.g. summarizer('...', max_length=37)\n"
          ]
        },
        {
          "output_type": "stream",
          "name": "stdout",
          "text": [
            "Result 1: -ly\n",
            "Summary:  -ly Used to form adjectives from nouns, the adjectives having the sense <span class=\"searchmatch\">of</span> of being like, or having a nature . Doublet is a word that means 'like' or 'typical'\n",
            "URL: https://tinyurl.com/27jgttoe\n",
            "--------------------------------------------------\n",
            "Result 2: female\n",
            "Summary:  Tending to lead to or regulate the development of the female chromosome;   estrogen, the primary estrogen, is the primary ingredient in development of a woman .\n",
            "URL: https://tinyurl.com/2b8dbqw5\n",
            "--------------------------------------------------\n"
          ]
        },
        {
          "output_type": "stream",
          "name": "stderr",
          "text": [
            "Your max_length is set to 100, but your input_length is only 74. Since this is a summarization task, where outputs shorter than the input are typically wanted, you might consider decreasing max_length manually, e.g. summarizer('...', max_length=37)\n"
          ]
        },
        {
          "output_type": "stream",
          "name": "stdout",
          "text": [
            "Results for keyword: with and without Navajo language\n",
            "\n"
          ]
        },
        {
          "output_type": "stream",
          "name": "stderr",
          "text": [
            "Your max_length is set to 100, but your input_length is only 89. Since this is a summarization task, where outputs shorter than the input are typically wanted, you might consider decreasing max_length manually, e.g. summarizer('...', max_length=44)\n"
          ]
        },
        {
          "output_type": "stream",
          "name": "stdout",
          "text": [
            "Result 1: -TĄ́\n",
            "Summary:  Occurs in <span class=\"searchmatch\">Navajo</span> as momentaneous perfective -TĄ́ . (“animate rests”), among many other meanings in the sole Ahtna .\n",
            "URL: https://tinyurl.com/27fqtab8\n",
            "--------------------------------------------------\n",
            "Result 2: nv\n",
            "Summary:  nv (uncountable) (pathology) Initialism of novel/new is initialism . See also: Nv, NV, nv, nV, N-V, n.V., <span class=\"searchmatch\">and</span> n.N.V. (international standards)\n",
            "URL: https://tinyurl.com/2xzahs6r\n",
            "--------------------------------------------------\n",
            "Results for keyword: what does Navajo language represent?\n",
            "\n"
          ]
        },
        {
          "output_type": "stream",
          "name": "stderr",
          "text": [
            "Your max_length is set to 100, but your input_length is only 56. Since this is a summarization task, where outputs shorter than the input are typically wanted, you might consider decreasing max_length manually, e.g. summarizer('...', max_length=28)\n"
          ]
        },
        {
          "output_type": "stream",
          "name": "stdout",
          "text": [
            "Result 1: if\n",
            "Summary:  From English if (as in <span class=\"searchmatch\">what</span> if). (Tokyo)   イ​f [íꜜfù] (Atamadaka – [1) IPA(key): [iɸɯ̟ᵝ] if(イフ) • (ifu)  &quot; . (Ifu) is an alternative to the alternative word \"ifu\" for \"if\"\n",
            "URL: https://tinyurl.com/2amyw5r9\n",
            "--------------------------------------------------\n",
            "Result 2: dictionary\n",
            "Summary:  A synchronic dictionary of a standardised <span class=\"searchmatch\">language is held to only contain information . Information is represented by the use of a number/letter code .\n",
            "URL: https://tinyurl.com/y9aq42hr\n",
            "--------------------------------------------------\n",
            "Results for keyword: what is the concept of Navajo language?\n",
            "\n"
          ]
        },
        {
          "output_type": "stream",
          "name": "stderr",
          "text": [
            "Your max_length is set to 100, but your input_length is only 70. Since this is a summarization task, where outputs shorter than the input are typically wanted, you might consider decreasing max_length manually, e.g. summarizer('...', max_length=35)\n"
          ]
        },
        {
          "output_type": "stream",
          "name": "stdout",
          "text": [
            "Result 1: what\n",
            "Summary:  The Devil, deuce, dickens, hell, hell and hell, heck, fuck <span class=\"searchmatch\">what</span> is more <span> than what? or what's more? or if it's the same? or not? or more? Or if it is the same thing? Or what's not?\n",
            "URL: https://tinyurl.com/ycbmbww7\n",
            "--------------------------------------------------\n",
            "Result 2: understand\n",
            "Summary:  To believe one grasps a <span class=\"searchmatch\">concept: believe misunderstand I don’t understand. comprehend, grasp, know, perceive, pick up what someone is putting down, realise, grok .\n",
            "URL: https://tinyurl.com/24xm89q5\n",
            "--------------------------------------------------\n"
          ]
        },
        {
          "output_type": "stream",
          "name": "stderr",
          "text": [
            "Your max_length is set to 100, but your input_length is only 55. Since this is a summarization task, where outputs shorter than the input are typically wanted, you might consider decreasing max_length manually, e.g. summarizer('...', max_length=27)\n"
          ]
        },
        {
          "output_type": "stream",
          "name": "stdout",
          "text": [
            "Results for keyword: taxonomy of Navajo language\n",
            "\n"
          ]
        },
        {
          "output_type": "stream",
          "name": "stderr",
          "text": [
            "Your max_length is set to 100, but your input_length is only 62. Since this is a summarization task, where outputs shorter than the input are typically wanted, you might consider decreasing max_length manually, e.g. summarizer('...', max_length=31)\n"
          ]
        },
        {
          "output_type": "stream",
          "name": "stdout",
          "text": [
            "Result 1: family\n",
            "Summary:  A category in the classification <span class=\"searchmatch\">of organisms, ranking below order and above genus; a taxon taxon . A taxon is a category in a classification of organisms .\n",
            "URL: https://tinyurl.com/2774gajb\n",
            "--------------------------------------------------\n",
            "Result 2: bivalve\n",
            "Summary:  Any mollusc belonging to the <span class=\"searchmatch\">taxonomic</span> class Bivalvia . Shell consisting of a shell consisting of two hinged sections, such as a scallop, clam, clam .\n",
            "URL: https://tinyurl.com/29m593qw\n",
            "--------------------------------------------------\n",
            "Results for keyword: table of Navajo language\n",
            "\n"
          ]
        },
        {
          "output_type": "stream",
          "name": "stderr",
          "text": [
            "Your max_length is set to 100, but your input_length is only 59. Since this is a summarization task, where outputs shorter than the input are typically wanted, you might consider decreasing max_length manually, e.g. summarizer('...', max_length=29)\n"
          ]
        },
        {
          "output_type": "stream",
          "name": "stdout",
          "text": [
            "Result 1: table\n",
            "Summary:  dressing <span class=\"searchmatch\">table</span> drop-leaf <span . leaf <span>table <span. end <span class=\"search match\">table .table . table . table. table .\n",
            "URL: https://tinyurl.com/24vw24zf\n",
            "--------------------------------------------------\n",
            "Result 2: language/translations\n",
            "Summary:  This page contains translations for <span class=\"searchmatch\">language . See the main entry for more information . The language used in this page is English .\n",
            "URL: https://tinyurl.com/27e6ubrb\n",
            "--------------------------------------------------\n",
            "Results for keyword: Navajo language table\n",
            "\n"
          ]
        },
        {
          "output_type": "stream",
          "name": "stderr",
          "text": [
            "Your max_length is set to 100, but your input_length is only 39. Since this is a summarization task, where outputs shorter than the input are typically wanted, you might consider decreasing max_length manually, e.g. summarizer('...', max_length=19)\n"
          ]
        },
        {
          "output_type": "stream",
          "name": "stdout",
          "text": [
            "Result 1: table\n",
            "Summary:  <span class=\"searchmatch\">table</span> pier, pool, roller, roller and round table . Table includes worktable   geology tea, table tennis, toilet, toilet and worktable .\n",
            "URL: https://tinyurl.com/24vw24zf\n",
            "--------------------------------------------------\n",
            "Result 2: language/translations\n",
            "Summary:  This page contains translations for <span class=\"searchmatch\">language . See the main entry for more information. This page includes translations for various languages .\n",
            "URL: https://tinyurl.com/27e6ubrb\n",
            "--------------------------------------------------\n",
            "Results for keyword: difference between Navajo language\n",
            "\n"
          ]
        },
        {
          "output_type": "stream",
          "name": "stderr",
          "text": [
            "Your max_length is set to 100, but your input_length is only 58. Since this is a summarization task, where outputs shorter than the input are typically wanted, you might consider decreasing max_length manually, e.g. summarizer('...', max_length=29)\n"
          ]
        },
        {
          "output_type": "stream",
          "name": "stdout",
          "text": [
            "Result 1: between\n",
            "Summary:  Fall <span class=\"searchmatch\">between</span> two stools few and far <span classify between and far . Go-<span class\"searchmatch\" means \"between\" and \"in-between\"\n",
            "URL: https://tinyurl.com/wmjyqzx\n",
            "--------------------------------------------------\n",
            "Result 2: nv\n",
            "Summary:  Latin script often do not distinguish <span class=\"searchmatch\">between tonal tonal <span> and tonal tones employed in Mandarin . Latin script does not distinguish between Mandarin and Latin script . Mandarin script often uses words such as this one without indication .\n",
            "URL: https://tinyurl.com/2xzahs6r\n",
            "--------------------------------------------------\n"
          ]
        },
        {
          "output_type": "stream",
          "name": "stderr",
          "text": [
            "Your max_length is set to 100, but your input_length is only 60. Since this is a summarization task, where outputs shorter than the input are typically wanted, you might consider decreasing max_length manually, e.g. summarizer('...', max_length=30)\n"
          ]
        },
        {
          "output_type": "stream",
          "name": "stdout",
          "text": [
            "Results for keyword: the analog of Navajo language\n",
            "\n"
          ]
        },
        {
          "output_type": "stream",
          "name": "stderr",
          "text": [
            "Your max_length is set to 100, but your input_length is only 73. Since this is a summarization task, where outputs shorter than the input are typically wanted, you might consider decreasing max_length manually, e.g. summarizer('...', max_length=36)\n"
          ]
        },
        {
          "output_type": "stream",
          "name": "stdout",
          "text": [
            "Result 1: computer\n",
            "Summary:  expressions with this term in <span class=\"searchmatch\">the</span> middle human-computer interaction   Compound words and expressions are used at the end of this term . Compound word and expression are used in the middle of analog computer appliance computer .\n",
            "URL: https://tinyurl.com/hvxds37\n",
            "--------------------------------------------------\n",
            "Result 2: clock\n",
            "Summary:  alarm clock <span class=\"searchmatch\">analog</span> clock analogue clock around-clock around- clock around . clock around clock a stopped clock is right twice a day atomic clock balloon clock balloon clocks balloon clock beat clock beat . clock beat is clock beat beat by clock beat to clock a biological clock biological clock .\n",
            "URL: https://tinyurl.com/26gtxmxy\n",
            "--------------------------------------------------\n"
          ]
        },
        {
          "output_type": "stream",
          "name": "stderr",
          "text": [
            "Your max_length is set to 100, but your input_length is only 60. Since this is a summarization task, where outputs shorter than the input are typically wanted, you might consider decreasing max_length manually, e.g. summarizer('...', max_length=30)\n"
          ]
        },
        {
          "output_type": "stream",
          "name": "stdout",
          "text": [
            "Results for keyword: physical meaning of Navajo language\n",
            "\n"
          ]
        },
        {
          "output_type": "stream",
          "name": "stderr",
          "text": [
            "Your max_length is set to 100, but your input_length is only 53. Since this is a summarization task, where outputs shorter than the input are typically wanted, you might consider decreasing max_length manually, e.g. summarizer('...', max_length=26)\n"
          ]
        },
        {
          "output_type": "stream",
          "name": "stdout",
          "text": [
            "Result 1: Illinois\n",
            "Summary:  2013, Brett Rushforth, Bonds <span class=\"searchmatch\">of <span> Alliance: Indigenous and Atlantic Slaveries, page 56: Another Illinois word describing a physical detention, kikiȣnakiȣi, was kiki-naki .\n",
            "URL: https://tinyurl.com/2439wg9y\n",
            "--------------------------------------------------\n",
            "Result 2: spirit\n",
            "Summary:  An attempt to connect with the spirit <span class=\"searchmatch\">of a beautiful location . A supernatural being often but not exclusively without a physical form; ghost, fairy, angel .\n",
            "URL: https://tinyurl.com/2a8glovs\n",
            "--------------------------------------------------\n"
          ]
        },
        {
          "output_type": "stream",
          "name": "stderr",
          "text": [
            "Your max_length is set to 100, but your input_length is only 39. Since this is a summarization task, where outputs shorter than the input are typically wanted, you might consider decreasing max_length manually, e.g. summarizer('...', max_length=19)\n"
          ]
        },
        {
          "output_type": "stream",
          "name": "stdout",
          "text": [
            "Results for keyword: Navajo language symbolism\n",
            "\n"
          ]
        },
        {
          "output_type": "stream",
          "name": "stderr",
          "text": [
            "Your max_length is set to 100, but your input_length is only 39. Since this is a summarization task, where outputs shorter than the input are typically wanted, you might consider decreasing max_length manually, e.g. summarizer('...', max_length=19)\n"
          ]
        },
        {
          "output_type": "stream",
          "name": "stdout",
          "text": [
            "Result 1: yurt\n",
            "Summary:  Lydia Laube: Kazakhstan is central to Kazakh ethnic identity . The Kazakh national flag is a national symbol of national identity . It was adopted by the Kazakh authorities of independent Kazakhstan in 2010 .\n",
            "URL: https://tinyurl.com/2dpmgac8\n",
            "--------------------------------------------------\n"
          ]
        },
        {
          "output_type": "stream",
          "name": "stderr",
          "text": [
            "Your max_length is set to 100, but your input_length is only 58. Since this is a summarization task, where outputs shorter than the input are typically wanted, you might consider decreasing max_length manually, e.g. summarizer('...', max_length=29)\n"
          ]
        },
        {
          "output_type": "stream",
          "name": "stdout",
          "text": [
            "Result 2: nature\n",
            "Summary:  \"symbolism\" is a symbol of nature . \"Symbolism is an important part of nature,\" \"symbolicism\" has been used as a tool to help people understand nature's meaning .\n",
            "URL: https://tinyurl.com/2ajsz9vn\n",
            "--------------------------------------------------\n",
            "Results for keyword: symbolism of Navajo language\n",
            "\n"
          ]
        },
        {
          "output_type": "stream",
          "name": "stderr",
          "text": [
            "Your max_length is set to 100, but your input_length is only 39. Since this is a summarization task, where outputs shorter than the input are typically wanted, you might consider decreasing max_length manually, e.g. summarizer('...', max_length=19)\n"
          ]
        },
        {
          "output_type": "stream",
          "name": "stdout",
          "text": [
            "Result 1: yurt\n",
            "Summary:  The yurt remains central to Kazakh ethnic identity, and provides national cultural <span class=\"searchmatch\">symbolism</span> deployed by the authorities .\n",
            "URL: https://tinyurl.com/2dpmgac8\n",
            "--------------------------------------------------\n",
            "Result 2: nature\n",
            "Summary:  \"symbolism\" is a symbol of nature . \"Symbolism is an important part of nature,\" \"symbolicism\" has been used as a tool to help people understand nature's meaning .\n",
            "URL: https://tinyurl.com/2ajsz9vn\n",
            "--------------------------------------------------\n",
            "No results found for keyword: iconographic meaning of Navajo language\n",
            "\n"
          ]
        },
        {
          "output_type": "stream",
          "name": "stderr",
          "text": [
            "Your max_length is set to 100, but your input_length is only 66. Since this is a summarization task, where outputs shorter than the input are typically wanted, you might consider decreasing max_length manually, e.g. summarizer('...', max_length=33)\n"
          ]
        },
        {
          "output_type": "stream",
          "name": "stdout",
          "text": [
            "Results for keyword: why is Navajo language important?\n",
            "\n"
          ]
        },
        {
          "output_type": "stream",
          "name": "stderr",
          "text": [
            "Your max_length is set to 100, but your input_length is only 79. Since this is a summarization task, where outputs shorter than the input are typically wanted, you might consider decreasing max_length manually, e.g. summarizer('...', max_length=39)\n"
          ]
        },
        {
          "output_type": "stream",
          "name": "stdout",
          "text": [
            "Result 1: because\n",
            "Summary:  Used alone to refuse to provide a full answer to a question begun with &quot; <span class=\"searchmatch\">why</span> and usually taken as for the sake (of) My life <span> is ruined because of you!\n",
            "URL: https://tinyurl.com/nwf9p7r\n",
            "--------------------------------------------------\n",
            "Result 2: understand\n",
            "Summary:  Use <span class=\"searchmatch\">is</span> usually limited to the past participle . LAUNCE: Stand-under and under-stand are all one. stands under thee, indeed.\n",
            "URL: https://tinyurl.com/24xm89q5\n",
            "--------------------------------------------------\n"
          ]
        },
        {
          "output_type": "stream",
          "name": "stderr",
          "text": [
            "Your max_length is set to 100, but your input_length is only 42. Since this is a summarization task, where outputs shorter than the input are typically wanted, you might consider decreasing max_length manually, e.g. summarizer('...', max_length=21)\n"
          ]
        },
        {
          "output_type": "stream",
          "name": "stdout",
          "text": [
            "Results for keyword: generic model of a Navajo language\n",
            "\n"
          ]
        },
        {
          "output_type": "stream",
          "name": "stderr",
          "text": [
            "Your max_length is set to 100, but your input_length is only 72. Since this is a summarization task, where outputs shorter than the input are typically wanted, you might consider decreasing max_length manually, e.g. summarizer('...', max_length=36)\n"
          ]
        },
        {
          "output_type": "stream",
          "name": "stdout",
          "text": [
            "Result 1: element\n",
            "Summary:  diagonal element driven element element element <span class=\"searchmatch\">of </span> surprise viral element . element global element identity element element .\n",
            "URL: https://tinyurl.com/2do2ekje\n",
            "--------------------------------------------------\n",
            "Result 2: church\n",
            "Summary:  She goes to <span class=\"searchmatch\">a</span> strict separation between church and state . (informal) Any religious group . She goes from 16th c. to Wiccan church .\n",
            "URL: https://tinyurl.com/22dy6atd\n",
            "--------------------------------------------------\n",
            "No results found for keyword: generic model representation of Navajo language\n",
            "\n",
            "No results found for keyword: schematic representation of Navajo language\n",
            "\n"
          ]
        },
        {
          "output_type": "stream",
          "name": "stderr",
          "text": [
            "Your max_length is set to 100, but your input_length is only 80. Since this is a summarization task, where outputs shorter than the input are typically wanted, you might consider decreasing max_length manually, e.g. summarizer('...', max_length=40)\n"
          ]
        },
        {
          "output_type": "stream",
          "name": "stdout",
          "text": [
            "Results for keyword: Linear model of Navajo language\n",
            "\n"
          ]
        },
        {
          "output_type": "stream",
          "name": "stderr",
          "text": [
            "Your max_length is set to 100, but your input_length is only 67. Since this is a summarization task, where outputs shorter than the input are typically wanted, you might consider decreasing max_length manually, e.g. summarizer('...', max_length=33)\n"
          ]
        },
        {
          "output_type": "stream",
          "name": "stdout",
          "text": [
            "Result 1: dual\n",
            "Summary:  Exhibiting duality. (mathematics, physics) Being the space of the space <span class=\"searchmatch\">of all <span> functionals . (some other space). 2012, Doug Fisher; Hans-J Hans-Frisch, Hans-Lisch .\n",
            "URL: https://tinyurl.com/2c5rsvjg\n",
            "--------------------------------------------------\n",
            "Result 2: write\n",
            "Summary:  Swedish rita (“to draw, design, delineate, define, rough-sketch, carve, write”) Icelandic rita means “to cut, scratch, write, scratch” and German ritzen means ‘to carve’ and ‘scratch’ .\n",
            "URL: https://tinyurl.com/qr22mrc\n",
            "--------------------------------------------------\n",
            "Results for keyword: Navajo language is related to?\n",
            "\n"
          ]
        },
        {
          "output_type": "stream",
          "name": "stderr",
          "text": [
            "Your max_length is set to 100, but your input_length is only 99. Since this is a summarization task, where outputs shorter than the input are typically wanted, you might consider decreasing max_length manually, e.g. summarizer('...', max_length=49)\n"
          ]
        },
        {
          "output_type": "stream",
          "name": "stdout",
          "text": [
            "Result 1: Navachóis\n",
            "Summary:  From Spanish <span class=\"searchmatch\">navajo</span> + - - is (“-ish, -ese”, “language” suffix) Navachóis f (genitive Navachoise) the <span>Navajo’s language is the name of Navajo . Navajo is the Spanish word for “navajo” and “is” .\n",
            "URL: https://tinyurl.com/2dnvxo69\n",
            "--------------------------------------------------\n",
            "Result 2: Dinékʼehjí\n",
            "Summary:  From diné (“<span class=\"searchmatch\">Navajo”) + -kʼehjí (‘in the fashion of’) Dinék�iedehji means “in the style of” and ‘in fashion’ of the language .\n",
            "URL: https://tinyurl.com/2bmsxjdd\n",
            "--------------------------------------------------\n"
          ]
        },
        {
          "output_type": "stream",
          "name": "stderr",
          "text": [
            "Your max_length is set to 100, but your input_length is only 72. Since this is a summarization task, where outputs shorter than the input are typically wanted, you might consider decreasing max_length manually, e.g. summarizer('...', max_length=36)\n"
          ]
        },
        {
          "output_type": "stream",
          "name": "stdout",
          "text": [
            "Results for keyword: Floor plan of Navajo language\n",
            "\n"
          ]
        },
        {
          "output_type": "stream",
          "name": "stderr",
          "text": [
            "Your max_length is set to 100, but your input_length is only 89. Since this is a summarization task, where outputs shorter than the input are typically wanted, you might consider decreasing max_length manually, e.g. summarizer('...', max_length=44)\n"
          ]
        },
        {
          "output_type": "stream",
          "name": "stdout",
          "text": [
            "Result 1: business\n",
            "Summary:  Your ferret left his business all over the <span class=\"searchmatch\">floor</span>. The act of defecation, or the excrement itself, is particularly that of a non-human animal .\n",
            "URL: https://tinyurl.com/2bc4bah9\n",
            "--------------------------------------------------\n",
            "Result 2: war\n",
            "Summary:  An elevated area on the <span class=\"searchmatch\">floor <span> is an elevated area of water, a kind of contraption for luring and catching fish . Lifehacks. lifehacks .\n",
            "URL: https://tinyurl.com/2dltr6aw\n",
            "--------------------------------------------------\n"
          ]
        }
      ]
    }
  ]
}