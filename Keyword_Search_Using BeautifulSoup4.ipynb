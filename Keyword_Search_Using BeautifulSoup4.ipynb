{
  "nbformat": 4,
  "nbformat_minor": 0,
  "metadata": {
    "colab": {
      "provenance": [],
      "include_colab_link": true
    },
    "kernelspec": {
      "name": "python3",
      "display_name": "Python 3"
    },
    "language_info": {
      "name": "python"
    }
  },
  "cells": [
    {
      "cell_type": "markdown",
      "metadata": {
        "id": "view-in-github",
        "colab_type": "text"
      },
      "source": [
        "<a href=\"https://colab.research.google.com/github/OJB-Quantum/Effective-Google-Search-Tips/blob/main/Keyword_Search_Using%20BeautifulSoup4.ipynb\" target=\"_parent\"><img src=\"https://colab.research.google.com/assets/colab-badge.svg\" alt=\"Open In Colab\"/></a>"
      ]
    },
    {
      "cell_type": "code",
      "execution_count": 1,
      "metadata": {
        "colab": {
          "base_uri": "https://localhost:8080/"
        },
        "id": "QdH5b1l5V8GE",
        "outputId": "1f9e0985-887b-452d-a85c-a68b4469c464"
      },
      "outputs": [
        {
          "output_type": "stream",
          "name": "stdout",
          "text": [
            "Requirement already satisfied: requests in /usr/local/lib/python3.10/dist-packages (2.31.0)\n",
            "Requirement already satisfied: charset-normalizer<4,>=2 in /usr/local/lib/python3.10/dist-packages (from requests) (3.3.2)\n",
            "Requirement already satisfied: idna<4,>=2.5 in /usr/local/lib/python3.10/dist-packages (from requests) (3.6)\n",
            "Requirement already satisfied: urllib3<3,>=1.21.1 in /usr/local/lib/python3.10/dist-packages (from requests) (2.0.7)\n",
            "Requirement already satisfied: certifi>=2017.4.17 in /usr/local/lib/python3.10/dist-packages (from requests) (2024.2.2)\n"
          ]
        }
      ],
      "source": [
        "pip install requests"
      ]
    },
    {
      "cell_type": "code",
      "source": [
        "pip install beautifulsoup4"
      ],
      "metadata": {
        "colab": {
          "base_uri": "https://localhost:8080/"
        },
        "id": "q0IJCRWnWI_R",
        "outputId": "82a41c1e-fb4a-4c44-8272-b6669d4e0a3b"
      },
      "execution_count": 2,
      "outputs": [
        {
          "output_type": "stream",
          "name": "stdout",
          "text": [
            "Requirement already satisfied: beautifulsoup4 in /usr/local/lib/python3.10/dist-packages (4.12.3)\n",
            "Requirement already satisfied: soupsieve>1.2 in /usr/local/lib/python3.10/dist-packages (from beautifulsoup4) (2.5)\n"
          ]
        }
      ]
    },
    {
      "cell_type": "code",
      "source": [
        "import requests\n",
        "from bs4 import BeautifulSoup"
      ],
      "metadata": {
        "id": "YatSNM5WxkUm"
      },
      "execution_count": 3,
      "outputs": []
    },
    {
      "cell_type": "code",
      "source": [
        "# Replace 'X' with your keyword\n",
        "keyword = 'Advanced permanent magnets for microspeakers in mobile electronics'\n",
        "\n",
        "# List of queries\n",
        "queries = [\n",
        "    'Importance of X',\n",
        "    'Ideal behavior of X',\n",
        "    'Ideal vs. realistic behavior of X',\n",
        "    'Significance of X',\n",
        "    'Applications of X',\n",
        "    'Physical significance of X',\n",
        "    'Mathematical significance of X',\n",
        "    'Geometry for the measurement of X',\n",
        "    'Typical characteristics of X',\n",
        "    'With and without X',\n",
        "    'What does X represent?',\n",
        "    'What is the concept of X',\n",
        "    'Taxonomy of X',\n",
        "    'Table of X',\n",
        "    'X table',\n",
        "    'Difference between X',\n",
        "    'The analog of X',\n",
        "    'Physical meaning of X',\n",
        "    'X symbolism',\n",
        "    'Symbolism of X',\n",
        "    'Iconographic meaning of X',\n",
        "    'Why is X important?',\n",
        "    'Generic model of a X',\n",
        "    'Generic model representation of X',\n",
        "    'Schematic representation of X',\n",
        "    'Linear model of X',\n",
        "    'X is related to?',\n",
        "    'Floor plan of X',\n",
        "    'Drawbacks of X',\n",
        "    'Limitations of X',\n",
        "    'Advantages of X',\n",
        "    'Trajectory of X',\n",
        "    'Motivation for X',\n",
        "    'Open-source alternatives for X',\n",
        "    'Visual guide to X',\n",
        "    'Audio guide to X',\n",
        "    'Roadmap of X',\n",
        "    'Summary of X',\n",
        "    'Meaning and significance of X',\n",
        "    'Meaning, significance, and limitations of X',\n",
        "    'Please provide some critical equations and formulas for understanding X and demonstrate an example with Python code. Plot the output.',\n",
        "    'Find me a repository on X',\n",
        "    'Find me a repository or archive on X',\n",
        "    'Which Python library can be used to generate X?',\n",
        "    'Animation of X',\n",
        "    'X animations',\n",
        "    'X groups',\n",
        "    'Groups in X',\n",
        "    'Categories of X',\n",
        "    'Review on X materials',\n",
        "    'Structural linguistics of X'\n",
        "]\n",
        "\n",
        "# Fetch and print results for each query\n",
        "for query in queries:\n",
        "    # Replace 'X' with the keyword in the query\n",
        "    query = query.replace('X', keyword)\n",
        "\n",
        "    # Send a GET request to Google Search\n",
        "    response = requests.get(f\"https://www.google.com/search?q={query}\")\n",
        "\n",
        "    # Parse the response content with BeautifulSoup\n",
        "    soup = BeautifulSoup(response.content, 'html.parser')\n",
        "\n",
        "    # Extract and print the snippet of the first search result\n",
        "    result = soup.find('div', class_='BNeawe').text\n",
        "    print(f\"Results for '{query}':\\n{result}\\n\")\n"
      ],
      "metadata": {
        "colab": {
          "base_uri": "https://localhost:8080/"
        },
        "id": "b4YknNexWM6Y",
        "outputId": "602b1cf2-f7eb-4b80-e3c5-ffad78c1d959"
      },
      "execution_count": 4,
      "outputs": [
        {
          "output_type": "stream",
          "name": "stdout",
          "text": [
            "Results for 'Importance of Advanced permanent magnets for microspeakers in mobile electronics':\n",
            "How Permanent Magnets are Used for Making Loudspeakers?\n",
            "\n",
            "Results for 'Ideal behavior of Advanced permanent magnets for microspeakers in mobile electronics':\n",
            "(PDF) New development of combined permanent-magnet type ...\n",
            "\n",
            "Results for 'Ideal vs. realistic behavior of Advanced permanent magnets for microspeakers in mobile electronics':\n",
            "Achieving loud, rich sound from micro speakers - EE Times\n",
            "\n",
            "Results for 'Significance of Advanced permanent magnets for microspeakers in mobile electronics':\n",
            "How Permanent Magnets are Used for Making Loudspeakers?\n",
            "\n",
            "Results for 'Applications of Advanced permanent magnets for microspeakers in mobile electronics':\n",
            "How Permanent Magnets are Used for Making Loudspeakers?\n",
            "\n",
            "Results for 'Physical significance of Advanced permanent magnets for microspeakers in mobile electronics':\n",
            "How Permanent Magnets are Used for Making Loudspeakers?\n",
            "\n",
            "Results for 'Mathematical significance of Advanced permanent magnets for microspeakers in mobile electronics':\n",
            "Design and Analysis of a Novel Microspeaker with Enhanced Low ...\n",
            "\n",
            "Results for 'Geometry for the measurement of Advanced permanent magnets for microspeakers in mobile electronics':\n",
            "(PDF) New development of combined permanent-magnet type ...\n",
            "\n",
            "Results for 'Typical characteristics of Advanced permanent magnets for microspeakers in mobile electronics':\n",
            "How Permanent Magnets are Used for Making Loudspeakers?\n",
            "\n",
            "Results for 'With and without Advanced permanent magnets for microspeakers in mobile electronics':\n",
            "Performance comparison between inner and outer permanent ...\n",
            "\n",
            "Results for 'What does Advanced permanent magnets for microspeakers in mobile electronics represent?':\n",
            "How Permanent Magnets are Used for Making Loudspeakers?\n",
            "\n",
            "Results for 'What is the concept of Advanced permanent magnets for microspeakers in mobile electronics':\n",
            "How Permanent Magnets are Used for Making Loudspeakers?\n",
            "\n",
            "Results for 'Taxonomy of Advanced permanent magnets for microspeakers in mobile electronics':\n",
            "KR100845956B1 - Microspeaker and design method of ...\n",
            "\n",
            "Results for 'Table of Advanced permanent magnets for microspeakers in mobile electronics':\n",
            "(PDF) New development of combined permanent-magnet type ...\n",
            "\n",
            "Results for 'Advanced permanent magnets for microspeakers in mobile electronics table':\n",
            "Performance comparison between inner and outer permanent ...\n",
            "\n",
            "Results for 'Difference between Advanced permanent magnets for microspeakers in mobile electronics':\n",
            "Performance comparison between inner and outer permanent ...\n",
            "\n",
            "Results for 'The analog of Advanced permanent magnets for microspeakers in mobile electronics':\n",
            "How Permanent Magnets are Used for Making Loudspeakers?\n",
            "\n",
            "Results for 'Physical meaning of Advanced permanent magnets for microspeakers in mobile electronics':\n",
            "How Permanent Magnets are Used for Making Loudspeakers?\n",
            "\n",
            "Results for 'Advanced permanent magnets for microspeakers in mobile electronics symbolism':\n",
            "Design and Analysis of a Novel Microspeaker with Enhanced Low ...\n",
            "\n",
            "Results for 'Symbolism of Advanced permanent magnets for microspeakers in mobile electronics':\n",
            "(PDF) New development of combined permanent-magnet type ...\n",
            "\n",
            "Results for 'Iconographic meaning of Advanced permanent magnets for microspeakers in mobile electronics':\n",
            "How Permanent Magnets are Used for Making Loudspeakers?\n",
            "\n",
            "Results for 'Why is Advanced permanent magnets for microspeakers in mobile electronics important?':\n",
            "How Permanent Magnets are Used for Making Loudspeakers?\n",
            "\n",
            "Results for 'Generic model of a Advanced permanent magnets for microspeakers in mobile electronics':\n",
            "Design and Analysis of a Novel Microspeaker with Enhanced Low ...\n",
            "\n",
            "Results for 'Generic model representation of Advanced permanent magnets for microspeakers in mobile electronics':\n",
            "KR100845956B1 - Microspeaker and design method of ...\n",
            "\n",
            "Results for 'Schematic representation of Advanced permanent magnets for microspeakers in mobile electronics':\n",
            "Images\n",
            "\n",
            "Results for 'Linear model of Advanced permanent magnets for microspeakers in mobile electronics':\n",
            "(PDF) New development of combined permanent-magnet type ...\n",
            "\n",
            "Results for 'Advanced permanent magnets for microspeakers in mobile electronics is related to?':\n",
            "How Permanent Magnets are Used for Making Loudspeakers?\n",
            "\n",
            "Results for 'Floor plan of Advanced permanent magnets for microspeakers in mobile electronics':\n",
            "New development of combined permanent-magnet type ...\n",
            "\n",
            "Results for 'Drawbacks of Advanced permanent magnets for microspeakers in mobile electronics':\n",
            "Why don't speakers use neodymium magnets? - Quora\n",
            "\n",
            "Results for 'Limitations of Advanced permanent magnets for microspeakers in mobile electronics':\n",
            "Performance comparison between inner and outer permanent ...\n",
            "\n",
            "Results for 'Advantages of Advanced permanent magnets for microspeakers in mobile electronics':\n",
            "Performance comparison between inner and outer permanent ...\n",
            "\n",
            "Results for 'Trajectory of Advanced permanent magnets for microspeakers in mobile electronics':\n",
            "KR100845956B1 - Microspeaker and design method of ...\n",
            "\n",
            "Results for 'Motivation for Advanced permanent magnets for microspeakers in mobile electronics':\n",
            "How Permanent Magnets are Used for Making Loudspeakers?\n",
            "\n",
            "Results for 'Open-source alternatives for Advanced permanent magnets for microspeakers in mobile electronics':\n",
            "Design and Analysis of a Novel Microspeaker with Enhanced Low ...\n",
            "\n",
            "Results for 'Visual guide to Advanced permanent magnets for microspeakers in mobile electronics':\n",
            "Review of Recent Development of MEMS Speakers - PMC - NCBI\n",
            "\n",
            "Results for 'Audio guide to Advanced permanent magnets for microspeakers in mobile electronics':\n",
            "Performance comparison between inner and outer permanent ...\n",
            "\n",
            "Results for 'Roadmap of Advanced permanent magnets for microspeakers in mobile electronics':\n",
            "The 2020 magnetism roadmap - IOPscience - Institute of Physics\n",
            "\n",
            "Results for 'Summary of Advanced permanent magnets for microspeakers in mobile electronics':\n",
            "New development of combined permanent-magnet type ...\n",
            "\n",
            "Results for 'Meaning and significance of Advanced permanent magnets for microspeakers in mobile electronics':\n",
            "(PDF) New development of combined permanent-magnet type ...\n",
            "\n",
            "Results for 'Meaning, significance, and limitations of Advanced permanent magnets for microspeakers in mobile electronics':\n",
            "How Permanent Magnets are Used for Making Loudspeakers?\n",
            "\n",
            "Results for 'Please provide some critical equations and formulas for understanding Advanced permanent magnets for microspeakers in mobile electronics and demonstrate an example with Python code. Plot the output.':\n",
            "[PDF] SoundCheck® - User Manual - Listen, Inc.\n",
            "\n",
            "Results for 'Find me a repository on Advanced permanent magnets for microspeakers in mobile electronics':\n",
            "(PDF) New development of combined permanent-magnet type ...\n",
            "\n",
            "Results for 'Find me a repository or archive on Advanced permanent magnets for microspeakers in mobile electronics':\n",
            "(PDF) New development of combined permanent-magnet type ...\n",
            "\n",
            "Results for 'Which Python library can be used to generate Advanced permanent magnets for microspeakers in mobile electronics?':\n",
            "The Magpylib Documentation — Magpylib 5.0.0dev documentation\n",
            "\n",
            "Results for 'Animation of Advanced permanent magnets for microspeakers in mobile electronics':\n",
            "Design and Analysis of a Novel Microspeaker with Enhanced Low ...\n",
            "\n",
            "Results for 'Advanced permanent magnets for microspeakers in mobile electronics animations':\n",
            "Design and Analysis of a Novel Microspeaker with Enhanced Low ...\n",
            "\n",
            "Results for 'Advanced permanent magnets for microspeakers in mobile electronics groups':\n",
            "How Permanent Magnets are Used for Making Loudspeakers?\n",
            "\n",
            "Results for 'Groups in Advanced permanent magnets for microspeakers in mobile electronics':\n",
            "New development of combined permanent-magnet type ...\n",
            "\n",
            "Results for 'Categories of Advanced permanent magnets for microspeakers in mobile electronics':\n",
            "How Permanent Magnets are Used for Making Loudspeakers?\n",
            "\n",
            "Results for 'Review on Advanced permanent magnets for microspeakers in mobile electronics materials':\n",
            "Review of Recent Development of MEMS Speakers - MDPI\n",
            "\n",
            "Results for 'Structural linguistics of Advanced permanent magnets for microspeakers in mobile electronics':\n",
            "Design and Analysis of a Novel Microspeaker with Enhanced Low ...\n",
            "\n"
          ]
        }
      ]
    }
  ]
}