{
  "nbformat": 4,
  "nbformat_minor": 0,
  "metadata": {
    "colab": {
      "provenance": [],
      "include_colab_link": true
    },
    "kernelspec": {
      "name": "python3",
      "display_name": "Python 3"
    },
    "language_info": {
      "name": "python"
    }
  },
  "cells": [
    {
      "cell_type": "markdown",
      "metadata": {
        "id": "view-in-github",
        "colab_type": "text"
      },
      "source": [
        "<a href=\"https://colab.research.google.com/github/OJB-Quantum/Effective-Google-Search-Tips/blob/main/Keyword_Search_Using%20BeautifulSoup4.ipynb\" target=\"_parent\"><img src=\"https://colab.research.google.com/assets/colab-badge.svg\" alt=\"Open In Colab\"/></a>"
      ]
    },
    {
      "cell_type": "code",
      "execution_count": 1,
      "metadata": {
        "colab": {
          "base_uri": "https://localhost:8080/"
        },
        "id": "QdH5b1l5V8GE",
        "outputId": "b1fc627d-50b7-4a77-9afe-316e041e32c4"
      },
      "outputs": [
        {
          "output_type": "stream",
          "name": "stdout",
          "text": [
            "Requirement already satisfied: requests in /usr/local/lib/python3.10/dist-packages (2.31.0)\n",
            "Requirement already satisfied: charset-normalizer<4,>=2 in /usr/local/lib/python3.10/dist-packages (from requests) (3.3.2)\n",
            "Requirement already satisfied: idna<4,>=2.5 in /usr/local/lib/python3.10/dist-packages (from requests) (3.6)\n",
            "Requirement already satisfied: urllib3<3,>=1.21.1 in /usr/local/lib/python3.10/dist-packages (from requests) (2.0.7)\n",
            "Requirement already satisfied: certifi>=2017.4.17 in /usr/local/lib/python3.10/dist-packages (from requests) (2023.11.17)\n"
          ]
        }
      ],
      "source": [
        "pip install requests"
      ]
    },
    {
      "cell_type": "code",
      "source": [
        "pip install beautifulsoup4"
      ],
      "metadata": {
        "colab": {
          "base_uri": "https://localhost:8080/"
        },
        "id": "q0IJCRWnWI_R",
        "outputId": "425d547a-7c77-48c6-d2bd-90c9b3f89da6"
      },
      "execution_count": 2,
      "outputs": [
        {
          "output_type": "stream",
          "name": "stdout",
          "text": [
            "Requirement already satisfied: beautifulsoup4 in /usr/local/lib/python3.10/dist-packages (4.11.2)\n",
            "Requirement already satisfied: soupsieve>1.2 in /usr/local/lib/python3.10/dist-packages (from beautifulsoup4) (2.5)\n"
          ]
        }
      ]
    },
    {
      "cell_type": "code",
      "source": [
        "import requests\n",
        "from bs4 import BeautifulSoup\n",
        "\n",
        "# Replace 'X' with your keyword\n",
        "keyword = 'Navajo language'\n",
        "\n",
        "# List of queries\n",
        "queries = [\n",
        "    'importance of X',\n",
        "    'ideal behavior of X',\n",
        "    'ideal vs. realistic behavior of X',\n",
        "    'significance of X',\n",
        "    'applications of X',\n",
        "    'physical significance of X',\n",
        "    'geometry for the measurement of X',\n",
        "    'typical characteristics of X',\n",
        "    'with and without X',\n",
        "    'what does X represent?',\n",
        "    'what is the concept of X?',\n",
        "    'taxonomy of X',\n",
        "    'table of X terms',\n",
        "    'the analog of X',\n",
        "    'physical meaning of X',\n",
        "    'X symbolism',\n",
        "    'iconographic meaning of X',\n",
        "    'why is X important?',\n",
        "    'generic model of a X',\n",
        "    'drawbacks of X',\n",
        "    'limitations of X',\n",
        "    'X table',\n",
        "    'table of X',\n",
        "    'X is related to?',\n",
        "    'linear model of X',\n",
        "    'schematic representation of X',\n",
        "    'generic model of a X',\n",
        "    'generic model of an X',\n",
        "    'generic model representation of X',\n",
        "    'floor plan of X',\n",
        "    'limitations of X',\n",
        "    'trajectory of X',\n",
        "    'motivation for X',\n",
        "    'open-source alternatives for X',\n",
        "    'visual guide to X',\n",
        "    'audio guide to X',\n",
        "    'roadmap of X',\n",
        "    'summary of X',\n",
        "    'meaning and significance of X',\n",
        "    'meaning, significance, and limitations of X',\n",
        "    'please provide some critical equations and formulas for understanding X and demonstrate an example with Python code. Plot the output.'\n",
        "]\n",
        "\n",
        "# Fetch and print results for each query\n",
        "for query in queries:\n",
        "    # Replace 'X' with the keyword in the query\n",
        "    query = query.replace('X', keyword)\n",
        "\n",
        "    # Send a GET request to Google Search\n",
        "    response = requests.get(f\"https://www.google.com/search?q={query}\")\n",
        "\n",
        "    # Parse the response content with BeautifulSoup\n",
        "    soup = BeautifulSoup(response.content, 'html.parser')\n",
        "\n",
        "    # Extract and print the snippet of the first search result\n",
        "    result = soup.find('div', class_='BNeawe').text\n",
        "    print(f\"Results for '{query}':\\n{result}\\n\")\n"
      ],
      "metadata": {
        "colab": {
          "base_uri": "https://localhost:8080/"
        },
        "id": "b4YknNexWM6Y",
        "outputId": "5799a104-4f5b-4d83-8025-7aa363f76125"
      },
      "execution_count": 5,
      "outputs": [
        {
          "output_type": "stream",
          "name": "stdout",
          "text": [
            "Results for 'importance of Navajo language':\n",
            "Place of Navajo language in modern society\n",
            "\n",
            " In conclusion, the Navajo language plays a vital role in modern Navajo society, helping to preserve and promote cultural heritage and identity. As our world becomes more and more globalized, the world's local languages mustn't be forgotten or ignored.Nov 1, 2023\n",
            "\n",
            "Results for 'ideal behavior of Navajo language':\n",
            "Navajo language - Wikipedia\n",
            "\n",
            "Results for 'ideal vs. realistic behavior of Navajo language':\n",
            "the differentiation of navajo culture, behavior, and - jstor\n",
            "\n",
            "Results for 'significance of Navajo language':\n",
            "During World Wars I and II, the U.S. government employed speakers of the Navajo language as Navajo code talkers. These Navajo soldiers and sailors used a code based on the Navajo language to relay secret messages. At the end of the war the code remained unbroken.\n",
            "\n",
            "Results for 'applications of Navajo language':\n",
            "Navajo language - Wikipedia\n",
            "\n",
            "Results for 'physical significance of Navajo language':\n",
            "Navajo language | Native American, Diné, Athabaskan | Britannica\n",
            "\n",
            "Results for 'geometry for the measurement of Navajo language':\n",
            "Navajo spatial representation and Navajo geometry - Persée\n",
            "\n",
            "Results for 'typical characteristics of Navajo language':\n",
            "Navajo has both agglutinative and fusional elements: it uses affixes to modify verbs, and nouns are typically created from multiple morphemes, but in both cases these morphemes are fused irregularly and beyond easy recognition. Basic word order is subject–object–verb, though it is highly flexible to pragmatic factors.\n",
            "\n",
            "Results for 'with and without Navajo language':\n",
            "Navajo language - Wikipedia\n",
            "\n",
            "Results for 'what does Navajo language represent?':\n",
            "Navajo language - Wikipedia\n",
            "\n",
            "Results for 'what is the concept of Navajo language?':\n",
            "Navajo is a tone language, meaning that pitch helps distinguish words. Nouns are either animate or inanimate. Animate nouns may be “speakers” (humans) or “callers” (plants and animals); inanimate nouns may be corporeal or spiritual.\n",
            "\n",
            "Results for 'taxonomy of Navajo language':\n",
            "Classification. Navajo is an Athabaskan language; Navajo and Apache languages make up the southernmost branch of the family. Most of the other Athabaskan languages are located in Alaska, northwestern Canada, and along the North American Pacific coast. Most languages in the Athabaskan family have tones.\n",
            "\n",
            "Results for 'table of Navajo language terms':\n",
            "[PDF] Navajo-English Dictionary\n",
            "\n",
            "Results for 'the analog of Navajo language':\n",
            "Navajo is most closely related to Western Apache, with which it shares a similar tonal scheme and more than 92 percent of its vocabulary, and to Chiricahua-Mescalero Apache.\n",
            "\n",
            "Results for 'physical meaning of Navajo language':\n",
            "Navajo language - Wikipedia\n",
            "\n",
            "Results for 'Navajo language symbolism':\n",
            "An arrow symbolizes protection and defense. If an arrow faces to the left, it means to ward off evil. Meanwhile, if it faces to the right, it is a sign of protection, and if it faces down, it means peace. Drawn in the “zigzag” shape, the lightning symbol embodies power and strength.Sep 11, 2019\n",
            "\n",
            "Results for 'iconographic meaning of Navajo language':\n",
            "Navajo's Language - The Symbols and What They Represent\n",
            "\n",
            "Results for 'why is Navajo language important?':\n",
            "In World War II, speakers of the Navajo language joined the military and developed an unbreakable code for sending secret messages. These code talkers' messages are widely credited with saving innumerable lives and winning some of the most decisive battles in the war.\n",
            "\n",
            "Results for 'generic model of a Navajo language':\n",
            "Navajo grammar - Wikipedia\n",
            "\n",
            "Results for 'drawbacks of Navajo language':\n",
            "Problems of Navajo language translations\n",
            "\n",
            " It can make it challenging for non-Navajo speakers to understand what their loved ones are saying when they speak in Navajo. Many Native American tribes have lost their native languages as they were forced into reservations and assimilated into American culture.Nov 1, 2023\n",
            "\n",
            "Results for 'limitations of Navajo language':\n",
            "Problems of Navajo language translations\n",
            "\n",
            " The Navajo language is unique for its use of tones, which makes it difficult to translate into other languages. It can make it challenging for non-Navajo speakers to understand what their loved ones are saying when they speak in Navajo.Nov 1, 2023\n",
            "\n",
            "Results for 'Navajo language table':\n",
            "table in Navajo - English-Navajo Dictionary | Glosbe\n",
            "\n",
            "Results for 'table of Navajo language':\n",
            "Images\n",
            "\n",
            "Results for 'Navajo language is related to?':\n",
            "Navajo language, North American Indian language of the Athabascan family, spoken by the Navajo people of Arizona and New Mexico and closely related to Apache.\n",
            "\n",
            "Results for 'linear model of Navajo language':\n",
            "What is known about the Navajo language? - Quora\n",
            "\n",
            "Results for 'schematic representation of Navajo language':\n",
            "Images\n",
            "\n",
            "Results for 'generic model of a Navajo language':\n",
            "Navajo grammar - Wikipedia\n",
            "\n",
            "Results for 'generic model of an Navajo language':\n",
            "Navajo grammar - Wikipedia\n",
            "\n",
            "Results for 'generic model representation of Navajo language':\n",
            "Navajo language - Wikipedia\n",
            "\n",
            "Results for 'floor plan of Navajo language':\n",
            "Images\n",
            "\n",
            "Results for 'limitations of Navajo language':\n",
            "Problems of Navajo language translations\n",
            "\n",
            " The Navajo language is unique for its use of tones, which makes it difficult to translate into other languages. It can make it challenging for non-Navajo speakers to understand what their loved ones are saying when they speak in Navajo.Nov 1, 2023\n",
            "\n",
            "Results for 'trajectory of Navajo language':\n",
            "The Navajo language is on track to becoming moribund, although a system of colleges on the Diné Nation (Diné College system in Tsaile, Shiprock and Navajo Technical University, Crownpoint) and at the University of New Mexico, Albuquerque, have programs on Navajo language and culture.\n",
            "\n",
            "Results for 'motivation for Navajo language':\n",
            "An Encouraging Navajo Word.\n",
            "\n",
            "Results for 'open-source alternatives for Navajo language':\n",
            "Online groups and chats to write and/or speak Navajo - Reddit\n",
            "\n",
            "Results for 'visual guide to Navajo language':\n",
            "Navajo Language Guide and Resources - Research Guides\n",
            "\n",
            "Results for 'audio guide to Navajo language':\n",
            "Navajo Starter Kit\n",
            "\n",
            "Results for 'roadmap of Navajo language':\n",
            "Curriculum Map / Navajo Language and Culture\n",
            "\n",
            "Results for 'summary of Navajo language':\n",
            "Navajo is a tone language, meaning that pitch helps distinguish words. Nouns are either animate or inanimate. Animate nouns may be “speakers” (humans) or “callers” (plants and animals); inanimate nouns may be corporeal or spiritual.\n",
            "\n",
            "Results for 'meaning and significance of Navajo language':\n",
            "In World War II, speakers of the Navajo language joined the military and developed an unbreakable code for sending secret messages. These code talkers' messages are widely credited with saving innumerable lives and winning some of the most decisive battles in the war.\n",
            "\n",
            "Results for 'meaning, significance, and limitations of Navajo language':\n",
            "Navajo language - Wikipedia\n",
            "\n",
            "Results for 'please provide some critical equations and formulas for understanding Navajo language and demonstrate an example with Python code. Plot the output.':\n",
            "Plotting Equations in Python - Medium\n",
            "\n"
          ]
        }
      ]
    }
  ]
}