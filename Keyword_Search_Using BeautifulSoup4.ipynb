{
  "nbformat": 4,
  "nbformat_minor": 0,
  "metadata": {
    "colab": {
      "provenance": [],
      "authorship_tag": "ABX9TyOABNx0WTecv3f2NlNu36/o",
      "include_colab_link": true
    },
    "kernelspec": {
      "name": "python3",
      "display_name": "Python 3"
    },
    "language_info": {
      "name": "python"
    }
  },
  "cells": [
    {
      "cell_type": "markdown",
      "metadata": {
        "id": "view-in-github",
        "colab_type": "text"
      },
      "source": [
        "<a href=\"https://colab.research.google.com/github/OJB-Quantum/Effective-Google-Search-Tips/blob/main/Keyword_Search_Using%20BeautifulSoup4.ipynb\" target=\"_parent\"><img src=\"https://colab.research.google.com/assets/colab-badge.svg\" alt=\"Open In Colab\"/></a>"
      ]
    },
    {
      "cell_type": "code",
      "execution_count": 2,
      "metadata": {
        "colab": {
          "base_uri": "https://localhost:8080/"
        },
        "id": "QdH5b1l5V8GE",
        "outputId": "7b94fb57-0ab3-4e96-bee9-6ed6111a66ee"
      },
      "outputs": [
        {
          "output_type": "stream",
          "name": "stdout",
          "text": [
            "Looking in indexes: https://pypi.org/simple, https://us-python.pkg.dev/colab-wheels/public/simple/\n",
            "Requirement already satisfied: requests in /usr/local/lib/python3.10/dist-packages (2.27.1)\n",
            "Requirement already satisfied: urllib3<1.27,>=1.21.1 in /usr/local/lib/python3.10/dist-packages (from requests) (1.26.15)\n",
            "Requirement already satisfied: certifi>=2017.4.17 in /usr/local/lib/python3.10/dist-packages (from requests) (2022.12.7)\n",
            "Requirement already satisfied: charset-normalizer~=2.0.0 in /usr/local/lib/python3.10/dist-packages (from requests) (2.0.12)\n",
            "Requirement already satisfied: idna<4,>=2.5 in /usr/local/lib/python3.10/dist-packages (from requests) (3.4)\n"
          ]
        }
      ],
      "source": [
        "pip install requests"
      ]
    },
    {
      "cell_type": "code",
      "source": [
        "pip install beautifulsoup4"
      ],
      "metadata": {
        "colab": {
          "base_uri": "https://localhost:8080/"
        },
        "id": "q0IJCRWnWI_R",
        "outputId": "443ccb26-b509-45b5-f5fe-791fb0a55a2a"
      },
      "execution_count": 3,
      "outputs": [
        {
          "output_type": "stream",
          "name": "stdout",
          "text": [
            "Looking in indexes: https://pypi.org/simple, https://us-python.pkg.dev/colab-wheels/public/simple/\n",
            "Requirement already satisfied: beautifulsoup4 in /usr/local/lib/python3.10/dist-packages (4.11.2)\n",
            "Requirement already satisfied: soupsieve>1.2 in /usr/local/lib/python3.10/dist-packages (from beautifulsoup4) (2.4.1)\n"
          ]
        }
      ]
    },
    {
      "cell_type": "code",
      "source": [
        "import requests\n",
        "from bs4 import BeautifulSoup\n",
        "\n",
        "# Replace 'X' with your keyword\n",
        "keyword = 'Navajo language'\n",
        "\n",
        "# List of queries\n",
        "queries = [\n",
        "    'importance of X',\n",
        "    'ideal behavior of X',\n",
        "    'ideal vs. realistic behavior of X',\n",
        "    'significance of X',\n",
        "    'applications of X',\n",
        "    'physical significance of X',\n",
        "    'typical characteristics of X',\n",
        "    'with and without X',\n",
        "    'what does X represent?',\n",
        "    'what is the concept of X?',\n",
        "    'taxonomy of X',\n",
        "    'table of X terms',\n",
        "    'the analog of X',\n",
        "    'physical meaning of X',\n",
        "    'X symbolism',\n",
        "    'iconographic meaning of X',\n",
        "    'why is X important?',\n",
        "    'generic model of a X',\n",
        "    'X is related to?'\n",
        "]\n",
        "\n",
        "# Fetch and print results for each query\n",
        "for query in queries:\n",
        "    # Replace 'X' with the keyword in the query\n",
        "    query = query.replace('X', keyword)\n",
        "\n",
        "    # Send a GET request to Google Search\n",
        "    response = requests.get(f\"https://www.google.com/search?q={query}\")\n",
        "\n",
        "    # Parse the response content with BeautifulSoup\n",
        "    soup = BeautifulSoup(response.content, 'html.parser')\n",
        "\n",
        "    # Extract and print the snippet of the first search result\n",
        "    result = soup.find('div', class_='BNeawe').text\n",
        "    print(f\"Results for '{query}':\\n{result}\\n\")\n"
      ],
      "metadata": {
        "colab": {
          "base_uri": "https://localhost:8080/"
        },
        "id": "b4YknNexWM6Y",
        "outputId": "1dcb94e5-e3b7-45fe-f707-e51308b7d58f"
      },
      "execution_count": 5,
      "outputs": [
        {
          "output_type": "stream",
          "name": "stdout",
          "text": [
            "Results for 'importance of Navajo language':\n",
            "The Navajo language is one of the most spoken Native American languages in the United States. It is spoken by more than 300,000 people across the country and serves as a paramount cultural identifier for many Navajos.\n",
            "\n",
            "Results for 'ideal behavior of Navajo language':\n",
            "Navajo language - Wikipedia\n",
            "\n",
            "Results for 'ideal vs. realistic behavior of Navajo language':\n",
            "Navajo language - Wikipedia\n",
            "\n",
            "Results for 'significance of Navajo language':\n",
            "Navajo code talkers were employed by the United States government to encode, transmit and decode messages. This language was ideal for use as a code that the enemy just couldn't crack.Sep 25, 2013\n",
            "\n",
            "Results for 'applications of Navajo language':\n",
            "Speak Navajo Language Volume 1 on the App Store\n",
            "\n",
            "Results for 'physical significance of Navajo language':\n",
            "Navajo language - Wikipedia\n",
            "\n",
            "Results for 'typical characteristics of Navajo language':\n",
            "The Navajo language has a large phoneme inventory which includes uncommon consonants that are not in the English language. It is a tonal language with three tones of high, rising, and falling. It has four basic vowels. The short vowels are as follows: a as in father, e as in west, i as in sit, and o as in low.\n",
            "\n",
            "Results for 'with and without Navajo language':\n",
            "Navajo language - Wikipedia\n",
            "\n",
            "Results for 'what does Navajo language represent?':\n",
            "Navajo is a tone language, meaning that pitch helps distinguish words. Nouns are either animate or inanimate. Animate nouns may be “speakers” (humans) or “callers” (plants and animals); inanimate nouns may be corporeal or spiritual.Jun 1, 2023\n",
            "\n",
            "Results for 'what is the concept of Navajo language?':\n",
            "Navajo is a tone language, meaning that pitch helps distinguish words. Nouns are either animate or inanimate. Animate nouns may be “speakers” (humans) or “callers” (plants and animals); inanimate nouns may be corporeal or spiritual.Jun 1, 2023\n",
            "\n",
            "Results for 'taxonomy of Navajo language':\n",
            "Navajo language - Wikipedia\n",
            "\n",
            "Results for 'table of Navajo language terms':\n",
            "Images\n",
            "\n",
            "Results for 'the analog of Navajo language':\n",
            "Navajo language - Wikipedia\n",
            "\n",
            "Results for 'physical meaning of Navajo language':\n",
            "Navajo language - Wikipedia\n",
            "\n",
            "Results for 'Navajo language symbolism':\n",
            "10 Important Navajo Symbols and Their Meanings\n",
            "\n",
            "Results for 'iconographic meaning of Navajo language':\n",
            "Navajo language - Wikipedia\n",
            "\n",
            "Results for 'why is Navajo language important?':\n",
            "During World Wars I and II, the U.S. government employed speakers of the Navajo language as Navajo code talkers. These Navajo soldiers and sailors used a code based on the Navajo language to relay secret messages. At the end of the war the code remained unbroken.\n",
            "\n",
            "Results for 'generic model of a Navajo language':\n",
            "Navajo language - Wikipedia\n",
            "\n",
            "Results for 'Navajo language is related to?':\n",
            "Navajo language, North American Indian language of the Athabascan family, spoken by the Navajo people of Arizona and New Mexico and closely related to Apache.Jun 1, 2023\n",
            "\n"
          ]
        }
      ]
    },
    {
      "cell_type": "code",
      "source": [],
      "metadata": {
        "id": "1GZmaHTzWQgC"
      },
      "execution_count": null,
      "outputs": []
    }
  ]
}