{
  "nbformat": 4,
  "nbformat_minor": 0,
  "metadata": {
    "colab": {
      "provenance": [],
      "authorship_tag": "ABX9TyOKfZ+r8Phx2ZcVUr0dOF9f",
      "include_colab_link": true
    },
    "kernelspec": {
      "name": "python3",
      "display_name": "Python 3"
    },
    "language_info": {
      "name": "python"
    },
    "widgets": {
      "application/vnd.jupyter.widget-state+json": {
        "1beb5bae571c4260bf3a3dc7e574be4d": {
          "model_module": "@jupyter-widgets/controls",
          "model_name": "HBoxModel",
          "model_module_version": "1.5.0",
          "state": {
            "_dom_classes": [],
            "_model_module": "@jupyter-widgets/controls",
            "_model_module_version": "1.5.0",
            "_model_name": "HBoxModel",
            "_view_count": null,
            "_view_module": "@jupyter-widgets/controls",
            "_view_module_version": "1.5.0",
            "_view_name": "HBoxView",
            "box_style": "",
            "children": [
              "IPY_MODEL_3690512ff591499c8498d0bce27220b6",
              "IPY_MODEL_7bdec681c4d54da2bf4d3baba9a4bbb7",
              "IPY_MODEL_9259fa3de8e44797ae190cf3e9764b7e"
            ],
            "layout": "IPY_MODEL_935aced2a8bd49f4913c89b5f0eb9a09"
          }
        },
        "3690512ff591499c8498d0bce27220b6": {
          "model_module": "@jupyter-widgets/controls",
          "model_name": "HTMLModel",
          "model_module_version": "1.5.0",
          "state": {
            "_dom_classes": [],
            "_model_module": "@jupyter-widgets/controls",
            "_model_module_version": "1.5.0",
            "_model_name": "HTMLModel",
            "_view_count": null,
            "_view_module": "@jupyter-widgets/controls",
            "_view_module_version": "1.5.0",
            "_view_name": "HTMLView",
            "description": "",
            "description_tooltip": null,
            "layout": "IPY_MODEL_582054f99d234e91aed4dbcebd19c0fe",
            "placeholder": "​",
            "style": "IPY_MODEL_5d1efa25a1af43db829c39521fb24a1b",
            "value": "config.json: 100%"
          }
        },
        "7bdec681c4d54da2bf4d3baba9a4bbb7": {
          "model_module": "@jupyter-widgets/controls",
          "model_name": "FloatProgressModel",
          "model_module_version": "1.5.0",
          "state": {
            "_dom_classes": [],
            "_model_module": "@jupyter-widgets/controls",
            "_model_module_version": "1.5.0",
            "_model_name": "FloatProgressModel",
            "_view_count": null,
            "_view_module": "@jupyter-widgets/controls",
            "_view_module_version": "1.5.0",
            "_view_name": "ProgressView",
            "bar_style": "success",
            "description": "",
            "description_tooltip": null,
            "layout": "IPY_MODEL_70c7f6f6980548f1b830a71ce9b14618",
            "max": 1802,
            "min": 0,
            "orientation": "horizontal",
            "style": "IPY_MODEL_f24ad8bcf4b949ffa2f287e8f616cf79",
            "value": 1802
          }
        },
        "9259fa3de8e44797ae190cf3e9764b7e": {
          "model_module": "@jupyter-widgets/controls",
          "model_name": "HTMLModel",
          "model_module_version": "1.5.0",
          "state": {
            "_dom_classes": [],
            "_model_module": "@jupyter-widgets/controls",
            "_model_module_version": "1.5.0",
            "_model_name": "HTMLModel",
            "_view_count": null,
            "_view_module": "@jupyter-widgets/controls",
            "_view_module_version": "1.5.0",
            "_view_name": "HTMLView",
            "description": "",
            "description_tooltip": null,
            "layout": "IPY_MODEL_4ecffa625ccf4c0eac9a53c743b09e84",
            "placeholder": "​",
            "style": "IPY_MODEL_28e2e612502e43e79afb747a88d29138",
            "value": " 1.80k/1.80k [00:00&lt;00:00, 46.4kB/s]"
          }
        },
        "935aced2a8bd49f4913c89b5f0eb9a09": {
          "model_module": "@jupyter-widgets/base",
          "model_name": "LayoutModel",
          "model_module_version": "1.2.0",
          "state": {
            "_model_module": "@jupyter-widgets/base",
            "_model_module_version": "1.2.0",
            "_model_name": "LayoutModel",
            "_view_count": null,
            "_view_module": "@jupyter-widgets/base",
            "_view_module_version": "1.2.0",
            "_view_name": "LayoutView",
            "align_content": null,
            "align_items": null,
            "align_self": null,
            "border": null,
            "bottom": null,
            "display": null,
            "flex": null,
            "flex_flow": null,
            "grid_area": null,
            "grid_auto_columns": null,
            "grid_auto_flow": null,
            "grid_auto_rows": null,
            "grid_column": null,
            "grid_gap": null,
            "grid_row": null,
            "grid_template_areas": null,
            "grid_template_columns": null,
            "grid_template_rows": null,
            "height": null,
            "justify_content": null,
            "justify_items": null,
            "left": null,
            "margin": null,
            "max_height": null,
            "max_width": null,
            "min_height": null,
            "min_width": null,
            "object_fit": null,
            "object_position": null,
            "order": null,
            "overflow": null,
            "overflow_x": null,
            "overflow_y": null,
            "padding": null,
            "right": null,
            "top": null,
            "visibility": null,
            "width": null
          }
        },
        "582054f99d234e91aed4dbcebd19c0fe": {
          "model_module": "@jupyter-widgets/base",
          "model_name": "LayoutModel",
          "model_module_version": "1.2.0",
          "state": {
            "_model_module": "@jupyter-widgets/base",
            "_model_module_version": "1.2.0",
            "_model_name": "LayoutModel",
            "_view_count": null,
            "_view_module": "@jupyter-widgets/base",
            "_view_module_version": "1.2.0",
            "_view_name": "LayoutView",
            "align_content": null,
            "align_items": null,
            "align_self": null,
            "border": null,
            "bottom": null,
            "display": null,
            "flex": null,
            "flex_flow": null,
            "grid_area": null,
            "grid_auto_columns": null,
            "grid_auto_flow": null,
            "grid_auto_rows": null,
            "grid_column": null,
            "grid_gap": null,
            "grid_row": null,
            "grid_template_areas": null,
            "grid_template_columns": null,
            "grid_template_rows": null,
            "height": null,
            "justify_content": null,
            "justify_items": null,
            "left": null,
            "margin": null,
            "max_height": null,
            "max_width": null,
            "min_height": null,
            "min_width": null,
            "object_fit": null,
            "object_position": null,
            "order": null,
            "overflow": null,
            "overflow_x": null,
            "overflow_y": null,
            "padding": null,
            "right": null,
            "top": null,
            "visibility": null,
            "width": null
          }
        },
        "5d1efa25a1af43db829c39521fb24a1b": {
          "model_module": "@jupyter-widgets/controls",
          "model_name": "DescriptionStyleModel",
          "model_module_version": "1.5.0",
          "state": {
            "_model_module": "@jupyter-widgets/controls",
            "_model_module_version": "1.5.0",
            "_model_name": "DescriptionStyleModel",
            "_view_count": null,
            "_view_module": "@jupyter-widgets/base",
            "_view_module_version": "1.2.0",
            "_view_name": "StyleView",
            "description_width": ""
          }
        },
        "70c7f6f6980548f1b830a71ce9b14618": {
          "model_module": "@jupyter-widgets/base",
          "model_name": "LayoutModel",
          "model_module_version": "1.2.0",
          "state": {
            "_model_module": "@jupyter-widgets/base",
            "_model_module_version": "1.2.0",
            "_model_name": "LayoutModel",
            "_view_count": null,
            "_view_module": "@jupyter-widgets/base",
            "_view_module_version": "1.2.0",
            "_view_name": "LayoutView",
            "align_content": null,
            "align_items": null,
            "align_self": null,
            "border": null,
            "bottom": null,
            "display": null,
            "flex": null,
            "flex_flow": null,
            "grid_area": null,
            "grid_auto_columns": null,
            "grid_auto_flow": null,
            "grid_auto_rows": null,
            "grid_column": null,
            "grid_gap": null,
            "grid_row": null,
            "grid_template_areas": null,
            "grid_template_columns": null,
            "grid_template_rows": null,
            "height": null,
            "justify_content": null,
            "justify_items": null,
            "left": null,
            "margin": null,
            "max_height": null,
            "max_width": null,
            "min_height": null,
            "min_width": null,
            "object_fit": null,
            "object_position": null,
            "order": null,
            "overflow": null,
            "overflow_x": null,
            "overflow_y": null,
            "padding": null,
            "right": null,
            "top": null,
            "visibility": null,
            "width": null
          }
        },
        "f24ad8bcf4b949ffa2f287e8f616cf79": {
          "model_module": "@jupyter-widgets/controls",
          "model_name": "ProgressStyleModel",
          "model_module_version": "1.5.0",
          "state": {
            "_model_module": "@jupyter-widgets/controls",
            "_model_module_version": "1.5.0",
            "_model_name": "ProgressStyleModel",
            "_view_count": null,
            "_view_module": "@jupyter-widgets/base",
            "_view_module_version": "1.2.0",
            "_view_name": "StyleView",
            "bar_color": null,
            "description_width": ""
          }
        },
        "4ecffa625ccf4c0eac9a53c743b09e84": {
          "model_module": "@jupyter-widgets/base",
          "model_name": "LayoutModel",
          "model_module_version": "1.2.0",
          "state": {
            "_model_module": "@jupyter-widgets/base",
            "_model_module_version": "1.2.0",
            "_model_name": "LayoutModel",
            "_view_count": null,
            "_view_module": "@jupyter-widgets/base",
            "_view_module_version": "1.2.0",
            "_view_name": "LayoutView",
            "align_content": null,
            "align_items": null,
            "align_self": null,
            "border": null,
            "bottom": null,
            "display": null,
            "flex": null,
            "flex_flow": null,
            "grid_area": null,
            "grid_auto_columns": null,
            "grid_auto_flow": null,
            "grid_auto_rows": null,
            "grid_column": null,
            "grid_gap": null,
            "grid_row": null,
            "grid_template_areas": null,
            "grid_template_columns": null,
            "grid_template_rows": null,
            "height": null,
            "justify_content": null,
            "justify_items": null,
            "left": null,
            "margin": null,
            "max_height": null,
            "max_width": null,
            "min_height": null,
            "min_width": null,
            "object_fit": null,
            "object_position": null,
            "order": null,
            "overflow": null,
            "overflow_x": null,
            "overflow_y": null,
            "padding": null,
            "right": null,
            "top": null,
            "visibility": null,
            "width": null
          }
        },
        "28e2e612502e43e79afb747a88d29138": {
          "model_module": "@jupyter-widgets/controls",
          "model_name": "DescriptionStyleModel",
          "model_module_version": "1.5.0",
          "state": {
            "_model_module": "@jupyter-widgets/controls",
            "_model_module_version": "1.5.0",
            "_model_name": "DescriptionStyleModel",
            "_view_count": null,
            "_view_module": "@jupyter-widgets/base",
            "_view_module_version": "1.2.0",
            "_view_name": "StyleView",
            "description_width": ""
          }
        },
        "f09e02a37de44cd8a09defa17226feaa": {
          "model_module": "@jupyter-widgets/controls",
          "model_name": "HBoxModel",
          "model_module_version": "1.5.0",
          "state": {
            "_dom_classes": [],
            "_model_module": "@jupyter-widgets/controls",
            "_model_module_version": "1.5.0",
            "_model_name": "HBoxModel",
            "_view_count": null,
            "_view_module": "@jupyter-widgets/controls",
            "_view_module_version": "1.5.0",
            "_view_name": "HBoxView",
            "box_style": "",
            "children": [
              "IPY_MODEL_25eead86f95840328e4d0436bfdba8b7",
              "IPY_MODEL_c16f0caf71ef432bb9fdffa740ede9ea",
              "IPY_MODEL_04b6c114a3d1406683ec8afd1e331a5e"
            ],
            "layout": "IPY_MODEL_813ed62437b2486480dbfe9383701e4c"
          }
        },
        "25eead86f95840328e4d0436bfdba8b7": {
          "model_module": "@jupyter-widgets/controls",
          "model_name": "HTMLModel",
          "model_module_version": "1.5.0",
          "state": {
            "_dom_classes": [],
            "_model_module": "@jupyter-widgets/controls",
            "_model_module_version": "1.5.0",
            "_model_name": "HTMLModel",
            "_view_count": null,
            "_view_module": "@jupyter-widgets/controls",
            "_view_module_version": "1.5.0",
            "_view_name": "HTMLView",
            "description": "",
            "description_tooltip": null,
            "layout": "IPY_MODEL_a2301ad5e2524dccb3608f6889211f77",
            "placeholder": "​",
            "style": "IPY_MODEL_bf4bda5b6b6142bf932e58a84dbfa9b7",
            "value": "pytorch_model.bin: 100%"
          }
        },
        "c16f0caf71ef432bb9fdffa740ede9ea": {
          "model_module": "@jupyter-widgets/controls",
          "model_name": "FloatProgressModel",
          "model_module_version": "1.5.0",
          "state": {
            "_dom_classes": [],
            "_model_module": "@jupyter-widgets/controls",
            "_model_module_version": "1.5.0",
            "_model_name": "FloatProgressModel",
            "_view_count": null,
            "_view_module": "@jupyter-widgets/controls",
            "_view_module_version": "1.5.0",
            "_view_name": "ProgressView",
            "bar_style": "success",
            "description": "",
            "description_tooltip": null,
            "layout": "IPY_MODEL_d254ca5dc66f4b83880ea5c27c742eef",
            "max": 1222317369,
            "min": 0,
            "orientation": "horizontal",
            "style": "IPY_MODEL_91d93ca322594589ba50bb0103947576",
            "value": 1222317369
          }
        },
        "04b6c114a3d1406683ec8afd1e331a5e": {
          "model_module": "@jupyter-widgets/controls",
          "model_name": "HTMLModel",
          "model_module_version": "1.5.0",
          "state": {
            "_dom_classes": [],
            "_model_module": "@jupyter-widgets/controls",
            "_model_module_version": "1.5.0",
            "_model_name": "HTMLModel",
            "_view_count": null,
            "_view_module": "@jupyter-widgets/controls",
            "_view_module_version": "1.5.0",
            "_view_name": "HTMLView",
            "description": "",
            "description_tooltip": null,
            "layout": "IPY_MODEL_afbb2c4a3ad640ca93ee343aa57194ab",
            "placeholder": "​",
            "style": "IPY_MODEL_2260bdcc130b4de6bbda1ad38ab153f0",
            "value": " 1.22G/1.22G [00:12&lt;00:00, 133MB/s]"
          }
        },
        "813ed62437b2486480dbfe9383701e4c": {
          "model_module": "@jupyter-widgets/base",
          "model_name": "LayoutModel",
          "model_module_version": "1.2.0",
          "state": {
            "_model_module": "@jupyter-widgets/base",
            "_model_module_version": "1.2.0",
            "_model_name": "LayoutModel",
            "_view_count": null,
            "_view_module": "@jupyter-widgets/base",
            "_view_module_version": "1.2.0",
            "_view_name": "LayoutView",
            "align_content": null,
            "align_items": null,
            "align_self": null,
            "border": null,
            "bottom": null,
            "display": null,
            "flex": null,
            "flex_flow": null,
            "grid_area": null,
            "grid_auto_columns": null,
            "grid_auto_flow": null,
            "grid_auto_rows": null,
            "grid_column": null,
            "grid_gap": null,
            "grid_row": null,
            "grid_template_areas": null,
            "grid_template_columns": null,
            "grid_template_rows": null,
            "height": null,
            "justify_content": null,
            "justify_items": null,
            "left": null,
            "margin": null,
            "max_height": null,
            "max_width": null,
            "min_height": null,
            "min_width": null,
            "object_fit": null,
            "object_position": null,
            "order": null,
            "overflow": null,
            "overflow_x": null,
            "overflow_y": null,
            "padding": null,
            "right": null,
            "top": null,
            "visibility": null,
            "width": null
          }
        },
        "a2301ad5e2524dccb3608f6889211f77": {
          "model_module": "@jupyter-widgets/base",
          "model_name": "LayoutModel",
          "model_module_version": "1.2.0",
          "state": {
            "_model_module": "@jupyter-widgets/base",
            "_model_module_version": "1.2.0",
            "_model_name": "LayoutModel",
            "_view_count": null,
            "_view_module": "@jupyter-widgets/base",
            "_view_module_version": "1.2.0",
            "_view_name": "LayoutView",
            "align_content": null,
            "align_items": null,
            "align_self": null,
            "border": null,
            "bottom": null,
            "display": null,
            "flex": null,
            "flex_flow": null,
            "grid_area": null,
            "grid_auto_columns": null,
            "grid_auto_flow": null,
            "grid_auto_rows": null,
            "grid_column": null,
            "grid_gap": null,
            "grid_row": null,
            "grid_template_areas": null,
            "grid_template_columns": null,
            "grid_template_rows": null,
            "height": null,
            "justify_content": null,
            "justify_items": null,
            "left": null,
            "margin": null,
            "max_height": null,
            "max_width": null,
            "min_height": null,
            "min_width": null,
            "object_fit": null,
            "object_position": null,
            "order": null,
            "overflow": null,
            "overflow_x": null,
            "overflow_y": null,
            "padding": null,
            "right": null,
            "top": null,
            "visibility": null,
            "width": null
          }
        },
        "bf4bda5b6b6142bf932e58a84dbfa9b7": {
          "model_module": "@jupyter-widgets/controls",
          "model_name": "DescriptionStyleModel",
          "model_module_version": "1.5.0",
          "state": {
            "_model_module": "@jupyter-widgets/controls",
            "_model_module_version": "1.5.0",
            "_model_name": "DescriptionStyleModel",
            "_view_count": null,
            "_view_module": "@jupyter-widgets/base",
            "_view_module_version": "1.2.0",
            "_view_name": "StyleView",
            "description_width": ""
          }
        },
        "d254ca5dc66f4b83880ea5c27c742eef": {
          "model_module": "@jupyter-widgets/base",
          "model_name": "LayoutModel",
          "model_module_version": "1.2.0",
          "state": {
            "_model_module": "@jupyter-widgets/base",
            "_model_module_version": "1.2.0",
            "_model_name": "LayoutModel",
            "_view_count": null,
            "_view_module": "@jupyter-widgets/base",
            "_view_module_version": "1.2.0",
            "_view_name": "LayoutView",
            "align_content": null,
            "align_items": null,
            "align_self": null,
            "border": null,
            "bottom": null,
            "display": null,
            "flex": null,
            "flex_flow": null,
            "grid_area": null,
            "grid_auto_columns": null,
            "grid_auto_flow": null,
            "grid_auto_rows": null,
            "grid_column": null,
            "grid_gap": null,
            "grid_row": null,
            "grid_template_areas": null,
            "grid_template_columns": null,
            "grid_template_rows": null,
            "height": null,
            "justify_content": null,
            "justify_items": null,
            "left": null,
            "margin": null,
            "max_height": null,
            "max_width": null,
            "min_height": null,
            "min_width": null,
            "object_fit": null,
            "object_position": null,
            "order": null,
            "overflow": null,
            "overflow_x": null,
            "overflow_y": null,
            "padding": null,
            "right": null,
            "top": null,
            "visibility": null,
            "width": null
          }
        },
        "91d93ca322594589ba50bb0103947576": {
          "model_module": "@jupyter-widgets/controls",
          "model_name": "ProgressStyleModel",
          "model_module_version": "1.5.0",
          "state": {
            "_model_module": "@jupyter-widgets/controls",
            "_model_module_version": "1.5.0",
            "_model_name": "ProgressStyleModel",
            "_view_count": null,
            "_view_module": "@jupyter-widgets/base",
            "_view_module_version": "1.2.0",
            "_view_name": "StyleView",
            "bar_color": null,
            "description_width": ""
          }
        },
        "afbb2c4a3ad640ca93ee343aa57194ab": {
          "model_module": "@jupyter-widgets/base",
          "model_name": "LayoutModel",
          "model_module_version": "1.2.0",
          "state": {
            "_model_module": "@jupyter-widgets/base",
            "_model_module_version": "1.2.0",
            "_model_name": "LayoutModel",
            "_view_count": null,
            "_view_module": "@jupyter-widgets/base",
            "_view_module_version": "1.2.0",
            "_view_name": "LayoutView",
            "align_content": null,
            "align_items": null,
            "align_self": null,
            "border": null,
            "bottom": null,
            "display": null,
            "flex": null,
            "flex_flow": null,
            "grid_area": null,
            "grid_auto_columns": null,
            "grid_auto_flow": null,
            "grid_auto_rows": null,
            "grid_column": null,
            "grid_gap": null,
            "grid_row": null,
            "grid_template_areas": null,
            "grid_template_columns": null,
            "grid_template_rows": null,
            "height": null,
            "justify_content": null,
            "justify_items": null,
            "left": null,
            "margin": null,
            "max_height": null,
            "max_width": null,
            "min_height": null,
            "min_width": null,
            "object_fit": null,
            "object_position": null,
            "order": null,
            "overflow": null,
            "overflow_x": null,
            "overflow_y": null,
            "padding": null,
            "right": null,
            "top": null,
            "visibility": null,
            "width": null
          }
        },
        "2260bdcc130b4de6bbda1ad38ab153f0": {
          "model_module": "@jupyter-widgets/controls",
          "model_name": "DescriptionStyleModel",
          "model_module_version": "1.5.0",
          "state": {
            "_model_module": "@jupyter-widgets/controls",
            "_model_module_version": "1.5.0",
            "_model_name": "DescriptionStyleModel",
            "_view_count": null,
            "_view_module": "@jupyter-widgets/base",
            "_view_module_version": "1.2.0",
            "_view_name": "StyleView",
            "description_width": ""
          }
        },
        "366f7f70b0874aeea5b2e65489ced7f1": {
          "model_module": "@jupyter-widgets/controls",
          "model_name": "HBoxModel",
          "model_module_version": "1.5.0",
          "state": {
            "_dom_classes": [],
            "_model_module": "@jupyter-widgets/controls",
            "_model_module_version": "1.5.0",
            "_model_name": "HBoxModel",
            "_view_count": null,
            "_view_module": "@jupyter-widgets/controls",
            "_view_module_version": "1.5.0",
            "_view_name": "HBoxView",
            "box_style": "",
            "children": [
              "IPY_MODEL_8751f1390411436fa1ed57e7fa92b614",
              "IPY_MODEL_1e34eb22289f44c2a7eafa1e33627bd9",
              "IPY_MODEL_7b3abaa8fd2a40489aca3d51bba78177"
            ],
            "layout": "IPY_MODEL_313a7ebdaa25484b89a22a384691c3d6"
          }
        },
        "8751f1390411436fa1ed57e7fa92b614": {
          "model_module": "@jupyter-widgets/controls",
          "model_name": "HTMLModel",
          "model_module_version": "1.5.0",
          "state": {
            "_dom_classes": [],
            "_model_module": "@jupyter-widgets/controls",
            "_model_module_version": "1.5.0",
            "_model_name": "HTMLModel",
            "_view_count": null,
            "_view_module": "@jupyter-widgets/controls",
            "_view_module_version": "1.5.0",
            "_view_name": "HTMLView",
            "description": "",
            "description_tooltip": null,
            "layout": "IPY_MODEL_bd34acec841045fd940719646669a6a4",
            "placeholder": "​",
            "style": "IPY_MODEL_5235aa26d83848e8b70e2583f35f3292",
            "value": "tokenizer_config.json: 100%"
          }
        },
        "1e34eb22289f44c2a7eafa1e33627bd9": {
          "model_module": "@jupyter-widgets/controls",
          "model_name": "FloatProgressModel",
          "model_module_version": "1.5.0",
          "state": {
            "_dom_classes": [],
            "_model_module": "@jupyter-widgets/controls",
            "_model_module_version": "1.5.0",
            "_model_name": "FloatProgressModel",
            "_view_count": null,
            "_view_module": "@jupyter-widgets/controls",
            "_view_module_version": "1.5.0",
            "_view_name": "ProgressView",
            "bar_style": "success",
            "description": "",
            "description_tooltip": null,
            "layout": "IPY_MODEL_9eb85886a6e8484c956818703d82273e",
            "max": 26,
            "min": 0,
            "orientation": "horizontal",
            "style": "IPY_MODEL_32182a4c55df407b8aaf9aea285e128d",
            "value": 26
          }
        },
        "7b3abaa8fd2a40489aca3d51bba78177": {
          "model_module": "@jupyter-widgets/controls",
          "model_name": "HTMLModel",
          "model_module_version": "1.5.0",
          "state": {
            "_dom_classes": [],
            "_model_module": "@jupyter-widgets/controls",
            "_model_module_version": "1.5.0",
            "_model_name": "HTMLModel",
            "_view_count": null,
            "_view_module": "@jupyter-widgets/controls",
            "_view_module_version": "1.5.0",
            "_view_name": "HTMLView",
            "description": "",
            "description_tooltip": null,
            "layout": "IPY_MODEL_2855e49abf4747fda8d8a119ea49273c",
            "placeholder": "​",
            "style": "IPY_MODEL_d438ec568a354cae9b80dde6e3287f82",
            "value": " 26.0/26.0 [00:00&lt;00:00, 1.60kB/s]"
          }
        },
        "313a7ebdaa25484b89a22a384691c3d6": {
          "model_module": "@jupyter-widgets/base",
          "model_name": "LayoutModel",
          "model_module_version": "1.2.0",
          "state": {
            "_model_module": "@jupyter-widgets/base",
            "_model_module_version": "1.2.0",
            "_model_name": "LayoutModel",
            "_view_count": null,
            "_view_module": "@jupyter-widgets/base",
            "_view_module_version": "1.2.0",
            "_view_name": "LayoutView",
            "align_content": null,
            "align_items": null,
            "align_self": null,
            "border": null,
            "bottom": null,
            "display": null,
            "flex": null,
            "flex_flow": null,
            "grid_area": null,
            "grid_auto_columns": null,
            "grid_auto_flow": null,
            "grid_auto_rows": null,
            "grid_column": null,
            "grid_gap": null,
            "grid_row": null,
            "grid_template_areas": null,
            "grid_template_columns": null,
            "grid_template_rows": null,
            "height": null,
            "justify_content": null,
            "justify_items": null,
            "left": null,
            "margin": null,
            "max_height": null,
            "max_width": null,
            "min_height": null,
            "min_width": null,
            "object_fit": null,
            "object_position": null,
            "order": null,
            "overflow": null,
            "overflow_x": null,
            "overflow_y": null,
            "padding": null,
            "right": null,
            "top": null,
            "visibility": null,
            "width": null
          }
        },
        "bd34acec841045fd940719646669a6a4": {
          "model_module": "@jupyter-widgets/base",
          "model_name": "LayoutModel",
          "model_module_version": "1.2.0",
          "state": {
            "_model_module": "@jupyter-widgets/base",
            "_model_module_version": "1.2.0",
            "_model_name": "LayoutModel",
            "_view_count": null,
            "_view_module": "@jupyter-widgets/base",
            "_view_module_version": "1.2.0",
            "_view_name": "LayoutView",
            "align_content": null,
            "align_items": null,
            "align_self": null,
            "border": null,
            "bottom": null,
            "display": null,
            "flex": null,
            "flex_flow": null,
            "grid_area": null,
            "grid_auto_columns": null,
            "grid_auto_flow": null,
            "grid_auto_rows": null,
            "grid_column": null,
            "grid_gap": null,
            "grid_row": null,
            "grid_template_areas": null,
            "grid_template_columns": null,
            "grid_template_rows": null,
            "height": null,
            "justify_content": null,
            "justify_items": null,
            "left": null,
            "margin": null,
            "max_height": null,
            "max_width": null,
            "min_height": null,
            "min_width": null,
            "object_fit": null,
            "object_position": null,
            "order": null,
            "overflow": null,
            "overflow_x": null,
            "overflow_y": null,
            "padding": null,
            "right": null,
            "top": null,
            "visibility": null,
            "width": null
          }
        },
        "5235aa26d83848e8b70e2583f35f3292": {
          "model_module": "@jupyter-widgets/controls",
          "model_name": "DescriptionStyleModel",
          "model_module_version": "1.5.0",
          "state": {
            "_model_module": "@jupyter-widgets/controls",
            "_model_module_version": "1.5.0",
            "_model_name": "DescriptionStyleModel",
            "_view_count": null,
            "_view_module": "@jupyter-widgets/base",
            "_view_module_version": "1.2.0",
            "_view_name": "StyleView",
            "description_width": ""
          }
        },
        "9eb85886a6e8484c956818703d82273e": {
          "model_module": "@jupyter-widgets/base",
          "model_name": "LayoutModel",
          "model_module_version": "1.2.0",
          "state": {
            "_model_module": "@jupyter-widgets/base",
            "_model_module_version": "1.2.0",
            "_model_name": "LayoutModel",
            "_view_count": null,
            "_view_module": "@jupyter-widgets/base",
            "_view_module_version": "1.2.0",
            "_view_name": "LayoutView",
            "align_content": null,
            "align_items": null,
            "align_self": null,
            "border": null,
            "bottom": null,
            "display": null,
            "flex": null,
            "flex_flow": null,
            "grid_area": null,
            "grid_auto_columns": null,
            "grid_auto_flow": null,
            "grid_auto_rows": null,
            "grid_column": null,
            "grid_gap": null,
            "grid_row": null,
            "grid_template_areas": null,
            "grid_template_columns": null,
            "grid_template_rows": null,
            "height": null,
            "justify_content": null,
            "justify_items": null,
            "left": null,
            "margin": null,
            "max_height": null,
            "max_width": null,
            "min_height": null,
            "min_width": null,
            "object_fit": null,
            "object_position": null,
            "order": null,
            "overflow": null,
            "overflow_x": null,
            "overflow_y": null,
            "padding": null,
            "right": null,
            "top": null,
            "visibility": null,
            "width": null
          }
        },
        "32182a4c55df407b8aaf9aea285e128d": {
          "model_module": "@jupyter-widgets/controls",
          "model_name": "ProgressStyleModel",
          "model_module_version": "1.5.0",
          "state": {
            "_model_module": "@jupyter-widgets/controls",
            "_model_module_version": "1.5.0",
            "_model_name": "ProgressStyleModel",
            "_view_count": null,
            "_view_module": "@jupyter-widgets/base",
            "_view_module_version": "1.2.0",
            "_view_name": "StyleView",
            "bar_color": null,
            "description_width": ""
          }
        },
        "2855e49abf4747fda8d8a119ea49273c": {
          "model_module": "@jupyter-widgets/base",
          "model_name": "LayoutModel",
          "model_module_version": "1.2.0",
          "state": {
            "_model_module": "@jupyter-widgets/base",
            "_model_module_version": "1.2.0",
            "_model_name": "LayoutModel",
            "_view_count": null,
            "_view_module": "@jupyter-widgets/base",
            "_view_module_version": "1.2.0",
            "_view_name": "LayoutView",
            "align_content": null,
            "align_items": null,
            "align_self": null,
            "border": null,
            "bottom": null,
            "display": null,
            "flex": null,
            "flex_flow": null,
            "grid_area": null,
            "grid_auto_columns": null,
            "grid_auto_flow": null,
            "grid_auto_rows": null,
            "grid_column": null,
            "grid_gap": null,
            "grid_row": null,
            "grid_template_areas": null,
            "grid_template_columns": null,
            "grid_template_rows": null,
            "height": null,
            "justify_content": null,
            "justify_items": null,
            "left": null,
            "margin": null,
            "max_height": null,
            "max_width": null,
            "min_height": null,
            "min_width": null,
            "object_fit": null,
            "object_position": null,
            "order": null,
            "overflow": null,
            "overflow_x": null,
            "overflow_y": null,
            "padding": null,
            "right": null,
            "top": null,
            "visibility": null,
            "width": null
          }
        },
        "d438ec568a354cae9b80dde6e3287f82": {
          "model_module": "@jupyter-widgets/controls",
          "model_name": "DescriptionStyleModel",
          "model_module_version": "1.5.0",
          "state": {
            "_model_module": "@jupyter-widgets/controls",
            "_model_module_version": "1.5.0",
            "_model_name": "DescriptionStyleModel",
            "_view_count": null,
            "_view_module": "@jupyter-widgets/base",
            "_view_module_version": "1.2.0",
            "_view_name": "StyleView",
            "description_width": ""
          }
        },
        "856b2b3456424a86b4d7822dda2b4f61": {
          "model_module": "@jupyter-widgets/controls",
          "model_name": "HBoxModel",
          "model_module_version": "1.5.0",
          "state": {
            "_dom_classes": [],
            "_model_module": "@jupyter-widgets/controls",
            "_model_module_version": "1.5.0",
            "_model_name": "HBoxModel",
            "_view_count": null,
            "_view_module": "@jupyter-widgets/controls",
            "_view_module_version": "1.5.0",
            "_view_name": "HBoxView",
            "box_style": "",
            "children": [
              "IPY_MODEL_31c4a701d3d447b48b5d876182258c17",
              "IPY_MODEL_2d44eed021a04d0a8464481014311913",
              "IPY_MODEL_478426ff11b34915858acf9e585b1133"
            ],
            "layout": "IPY_MODEL_31244f3d718746d29520e641475b3987"
          }
        },
        "31c4a701d3d447b48b5d876182258c17": {
          "model_module": "@jupyter-widgets/controls",
          "model_name": "HTMLModel",
          "model_module_version": "1.5.0",
          "state": {
            "_dom_classes": [],
            "_model_module": "@jupyter-widgets/controls",
            "_model_module_version": "1.5.0",
            "_model_name": "HTMLModel",
            "_view_count": null,
            "_view_module": "@jupyter-widgets/controls",
            "_view_module_version": "1.5.0",
            "_view_name": "HTMLView",
            "description": "",
            "description_tooltip": null,
            "layout": "IPY_MODEL_dfd1e72322b946b68b9f6214507b5be0",
            "placeholder": "​",
            "style": "IPY_MODEL_7662eef9390447ada86139f99dd6144b",
            "value": "vocab.json: 100%"
          }
        },
        "2d44eed021a04d0a8464481014311913": {
          "model_module": "@jupyter-widgets/controls",
          "model_name": "FloatProgressModel",
          "model_module_version": "1.5.0",
          "state": {
            "_dom_classes": [],
            "_model_module": "@jupyter-widgets/controls",
            "_model_module_version": "1.5.0",
            "_model_name": "FloatProgressModel",
            "_view_count": null,
            "_view_module": "@jupyter-widgets/controls",
            "_view_module_version": "1.5.0",
            "_view_name": "ProgressView",
            "bar_style": "success",
            "description": "",
            "description_tooltip": null,
            "layout": "IPY_MODEL_f40d0c787832426eb48fd9e606ba54b7",
            "max": 898822,
            "min": 0,
            "orientation": "horizontal",
            "style": "IPY_MODEL_465c43bd84b244b8a122715389bf726b",
            "value": 898822
          }
        },
        "478426ff11b34915858acf9e585b1133": {
          "model_module": "@jupyter-widgets/controls",
          "model_name": "HTMLModel",
          "model_module_version": "1.5.0",
          "state": {
            "_dom_classes": [],
            "_model_module": "@jupyter-widgets/controls",
            "_model_module_version": "1.5.0",
            "_model_name": "HTMLModel",
            "_view_count": null,
            "_view_module": "@jupyter-widgets/controls",
            "_view_module_version": "1.5.0",
            "_view_name": "HTMLView",
            "description": "",
            "description_tooltip": null,
            "layout": "IPY_MODEL_29fccd43f1f64106b82a201cc0bfade9",
            "placeholder": "​",
            "style": "IPY_MODEL_8df78fc7ad1d41bb8a8936ce18292a5e",
            "value": " 899k/899k [00:00&lt;00:00, 4.67MB/s]"
          }
        },
        "31244f3d718746d29520e641475b3987": {
          "model_module": "@jupyter-widgets/base",
          "model_name": "LayoutModel",
          "model_module_version": "1.2.0",
          "state": {
            "_model_module": "@jupyter-widgets/base",
            "_model_module_version": "1.2.0",
            "_model_name": "LayoutModel",
            "_view_count": null,
            "_view_module": "@jupyter-widgets/base",
            "_view_module_version": "1.2.0",
            "_view_name": "LayoutView",
            "align_content": null,
            "align_items": null,
            "align_self": null,
            "border": null,
            "bottom": null,
            "display": null,
            "flex": null,
            "flex_flow": null,
            "grid_area": null,
            "grid_auto_columns": null,
            "grid_auto_flow": null,
            "grid_auto_rows": null,
            "grid_column": null,
            "grid_gap": null,
            "grid_row": null,
            "grid_template_areas": null,
            "grid_template_columns": null,
            "grid_template_rows": null,
            "height": null,
            "justify_content": null,
            "justify_items": null,
            "left": null,
            "margin": null,
            "max_height": null,
            "max_width": null,
            "min_height": null,
            "min_width": null,
            "object_fit": null,
            "object_position": null,
            "order": null,
            "overflow": null,
            "overflow_x": null,
            "overflow_y": null,
            "padding": null,
            "right": null,
            "top": null,
            "visibility": null,
            "width": null
          }
        },
        "dfd1e72322b946b68b9f6214507b5be0": {
          "model_module": "@jupyter-widgets/base",
          "model_name": "LayoutModel",
          "model_module_version": "1.2.0",
          "state": {
            "_model_module": "@jupyter-widgets/base",
            "_model_module_version": "1.2.0",
            "_model_name": "LayoutModel",
            "_view_count": null,
            "_view_module": "@jupyter-widgets/base",
            "_view_module_version": "1.2.0",
            "_view_name": "LayoutView",
            "align_content": null,
            "align_items": null,
            "align_self": null,
            "border": null,
            "bottom": null,
            "display": null,
            "flex": null,
            "flex_flow": null,
            "grid_area": null,
            "grid_auto_columns": null,
            "grid_auto_flow": null,
            "grid_auto_rows": null,
            "grid_column": null,
            "grid_gap": null,
            "grid_row": null,
            "grid_template_areas": null,
            "grid_template_columns": null,
            "grid_template_rows": null,
            "height": null,
            "justify_content": null,
            "justify_items": null,
            "left": null,
            "margin": null,
            "max_height": null,
            "max_width": null,
            "min_height": null,
            "min_width": null,
            "object_fit": null,
            "object_position": null,
            "order": null,
            "overflow": null,
            "overflow_x": null,
            "overflow_y": null,
            "padding": null,
            "right": null,
            "top": null,
            "visibility": null,
            "width": null
          }
        },
        "7662eef9390447ada86139f99dd6144b": {
          "model_module": "@jupyter-widgets/controls",
          "model_name": "DescriptionStyleModel",
          "model_module_version": "1.5.0",
          "state": {
            "_model_module": "@jupyter-widgets/controls",
            "_model_module_version": "1.5.0",
            "_model_name": "DescriptionStyleModel",
            "_view_count": null,
            "_view_module": "@jupyter-widgets/base",
            "_view_module_version": "1.2.0",
            "_view_name": "StyleView",
            "description_width": ""
          }
        },
        "f40d0c787832426eb48fd9e606ba54b7": {
          "model_module": "@jupyter-widgets/base",
          "model_name": "LayoutModel",
          "model_module_version": "1.2.0",
          "state": {
            "_model_module": "@jupyter-widgets/base",
            "_model_module_version": "1.2.0",
            "_model_name": "LayoutModel",
            "_view_count": null,
            "_view_module": "@jupyter-widgets/base",
            "_view_module_version": "1.2.0",
            "_view_name": "LayoutView",
            "align_content": null,
            "align_items": null,
            "align_self": null,
            "border": null,
            "bottom": null,
            "display": null,
            "flex": null,
            "flex_flow": null,
            "grid_area": null,
            "grid_auto_columns": null,
            "grid_auto_flow": null,
            "grid_auto_rows": null,
            "grid_column": null,
            "grid_gap": null,
            "grid_row": null,
            "grid_template_areas": null,
            "grid_template_columns": null,
            "grid_template_rows": null,
            "height": null,
            "justify_content": null,
            "justify_items": null,
            "left": null,
            "margin": null,
            "max_height": null,
            "max_width": null,
            "min_height": null,
            "min_width": null,
            "object_fit": null,
            "object_position": null,
            "order": null,
            "overflow": null,
            "overflow_x": null,
            "overflow_y": null,
            "padding": null,
            "right": null,
            "top": null,
            "visibility": null,
            "width": null
          }
        },
        "465c43bd84b244b8a122715389bf726b": {
          "model_module": "@jupyter-widgets/controls",
          "model_name": "ProgressStyleModel",
          "model_module_version": "1.5.0",
          "state": {
            "_model_module": "@jupyter-widgets/controls",
            "_model_module_version": "1.5.0",
            "_model_name": "ProgressStyleModel",
            "_view_count": null,
            "_view_module": "@jupyter-widgets/base",
            "_view_module_version": "1.2.0",
            "_view_name": "StyleView",
            "bar_color": null,
            "description_width": ""
          }
        },
        "29fccd43f1f64106b82a201cc0bfade9": {
          "model_module": "@jupyter-widgets/base",
          "model_name": "LayoutModel",
          "model_module_version": "1.2.0",
          "state": {
            "_model_module": "@jupyter-widgets/base",
            "_model_module_version": "1.2.0",
            "_model_name": "LayoutModel",
            "_view_count": null,
            "_view_module": "@jupyter-widgets/base",
            "_view_module_version": "1.2.0",
            "_view_name": "LayoutView",
            "align_content": null,
            "align_items": null,
            "align_self": null,
            "border": null,
            "bottom": null,
            "display": null,
            "flex": null,
            "flex_flow": null,
            "grid_area": null,
            "grid_auto_columns": null,
            "grid_auto_flow": null,
            "grid_auto_rows": null,
            "grid_column": null,
            "grid_gap": null,
            "grid_row": null,
            "grid_template_areas": null,
            "grid_template_columns": null,
            "grid_template_rows": null,
            "height": null,
            "justify_content": null,
            "justify_items": null,
            "left": null,
            "margin": null,
            "max_height": null,
            "max_width": null,
            "min_height": null,
            "min_width": null,
            "object_fit": null,
            "object_position": null,
            "order": null,
            "overflow": null,
            "overflow_x": null,
            "overflow_y": null,
            "padding": null,
            "right": null,
            "top": null,
            "visibility": null,
            "width": null
          }
        },
        "8df78fc7ad1d41bb8a8936ce18292a5e": {
          "model_module": "@jupyter-widgets/controls",
          "model_name": "DescriptionStyleModel",
          "model_module_version": "1.5.0",
          "state": {
            "_model_module": "@jupyter-widgets/controls",
            "_model_module_version": "1.5.0",
            "_model_name": "DescriptionStyleModel",
            "_view_count": null,
            "_view_module": "@jupyter-widgets/base",
            "_view_module_version": "1.2.0",
            "_view_name": "StyleView",
            "description_width": ""
          }
        },
        "7bc082d5528e446e8f0e8019d67bc565": {
          "model_module": "@jupyter-widgets/controls",
          "model_name": "HBoxModel",
          "model_module_version": "1.5.0",
          "state": {
            "_dom_classes": [],
            "_model_module": "@jupyter-widgets/controls",
            "_model_module_version": "1.5.0",
            "_model_name": "HBoxModel",
            "_view_count": null,
            "_view_module": "@jupyter-widgets/controls",
            "_view_module_version": "1.5.0",
            "_view_name": "HBoxView",
            "box_style": "",
            "children": [
              "IPY_MODEL_43a36ce322214af79df20b3d70eff858",
              "IPY_MODEL_7965f52a48e4406181cd2f5fe35529c8",
              "IPY_MODEL_c58b49d834574c998504e60b4353909b"
            ],
            "layout": "IPY_MODEL_181db3ee68234474af6dcbe6a1e9be80"
          }
        },
        "43a36ce322214af79df20b3d70eff858": {
          "model_module": "@jupyter-widgets/controls",
          "model_name": "HTMLModel",
          "model_module_version": "1.5.0",
          "state": {
            "_dom_classes": [],
            "_model_module": "@jupyter-widgets/controls",
            "_model_module_version": "1.5.0",
            "_model_name": "HTMLModel",
            "_view_count": null,
            "_view_module": "@jupyter-widgets/controls",
            "_view_module_version": "1.5.0",
            "_view_name": "HTMLView",
            "description": "",
            "description_tooltip": null,
            "layout": "IPY_MODEL_9c6346abc5d34fa497ad0d5be12365c9",
            "placeholder": "​",
            "style": "IPY_MODEL_a99d9c78ba114cfeb3ea412d7490dc08",
            "value": "merges.txt: 100%"
          }
        },
        "7965f52a48e4406181cd2f5fe35529c8": {
          "model_module": "@jupyter-widgets/controls",
          "model_name": "FloatProgressModel",
          "model_module_version": "1.5.0",
          "state": {
            "_dom_classes": [],
            "_model_module": "@jupyter-widgets/controls",
            "_model_module_version": "1.5.0",
            "_model_name": "FloatProgressModel",
            "_view_count": null,
            "_view_module": "@jupyter-widgets/controls",
            "_view_module_version": "1.5.0",
            "_view_name": "ProgressView",
            "bar_style": "success",
            "description": "",
            "description_tooltip": null,
            "layout": "IPY_MODEL_5204b50888de471c96f337ba9449a145",
            "max": 456318,
            "min": 0,
            "orientation": "horizontal",
            "style": "IPY_MODEL_c235a8b42ea84b1193182fb2b70b6832",
            "value": 456318
          }
        },
        "c58b49d834574c998504e60b4353909b": {
          "model_module": "@jupyter-widgets/controls",
          "model_name": "HTMLModel",
          "model_module_version": "1.5.0",
          "state": {
            "_dom_classes": [],
            "_model_module": "@jupyter-widgets/controls",
            "_model_module_version": "1.5.0",
            "_model_name": "HTMLModel",
            "_view_count": null,
            "_view_module": "@jupyter-widgets/controls",
            "_view_module_version": "1.5.0",
            "_view_name": "HTMLView",
            "description": "",
            "description_tooltip": null,
            "layout": "IPY_MODEL_0bfd0a04f2b74f0f9fa08d6e05c14356",
            "placeholder": "​",
            "style": "IPY_MODEL_4ce7dd86e09c4184bc9f2140decc4910",
            "value": " 456k/456k [00:00&lt;00:00, 21.9MB/s]"
          }
        },
        "181db3ee68234474af6dcbe6a1e9be80": {
          "model_module": "@jupyter-widgets/base",
          "model_name": "LayoutModel",
          "model_module_version": "1.2.0",
          "state": {
            "_model_module": "@jupyter-widgets/base",
            "_model_module_version": "1.2.0",
            "_model_name": "LayoutModel",
            "_view_count": null,
            "_view_module": "@jupyter-widgets/base",
            "_view_module_version": "1.2.0",
            "_view_name": "LayoutView",
            "align_content": null,
            "align_items": null,
            "align_self": null,
            "border": null,
            "bottom": null,
            "display": null,
            "flex": null,
            "flex_flow": null,
            "grid_area": null,
            "grid_auto_columns": null,
            "grid_auto_flow": null,
            "grid_auto_rows": null,
            "grid_column": null,
            "grid_gap": null,
            "grid_row": null,
            "grid_template_areas": null,
            "grid_template_columns": null,
            "grid_template_rows": null,
            "height": null,
            "justify_content": null,
            "justify_items": null,
            "left": null,
            "margin": null,
            "max_height": null,
            "max_width": null,
            "min_height": null,
            "min_width": null,
            "object_fit": null,
            "object_position": null,
            "order": null,
            "overflow": null,
            "overflow_x": null,
            "overflow_y": null,
            "padding": null,
            "right": null,
            "top": null,
            "visibility": null,
            "width": null
          }
        },
        "9c6346abc5d34fa497ad0d5be12365c9": {
          "model_module": "@jupyter-widgets/base",
          "model_name": "LayoutModel",
          "model_module_version": "1.2.0",
          "state": {
            "_model_module": "@jupyter-widgets/base",
            "_model_module_version": "1.2.0",
            "_model_name": "LayoutModel",
            "_view_count": null,
            "_view_module": "@jupyter-widgets/base",
            "_view_module_version": "1.2.0",
            "_view_name": "LayoutView",
            "align_content": null,
            "align_items": null,
            "align_self": null,
            "border": null,
            "bottom": null,
            "display": null,
            "flex": null,
            "flex_flow": null,
            "grid_area": null,
            "grid_auto_columns": null,
            "grid_auto_flow": null,
            "grid_auto_rows": null,
            "grid_column": null,
            "grid_gap": null,
            "grid_row": null,
            "grid_template_areas": null,
            "grid_template_columns": null,
            "grid_template_rows": null,
            "height": null,
            "justify_content": null,
            "justify_items": null,
            "left": null,
            "margin": null,
            "max_height": null,
            "max_width": null,
            "min_height": null,
            "min_width": null,
            "object_fit": null,
            "object_position": null,
            "order": null,
            "overflow": null,
            "overflow_x": null,
            "overflow_y": null,
            "padding": null,
            "right": null,
            "top": null,
            "visibility": null,
            "width": null
          }
        },
        "a99d9c78ba114cfeb3ea412d7490dc08": {
          "model_module": "@jupyter-widgets/controls",
          "model_name": "DescriptionStyleModel",
          "model_module_version": "1.5.0",
          "state": {
            "_model_module": "@jupyter-widgets/controls",
            "_model_module_version": "1.5.0",
            "_model_name": "DescriptionStyleModel",
            "_view_count": null,
            "_view_module": "@jupyter-widgets/base",
            "_view_module_version": "1.2.0",
            "_view_name": "StyleView",
            "description_width": ""
          }
        },
        "5204b50888de471c96f337ba9449a145": {
          "model_module": "@jupyter-widgets/base",
          "model_name": "LayoutModel",
          "model_module_version": "1.2.0",
          "state": {
            "_model_module": "@jupyter-widgets/base",
            "_model_module_version": "1.2.0",
            "_model_name": "LayoutModel",
            "_view_count": null,
            "_view_module": "@jupyter-widgets/base",
            "_view_module_version": "1.2.0",
            "_view_name": "LayoutView",
            "align_content": null,
            "align_items": null,
            "align_self": null,
            "border": null,
            "bottom": null,
            "display": null,
            "flex": null,
            "flex_flow": null,
            "grid_area": null,
            "grid_auto_columns": null,
            "grid_auto_flow": null,
            "grid_auto_rows": null,
            "grid_column": null,
            "grid_gap": null,
            "grid_row": null,
            "grid_template_areas": null,
            "grid_template_columns": null,
            "grid_template_rows": null,
            "height": null,
            "justify_content": null,
            "justify_items": null,
            "left": null,
            "margin": null,
            "max_height": null,
            "max_width": null,
            "min_height": null,
            "min_width": null,
            "object_fit": null,
            "object_position": null,
            "order": null,
            "overflow": null,
            "overflow_x": null,
            "overflow_y": null,
            "padding": null,
            "right": null,
            "top": null,
            "visibility": null,
            "width": null
          }
        },
        "c235a8b42ea84b1193182fb2b70b6832": {
          "model_module": "@jupyter-widgets/controls",
          "model_name": "ProgressStyleModel",
          "model_module_version": "1.5.0",
          "state": {
            "_model_module": "@jupyter-widgets/controls",
            "_model_module_version": "1.5.0",
            "_model_name": "ProgressStyleModel",
            "_view_count": null,
            "_view_module": "@jupyter-widgets/base",
            "_view_module_version": "1.2.0",
            "_view_name": "StyleView",
            "bar_color": null,
            "description_width": ""
          }
        },
        "0bfd0a04f2b74f0f9fa08d6e05c14356": {
          "model_module": "@jupyter-widgets/base",
          "model_name": "LayoutModel",
          "model_module_version": "1.2.0",
          "state": {
            "_model_module": "@jupyter-widgets/base",
            "_model_module_version": "1.2.0",
            "_model_name": "LayoutModel",
            "_view_count": null,
            "_view_module": "@jupyter-widgets/base",
            "_view_module_version": "1.2.0",
            "_view_name": "LayoutView",
            "align_content": null,
            "align_items": null,
            "align_self": null,
            "border": null,
            "bottom": null,
            "display": null,
            "flex": null,
            "flex_flow": null,
            "grid_area": null,
            "grid_auto_columns": null,
            "grid_auto_flow": null,
            "grid_auto_rows": null,
            "grid_column": null,
            "grid_gap": null,
            "grid_row": null,
            "grid_template_areas": null,
            "grid_template_columns": null,
            "grid_template_rows": null,
            "height": null,
            "justify_content": null,
            "justify_items": null,
            "left": null,
            "margin": null,
            "max_height": null,
            "max_width": null,
            "min_height": null,
            "min_width": null,
            "object_fit": null,
            "object_position": null,
            "order": null,
            "overflow": null,
            "overflow_x": null,
            "overflow_y": null,
            "padding": null,
            "right": null,
            "top": null,
            "visibility": null,
            "width": null
          }
        },
        "4ce7dd86e09c4184bc9f2140decc4910": {
          "model_module": "@jupyter-widgets/controls",
          "model_name": "DescriptionStyleModel",
          "model_module_version": "1.5.0",
          "state": {
            "_model_module": "@jupyter-widgets/controls",
            "_model_module_version": "1.5.0",
            "_model_name": "DescriptionStyleModel",
            "_view_count": null,
            "_view_module": "@jupyter-widgets/base",
            "_view_module_version": "1.2.0",
            "_view_name": "StyleView",
            "description_width": ""
          }
        }
      }
    }
  },
  "cells": [
    {
      "cell_type": "markdown",
      "metadata": {
        "id": "view-in-github",
        "colab_type": "text"
      },
      "source": [
        "<a href=\"https://colab.research.google.com/github/OJB-Quantum/Effective-Google-Search-Tips/blob/main/Code%20for%20Search%20Requests_from_API.ipynb\" target=\"_parent\"><img src=\"https://colab.research.google.com/assets/colab-badge.svg\" alt=\"Open In Colab\"/></a>"
      ]
    },
    {
      "cell_type": "code",
      "execution_count": 1,
      "metadata": {
        "colab": {
          "base_uri": "https://localhost:8080/"
        },
        "id": "aFVp1C0AaeN4",
        "outputId": "2be2d0ea-8f99-4a20-a143-71dc2441cae6"
      },
      "outputs": [
        {
          "output_type": "stream",
          "name": "stdout",
          "text": [
            "Requirement already satisfied: requests in /usr/local/lib/python3.10/dist-packages (2.31.0)\n",
            "Requirement already satisfied: charset-normalizer<4,>=2 in /usr/local/lib/python3.10/dist-packages (from requests) (3.3.2)\n",
            "Requirement already satisfied: idna<4,>=2.5 in /usr/local/lib/python3.10/dist-packages (from requests) (3.6)\n",
            "Requirement already satisfied: urllib3<3,>=1.21.1 in /usr/local/lib/python3.10/dist-packages (from requests) (2.0.7)\n",
            "Requirement already satisfied: certifi>=2017.4.17 in /usr/local/lib/python3.10/dist-packages (from requests) (2023.11.17)\n"
          ]
        }
      ],
      "source": [
        "# Install a pip package in the current Jupyter kernel\n",
        "import sys\n",
        "!{sys.executable} -m pip install requests"
      ]
    },
    {
      "cell_type": "code",
      "source": [
        "pip install wikipedia-api"
      ],
      "metadata": {
        "colab": {
          "base_uri": "https://localhost:8080/"
        },
        "id": "6czOFvbxgmtG",
        "outputId": "545f08a3-6a7c-440e-eae2-4ab2873db89c"
      },
      "execution_count": 2,
      "outputs": [
        {
          "output_type": "stream",
          "name": "stdout",
          "text": [
            "Collecting wikipedia-api\n",
            "  Downloading Wikipedia_API-0.6.0-py3-none-any.whl (14 kB)\n",
            "Requirement already satisfied: requests in /usr/local/lib/python3.10/dist-packages (from wikipedia-api) (2.31.0)\n",
            "Requirement already satisfied: charset-normalizer<4,>=2 in /usr/local/lib/python3.10/dist-packages (from requests->wikipedia-api) (3.3.2)\n",
            "Requirement already satisfied: idna<4,>=2.5 in /usr/local/lib/python3.10/dist-packages (from requests->wikipedia-api) (3.6)\n",
            "Requirement already satisfied: urllib3<3,>=1.21.1 in /usr/local/lib/python3.10/dist-packages (from requests->wikipedia-api) (2.0.7)\n",
            "Requirement already satisfied: certifi>=2017.4.17 in /usr/local/lib/python3.10/dist-packages (from requests->wikipedia-api) (2023.11.17)\n",
            "Installing collected packages: wikipedia-api\n",
            "Successfully installed wikipedia-api-0.6.0\n"
          ]
        }
      ]
    },
    {
      "cell_type": "code",
      "source": [
        "pip install transformers"
      ],
      "metadata": {
        "id": "FgpL0rKGnyIn",
        "outputId": "dd8c59e6-9bba-4c9c-f274-cbce99f71e51",
        "colab": {
          "base_uri": "https://localhost:8080/"
        }
      },
      "execution_count": 3,
      "outputs": [
        {
          "output_type": "stream",
          "name": "stdout",
          "text": [
            "Requirement already satisfied: transformers in /usr/local/lib/python3.10/dist-packages (4.35.2)\n",
            "Requirement already satisfied: filelock in /usr/local/lib/python3.10/dist-packages (from transformers) (3.13.1)\n",
            "Requirement already satisfied: huggingface-hub<1.0,>=0.16.4 in /usr/local/lib/python3.10/dist-packages (from transformers) (0.19.4)\n",
            "Requirement already satisfied: numpy>=1.17 in /usr/local/lib/python3.10/dist-packages (from transformers) (1.23.5)\n",
            "Requirement already satisfied: packaging>=20.0 in /usr/local/lib/python3.10/dist-packages (from transformers) (23.2)\n",
            "Requirement already satisfied: pyyaml>=5.1 in /usr/local/lib/python3.10/dist-packages (from transformers) (6.0.1)\n",
            "Requirement already satisfied: regex!=2019.12.17 in /usr/local/lib/python3.10/dist-packages (from transformers) (2023.6.3)\n",
            "Requirement already satisfied: requests in /usr/local/lib/python3.10/dist-packages (from transformers) (2.31.0)\n",
            "Requirement already satisfied: tokenizers<0.19,>=0.14 in /usr/local/lib/python3.10/dist-packages (from transformers) (0.15.0)\n",
            "Requirement already satisfied: safetensors>=0.3.1 in /usr/local/lib/python3.10/dist-packages (from transformers) (0.4.1)\n",
            "Requirement already satisfied: tqdm>=4.27 in /usr/local/lib/python3.10/dist-packages (from transformers) (4.66.1)\n",
            "Requirement already satisfied: fsspec>=2023.5.0 in /usr/local/lib/python3.10/dist-packages (from huggingface-hub<1.0,>=0.16.4->transformers) (2023.6.0)\n",
            "Requirement already satisfied: typing-extensions>=3.7.4.3 in /usr/local/lib/python3.10/dist-packages (from huggingface-hub<1.0,>=0.16.4->transformers) (4.5.0)\n",
            "Requirement already satisfied: charset-normalizer<4,>=2 in /usr/local/lib/python3.10/dist-packages (from requests->transformers) (3.3.2)\n",
            "Requirement already satisfied: idna<4,>=2.5 in /usr/local/lib/python3.10/dist-packages (from requests->transformers) (3.6)\n",
            "Requirement already satisfied: urllib3<3,>=1.21.1 in /usr/local/lib/python3.10/dist-packages (from requests->transformers) (2.0.7)\n",
            "Requirement already satisfied: certifi>=2017.4.17 in /usr/local/lib/python3.10/dist-packages (from requests->transformers) (2023.11.17)\n"
          ]
        }
      ]
    },
    {
      "cell_type": "code",
      "source": [
        "pip install tabulate"
      ],
      "metadata": {
        "id": "as9FPzMGC3bZ",
        "outputId": "59cf708e-5a2d-415a-ed7f-eac8b00a43f5",
        "colab": {
          "base_uri": "https://localhost:8080/"
        }
      },
      "execution_count": 4,
      "outputs": [
        {
          "output_type": "stream",
          "name": "stdout",
          "text": [
            "Requirement already satisfied: tabulate in /usr/local/lib/python3.10/dist-packages (0.9.0)\n"
          ]
        }
      ]
    },
    {
      "cell_type": "code",
      "source": [
        "pip install pyshorteners"
      ],
      "metadata": {
        "id": "TlbJL2fIq4ON",
        "outputId": "21cd5e10-f462-47c4-ee85-cd327c80e963",
        "colab": {
          "base_uri": "https://localhost:8080/"
        }
      },
      "execution_count": 5,
      "outputs": [
        {
          "output_type": "stream",
          "name": "stdout",
          "text": [
            "Collecting pyshorteners\n",
            "  Downloading pyshorteners-1.0.1.tar.gz (10.0 kB)\n",
            "  Preparing metadata (setup.py) ... \u001b[?25l\u001b[?25hdone\n",
            "Requirement already satisfied: requests in /usr/local/lib/python3.10/dist-packages (from pyshorteners) (2.31.0)\n",
            "Requirement already satisfied: charset-normalizer<4,>=2 in /usr/local/lib/python3.10/dist-packages (from requests->pyshorteners) (3.3.2)\n",
            "Requirement already satisfied: idna<4,>=2.5 in /usr/local/lib/python3.10/dist-packages (from requests->pyshorteners) (3.6)\n",
            "Requirement already satisfied: urllib3<3,>=1.21.1 in /usr/local/lib/python3.10/dist-packages (from requests->pyshorteners) (2.0.7)\n",
            "Requirement already satisfied: certifi>=2017.4.17 in /usr/local/lib/python3.10/dist-packages (from requests->pyshorteners) (2023.11.17)\n",
            "Building wheels for collected packages: pyshorteners\n",
            "  Building wheel for pyshorteners (setup.py) ... \u001b[?25l\u001b[?25hdone\n",
            "  Created wheel for pyshorteners: filename=pyshorteners-1.0.1-py3-none-any.whl size=17481 sha256=05349d609a7d315a3549b322fc8c487948f88dcfdd277f34bd3c03c051b24d73\n",
            "  Stored in directory: /root/.cache/pip/wheels/d5/ff/b3/16d8906f92ab0b042f76a4696fcea11d291d79a2b3a3de1e78\n",
            "Successfully built pyshorteners\n",
            "Installing collected packages: pyshorteners\n",
            "Successfully installed pyshorteners-1.0.1\n"
          ]
        }
      ]
    },
    {
      "cell_type": "code",
      "source": [
        "# Wikipedia with summary and 4 results per keyword line, no URLs\n",
        "import requests\n",
        "from transformers import pipeline\n",
        "\n",
        "keywords = [\n",
        "    'importance of X',\n",
        "    'ideal behavior of X',\n",
        "    'ideal vs. realistic behavior of X',\n",
        "    'significance of X',\n",
        "    'applications of X',\n",
        "    'physical significance of X',\n",
        "    'geometry for the measurement of X',\n",
        "    'typical characteristics of X',\n",
        "    'with and without X',\n",
        "    'what does X represent?',\n",
        "    'what is the concept of X?',\n",
        "    'taxonomy of X',\n",
        "    'table of X terms',\n",
        "    'the analog of X',\n",
        "    'physical meaning of X',\n",
        "    'X symbolism',\n",
        "    'iconographic meaning of X',\n",
        "    'why is X important?',\n",
        "    'generic model of a X',\n",
        "    'drawbacks of X',\n",
        "    'limitations of X',\n",
        "    'advantages of X',\n",
        "    'X table',\n",
        "    'table of X',\n",
        "    'X is related to?',\n",
        "    'linear model of X',\n",
        "    'schematic representation of X',\n",
        "    'generic model of a X',\n",
        "    'generic model of an X',\n",
        "    'generic model representation of X',\n",
        "    'floor plan of X',\n",
        "    'trajectory of X',\n",
        "    'motivation for X',\n",
        "    'open-source alternatives for X',\n",
        "    'visual guide to X',\n",
        "    'audio guide to X',\n",
        "    'roadmap of X',\n",
        "    'summary of X',\n",
        "    'meaning and significance of X',\n",
        "    'meaning, significance, and limitations of X',\n",
        "    'please provide some critical equations and formulas for understanding X and demonstrate an example with Python code. Plot the output.'\n",
        "]\n",
        "\n",
        "base_url = \"https://en.wikipedia.org/w/api.php\"\n",
        "params = {\n",
        "    \"action\": \"query\",\n",
        "    \"format\": \"json\",\n",
        "    \"list\": \"search\",\n",
        "    \"srsearch\": \"\",\n",
        "    \"srprop\": \"snippet\"\n",
        "}\n",
        "\n",
        "entry = input(\"Enter the word for X: \")\n",
        "\n",
        "summarizer = pipeline(\"summarization\")\n",
        "\n",
        "result_count = 0\n",
        "max_results = 4\n",
        "\n",
        "for keyword in keywords:\n",
        "    keyword_with_entry = keyword.replace(\"X\", entry)\n",
        "    params[\"srsearch\"] = keyword_with_entry\n",
        "    response = requests.get(base_url, params=params).json()\n",
        "    results = response[\"query\"][\"search\"]\n",
        "    if len(results) > 0:\n",
        "        print(f\"Results for keyword: {keyword_with_entry}\\n\")\n",
        "        for result in results:\n",
        "            if result_count >= max_results:\n",
        "                break\n",
        "            title = result[\"title\"]\n",
        "            snippet = result[\"snippet\"]\n",
        "            summary = summarizer(snippet, max_length=100, min_length=30, do_sample=False)[0]['summary_text']\n",
        "            print(f\"Title: {title}\")\n",
        "            print(f\"Summary: {summary}\")\n",
        "            print(\"--------------------------------------------------\")\n",
        "            result_count += 1\n",
        "    else:\n",
        "        print(f\"No results found for keyword: {keyword_with_entry}\\n\")\n",
        "\n",
        "    if result_count >= max_results:\n",
        "        break\n"
      ],
      "metadata": {
        "id": "5S__4THApyAx",
        "outputId": "785b3e0f-e849-4745-f377-a1c9d4a6d46c",
        "colab": {
          "base_uri": "https://localhost:8080/",
          "height": 544,
          "referenced_widgets": [
            "1beb5bae571c4260bf3a3dc7e574be4d",
            "3690512ff591499c8498d0bce27220b6",
            "7bdec681c4d54da2bf4d3baba9a4bbb7",
            "9259fa3de8e44797ae190cf3e9764b7e",
            "935aced2a8bd49f4913c89b5f0eb9a09",
            "582054f99d234e91aed4dbcebd19c0fe",
            "5d1efa25a1af43db829c39521fb24a1b",
            "70c7f6f6980548f1b830a71ce9b14618",
            "f24ad8bcf4b949ffa2f287e8f616cf79",
            "4ecffa625ccf4c0eac9a53c743b09e84",
            "28e2e612502e43e79afb747a88d29138",
            "f09e02a37de44cd8a09defa17226feaa",
            "25eead86f95840328e4d0436bfdba8b7",
            "c16f0caf71ef432bb9fdffa740ede9ea",
            "04b6c114a3d1406683ec8afd1e331a5e",
            "813ed62437b2486480dbfe9383701e4c",
            "a2301ad5e2524dccb3608f6889211f77",
            "bf4bda5b6b6142bf932e58a84dbfa9b7",
            "d254ca5dc66f4b83880ea5c27c742eef",
            "91d93ca322594589ba50bb0103947576",
            "afbb2c4a3ad640ca93ee343aa57194ab",
            "2260bdcc130b4de6bbda1ad38ab153f0",
            "366f7f70b0874aeea5b2e65489ced7f1",
            "8751f1390411436fa1ed57e7fa92b614",
            "1e34eb22289f44c2a7eafa1e33627bd9",
            "7b3abaa8fd2a40489aca3d51bba78177",
            "313a7ebdaa25484b89a22a384691c3d6",
            "bd34acec841045fd940719646669a6a4",
            "5235aa26d83848e8b70e2583f35f3292",
            "9eb85886a6e8484c956818703d82273e",
            "32182a4c55df407b8aaf9aea285e128d",
            "2855e49abf4747fda8d8a119ea49273c",
            "d438ec568a354cae9b80dde6e3287f82",
            "856b2b3456424a86b4d7822dda2b4f61",
            "31c4a701d3d447b48b5d876182258c17",
            "2d44eed021a04d0a8464481014311913",
            "478426ff11b34915858acf9e585b1133",
            "31244f3d718746d29520e641475b3987",
            "dfd1e72322b946b68b9f6214507b5be0",
            "7662eef9390447ada86139f99dd6144b",
            "f40d0c787832426eb48fd9e606ba54b7",
            "465c43bd84b244b8a122715389bf726b",
            "29fccd43f1f64106b82a201cc0bfade9",
            "8df78fc7ad1d41bb8a8936ce18292a5e",
            "7bc082d5528e446e8f0e8019d67bc565",
            "43a36ce322214af79df20b3d70eff858",
            "7965f52a48e4406181cd2f5fe35529c8",
            "c58b49d834574c998504e60b4353909b",
            "181db3ee68234474af6dcbe6a1e9be80",
            "9c6346abc5d34fa497ad0d5be12365c9",
            "a99d9c78ba114cfeb3ea412d7490dc08",
            "5204b50888de471c96f337ba9449a145",
            "c235a8b42ea84b1193182fb2b70b6832",
            "0bfd0a04f2b74f0f9fa08d6e05c14356",
            "4ce7dd86e09c4184bc9f2140decc4910"
          ]
        }
      },
      "execution_count": 6,
      "outputs": [
        {
          "name": "stdout",
          "output_type": "stream",
          "text": [
            "Enter the word for X: Navajo language\n"
          ]
        },
        {
          "output_type": "stream",
          "name": "stderr",
          "text": [
            "No model was supplied, defaulted to sshleifer/distilbart-cnn-12-6 and revision a4f8f3e (https://huggingface.co/sshleifer/distilbart-cnn-12-6).\n",
            "Using a pipeline without specifying a model name and revision in production is not recommended.\n"
          ]
        },
        {
          "output_type": "display_data",
          "data": {
            "text/plain": [
              "config.json:   0%|          | 0.00/1.80k [00:00<?, ?B/s]"
            ],
            "application/vnd.jupyter.widget-view+json": {
              "version_major": 2,
              "version_minor": 0,
              "model_id": "1beb5bae571c4260bf3a3dc7e574be4d"
            }
          },
          "metadata": {}
        },
        {
          "output_type": "display_data",
          "data": {
            "text/plain": [
              "pytorch_model.bin:   0%|          | 0.00/1.22G [00:00<?, ?B/s]"
            ],
            "application/vnd.jupyter.widget-view+json": {
              "version_major": 2,
              "version_minor": 0,
              "model_id": "f09e02a37de44cd8a09defa17226feaa"
            }
          },
          "metadata": {}
        },
        {
          "output_type": "display_data",
          "data": {
            "text/plain": [
              "tokenizer_config.json:   0%|          | 0.00/26.0 [00:00<?, ?B/s]"
            ],
            "application/vnd.jupyter.widget-view+json": {
              "version_major": 2,
              "version_minor": 0,
              "model_id": "366f7f70b0874aeea5b2e65489ced7f1"
            }
          },
          "metadata": {}
        },
        {
          "output_type": "display_data",
          "data": {
            "text/plain": [
              "vocab.json:   0%|          | 0.00/899k [00:00<?, ?B/s]"
            ],
            "application/vnd.jupyter.widget-view+json": {
              "version_major": 2,
              "version_minor": 0,
              "model_id": "856b2b3456424a86b4d7822dda2b4f61"
            }
          },
          "metadata": {}
        },
        {
          "output_type": "display_data",
          "data": {
            "text/plain": [
              "merges.txt:   0%|          | 0.00/456k [00:00<?, ?B/s]"
            ],
            "application/vnd.jupyter.widget-view+json": {
              "version_major": 2,
              "version_minor": 0,
              "model_id": "7bc082d5528e446e8f0e8019d67bc565"
            }
          },
          "metadata": {}
        },
        {
          "output_type": "stream",
          "name": "stderr",
          "text": [
            "Your max_length is set to 100, but your input_length is only 86. Since this is a summarization task, where outputs shorter than the input are typically wanted, you might consider decreasing max_length manually, e.g. summarizer('...', max_length=43)\n"
          ]
        },
        {
          "output_type": "stream",
          "name": "stdout",
          "text": [
            "Results for keyword: importance of Navajo language\n",
            "\n"
          ]
        },
        {
          "output_type": "stream",
          "name": "stderr",
          "text": [
            "Your max_length is set to 100, but your input_length is only 65. Since this is a summarization task, where outputs shorter than the input are typically wanted, you might consider decreasing max_length manually, e.g. summarizer('...', max_length=32)\n"
          ]
        },
        {
          "output_type": "stream",
          "name": "stdout",
          "text": [
            "Title: Navajo\n",
            "Summary:  The <span class=\"searchmatch\">Navajo</span> Reservation is slightly larger than the state of West Virginia . The reservation is located in Arizona, Utah, and New Mexico .\n",
            "--------------------------------------------------\n"
          ]
        },
        {
          "output_type": "stream",
          "name": "stderr",
          "text": [
            "Your max_length is set to 100, but your input_length is only 53. Since this is a summarization task, where outputs shorter than the input are typically wanted, you might consider decreasing max_length manually, e.g. summarizer('...', max_length=26)\n"
          ]
        },
        {
          "output_type": "stream",
          "name": "stdout",
          "text": [
            "Title: Miss Navajo\n",
            "Summary:  Contestants must be unmarried, over 18 years <span class=\"searchmatch\">of</span> age, be a high school graduate, and be able to speak Navajo . Contestants compete in such activities as answering questions .\n",
            "--------------------------------------------------\n",
            "Title: Navajo Livestock Reduction\n",
            "Summary:  Livestock Reduction was imposed by the United States government upon the <span class=\"searchmatch\">Navajo</span> Nation in the 1930s . The reduction was imposed during the Great Depression .\n",
            "--------------------------------------------------\n",
            "Title: Sharon Burch\n",
            "Summary:  Many of her songs are in <span class=\"searchmatch\">Navajo</span> ways and living . Her songs capture the sacredness of Mother Earth, Father Sun and Mother Earth .\n",
            "--------------------------------------------------\n"
          ]
        }
      ]
    },
    {
      "cell_type": "code",
      "source": [
        "# Wikipedia results with 2 summaries and URLs per keyword line\n",
        "import requests\n",
        "from transformers import pipeline\n",
        "import pyshorteners\n",
        "\n",
        "keywords = [\n",
        "    'importance of X',\n",
        "    'ideal behavior of X',\n",
        "    'ideal vs. realistic behavior of X',\n",
        "    'significance of X',\n",
        "    'applications of X',\n",
        "    'physical significance of X',\n",
        "    'geometry for the measurement of X',\n",
        "    'typical characteristics of X',\n",
        "    'with and without X',\n",
        "    'what does X represent?',\n",
        "    'what is the concept of X?',\n",
        "    'taxonomy of X',\n",
        "    'table of X terms',\n",
        "    'the analog of X',\n",
        "    'physical meaning of X',\n",
        "    'X symbolism',\n",
        "    'iconographic meaning of X',\n",
        "    'why is X important?',\n",
        "    'generic model of a X',\n",
        "    'drawbacks of X',\n",
        "    'limitations of X',\n",
        "    'advantages of X',\n",
        "    'X table',\n",
        "    'table of X',\n",
        "    'X is related to?',\n",
        "    'linear model of X',\n",
        "    'schematic representation of X',\n",
        "    'generic model of a X',\n",
        "    'generic model of an X',\n",
        "    'generic model representation of X',\n",
        "    'floor plan of X',\n",
        "    'trajectory of X',\n",
        "    'motivation for X',\n",
        "    'open-source alternatives for X',\n",
        "    'visual guide to X',\n",
        "    'audio guide to X',\n",
        "    'roadmap of X',\n",
        "    'summary of X',\n",
        "    'meaning and significance of X',\n",
        "    'meaning, significance, and limitations of X',\n",
        "    'please provide some critical equations and formulas for understanding X and demonstrate an example with Python code. Plot the output.'\n",
        "]\n",
        "\n",
        "base_url = \"https://en.wikipedia.org/w/api.php\"\n",
        "params = {\n",
        "    \"action\": \"query\",\n",
        "    \"format\": \"json\",\n",
        "    \"list\": \"search\",\n",
        "    \"srsearch\": \"\",\n",
        "    \"srprop\": \"snippet\"\n",
        "}\n",
        "\n",
        "entry = input(\"Enter the word for X: \")\n",
        "\n",
        "summarizer = pipeline(\"summarization\")\n",
        "shortener = pyshorteners.Shortener()\n",
        "\n",
        "for keyword in keywords:\n",
        "    keyword_with_entry = keyword.replace(\"X\", entry)\n",
        "    params[\"srsearch\"] = keyword_with_entry\n",
        "    response = requests.get(base_url, params=params).json()\n",
        "    results = response[\"query\"][\"search\"]\n",
        "    if len(results) > 0:\n",
        "        print(f\"Results for keyword: {keyword_with_entry}\\n\")\n",
        "        for i, result in enumerate(results[:2]): # change the number of summaries per term here\n",
        "            title = result[\"title\"]\n",
        "            snippet = result[\"snippet\"]\n",
        "            summary = summarizer(snippet, max_length=100, min_length=30, do_sample=False)[0]['summary_text']\n",
        "            page_url = f\"https://en.wikipedia.org/wiki/{title.replace(' ', '_')}\"\n",
        "            shortened_url = shortener.tinyurl.short(page_url)\n",
        "            print(f\"Result {i+1}: {title}\")\n",
        "            print(f\"Summary: {summary}\")\n",
        "            print(f\"URL: {shortened_url}\")\n",
        "            print(\"--------------------------------------------------\")\n",
        "    else:\n",
        "        print(f\"No results found for keyword: {keyword_with_entry}\\n\")\n"
      ],
      "metadata": {
        "id": "ObGRi__Op0IJ",
        "outputId": "65848587-fe94-4782-dd40-6057c716bf2e",
        "colab": {
          "base_uri": "https://localhost:8080/"
        }
      },
      "execution_count": 10,
      "outputs": [
        {
          "name": "stdout",
          "output_type": "stream",
          "text": [
            "Enter the word for X: Navajo language\n"
          ]
        },
        {
          "output_type": "stream",
          "name": "stderr",
          "text": [
            "No model was supplied, defaulted to sshleifer/distilbart-cnn-12-6 and revision a4f8f3e (https://huggingface.co/sshleifer/distilbart-cnn-12-6).\n",
            "Using a pipeline without specifying a model name and revision in production is not recommended.\n",
            "Your max_length is set to 100, but your input_length is only 86. Since this is a summarization task, where outputs shorter than the input are typically wanted, you might consider decreasing max_length manually, e.g. summarizer('...', max_length=43)\n"
          ]
        },
        {
          "output_type": "stream",
          "name": "stdout",
          "text": [
            "Results for keyword: importance of Navajo language\n",
            "\n"
          ]
        },
        {
          "output_type": "stream",
          "name": "stderr",
          "text": [
            "Your max_length is set to 100, but your input_length is only 65. Since this is a summarization task, where outputs shorter than the input are typically wanted, you might consider decreasing max_length manually, e.g. summarizer('...', max_length=32)\n"
          ]
        },
        {
          "output_type": "stream",
          "name": "stdout",
          "text": [
            "Result 1: Navajo\n",
            "Summary:  The <span class=\"searchmatch\">Navajo</span> Reservation is slightly larger than the state of West Virginia . The reservation is located in Arizona, Utah, and New Mexico .\n",
            "URL: https://tinyurl.com/wyz22v8\n",
            "--------------------------------------------------\n",
            "Result 2: Miss Navajo\n",
            "Summary:  Contestants must be unmarried, over 18 years <span class=\"searchmatch\">of</span> age, be a high school graduate, and be able to speak Navajo . Contestants compete in such activities as answering questions .\n",
            "URL: https://tinyurl.com/2agg7jcq\n",
            "--------------------------------------------------\n"
          ]
        },
        {
          "output_type": "stream",
          "name": "stderr",
          "text": [
            "Your max_length is set to 100, but your input_length is only 79. Since this is a summarization task, where outputs shorter than the input are typically wanted, you might consider decreasing max_length manually, e.g. summarizer('...', max_length=39)\n"
          ]
        },
        {
          "output_type": "stream",
          "name": "stdout",
          "text": [
            "Results for keyword: ideal behavior of Navajo language\n",
            "\n"
          ]
        },
        {
          "output_type": "stream",
          "name": "stderr",
          "text": [
            "Your max_length is set to 100, but your input_length is only 61. Since this is a summarization task, where outputs shorter than the input are typically wanted, you might consider decreasing max_length manually, e.g. summarizer('...', max_length=30)\n"
          ]
        },
        {
          "output_type": "stream",
          "name": "stdout",
          "text": [
            "Result 1: Navajo medicine\n",
            "Summary:  Navajo medicine dates back thousands of years as many as many Navajo people . Medicine covers a range <span class=\"searchmatch\">of traditional healing practices .\n",
            "URL: https://tinyurl.com/29kdx3xt\n",
            "--------------------------------------------------\n",
            "Result 2: Apache\n",
            "Summary:  Southern Athabaskan <span class=\"searchmatch\">language</span>–speaking peoples of the Southwest and the Southern Plains . They are linguistically related to the <span>Navajo Navajo . They migrated from the South to the South .\n",
            "URL: https://tinyurl.com/yam2l6uk\n",
            "--------------------------------------------------\n"
          ]
        },
        {
          "output_type": "stream",
          "name": "stderr",
          "text": [
            "Your max_length is set to 100, but your input_length is only 96. Since this is a summarization task, where outputs shorter than the input are typically wanted, you might consider decreasing max_length manually, e.g. summarizer('...', max_length=48)\n"
          ]
        },
        {
          "output_type": "stream",
          "name": "stdout",
          "text": [
            "Results for keyword: ideal vs. realistic behavior of Navajo language\n",
            "\n"
          ]
        },
        {
          "output_type": "stream",
          "name": "stderr",
          "text": [
            "Your max_length is set to 100, but your input_length is only 95. Since this is a summarization task, where outputs shorter than the input are typically wanted, you might consider decreasing max_length manually, e.g. summarizer('...', max_length=47)\n"
          ]
        },
        {
          "output_type": "stream",
          "name": "stdout",
          "text": [
            "Result 1: Cultural assimilation of Native Americans\n",
            "Summary:  Peter Iverson, Diné: A History <span class=\"searchmatch\">of</span> the <span>Navajos, Illinois Press. pp.113–15. ISBN 9780252012853.\n",
            "URL: https://tinyurl.com/hd7bbaw\n",
            "--------------------------------------------------\n",
            "Result 2: Culture of the United States\n",
            "Summary:  Samoan, Hawaiian, Navajo, Cherokee, Cherokee and Sioux are the most common native languages . Native languages include Samoan and Hawaiian . Indigenous languages include Inuit, Native American and Inuit .\n",
            "URL: https://tinyurl.com/thje3fd\n",
            "--------------------------------------------------\n"
          ]
        },
        {
          "output_type": "stream",
          "name": "stderr",
          "text": [
            "Your max_length is set to 100, but your input_length is only 93. Since this is a summarization task, where outputs shorter than the input are typically wanted, you might consider decreasing max_length manually, e.g. summarizer('...', max_length=46)\n"
          ]
        },
        {
          "output_type": "stream",
          "name": "stdout",
          "text": [
            "Results for keyword: significance of Navajo language\n",
            "\n"
          ]
        },
        {
          "output_type": "stream",
          "name": "stderr",
          "text": [
            "Your max_length is set to 100, but your input_length is only 64. Since this is a summarization task, where outputs shorter than the input are typically wanted, you might consider decreasing max_length manually, e.g. summarizer('...', max_length=32)\n"
          ]
        },
        {
          "output_type": "stream",
          "name": "stdout",
          "text": [
            "Result 1: Navajo phonology\n",
            "Summary:  The phonology <span class=\"searchmatch\">of </span> the <span>Navajo</span> language is intimately connected to its morphology . For example, the entire range of contrastive consonants can be found in Navajo .\n",
            "URL: https://tinyurl.com/22g59alb\n",
            "--------------------------------------------------\n",
            "Result 2: Navajo Mountain\n",
            "Summary:  The summit is the highest point on the <span class=\"searchmatch\">Navajo</span> Nation . It is a prominent free-standing mountain .\n",
            "URL: https://tinyurl.com/22pjhyax\n",
            "--------------------------------------------------\n"
          ]
        },
        {
          "output_type": "stream",
          "name": "stderr",
          "text": [
            "Your max_length is set to 100, but your input_length is only 86. Since this is a summarization task, where outputs shorter than the input are typically wanted, you might consider decreasing max_length manually, e.g. summarizer('...', max_length=43)\n"
          ]
        },
        {
          "output_type": "stream",
          "name": "stdout",
          "text": [
            "Results for keyword: applications of Navajo language\n",
            "\n"
          ]
        },
        {
          "output_type": "stream",
          "name": "stderr",
          "text": [
            "Your max_length is set to 100, but your input_length is only 84. Since this is a summarization task, where outputs shorter than the input are typically wanted, you might consider decreasing max_length manually, e.g. summarizer('...', max_length=42)\n"
          ]
        },
        {
          "output_type": "stream",
          "name": "stdout",
          "text": [
            "Result 1: Navajo Nation\n",
            "Summary:  The Navajo Nation is a Native American reservation <span class=\"searchmatch\"> of <span> people in the United States . Navajo is also known as Navajoland .\n",
            "URL: https://tinyurl.com/gmchu2k\n",
            "--------------------------------------------------\n",
            "Result 2: Navajo Nation Council\n",
            "Summary:  The Navajo Nation Council is the Legislative Branch of the Navajo Nation government . The council meets four times per year . It is the legislative branch of the Navajo Nation Government .\n",
            "URL: https://tinyurl.com/23gn9dy9\n",
            "--------------------------------------------------\n"
          ]
        },
        {
          "output_type": "stream",
          "name": "stderr",
          "text": [
            "Your max_length is set to 100, but your input_length is only 64. Since this is a summarization task, where outputs shorter than the input are typically wanted, you might consider decreasing max_length manually, e.g. summarizer('...', max_length=32)\n"
          ]
        },
        {
          "output_type": "stream",
          "name": "stdout",
          "text": [
            "Results for keyword: physical significance of Navajo language\n",
            "\n"
          ]
        },
        {
          "output_type": "stream",
          "name": "stderr",
          "text": [
            "Your max_length is set to 100, but your input_length is only 99. Since this is a summarization task, where outputs shorter than the input are typically wanted, you might consider decreasing max_length manually, e.g. summarizer('...', max_length=49)\n"
          ]
        },
        {
          "output_type": "stream",
          "name": "stdout",
          "text": [
            "Result 1: Navajo Mountain\n",
            "Summary:  The summit is the highest point on the <span class=\"searchmatch\">Navajo</span> Nation . It is a prominent free-standing mountain .\n",
            "URL: https://tinyurl.com/22pjhyax\n",
            "--------------------------------------------------\n",
            "Result 2: Shiprock\n",
            "Summary:  Tsé Bitʼaʼí is a monadnock rising nearly 1,583 feet (482.5 m) above the high-desert plain of the Navajo Nation .\n",
            "URL: https://tinyurl.com/26a3zhc4\n",
            "--------------------------------------------------\n"
          ]
        },
        {
          "output_type": "stream",
          "name": "stderr",
          "text": [
            "Your max_length is set to 100, but your input_length is only 56. Since this is a summarization task, where outputs shorter than the input are typically wanted, you might consider decreasing max_length manually, e.g. summarizer('...', max_length=28)\n"
          ]
        },
        {
          "output_type": "stream",
          "name": "stdout",
          "text": [
            "Results for keyword: geometry for the measurement of Navajo language\n",
            "\n"
          ]
        },
        {
          "output_type": "stream",
          "name": "stderr",
          "text": [
            "Your max_length is set to 100, but your input_length is only 65. Since this is a summarization task, where outputs shorter than the input are typically wanted, you might consider decreasing max_length manually, e.g. summarizer('...', max_length=32)\n"
          ]
        },
        {
          "output_type": "stream",
          "name": "stdout",
          "text": [
            "Result 1: Mathematics education in the United States\n",
            "Summary:  Schoolchildren learn counting, arithmetic and properties of operations . They typically begin studying statistics and probability . Schoolchildren begin studying counting and arithmetic at the age of eight .\n",
            "URL: https://tinyurl.com/2oghzqn6\n",
            "--------------------------------------------------\n",
            "Result 2: List of Encyclopædia Britannica Films titles\n",
            "Summary:  Library of Congress: Volume 24, Parts 12-13, Number 1: Motion Pictures and Filmstrips 1970 Library of America . Library: Third Series Volume 24 . Volume 24: Motion Picture and Film Strips 1970 .\n",
            "URL: https://tinyurl.com/yno4netc\n",
            "--------------------------------------------------\n"
          ]
        },
        {
          "output_type": "stream",
          "name": "stderr",
          "text": [
            "Your max_length is set to 100, but your input_length is only 93. Since this is a summarization task, where outputs shorter than the input are typically wanted, you might consider decreasing max_length manually, e.g. summarizer('...', max_length=46)\n"
          ]
        },
        {
          "output_type": "stream",
          "name": "stdout",
          "text": [
            "Results for keyword: typical characteristics of Navajo language\n",
            "\n"
          ]
        },
        {
          "output_type": "stream",
          "name": "stderr",
          "text": [
            "Your max_length is set to 100, but your input_length is only 89. Since this is a summarization task, where outputs shorter than the input are typically wanted, you might consider decreasing max_length manually, e.g. summarizer('...', max_length=44)\n"
          ]
        },
        {
          "output_type": "stream",
          "name": "stdout",
          "text": [
            "Result 1: Navajo phonology\n",
            "Summary:  The phonology <span class=\"searchmatch\">of </span> the <span>Navajo</span> language is intimately connected to its morphology . For example, the entire range of contrastive consonants can be found in Navajo .\n",
            "URL: https://tinyurl.com/22g59alb\n",
            "--------------------------------------------------\n",
            "Result 2: Navajo weaving\n",
            "Summary:  Textiles are textiles produced by <span class=\"searchmatch\">Navajo</span> people, who are based near the Four Corners area of the United States .\n",
            "URL: https://tinyurl.com/222tk46b\n",
            "--------------------------------------------------\n",
            "Results for keyword: with and without Navajo language\n",
            "\n"
          ]
        },
        {
          "output_type": "stream",
          "name": "stderr",
          "text": [
            "Your max_length is set to 100, but your input_length is only 92. Since this is a summarization task, where outputs shorter than the input are typically wanted, you might consider decreasing max_length manually, e.g. summarizer('...', max_length=46)\n"
          ]
        },
        {
          "output_type": "stream",
          "name": "stdout",
          "text": [
            "Result 1: Navajo language\n",
            "Summary:  Navajo or Navaho is a Southern Athabaskan . Navajo is the language of the Athabasan of the Navajo people . Diné bizaad [tìnépìz̥ɑ̀ːt] or Naabeehó [nævəhoʊ,  ˈnɑː-/; . Navaho (Navaho) is the name of the Native Americans who live in\n",
            "URL: https://tinyurl.com/j5vymdg\n",
            "--------------------------------------------------\n",
            "Result 2: Navajo\n",
            "Summary:  The <span class=\"searchmatch\">Navajo</span> language is spoken throughout the region . The states with the largest populations are Virginia and Virginia .\n",
            "URL: https://tinyurl.com/wyz22v8\n",
            "--------------------------------------------------\n"
          ]
        },
        {
          "output_type": "stream",
          "name": "stderr",
          "text": [
            "Your max_length is set to 100, but your input_length is only 73. Since this is a summarization task, where outputs shorter than the input are typically wanted, you might consider decreasing max_length manually, e.g. summarizer('...', max_length=36)\n"
          ]
        },
        {
          "output_type": "stream",
          "name": "stdout",
          "text": [
            "Results for keyword: what does Navajo language represent?\n",
            "\n"
          ]
        },
        {
          "output_type": "stream",
          "name": "stderr",
          "text": [
            "Your max_length is set to 100, but your input_length is only 76. Since this is a summarization task, where outputs shorter than the input are typically wanted, you might consider decreasing max_length manually, e.g. summarizer('...', max_length=38)\n"
          ]
        },
        {
          "output_type": "stream",
          "name": "stdout",
          "text": [
            "Result 1: Navajo\n",
            "Summary:  The <span class=\"searchmatch\">Navajo</span> Reservation is slightly larger than the state of West Virginia . The language is spoken throughout the region .\n",
            "URL: https://tinyurl.com/wyz22v8\n",
            "--------------------------------------------------\n",
            "Result 2: Navajo Nation\n",
            "Summary:  Navajo Nation is a Native American reservation of <span class=\"searchmatch\">Navajo</span> people in the United States . Navajoland is a reservation of Native American people .\n",
            "URL: https://tinyurl.com/gmchu2k\n",
            "--------------------------------------------------\n",
            "Results for keyword: what is the concept of Navajo language?\n",
            "\n",
            "Result 1: Code talker\n",
            "Summary:  The Comanche, Hopi, Meskwaki, and <span class=\"searchmatch\">Navajo</span> peoples . They used words from their languages for each letter .\n",
            "URL: https://tinyurl.com/p9susfa\n",
            "--------------------------------------------------\n",
            "Result 2: Skin-walker\n",
            "Summary:  Yee naaldlooshii translates to &quot;by means \"of it, it goes on all fours&quot;\" . The term is never used for healers in Native American medicine .\n",
            "URL: https://tinyurl.com/q5ojt9y\n",
            "--------------------------------------------------\n",
            "Results for keyword: taxonomy of Navajo language\n",
            "\n"
          ]
        },
        {
          "output_type": "stream",
          "name": "stderr",
          "text": [
            "Your max_length is set to 100, but your input_length is only 87. Since this is a summarization task, where outputs shorter than the input are typically wanted, you might consider decreasing max_length manually, e.g. summarizer('...', max_length=43)\n"
          ]
        },
        {
          "output_type": "stream",
          "name": "stdout",
          "text": [
            "Result 1: Navajo language\n",
            "Summary:  Navajo or Navaho is a Southern Athabaskan . Diné bizaad [tìnépìz̥ɑ̀ːt] or Naabeehó [nævəhoʊ,  ˈnɑː-/; . Navaho . is the name of the Native American tribe .\n",
            "URL: https://tinyurl.com/j5vymdg\n",
            "--------------------------------------------------\n",
            "Result 2: Dené–Yeniseian languages\n",
            "Summary:  &quot;. it currently stands is a hypothesis <span class=\"searchmatch\">of </span> relatedness but not yet a proper hypothesis . He leaves open the possibility that there is a possibility that relatedness is relatedness .\n",
            "URL: https://tinyurl.com/26gddg55\n",
            "--------------------------------------------------\n"
          ]
        },
        {
          "output_type": "stream",
          "name": "stderr",
          "text": [
            "Your max_length is set to 100, but your input_length is only 93. Since this is a summarization task, where outputs shorter than the input are typically wanted, you might consider decreasing max_length manually, e.g. summarizer('...', max_length=46)\n"
          ]
        },
        {
          "output_type": "stream",
          "name": "stdout",
          "text": [
            "Results for keyword: table of Navajo language terms\n",
            "\n"
          ]
        },
        {
          "output_type": "stream",
          "name": "stderr",
          "text": [
            "Your max_length is set to 100, but your input_length is only 84. Since this is a summarization task, where outputs shorter than the input are typically wanted, you might consider decreasing max_length manually, e.g. summarizer('...', max_length=42)\n"
          ]
        },
        {
          "output_type": "stream",
          "name": "stdout",
          "text": [
            "Result 1: Navajo phonology\n",
            "Summary:  The phonology <span class=\"searchmatch\">of </span> the <span>Navajo</span> language is intimately connected to its morphology . For example, the entire range of contrastive consonants can be found in Navajo .\n",
            "URL: https://tinyurl.com/22g59alb\n",
            "--------------------------------------------------\n",
            "Result 2: Languages of the United States\n",
            "Summary:  Khmer – 193 thousand <span class=\"searchmatch\">Navajo</span> – 155 thousand other Indo-European languages . Yoruba, Twi, Igbo and other West African languages spoken in West Africa .\n",
            "URL: https://tinyurl.com/npnnnnx\n",
            "--------------------------------------------------\n"
          ]
        },
        {
          "output_type": "stream",
          "name": "stderr",
          "text": [
            "Your max_length is set to 100, but your input_length is only 84. Since this is a summarization task, where outputs shorter than the input are typically wanted, you might consider decreasing max_length manually, e.g. summarizer('...', max_length=42)\n"
          ]
        },
        {
          "output_type": "stream",
          "name": "stdout",
          "text": [
            "Results for keyword: the analog of Navajo language\n",
            "\n",
            "Result 1: Navajo Sandstone\n",
            "Summary:  Sandstone is a geological formation in <span class=\"searchmatch\">the Glen Canyon Group that is spread across the U.S. states of southern Nevada, northern Arizona, northwest Arizona, and southern Arizona . Sandstone formation is spread in southern Nevada and northern Arizona .\n",
            "URL: https://tinyurl.com/2aamj76w\n",
            "--------------------------------------------------\n",
            "Result 2: American Sign Language\n",
            "Summary:  Sign <span class=\"searchmatch\">Language</span> (ASL) is a natural language that serves as the predominant sign for Deaf communities in the U.S. and most of most of the world's Anglophone communities .\n",
            "URL: https://tinyurl.com/oywnv7b\n",
            "--------------------------------------------------\n",
            "Results for keyword: physical meaning of Navajo language\n",
            "\n"
          ]
        },
        {
          "output_type": "stream",
          "name": "stderr",
          "text": [
            "Your max_length is set to 100, but your input_length is only 87. Since this is a summarization task, where outputs shorter than the input are typically wanted, you might consider decreasing max_length manually, e.g. summarizer('...', max_length=43)\n"
          ]
        },
        {
          "output_type": "stream",
          "name": "stdout",
          "text": [
            "Result 1: Navajo language\n",
            "Summary:  Navajo or Navaho is a Southern Athabaskan . Diné bizaad [tìnépìz̥ɑ̀ːt] or Naabeehó [nævəhoʊ,  ˈnɑː-/; . Navaho . is the name of the Native American tribe .\n",
            "URL: https://tinyurl.com/j5vymdg\n",
            "--------------------------------------------------\n",
            "Result 2: Navajo grammar\n",
            "Summary:  <span class=\"searchmatch\">Navajo is a &quot;verb-heavy language . It has a great preponderance of verbs but relatively few nouns . In addition to verbs and nouns, it has other elements .\n",
            "URL: https://tinyurl.com/2ylmpd7h\n",
            "--------------------------------------------------\n"
          ]
        },
        {
          "output_type": "stream",
          "name": "stderr",
          "text": [
            "Your max_length is set to 100, but your input_length is only 79. Since this is a summarization task, where outputs shorter than the input are typically wanted, you might consider decreasing max_length manually, e.g. summarizer('...', max_length=39)\n"
          ]
        },
        {
          "output_type": "stream",
          "name": "stdout",
          "text": [
            "Results for keyword: Navajo language symbolism\n",
            "\n"
          ]
        },
        {
          "output_type": "stream",
          "name": "stderr",
          "text": [
            "Your max_length is set to 100, but your input_length is only 52. Since this is a summarization task, where outputs shorter than the input are typically wanted, you might consider decreasing max_length manually, e.g. summarizer('...', max_length=26)\n"
          ]
        },
        {
          "output_type": "stream",
          "name": "stdout",
          "text": [
            "Result 1: Navajo weaving\n",
            "Summary:  Textiles are textiles produced by <span class=\"searchmatch\">Navajo</span> people, who are based near the Four Corners area of the United States .\n",
            "URL: https://tinyurl.com/222tk46b\n",
            "--------------------------------------------------\n",
            "Result 2: Wall of Love\n",
            "Summary:  The wall is open to the public free of charge . Words 'I love you' in all major languages, but also in rarer ones like Navajo, Inuit, Bambara and Esperanto .\n",
            "URL: https://tinyurl.com/25cgezbu\n",
            "--------------------------------------------------\n"
          ]
        },
        {
          "output_type": "stream",
          "name": "stderr",
          "text": [
            "Your max_length is set to 100, but your input_length is only 72. Since this is a summarization task, where outputs shorter than the input are typically wanted, you might consider decreasing max_length manually, e.g. summarizer('...', max_length=36)\n"
          ]
        },
        {
          "output_type": "stream",
          "name": "stdout",
          "text": [
            "Results for keyword: iconographic meaning of Navajo language\n",
            "\n"
          ]
        },
        {
          "output_type": "stream",
          "name": "stderr",
          "text": [
            "Your max_length is set to 100, but your input_length is only 62. Since this is a summarization task, where outputs shorter than the input are typically wanted, you might consider decreasing max_length manually, e.g. summarizer('...', max_length=31)\n"
          ]
        },
        {
          "output_type": "stream",
          "name": "stdout",
          "text": [
            "Result 1: Quetzalcoatl\n",
            "Summary:  The Mesoamerican deity appears on the earliest known depiction of the feathered-serpent deity . Mesoamanic cultures depict the deity as a feathered serpent . The earliest known depictions of the deity appear on religious and symbolic sites .\n",
            "URL: https://tinyurl.com/nr8kmwz\n",
            "--------------------------------------------------\n",
            "Result 2: Swastika\n",
            "Summary:  In various European languages, it is known as the fylfot, gammadion or the fyllfot . In Native Americans, whirling logs <span class=\"searchmatch\">Navajo</span> denote abundance, prosperity, healing, and luck .\n",
            "URL: https://tinyurl.com/bppdhyz\n",
            "--------------------------------------------------\n"
          ]
        },
        {
          "output_type": "stream",
          "name": "stderr",
          "text": [
            "Your max_length is set to 100, but your input_length is only 93. Since this is a summarization task, where outputs shorter than the input are typically wanted, you might consider decreasing max_length manually, e.g. summarizer('...', max_length=46)\n"
          ]
        },
        {
          "output_type": "stream",
          "name": "stdout",
          "text": [
            "Results for keyword: why is Navajo language important?\n",
            "\n"
          ]
        },
        {
          "output_type": "stream",
          "name": "stderr",
          "text": [
            "Your max_length is set to 100, but your input_length is only 73. Since this is a summarization task, where outputs shorter than the input are typically wanted, you might consider decreasing max_length manually, e.g. summarizer('...', max_length=36)\n"
          ]
        },
        {
          "output_type": "stream",
          "name": "stdout",
          "text": [
            "Result 1: Navajo\n",
            "Summary:  The <span class=\"searchmatch\">Navajo</span> Reservation is slightly larger than the state of West Virginia . The region's language is spoken throughout the region .\n",
            "URL: https://tinyurl.com/wyz22v8\n",
            "--------------------------------------------------\n",
            "Result 2: Navajo-Churro\n",
            "Summary:  The <span class=\"searchmatch\">Navajo-Churro, or Churro for short, is a breed of domestic sheep . The breed originated with the Spanish Churra sheep obtained from the Spanish .\n",
            "URL: https://tinyurl.com/ytq9hj3q\n",
            "--------------------------------------------------\n"
          ]
        },
        {
          "output_type": "stream",
          "name": "stderr",
          "text": [
            "Your max_length is set to 100, but your input_length is only 93. Since this is a summarization task, where outputs shorter than the input are typically wanted, you might consider decreasing max_length manually, e.g. summarizer('...', max_length=46)\n"
          ]
        },
        {
          "output_type": "stream",
          "name": "stdout",
          "text": [
            "Results for keyword: generic model of a Navajo language\n",
            "\n"
          ]
        },
        {
          "output_type": "stream",
          "name": "stderr",
          "text": [
            "Your max_length is set to 100, but your input_length is only 70. Since this is a summarization task, where outputs shorter than the input are typically wanted, you might consider decreasing max_length manually, e.g. summarizer('...', max_length=35)\n"
          ]
        },
        {
          "output_type": "stream",
          "name": "stdout",
          "text": [
            "Result 1: Blueberry (comics)\n",
            "Summary:  In the English language, the story ends with a cliffhanger, frustratingly leaving English readers with a five volume story . The resolution was the resolution of the story, as it was a resolution <span class=\"searchmatch\">of the story .\n",
            "URL: https://tinyurl.com/23yqxep5\n",
            "--------------------------------------------------\n",
            "Result 2: English grammar\n",
            "Summary:  English grammar is the set <span class=\"searchmatch\">of the structural rules of the English language . This includes the structure of words, phrases, clauses, sentences, and whole texts .\n",
            "URL: https://tinyurl.com/n34jvs8\n",
            "--------------------------------------------------\n"
          ]
        },
        {
          "output_type": "stream",
          "name": "stderr",
          "text": [
            "Your max_length is set to 100, but your input_length is only 73. Since this is a summarization task, where outputs shorter than the input are typically wanted, you might consider decreasing max_length manually, e.g. summarizer('...', max_length=36)\n"
          ]
        },
        {
          "output_type": "stream",
          "name": "stdout",
          "text": [
            "Results for keyword: drawbacks of Navajo language\n",
            "\n"
          ]
        },
        {
          "output_type": "stream",
          "name": "stderr",
          "text": [
            "Your max_length is set to 100, but your input_length is only 54. Since this is a summarization task, where outputs shorter than the input are typically wanted, you might consider decreasing max_length manually, e.g. summarizer('...', max_length=27)\n"
          ]
        },
        {
          "output_type": "stream",
          "name": "stdout",
          "text": [
            "Result 1: Mazda Wankel engine\n",
            "Summary:  Wankel was designed to reduce exhaust emission and improve fuel economy . It was the first version of the previous 13B. evolution of the Wankel .\n",
            "URL: https://tinyurl.com/l3noksy\n",
            "--------------------------------------------------\n",
            "Result 2: Indian Health Service\n",
            "Summary:  In 2007, most IHS job openings were on the <span class=\"searchmatch\">Navajo</span> reservation . Most IHS jobs were at Phoenix Indian Medical Center in Phoenix, Arizona .\n",
            "URL: https://tinyurl.com/n9sneea\n",
            "--------------------------------------------------\n"
          ]
        },
        {
          "output_type": "stream",
          "name": "stderr",
          "text": [
            "Your max_length is set to 100, but your input_length is only 66. Since this is a summarization task, where outputs shorter than the input are typically wanted, you might consider decreasing max_length manually, e.g. summarizer('...', max_length=33)\n"
          ]
        },
        {
          "output_type": "stream",
          "name": "stdout",
          "text": [
            "Results for keyword: limitations of Navajo language\n",
            "\n"
          ]
        },
        {
          "output_type": "stream",
          "name": "stderr",
          "text": [
            "Your max_length is set to 100, but your input_length is only 61. Since this is a summarization task, where outputs shorter than the input are typically wanted, you might consider decreasing max_length manually, e.g. summarizer('...', max_length=30)\n"
          ]
        },
        {
          "output_type": "stream",
          "name": "stdout",
          "text": [
            "Result 1: Antelope Canyon\n",
            "Summary:  Upper Antelope Canyon is a slot canyon in the American Southwest . It is located east of Lechee, Arizona . It includes six separate, scenic slot canyon sites .\n",
            "URL: https://tinyurl.com/kw5jmdx\n",
            "--------------------------------------------------\n",
            "Result 2: Google Translate\n",
            "Summary:  Google initially did not hire experts to resolve this issue due to the ever-evolving nature of the language . Google introduced an Android app in January 2010 .\n",
            "URL: https://tinyurl.com/yym9xwls\n",
            "--------------------------------------------------\n"
          ]
        },
        {
          "output_type": "stream",
          "name": "stderr",
          "text": [
            "Your max_length is set to 100, but your input_length is only 79. Since this is a summarization task, where outputs shorter than the input are typically wanted, you might consider decreasing max_length manually, e.g. summarizer('...', max_length=39)\n"
          ]
        },
        {
          "output_type": "stream",
          "name": "stdout",
          "text": [
            "Results for keyword: advantages of Navajo language\n",
            "\n"
          ]
        },
        {
          "output_type": "stream",
          "name": "stderr",
          "text": [
            "Your max_length is set to 100, but your input_length is only 65. Since this is a summarization task, where outputs shorter than the input are typically wanted, you might consider decreasing max_length manually, e.g. summarizer('...', max_length=32)\n"
          ]
        },
        {
          "output_type": "stream",
          "name": "stdout",
          "text": [
            "Result 1: Navajo medicine\n",
            "Summary:  Navajo medicine dates back thousands of years as many as many Navajo people . Medicine covers a range <span class=\"searchmatch\">of traditional healing practices .\n",
            "URL: https://tinyurl.com/29kdx3xt\n",
            "--------------------------------------------------\n",
            "Result 2: Apache County, Arizona\n",
            "Summary:  Most of the county is occupied by part of the federally recognized Navajo Nation and the Fort Apache Indian Reservation . The county seat is St. Johns .\n",
            "URL: https://tinyurl.com/yol3gp9v\n",
            "--------------------------------------------------\n"
          ]
        },
        {
          "output_type": "stream",
          "name": "stderr",
          "text": [
            "Your max_length is set to 100, but your input_length is only 58. Since this is a summarization task, where outputs shorter than the input are typically wanted, you might consider decreasing max_length manually, e.g. summarizer('...', max_length=29)\n"
          ]
        },
        {
          "output_type": "stream",
          "name": "stdout",
          "text": [
            "Results for keyword: Navajo language table\n",
            "\n"
          ]
        },
        {
          "output_type": "stream",
          "name": "stderr",
          "text": [
            "Your max_length is set to 100, but your input_length is only 65. Since this is a summarization task, where outputs shorter than the input are typically wanted, you might consider decreasing max_length manually, e.g. summarizer('...', max_length=32)\n"
          ]
        },
        {
          "output_type": "stream",
          "name": "stdout",
          "text": [
            "Result 1: Miss Navajo (film)\n",
            "Summary:  21-year-old Crystal Frazier lives with her family on a farm near <span class=\"searchmatch\">Table <span> Mesa, New Mexico .\n",
            "URL: https://tinyurl.com/25rjg2en\n",
            "--------------------------------------------------\n",
            "Result 2: Southern Athabaskan languages\n",
            "Summary:  Manuelito spoke <span class=\"searchmatch\">Navajo</span> and is famous for his leadership during and after the Long Walk of the Navajo . The seven Southern Athabaskan languages can be divided .\n",
            "URL: https://tinyurl.com/24yua8h4\n",
            "--------------------------------------------------\n"
          ]
        },
        {
          "output_type": "stream",
          "name": "stderr",
          "text": [
            "Your max_length is set to 100, but your input_length is only 67. Since this is a summarization task, where outputs shorter than the input are typically wanted, you might consider decreasing max_length manually, e.g. summarizer('...', max_length=33)\n"
          ]
        },
        {
          "output_type": "stream",
          "name": "stdout",
          "text": [
            "Results for keyword: table of Navajo language\n",
            "\n"
          ]
        },
        {
          "output_type": "stream",
          "name": "stderr",
          "text": [
            "Your max_length is set to 100, but your input_length is only 75. Since this is a summarization task, where outputs shorter than the input are typically wanted, you might consider decreasing max_length manually, e.g. summarizer('...', max_length=37)\n"
          ]
        },
        {
          "output_type": "stream",
          "name": "stdout",
          "text": [
            "Result 1: Miss Navajo (film)\n",
            "Summary:  21-year-old Crystal Frazier lives with her family on a farm near <span class=\"searchmatch\">Table <span> Mesa, New Mexico, having a pageant for the title .\n",
            "URL: https://tinyurl.com/25rjg2en\n",
            "--------------------------------------------------\n",
            "Result 2: Southern Athabaskan languages\n",
            "Summary:  Manuelito spoke <span class=\"searchmatch\">Navajo</span> and is famous for his leadership during and after the Long Walk . The seven Southern Athabaskan languages can be divided .\n",
            "URL: https://tinyurl.com/24yua8h4\n",
            "--------------------------------------------------\n"
          ]
        },
        {
          "output_type": "stream",
          "name": "stderr",
          "text": [
            "Your max_length is set to 100, but your input_length is only 94. Since this is a summarization task, where outputs shorter than the input are typically wanted, you might consider decreasing max_length manually, e.g. summarizer('...', max_length=47)\n"
          ]
        },
        {
          "output_type": "stream",
          "name": "stdout",
          "text": [
            "Results for keyword: Navajo language is related to?\n",
            "\n"
          ]
        },
        {
          "output_type": "stream",
          "name": "stderr",
          "text": [
            "Your max_length is set to 100, but your input_length is only 93. Since this is a summarization task, where outputs shorter than the input are typically wanted, you might consider decreasing max_length manually, e.g. summarizer('...', max_length=46)\n"
          ]
        },
        {
          "output_type": "stream",
          "name": "stdout",
          "text": [
            "Result 1: Navajo language\n",
            "Summary:  Na-Dené family is through which it is spoken across the western areas of North America . Navajo is spoken primarily in the Southwestern region of the U.S.\n",
            "URL: https://tinyurl.com/j5vymdg\n",
            "--------------------------------------------------\n",
            "Result 2: Navajo\n",
            "Summary:  The <span class=\"searchmatch\">Navajo</span> Reservation is slightly larger than the state of West Virginia . The region's language is spoken throughout the region .\n",
            "URL: https://tinyurl.com/wyz22v8\n",
            "--------------------------------------------------\n"
          ]
        },
        {
          "output_type": "stream",
          "name": "stderr",
          "text": [
            "Your max_length is set to 100, but your input_length is only 85. Since this is a summarization task, where outputs shorter than the input are typically wanted, you might consider decreasing max_length manually, e.g. summarizer('...', max_length=42)\n"
          ]
        },
        {
          "output_type": "stream",
          "name": "stdout",
          "text": [
            "Results for keyword: linear model of Navajo language\n",
            "\n"
          ]
        },
        {
          "output_type": "stream",
          "name": "stderr",
          "text": [
            "Your max_length is set to 100, but your input_length is only 61. Since this is a summarization task, where outputs shorter than the input are typically wanted, you might consider decreasing max_length manually, e.g. summarizer('...', max_length=30)\n"
          ]
        },
        {
          "output_type": "stream",
          "name": "stdout",
          "text": [
            "Result 1: Mirror theory\n",
            "Summary:  Harley (2009) analyses of the morpheme orders of Navajo and Cupeño . Halle, Morris &amp; Alec Marantz. 1993. 'Distributed Morphology and the Pieces'\n",
            "URL: https://tinyurl.com/25dw2boj\n",
            "--------------------------------------------------\n",
            "Result 2: Apache\n",
            "Summary:  Southern Athabaskan <span class=\"searchmatch\">language</span>–speaking peoples of the Southwest and the Southern Plains . They are linguistically related to the <span>Navajo Navajo . They migrated from the South to the South .\n",
            "URL: https://tinyurl.com/yam2l6uk\n",
            "--------------------------------------------------\n"
          ]
        },
        {
          "output_type": "stream",
          "name": "stderr",
          "text": [
            "Your max_length is set to 100, but your input_length is only 64. Since this is a summarization task, where outputs shorter than the input are typically wanted, you might consider decreasing max_length manually, e.g. summarizer('...', max_length=32)\n"
          ]
        },
        {
          "output_type": "stream",
          "name": "stdout",
          "text": [
            "Results for keyword: schematic representation of Navajo language\n",
            "\n"
          ]
        },
        {
          "output_type": "stream",
          "name": "stderr",
          "text": [
            "Your max_length is set to 100, but your input_length is only 59. Since this is a summarization task, where outputs shorter than the input are typically wanted, you might consider decreasing max_length manually, e.g. summarizer('...', max_length=29)\n"
          ]
        },
        {
          "output_type": "stream",
          "name": "stdout",
          "text": [
            "Result 1: Indian reservation\n",
            "Summary:  The largest reservation, the <span class=\"searchmatch\">Navajo</span> Nation Reservation, is similar in size to the state of West Virginia .\n",
            "URL: https://tinyurl.com/hnl32fz\n",
            "--------------------------------------------------\n",
            "Result 2: Secure communication\n",
            "Summary:  If the conversation proceeds in <span class=\"searchmatch\">Navajo</span> if the conversation is affirmative, then it uses the common language of the two speakers . This method does not generally provide useful information .\n",
            "URL: https://tinyurl.com/y7rslmsj\n",
            "--------------------------------------------------\n",
            "Results for keyword: generic model of a Navajo language\n",
            "\n"
          ]
        },
        {
          "output_type": "stream",
          "name": "stderr",
          "text": [
            "Your max_length is set to 100, but your input_length is only 93. Since this is a summarization task, where outputs shorter than the input are typically wanted, you might consider decreasing max_length manually, e.g. summarizer('...', max_length=46)\n"
          ]
        },
        {
          "output_type": "stream",
          "name": "stdout",
          "text": [
            "Result 1: Welsh language\n",
            "Summary:  Welsh (Cymraeg [kəmˈraːiɡ] or y Gymraeg) is a Brittonic subgroup that is native to the Welsh people . Welsh is a Celtic language .\n",
            "URL: https://tinyurl.com/bqo2x9o\n",
            "--------------------------------------------------\n",
            "Result 2: Blueberry (comics)\n",
            "Summary:  In the English language, the story ends with a cliffhanger, frustratingly leaving English readers with a five volume story . The resolution was the resolution of the story, as it was a resolution <span class=\"searchmatch\">of the story .\n",
            "URL: https://tinyurl.com/23yqxep5\n",
            "--------------------------------------------------\n"
          ]
        },
        {
          "output_type": "stream",
          "name": "stderr",
          "text": [
            "Your max_length is set to 100, but your input_length is only 81. Since this is a summarization task, where outputs shorter than the input are typically wanted, you might consider decreasing max_length manually, e.g. summarizer('...', max_length=40)\n"
          ]
        },
        {
          "output_type": "stream",
          "name": "stdout",
          "text": [
            "Results for keyword: generic model of an Navajo language\n",
            "\n"
          ]
        },
        {
          "output_type": "stream",
          "name": "stderr",
          "text": [
            "Your max_length is set to 100, but your input_length is only 61. Since this is a summarization task, where outputs shorter than the input are typically wanted, you might consider decreasing max_length manually, e.g. summarizer('...', max_length=30)\n"
          ]
        },
        {
          "output_type": "stream",
          "name": "stdout",
          "text": [
            "Result 1: Welsh language\n",
            "Summary:  1970s was an attempt to standardise Welsh language by teaching Cymraeg Byw ('Living Welsh') - a colloquially-based <span class=\"searchmatch\">generic <span> form of Welsh, but not a generic form .\n",
            "URL: https://tinyurl.com/bqo2x9o\n",
            "--------------------------------------------------\n",
            "Result 2: Rainbow 100\n",
            "Summary:  American <span class=\"searchmatch\">languages </span> began with the Rainbow 100 . Rock Point Community School in Arizona commissioned a ROM chip for the Navajo language .\n",
            "URL: https://tinyurl.com/y7lbn6al\n",
            "--------------------------------------------------\n"
          ]
        },
        {
          "output_type": "stream",
          "name": "stderr",
          "text": [
            "Your max_length is set to 100, but your input_length is only 63. Since this is a summarization task, where outputs shorter than the input are typically wanted, you might consider decreasing max_length manually, e.g. summarizer('...', max_length=31)\n"
          ]
        },
        {
          "output_type": "stream",
          "name": "stdout",
          "text": [
            "Results for keyword: generic model representation of Navajo language\n",
            "\n"
          ]
        },
        {
          "output_type": "stream",
          "name": "stderr",
          "text": [
            "Your max_length is set to 100, but your input_length is only 85. Since this is a summarization task, where outputs shorter than the input are typically wanted, you might consider decreasing max_length manually, e.g. summarizer('...', max_length=42)\n"
          ]
        },
        {
          "output_type": "stream",
          "name": "stdout",
          "text": [
            "Result 1: History of aesthetics\n",
            "Summary:  Navajo people see nature as a source of beauty and inspiration . Many patterns and symbols in <span class=\"searchmatch\">Navajo</span> art are drawn from nature .\n",
            "URL: https://tinyurl.com/yrbc8jaa\n",
            "--------------------------------------------------\n",
            "Result 2: Edward Sapir\n",
            "Summary:  Reports from the Survey of California and Other Indian Languages 6: 1–509. (PDF) (PDF). Reports from a Survey of the Survey . of . California and . Other Indian languages . (PDF), Reports from . the Survey <span class=\"searchmatch\">of</span> California and </span>. California and other Indian . languages . The survey was conducted by Edward Sapir .\n",
            "URL: https://tinyurl.com/2yeoalv5\n",
            "--------------------------------------------------\n"
          ]
        },
        {
          "output_type": "stream",
          "name": "stderr",
          "text": [
            "Your max_length is set to 100, but your input_length is only 74. Since this is a summarization task, where outputs shorter than the input are typically wanted, you might consider decreasing max_length manually, e.g. summarizer('...', max_length=37)\n"
          ]
        },
        {
          "output_type": "stream",
          "name": "stdout",
          "text": [
            "Results for keyword: floor plan of Navajo language\n",
            "\n"
          ]
        },
        {
          "output_type": "stream",
          "name": "stderr",
          "text": [
            "Your max_length is set to 100, but your input_length is only 78. Since this is a summarization task, where outputs shorter than the input are typically wanted, you might consider decreasing max_length manually, e.g. summarizer('...', max_length=39)\n"
          ]
        },
        {
          "output_type": "stream",
          "name": "stdout",
          "text": [
            "Result 1: Uranium mining and the Navajo people\n",
            "Summary:  The risks of lung cancer due to uranium mining were unknown to the workers . The lack of a word for radiation in the <span class=\"searchmatch\">Navajo</span> language left the miners at risk .\n",
            "URL: https://tinyurl.com/hxcz7sh\n",
            "--------------------------------------------------\n",
            "Result 2: Canyon de Chelly National Monument\n",
            "Summary:  The monument covers 83,840 acres (131 sq mi; 339 km2) and encompasses the <span class=\"searchmatch\">floors</span> and rims of the three major canyons .\n",
            "URL: https://tinyurl.com/o6ggarr\n",
            "--------------------------------------------------\n"
          ]
        },
        {
          "output_type": "stream",
          "name": "stderr",
          "text": [
            "Your max_length is set to 100, but your input_length is only 75. Since this is a summarization task, where outputs shorter than the input are typically wanted, you might consider decreasing max_length manually, e.g. summarizer('...', max_length=37)\n"
          ]
        },
        {
          "output_type": "stream",
          "name": "stdout",
          "text": [
            "Results for keyword: trajectory of Navajo language\n",
            "\n",
            "Result 1: Kit Carson\n",
            "Summary:  One complex issue was captives . For example, captives stolen from <span class=\"searchmatch\">Navajo</span> by Ute were sold in the New Mexico settlements .\n",
            "URL: https://tinyurl.com/yycbj2el\n",
            "--------------------------------------------------\n",
            "Result 2: Blueberry (comics)\n",
            "Summary:  As <span class=\"searchmatch\">of 2017, only foreign editions are available to them . 5 In 2020, the entirety of the main (including &quot;Trail <span) and the <span>Navajo</span) editions will be available to foreign editions .\n",
            "URL: https://tinyurl.com/23yqxep5\n",
            "--------------------------------------------------\n"
          ]
        },
        {
          "output_type": "stream",
          "name": "stderr",
          "text": [
            "Your max_length is set to 100, but your input_length is only 75. Since this is a summarization task, where outputs shorter than the input are typically wanted, you might consider decreasing max_length manually, e.g. summarizer('...', max_length=37)\n"
          ]
        },
        {
          "output_type": "stream",
          "name": "stdout",
          "text": [
            "Results for keyword: motivation for Navajo language\n",
            "\n"
          ]
        },
        {
          "output_type": "stream",
          "name": "stderr",
          "text": [
            "Your max_length is set to 100, but your input_length is only 52. Since this is a summarization task, where outputs shorter than the input are typically wanted, you might consider decreasing max_length manually, e.g. summarizer('...', max_length=26)\n"
          ]
        },
        {
          "output_type": "stream",
          "name": "stdout",
          "text": [
            "Result 1: Monument Valley\n",
            "Summary:  Monument Valley is a region of the Colorado Plateau characterized by the Navajo people . Monument Valley, pronounced Tsé Biiʼ Ndzisgaii, means valley of the rocks .\n",
            "URL: https://tinyurl.com/jq5848h\n",
            "--------------------------------------------------\n",
            "Result 2: Second-language acquisition\n",
            "Summary:  cited example being the difficulty of <span class=\"searchmatch\">Navajo</span> children in learning English[citation needed]. Also, the motivation of the individual learner is of vital importance .\n",
            "URL: https://tinyurl.com/y7b8huqt\n",
            "--------------------------------------------------\n",
            "Results for keyword: open-source alternatives for Navajo language\n",
            "\n"
          ]
        },
        {
          "output_type": "stream",
          "name": "stderr",
          "text": [
            "Your max_length is set to 100, but your input_length is only 76. Since this is a summarization task, where outputs shorter than the input are typically wanted, you might consider decreasing max_length manually, e.g. summarizer('...', max_length=38)\n"
          ]
        },
        {
          "output_type": "stream",
          "name": "stdout",
          "text": [
            "Result 1: Navajo language\n",
            "Summary:  Navajo or Navaho is a Southern Athabaskan . Navajo is the language of the Athabasan of the Navajo people . Diné bizaad [tìnépìz̥ɑ̀ːt] or Naabeehó [nævəhoʊ,  ˈnɑː-/; . Navaho (Navaho) is the name of the Native Americans who live in\n",
            "URL: https://tinyurl.com/j5vymdg\n",
            "--------------------------------------------------\n",
            "Result 2: Navajo Nation\n",
            "Summary:  Navajo Nation is a Native American reservation of <span class=\"searchmatch\">Navajo</span> people in the United States . Navajoland is a reservation of Native American people .\n",
            "URL: https://tinyurl.com/gmchu2k\n",
            "--------------------------------------------------\n"
          ]
        },
        {
          "output_type": "stream",
          "name": "stderr",
          "text": [
            "Your max_length is set to 100, but your input_length is only 73. Since this is a summarization task, where outputs shorter than the input are typically wanted, you might consider decreasing max_length manually, e.g. summarizer('...', max_length=36)\n"
          ]
        },
        {
          "output_type": "stream",
          "name": "stdout",
          "text": [
            "Results for keyword: visual guide to Navajo language\n",
            "\n"
          ]
        },
        {
          "output_type": "stream",
          "name": "stderr",
          "text": [
            "Your max_length is set to 100, but your input_length is only 75. Since this is a summarization task, where outputs shorter than the input are typically wanted, you might consider decreasing max_length manually, e.g. summarizer('...', max_length=37)\n"
          ]
        },
        {
          "output_type": "stream",
          "name": "stdout",
          "text": [
            "Result 1: Navajo\n",
            "Summary:  The <span class=\"searchmatch\">Navajo</span> Reservation is slightly larger than the state of West Virginia . The language is spoken throughout the region .\n",
            "URL: https://tinyurl.com/wyz22v8\n",
            "--------------------------------------------------\n",
            "Result 2: Languages of the United States\n",
            "Summary:  662 thousand Yoruba, Twi, Igbo, Yoruba and other Yoruba languages of West Africa . 640 thousand Khmer, 193 thousand <span class=\"searchmatch\">Navajo</span> – 155 thousand other Indo-European languages .\n",
            "URL: https://tinyurl.com/npnnnnx\n",
            "--------------------------------------------------\n",
            "Results for keyword: audio guide to Navajo language\n",
            "\n"
          ]
        },
        {
          "output_type": "stream",
          "name": "stderr",
          "text": [
            "Your max_length is set to 100, but your input_length is only 65. Since this is a summarization task, where outputs shorter than the input are typically wanted, you might consider decreasing max_length manually, e.g. summarizer('...', max_length=32)\n"
          ]
        },
        {
          "output_type": "stream",
          "name": "stdout",
          "text": [
            "Result 1: Navajo language\n",
            "Summary:  Navajo or Navaho is a Southern Athabaskan . Navajo is the language of the Athabasan of the Navajo people . Diné bizaad [tìnépìz̥ɑ̀ːt] or Naabeehó [nævəhoʊ,  ˈnɑː-/; . Navaho (Navaho) is the name of the Native Americans who live in\n",
            "URL: https://tinyurl.com/j5vymdg\n",
            "--------------------------------------------------\n",
            "Result 2: Southern Athabaskan languages\n",
            "Summary:  Manuelito spoke <span class=\"searchmatch\">Navajo</span> and is famous for his leadership during and after the Long Walk of the Navajo . The seven Southern Athabaskan languages can be divided .\n",
            "URL: https://tinyurl.com/24yua8h4\n",
            "--------------------------------------------------\n"
          ]
        },
        {
          "output_type": "stream",
          "name": "stderr",
          "text": [
            "Your max_length is set to 100, but your input_length is only 68. Since this is a summarization task, where outputs shorter than the input are typically wanted, you might consider decreasing max_length manually, e.g. summarizer('...', max_length=34)\n"
          ]
        },
        {
          "output_type": "stream",
          "name": "stdout",
          "text": [
            "Results for keyword: roadmap of Navajo language\n",
            "\n"
          ]
        },
        {
          "output_type": "stream",
          "name": "stderr",
          "text": [
            "Your max_length is set to 100, but your input_length is only 99. Since this is a summarization task, where outputs shorter than the input are typically wanted, you might consider decreasing max_length manually, e.g. summarizer('...', max_length=49)\n"
          ]
        },
        {
          "output_type": "stream",
          "name": "stdout",
          "text": [
            "Result 1: Dune (franchise)\n",
            "Summary:  In addition to Arabic, Dune derives words and names from multiple other languages, including Hebrew, Hebrew, Navajo, Latin and Latin .\n",
            "URL: https://tinyurl.com/ovolyh3\n",
            "--------------------------------------------------\n",
            "Result 2: New Mexico\n",
            "Summary:  Yootó Hahoodzo <span class=\"searchmatch\">Navajo</span> is a state in the Southwestern United States . It is one of the Mountain States .\n",
            "URL: https://tinyurl.com/6j2bsja\n",
            "--------------------------------------------------\n"
          ]
        },
        {
          "output_type": "stream",
          "name": "stderr",
          "text": [
            "Your max_length is set to 100, but your input_length is only 86. Since this is a summarization task, where outputs shorter than the input are typically wanted, you might consider decreasing max_length manually, e.g. summarizer('...', max_length=43)\n"
          ]
        },
        {
          "output_type": "stream",
          "name": "stdout",
          "text": [
            "Results for keyword: summary of Navajo language\n",
            "\n"
          ]
        },
        {
          "output_type": "stream",
          "name": "stderr",
          "text": [
            "Your max_length is set to 100, but your input_length is only 71. Since this is a summarization task, where outputs shorter than the input are typically wanted, you might consider decreasing max_length manually, e.g. summarizer('...', max_length=35)\n"
          ]
        },
        {
          "output_type": "stream",
          "name": "stdout",
          "text": [
            "Result 1: Navajo\n",
            "Summary:  The <span class=\"searchmatch\">Navajo</span> Reservation is slightly larger than the state of West Virginia . The reservation is located in Arizona, Utah, and New Mexico .\n",
            "URL: https://tinyurl.com/wyz22v8\n",
            "--------------------------------------------------\n",
            "Result 2: Miss Navajo (film)\n",
            "Summary:  The winner represents the <span class=\"searchmatch\">Navajo</span> Nation, with the winner representing the culture and serving as a role model and role model .\n",
            "URL: https://tinyurl.com/25rjg2en\n",
            "--------------------------------------------------\n",
            "Results for keyword: meaning and significance of Navajo language\n",
            "\n"
          ]
        },
        {
          "output_type": "stream",
          "name": "stderr",
          "text": [
            "Your max_length is set to 100, but your input_length is only 92. Since this is a summarization task, where outputs shorter than the input are typically wanted, you might consider decreasing max_length manually, e.g. summarizer('...', max_length=46)\n"
          ]
        },
        {
          "output_type": "stream",
          "name": "stdout",
          "text": [
            "Result 1: Navajo phonology\n",
            "Summary:  This article is about the sound system <span class=\"searchmatch\">of the <span>Navajo</span> language . The phonology of the language is that the phonology is that of Navajo .\n",
            "URL: https://tinyurl.com/22g59alb\n",
            "--------------------------------------------------\n",
            "Result 2: Uranium mining and the Navajo people\n",
            "Summary:  The lack of a word for radiation in the <span class=\"searchmatch\">Navajo</span> language left the miners unaware of the associated health hazards .\n",
            "URL: https://tinyurl.com/hxcz7sh\n",
            "--------------------------------------------------\n"
          ]
        },
        {
          "output_type": "stream",
          "name": "stderr",
          "text": [
            "Your max_length is set to 100, but your input_length is only 85. Since this is a summarization task, where outputs shorter than the input are typically wanted, you might consider decreasing max_length manually, e.g. summarizer('...', max_length=42)\n"
          ]
        },
        {
          "output_type": "stream",
          "name": "stdout",
          "text": [
            "Results for keyword: meaning, significance, and limitations of Navajo language\n",
            "\n"
          ]
        },
        {
          "output_type": "stream",
          "name": "stderr",
          "text": [
            "Your max_length is set to 100, but your input_length is only 77. Since this is a summarization task, where outputs shorter than the input are typically wanted, you might consider decreasing max_length manually, e.g. summarizer('...', max_length=38)\n"
          ]
        },
        {
          "output_type": "stream",
          "name": "stdout",
          "text": [
            "Result 1: High-context and low-context cultures\n",
            "Summary:  Hall proposed a similar difference between <span class=\"searchmatch\">Navajo <span>-speakers in a United States school and English speakers in a U.S. school . He proposed a &quot;spectrum&quot ; of national cultures from . national cultures .\n",
            "URL: https://tinyurl.com/ybv8deec\n",
            "--------------------------------------------------\n",
            "Result 2: Art\n",
            "Summary:  Extreme Intentionalism holds that authorial. subject matter and content is authorial . Others prefer terms like <span class=\"searchmatch\">meaning <span> and <span class=\"Searchmatch\">and</span> connotations . Extreme intentalism is a form of extreme intentality .\n",
            "URL: https://tinyurl.com/d89fdfq\n",
            "--------------------------------------------------\n",
            "No results found for keyword: please provide some critical equations and formulas for understanding Navajo language and demonstrate an example with Python code. Plot the output.\n",
            "\n"
          ]
        }
      ]
    },
    {
      "cell_type": "code",
      "source": [
        "# Wikidictionary version with summaries and URLs\n",
        "import requests\n",
        "from transformers import pipeline\n",
        "import pyshorteners\n",
        "\n",
        "keywords = [\n",
        "    'importance of X',\n",
        "    'ideal behavior of X',\n",
        "    'ideal vs. realistic behavior of X',\n",
        "    'significance of X',\n",
        "    'applications of X',\n",
        "    'physical significance of X',\n",
        "    'geometry for the measurement of X',\n",
        "    'typical characteristics of X',\n",
        "    'with and without X',\n",
        "    'what does X represent?',\n",
        "    'what is the concept of X?',\n",
        "    'taxonomy of X',\n",
        "    'table of X terms',\n",
        "    'the analog of X',\n",
        "    'physical meaning of X',\n",
        "    'X symbolism',\n",
        "    'iconographic meaning of X',\n",
        "    'why is X important?',\n",
        "    'generic model of a X',\n",
        "    'drawbacks of X',\n",
        "    'limitations of X',\n",
        "    'advantages of X',\n",
        "    'X table',\n",
        "    'table of X',\n",
        "    'X is related to?',\n",
        "    'linear model of X',\n",
        "    'schematic representation of X',\n",
        "    'generic model of a X',\n",
        "    'generic model of an X',\n",
        "    'generic model representation of X',\n",
        "    'floor plan of X',\n",
        "    'trajectory of X',\n",
        "    'motivation for X',\n",
        "    'open-source alternatives for X',\n",
        "    'visual guide to X',\n",
        "    'audio guide to X',\n",
        "    'roadmap of X',\n",
        "    'summary of X',\n",
        "    'meaning and significance of X',\n",
        "    'meaning, significance, and limitations of X',\n",
        "    'please provide some critical equations and formulas for understanding X and demonstrate an example with Python code. Plot the output.'\n",
        "]\n",
        "\n",
        "base_url = \"https://en.wiktionary.org/w/api.php\"\n",
        "params = {\n",
        "    \"action\": \"query\",\n",
        "    \"format\": \"json\",\n",
        "    \"list\": \"search\",\n",
        "    \"srsearch\": \"\",\n",
        "    \"srprop\": \"snippet\"\n",
        "}\n",
        "\n",
        "entry = input(\"Enter the word for X: \")\n",
        "\n",
        "summarizer = pipeline(\"summarization\")\n",
        "shortener = pyshorteners.Shortener()\n",
        "\n",
        "for keyword in keywords:\n",
        "    keyword_with_entry = keyword.replace(\"X\", entry)\n",
        "    params[\"srsearch\"] = keyword_with_entry\n",
        "    response = requests.get(base_url, params=params).json()\n",
        "    results = response[\"query\"][\"search\"]\n",
        "    if len(results) > 0:\n",
        "        print(f\"Results for keyword: {keyword_with_entry}\\n\")\n",
        "        for i, result in enumerate(results[:2]):\n",
        "            title = result[\"title\"]\n",
        "            snippet = result[\"snippet\"]\n",
        "            summary = summarizer(snippet, max_length=100, min_length=30, do_sample=False)[0]['summary_text']\n",
        "            page_url = f\"https://en.wiktionary.org/wiki/{title.replace(' ', '_')}\"\n",
        "            shortened_url = shortener.tinyurl.short(page_url)\n",
        "            print(f\"Result {i+1}: {title}\")\n",
        "            print(f\"Summary: {summary}\")\n",
        "            print(f\"URL: {shortened_url}\")\n",
        "            print(\"--------------------------------------------------\")\n",
        "    else:\n",
        "        print(f\"No results found for keyword: {keyword_with_entry}\\n\")\n"
      ],
      "metadata": {
        "id": "4v97K9XgzW4Q",
        "outputId": "c9f46d3a-379a-4af8-cf0d-d8c976ef649b",
        "colab": {
          "base_uri": "https://localhost:8080/"
        }
      },
      "execution_count": 11,
      "outputs": [
        {
          "name": "stdout",
          "output_type": "stream",
          "text": [
            "Enter the word for X: Navajo language\n"
          ]
        },
        {
          "output_type": "stream",
          "name": "stderr",
          "text": [
            "No model was supplied, defaulted to sshleifer/distilbart-cnn-12-6 and revision a4f8f3e (https://huggingface.co/sshleifer/distilbart-cnn-12-6).\n",
            "Using a pipeline without specifying a model name and revision in production is not recommended.\n",
            "Your max_length is set to 100, but your input_length is only 71. Since this is a summarization task, where outputs shorter than the input are typically wanted, you might consider decreasing max_length manually, e.g. summarizer('...', max_length=35)\n"
          ]
        },
        {
          "output_type": "stream",
          "name": "stdout",
          "text": [
            "Results for keyword: importance of Navajo language\n",
            "\n"
          ]
        },
        {
          "output_type": "stream",
          "name": "stderr",
          "text": [
            "Your max_length is set to 100, but your input_length is only 63. Since this is a summarization task, where outputs shorter than the input are typically wanted, you might consider decreasing max_length manually, e.g. summarizer('...', max_length=31)\n"
          ]
        },
        {
          "output_type": "stream",
          "name": "stdout",
          "text": [
            "Result 1: important\n",
            "Summary:  <span class=\"searchmatch\">importance</span> importantissime important present participle . <span = \"importance\", \"importantissime\" and \"important\" are used in French .\n",
            "URL: https://tinyurl.com/26lt987q\n",
            "--------------------------------------------------\n",
            "Result 2: agave\n",
            "Summary:  Several are used as sources of fibre such as sisal, and alcoholic beverages such as tequila . Several are <span class=\"searchmatch\">of economic <span>importance <span importance</span> as sources . Several produce gigantic inflorescences .\n",
            "URL: https://tinyurl.com/29qdpndt\n",
            "--------------------------------------------------\n",
            "No results found for keyword: ideal behavior of Navajo language\n",
            "\n",
            "No results found for keyword: ideal vs. realistic behavior of Navajo language\n",
            "\n"
          ]
        },
        {
          "output_type": "stream",
          "name": "stderr",
          "text": [
            "Your max_length is set to 100, but your input_length is only 43. Since this is a summarization task, where outputs shorter than the input are typically wanted, you might consider decreasing max_length manually, e.g. summarizer('...', max_length=21)\n"
          ]
        },
        {
          "output_type": "stream",
          "name": "stdout",
          "text": [
            "Results for keyword: significance of Navajo language\n",
            "\n"
          ]
        },
        {
          "output_type": "stream",
          "name": "stderr",
          "text": [
            "Your max_length is set to 100, but your input_length is only 74. Since this is a summarization task, where outputs shorter than the input are typically wanted, you might consider decreasing max_length manually, e.g. summarizer('...', max_length=37)\n"
          ]
        },
        {
          "output_type": "stream",
          "name": "stdout",
          "text": [
            "Result 1: baseball\n",
            "Summary:  variant of poker in which cards with baseball-related values have special <span class=\"searchmatch\">significance . For quotations using this term, see Citations:baseball. baseball Annie .\n",
            "URL: https://tinyurl.com/2b2saust\n",
            "--------------------------------------------------\n",
            "Result 2: in vain\n",
            "Summary:  2012, N.H. Pijls, Maximal Myocardial Perfusion as a Measure of the Functional <span class=\"searchmatch\"> of <span> Coronary Artery Disease‎[2]: The problems concerning contrast are the result of contrast between the two types of myocardial perfusion .\n",
            "URL: https://tinyurl.com/28hu5nov\n",
            "--------------------------------------------------\n"
          ]
        },
        {
          "output_type": "stream",
          "name": "stderr",
          "text": [
            "Your max_length is set to 100, but your input_length is only 54. Since this is a summarization task, where outputs shorter than the input are typically wanted, you might consider decreasing max_length manually, e.g. summarizer('...', max_length=27)\n"
          ]
        },
        {
          "output_type": "stream",
          "name": "stdout",
          "text": [
            "Results for keyword: applications of Navajo language\n",
            "\n"
          ]
        },
        {
          "output_type": "stream",
          "name": "stderr",
          "text": [
            "Your max_length is set to 100, but your input_length is only 54. Since this is a summarization task, where outputs shorter than the input are typically wanted, you might consider decreasing max_length manually, e.g. summarizer('...', max_length=27)\n"
          ]
        },
        {
          "output_type": "stream",
          "name": "stdout",
          "text": [
            "Result 1: Czech\n",
            "Summary:  Lees-Marshment, Political Marketing: Principles and Applications . Political marketing: Principles, Applications, Applications . A whole array <span class=\"searchmatch\">of companies and consultants can be found here .\n",
            "URL: https://tinyurl.com/2dxqt7o7\n",
            "--------------------------------------------------\n",
            "Result 2: si-\n",
            "Summary:  Once firm rule has become optional, most speakers prefer to ignore the rules of sibilant (coronal) harmony, especially when there is no rule of harmony .\n",
            "URL: https://tinyurl.com/yprcy5n4\n",
            "--------------------------------------------------\n",
            "No results found for keyword: physical significance of Navajo language\n",
            "\n"
          ]
        },
        {
          "output_type": "stream",
          "name": "stderr",
          "text": [
            "Your max_length is set to 100, but your input_length is only 93. Since this is a summarization task, where outputs shorter than the input are typically wanted, you might consider decreasing max_length manually, e.g. summarizer('...', max_length=46)\n"
          ]
        },
        {
          "output_type": "stream",
          "name": "stdout",
          "text": [
            "Results for keyword: geometry for the measurement of Navajo language\n",
            "\n",
            "Result 1: square\n",
            "Summary:  The size of an area is equal to a 10 foot by 10 foot square, i.e. 100 square feet or roughly 9.3 square metres . Used in real estate .\n",
            "URL: https://tinyurl.com/y7kjtjwt\n",
            "--------------------------------------------------\n",
            "Result 2: foot\n",
            "Summary:  Horace Mann: As to his being on <span class=\"searchmatch\">the</span> foot <span> of a servant, the foot is a unit of length . The foot is an ordinary plural of the ordinary plural .\n",
            "URL: https://tinyurl.com/28cxlh79\n",
            "--------------------------------------------------\n"
          ]
        },
        {
          "output_type": "stream",
          "name": "stderr",
          "text": [
            "Your max_length is set to 100, but your input_length is only 86. Since this is a summarization task, where outputs shorter than the input are typically wanted, you might consider decreasing max_length manually, e.g. summarizer('...', max_length=43)\n"
          ]
        },
        {
          "output_type": "stream",
          "name": "stdout",
          "text": [
            "Results for keyword: typical characteristics of Navajo language\n",
            "\n"
          ]
        },
        {
          "output_type": "stream",
          "name": "stderr",
          "text": [
            "Your max_length is set to 100, but your input_length is only 75. Since this is a summarization task, where outputs shorter than the input are typically wanted, you might consider decreasing max_length manually, e.g. summarizer('...', max_length=37)\n"
          ]
        },
        {
          "output_type": "stream",
          "name": "stdout",
          "text": [
            "Result 1: -ly\n",
            "Summary:  -ly Used to form adjectives from nouns, the adjectives having the sense <span class=\"searchmatch\">of</span> of being like, or having a nature . Doublet is a word that means 'like' or 'typical'\n",
            "URL: https://tinyurl.com/27jgttoe\n",
            "--------------------------------------------------\n",
            "Result 2: female\n",
            "Summary:  Tending to lead to or regulate the development of the female chromosome;   estrogen, the primary estrogen, is the primary ingredient in development of a woman .\n",
            "URL: https://tinyurl.com/2b8dbqw5\n",
            "--------------------------------------------------\n",
            "Results for keyword: with and without Navajo language\n",
            "\n"
          ]
        },
        {
          "output_type": "stream",
          "name": "stderr",
          "text": [
            "Your max_length is set to 100, but your input_length is only 74. Since this is a summarization task, where outputs shorter than the input are typically wanted, you might consider decreasing max_length manually, e.g. summarizer('...', max_length=37)\n"
          ]
        },
        {
          "output_type": "stream",
          "name": "stdout",
          "text": [
            "Result 1: without\n",
            "Summary:  Dutch buiten (“outside of, <span class=\"searchmatch\">without</span>”) Danish uden is equivalent to “without” and “with” .\n",
            "URL: https://tinyurl.com/yabk4w4e\n",
            "--------------------------------------------------\n",
            "Result 2: -TĄ́\n",
            "Summary:  Occurs in <span class=\"searchmatch\">Navajo</span> as momentaneous perfective -TĄ́ . (“animate rests”), among many other meanings in the sole Ahtna .\n",
            "URL: https://tinyurl.com/27fqtab8\n",
            "--------------------------------------------------\n",
            "Results for keyword: what does Navajo language represent?\n",
            "\n"
          ]
        },
        {
          "output_type": "stream",
          "name": "stderr",
          "text": [
            "Your max_length is set to 100, but your input_length is only 56. Since this is a summarization task, where outputs shorter than the input are typically wanted, you might consider decreasing max_length manually, e.g. summarizer('...', max_length=28)\n"
          ]
        },
        {
          "output_type": "stream",
          "name": "stdout",
          "text": [
            "Result 1: if\n",
            "Summary:  From English if (as in <span class=\"searchmatch\">what</span> if). (Tokyo)   イ​f [íꜜfù] (Atamadaka – [1) IPA(key): [iɸɯ̟ᵝ] if(イフ) • (ifu)  &quot; . (Ifu) is an alternative to the alternative word \"ifu\" for \"if\"\n",
            "URL: https://tinyurl.com/2amyw5r9\n",
            "--------------------------------------------------\n",
            "Result 2: dictionary\n",
            "Summary:  A synchronic dictionary of a standardised <span class=\"searchmatch\">language is held to only contain information . Information is represented by the use of a number/letter code .\n",
            "URL: https://tinyurl.com/y9aq42hr\n",
            "--------------------------------------------------\n",
            "Results for keyword: what is the concept of Navajo language?\n",
            "\n"
          ]
        },
        {
          "output_type": "stream",
          "name": "stderr",
          "text": [
            "Your max_length is set to 100, but your input_length is only 70. Since this is a summarization task, where outputs shorter than the input are typically wanted, you might consider decreasing max_length manually, e.g. summarizer('...', max_length=35)\n"
          ]
        },
        {
          "output_type": "stream",
          "name": "stdout",
          "text": [
            "Result 1: what\n",
            "Summary:  <span class=\"searchmatch\">what</span> have you? Have you? What do you think? What are you thinking? What's your name, what's his name? What does you think of yourself? What is your name?\n",
            "URL: https://tinyurl.com/ycbmbww7\n",
            "--------------------------------------------------\n",
            "Result 2: understand\n",
            "Summary:  To believe one grasps a <span class=\"searchmatch\">concept: believe misunderstand I don’t understand. comprehend, grasp, know, perceive, pick up what someone is putting down, realise, grok .\n",
            "URL: https://tinyurl.com/24xm89q5\n",
            "--------------------------------------------------\n"
          ]
        },
        {
          "output_type": "stream",
          "name": "stderr",
          "text": [
            "Your max_length is set to 100, but your input_length is only 55. Since this is a summarization task, where outputs shorter than the input are typically wanted, you might consider decreasing max_length manually, e.g. summarizer('...', max_length=27)\n"
          ]
        },
        {
          "output_type": "stream",
          "name": "stdout",
          "text": [
            "Results for keyword: taxonomy of Navajo language\n",
            "\n"
          ]
        },
        {
          "output_type": "stream",
          "name": "stderr",
          "text": [
            "Your max_length is set to 100, but your input_length is only 61. Since this is a summarization task, where outputs shorter than the input are typically wanted, you might consider decreasing max_length manually, e.g. summarizer('...', max_length=30)\n"
          ]
        },
        {
          "output_type": "stream",
          "name": "stdout",
          "text": [
            "Result 1: family\n",
            "Summary:  A category in the classification <span class=\"searchmatch\">of organisms, ranking below order and above genus; a taxon taxon . A taxon is a category in a classification of organisms .\n",
            "URL: https://tinyurl.com/2774gajb\n",
            "--------------------------------------------------\n",
            "Result 2: huntsman spider\n",
            "Summary:  Any spider from the <span class=\"searchmatch\">taxonomic . family Sparassidae . (L927280) huntsman spider (plural huntsman spiders)\n",
            "URL: https://tinyurl.com/ywjsyaat\n",
            "--------------------------------------------------\n",
            "Results for keyword: table of Navajo language terms\n",
            "\n"
          ]
        },
        {
          "output_type": "stream",
          "name": "stderr",
          "text": [
            "Your max_length is set to 100, but your input_length is only 59. Since this is a summarization task, where outputs shorter than the input are typically wanted, you might consider decreasing max_length manually, e.g. summarizer('...', max_length=29)\n"
          ]
        },
        {
          "output_type": "stream",
          "name": "stdout",
          "text": [
            "Result 1: table\n",
            "Summary:  capitalization <span class=\"searchmatch\">table</span> cap, chart, chart chart, table chart, children's table, cocktail cocktail, console, console and contingency .\n",
            "URL: https://tinyurl.com/24vw24zf\n",
            "--------------------------------------------------\n",
            "Result 2: language/translations\n",
            "Summary:  This page contains translations for <span class=\"searchmatch\">language . See the main entry for more information . The language used in this page is English .\n",
            "URL: https://tinyurl.com/27e6ubrb\n",
            "--------------------------------------------------\n",
            "Results for keyword: the analog of Navajo language\n",
            "\n"
          ]
        },
        {
          "output_type": "stream",
          "name": "stderr",
          "text": [
            "Your max_length is set to 100, but your input_length is only 73. Since this is a summarization task, where outputs shorter than the input are typically wanted, you might consider decreasing max_length manually, e.g. summarizer('...', max_length=36)\n"
          ]
        },
        {
          "output_type": "stream",
          "name": "stdout",
          "text": [
            "Result 1: ń\n",
            "Summary:  letter is the twentieth letter of the Brahui Latin alphabet . Letter in Arabic script is ں. ṅ (obsolete) IPA(key): /nʲ/ ń (upper case Ń)\n",
            "URL: https://tinyurl.com/ymtwk9d4\n",
            "--------------------------------------------------\n",
            "Result 2: television\n",
            "Summary:  Analog television is analog television black-and-white television cable television . Analog TV is a television black and white television set telly . Analogue television is a TV set with black-white black-color television .\n",
            "URL: https://tinyurl.com/y38glnlk\n",
            "--------------------------------------------------\n"
          ]
        },
        {
          "output_type": "stream",
          "name": "stderr",
          "text": [
            "Your max_length is set to 100, but your input_length is only 60. Since this is a summarization task, where outputs shorter than the input are typically wanted, you might consider decreasing max_length manually, e.g. summarizer('...', max_length=30)\n"
          ]
        },
        {
          "output_type": "stream",
          "name": "stdout",
          "text": [
            "Results for keyword: physical meaning of Navajo language\n",
            "\n"
          ]
        },
        {
          "output_type": "stream",
          "name": "stderr",
          "text": [
            "Your max_length is set to 100, but your input_length is only 58. Since this is a summarization task, where outputs shorter than the input are typically wanted, you might consider decreasing max_length manually, e.g. summarizer('...', max_length=29)\n"
          ]
        },
        {
          "output_type": "stream",
          "name": "stdout",
          "text": [
            "Result 1: Illinois\n",
            "Summary:  2013, Brett Rushforth, Bonds <span class=\"searchmatch\">of <span> Alliance: Indigenous and Atlantic Slaveries, page 56: Another Illinois word describing a physical detention, kikiȣnakiȣi, was kiki-naki .\n",
            "URL: https://tinyurl.com/2439wg9y\n",
            "--------------------------------------------------\n",
            "Result 2: video game\n",
            "Summary:  “Educational and Social Exergaming: A Perspective on Social, and Educational Benefits and Pitfalls” “Exergaming at Home During the COVID-19 Pandemic”\n",
            "URL: https://tinyurl.com/rhjdel7\n",
            "--------------------------------------------------\n"
          ]
        },
        {
          "output_type": "stream",
          "name": "stderr",
          "text": [
            "Your max_length is set to 100, but your input_length is only 39. Since this is a summarization task, where outputs shorter than the input are typically wanted, you might consider decreasing max_length manually, e.g. summarizer('...', max_length=19)\n"
          ]
        },
        {
          "output_type": "stream",
          "name": "stdout",
          "text": [
            "Results for keyword: Navajo language symbolism\n",
            "\n"
          ]
        },
        {
          "output_type": "stream",
          "name": "stderr",
          "text": [
            "Your max_length is set to 100, but your input_length is only 39. Since this is a summarization task, where outputs shorter than the input are typically wanted, you might consider decreasing max_length manually, e.g. summarizer('...', max_length=19)\n"
          ]
        },
        {
          "output_type": "stream",
          "name": "stdout",
          "text": [
            "Result 1: yurt\n",
            "Summary:  Lydia Laube: Kazakhstan is central to Kazakh ethnic identity . The Kazakh national flag is a national symbol of national identity . It was adopted by the Kazakh authorities of independent Kazakhstan in 2010 .\n",
            "URL: https://tinyurl.com/2dpmgac8\n",
            "--------------------------------------------------\n",
            "Result 2: nature\n",
            "Summary:  \"symbolism\" is a symbol of nature . \"Symbolism is an important part of nature,\" \"symbolicism\" has been used as a tool to help people understand nature's meaning .\n",
            "URL: https://tinyurl.com/2ajsz9vn\n",
            "--------------------------------------------------\n",
            "No results found for keyword: iconographic meaning of Navajo language\n",
            "\n"
          ]
        },
        {
          "output_type": "stream",
          "name": "stderr",
          "text": [
            "Your max_length is set to 100, but your input_length is only 66. Since this is a summarization task, where outputs shorter than the input are typically wanted, you might consider decreasing max_length manually, e.g. summarizer('...', max_length=33)\n"
          ]
        },
        {
          "output_type": "stream",
          "name": "stdout",
          "text": [
            "Results for keyword: why is Navajo language important?\n",
            "\n"
          ]
        },
        {
          "output_type": "stream",
          "name": "stderr",
          "text": [
            "Your max_length is set to 100, but your input_length is only 79. Since this is a summarization task, where outputs shorter than the input are typically wanted, you might consider decreasing max_length manually, e.g. summarizer('...', max_length=39)\n"
          ]
        },
        {
          "output_type": "stream",
          "name": "stdout",
          "text": [
            "Result 1: because\n",
            "Summary:  Used alone to refuse to provide a full answer to a question begun with &quot; <span class=\"searchmatch\">why</span> and usually taken as for the sake (of) My life <span> is ruined because of you!\n",
            "URL: https://tinyurl.com/nwf9p7r\n",
            "--------------------------------------------------\n",
            "Result 2: understand\n",
            "Summary:  Use <span class=\"searchmatch\">is</span> usually limited to the past participle . LAUNCE: Stand-under and under-stand are all one. stands under thee, indeed.\n",
            "URL: https://tinyurl.com/24xm89q5\n",
            "--------------------------------------------------\n"
          ]
        },
        {
          "output_type": "stream",
          "name": "stderr",
          "text": [
            "Your max_length is set to 100, but your input_length is only 42. Since this is a summarization task, where outputs shorter than the input are typically wanted, you might consider decreasing max_length manually, e.g. summarizer('...', max_length=21)\n"
          ]
        },
        {
          "output_type": "stream",
          "name": "stdout",
          "text": [
            "Results for keyword: generic model of a Navajo language\n",
            "\n"
          ]
        },
        {
          "output_type": "stream",
          "name": "stderr",
          "text": [
            "Your max_length is set to 100, but your input_length is only 72. Since this is a summarization task, where outputs shorter than the input are typically wanted, you might consider decreasing max_length manually, e.g. summarizer('...', max_length=36)\n"
          ]
        },
        {
          "output_type": "stream",
          "name": "stdout",
          "text": [
            "Result 1: element\n",
            "Summary:  element element number element element element <span class=\"searchmatch\">of surprise element zero element zero endogenous viral element zero . element zero is a viral viral element . element global element identity is a global element element identity .\n",
            "URL: https://tinyurl.com/2do2ekje\n",
            "--------------------------------------------------\n",
            "Result 2: church\n",
            "Summary:  She goes to <span class=\"searchmatch\">a</span> strict separation between church and state . (informal) Any religious group . She goes from 16th c. to Wiccan church .\n",
            "URL: https://tinyurl.com/22dy6atd\n",
            "--------------------------------------------------\n"
          ]
        },
        {
          "output_type": "stream",
          "name": "stderr",
          "text": [
            "Your max_length is set to 100, but your input_length is only 51. Since this is a summarization task, where outputs shorter than the input are typically wanted, you might consider decreasing max_length manually, e.g. summarizer('...', max_length=25)\n"
          ]
        },
        {
          "output_type": "stream",
          "name": "stdout",
          "text": [
            "Results for keyword: drawbacks of Navajo language\n",
            "\n"
          ]
        },
        {
          "output_type": "stream",
          "name": "stderr",
          "text": [
            "Your max_length is set to 100, but your input_length is only 45. Since this is a summarization task, where outputs shorter than the input are typically wanted, you might consider decreasing max_length manually, e.g. summarizer('...', max_length=22)\n"
          ]
        },
        {
          "output_type": "stream",
          "name": "stdout",
          "text": [
            "Result 1: backward\n",
            "Summary:  There is too little opportunity and too little incentive for copying the <span class=\"searchmatch\">language</span> of adults— and a little later the child is pained and the parents' ears are pained .\n",
            "URL: https://tinyurl.com/yvkvdnya\n",
            "--------------------------------------------------\n",
            "Result 2: back\n",
            "Summary:  cut-back date back dial back . dial back die back dime back . dime back double back . double back back . drop back drop-back failed back syndrome fall back fall back .\n",
            "URL: https://tinyurl.com/you3be2d\n",
            "--------------------------------------------------\n"
          ]
        },
        {
          "output_type": "stream",
          "name": "stderr",
          "text": [
            "Your max_length is set to 100, but your input_length is only 63. Since this is a summarization task, where outputs shorter than the input are typically wanted, you might consider decreasing max_length manually, e.g. summarizer('...', max_length=31)\n"
          ]
        },
        {
          "output_type": "stream",
          "name": "stdout",
          "text": [
            "Results for keyword: limitations of Navajo language\n",
            "\n"
          ]
        },
        {
          "output_type": "stream",
          "name": "stderr",
          "text": [
            "Your max_length is set to 100, but your input_length is only 69. Since this is a summarization task, where outputs shorter than the input are typically wanted, you might consider decreasing max_length manually, e.g. summarizer('...', max_length=34)\n"
          ]
        },
        {
          "output_type": "stream",
          "name": "stdout",
          "text": [
            "Result 1: present tense\n",
            "Summary:  Humans carry with them their experiences, their pasts; men and women work with a knowledge <span class=\"searchmatch\">of consequences . That is their innocence and their <span>limitation .\n",
            "URL: https://tinyurl.com/ywer8dcn\n",
            "--------------------------------------------------\n",
            "Result 2: da\n",
            "Summary:  ISO 639-1 <span class=\"searchmatch\">language</span> code for Danish . Compare dad and dada . Rhymes: -ɑː da .\n",
            "URL: https://tinyurl.com/yp3d49qh\n",
            "--------------------------------------------------\n"
          ]
        },
        {
          "output_type": "stream",
          "name": "stderr",
          "text": [
            "Your max_length is set to 100, but your input_length is only 63. Since this is a summarization task, where outputs shorter than the input are typically wanted, you might consider decreasing max_length manually, e.g. summarizer('...', max_length=31)\n"
          ]
        },
        {
          "output_type": "stream",
          "name": "stdout",
          "text": [
            "Results for keyword: advantages of Navajo language\n",
            "\n"
          ]
        },
        {
          "output_type": "stream",
          "name": "stderr",
          "text": [
            "Your max_length is set to 100, but your input_length is only 60. Since this is a summarization task, where outputs shorter than the input are typically wanted, you might consider decreasing max_length manually, e.g. summarizer('...', max_length=30)\n"
          ]
        },
        {
          "output_type": "stream",
          "name": "stdout",
          "text": [
            "Result 1: what is your name\n",
            "Summary:  You have the <span class=\"searchmatch\">advantage</span> of me, you have the . pretty name. — It is my mother's name. What's your name? what is your . name? What is his name? who's his name, what's her name? you have an advantage?\n",
            "URL: https://tinyurl.com/ymhdg4cd\n",
            "--------------------------------------------------\n",
            "Result 2: long time no see\n",
            "Summary:  This lady had only assumed the reins <span class=\"searchmatch\">of <span> government a short time .  and Numerous Advantages to the British Emigrant, volume 1, London: T. and W. Boone, page 256 .\n",
            "URL: https://tinyurl.com/ykw5ufcf\n",
            "--------------------------------------------------\n",
            "Results for keyword: Navajo language table\n",
            "\n"
          ]
        },
        {
          "output_type": "stream",
          "name": "stderr",
          "text": [
            "Your max_length is set to 100, but your input_length is only 57. Since this is a summarization task, where outputs shorter than the input are typically wanted, you might consider decreasing max_length manually, e.g. summarizer('...', max_length=28)\n"
          ]
        },
        {
          "output_type": "stream",
          "name": "stdout",
          "text": [
            "Result 1: table\n",
            "Summary:  Morrison <span class=\"searchmatch\">table</span> loo-<span class\"searchmatch\" table . Noguchi <span>table: Off-the-table, off-table and on-table table . Morrison: Off the Table: Table, Table Table and Table Table .\n",
            "URL: https://tinyurl.com/24vw24zf\n",
            "--------------------------------------------------\n",
            "Result 2: language/translations\n",
            "Summary:  translations below need to be checked and inserted above into the appropriate translation . See instructions for the translations below . The translations below are required to check and insert them into the correct translation .\n",
            "URL: https://tinyurl.com/27e6ubrb\n",
            "--------------------------------------------------\n",
            "Results for keyword: table of Navajo language\n",
            "\n"
          ]
        },
        {
          "output_type": "stream",
          "name": "stderr",
          "text": [
            "Your max_length is set to 100, but your input_length is only 59. Since this is a summarization task, where outputs shorter than the input are typically wanted, you might consider decreasing max_length manually, e.g. summarizer('...', max_length=29)\n"
          ]
        },
        {
          "output_type": "stream",
          "name": "stdout",
          "text": [
            "Result 1: table\n",
            "Summary:  capitalization <span class=\"searchmatch\">table</span> cap, chart, chart chart, table chart, children's table, cocktail cocktail, console, console and contingency .\n",
            "URL: https://tinyurl.com/24vw24zf\n",
            "--------------------------------------------------\n",
            "Result 2: language/translations\n",
            "Summary:  This page contains translations for <span class=\"searchmatch\">language . See the main entry for more information . The language used in this page is English .\n",
            "URL: https://tinyurl.com/27e6ubrb\n",
            "--------------------------------------------------\n",
            "Results for keyword: Navajo language is related to?\n",
            "\n"
          ]
        },
        {
          "output_type": "stream",
          "name": "stderr",
          "text": [
            "Your max_length is set to 100, but your input_length is only 99. Since this is a summarization task, where outputs shorter than the input are typically wanted, you might consider decreasing max_length manually, e.g. summarizer('...', max_length=49)\n"
          ]
        },
        {
          "output_type": "stream",
          "name": "stdout",
          "text": [
            "Result 1: Navachóis\n",
            "Summary:  From Spanish <span class=\"searchmatch\">navajo</span> + - - is (“-ish, -ese”, “language” suffix) Navachóis f (genitive Navachoise) the <span>Navajo’s language is the name of Navajo . Navajo is the Spanish word for “navajo” and “is” .\n",
            "URL: https://tinyurl.com/2dnvxo69\n",
            "--------------------------------------------------\n",
            "Result 2: Dinékʼehjí\n",
            "Summary:  From diné (“<span class=\"searchmatch\">Navajo”) + -kʼehjí (‘in the fashion of’) Dinék�iedehji means “in the style of” and ‘in fashion’ of the language .\n",
            "URL: https://tinyurl.com/2bmsxjdd\n",
            "--------------------------------------------------\n"
          ]
        },
        {
          "output_type": "stream",
          "name": "stderr",
          "text": [
            "Your max_length is set to 100, but your input_length is only 80. Since this is a summarization task, where outputs shorter than the input are typically wanted, you might consider decreasing max_length manually, e.g. summarizer('...', max_length=40)\n"
          ]
        },
        {
          "output_type": "stream",
          "name": "stdout",
          "text": [
            "Results for keyword: linear model of Navajo language\n",
            "\n"
          ]
        },
        {
          "output_type": "stream",
          "name": "stderr",
          "text": [
            "Your max_length is set to 100, but your input_length is only 67. Since this is a summarization task, where outputs shorter than the input are typically wanted, you might consider decreasing max_length manually, e.g. summarizer('...', max_length=33)\n"
          ]
        },
        {
          "output_type": "stream",
          "name": "stdout",
          "text": [
            "Result 1: dual\n",
            "Summary:  Exhibiting duality. (mathematics, physics) Being the space of the space <span class=\"searchmatch\">of all <span> functionals . (some other space). 2012, Doug Fisher, Hans-J.\n",
            "URL: https://tinyurl.com/2c5rsvjg\n",
            "--------------------------------------------------\n",
            "Result 2: write\n",
            "Summary:  Swedish rita (“to draw, design, delineate, define, rough-sketch, carve, write”) Icelandic rita means “to cut, scratch, write, scratch” and German ritzen means ‘to carve’ and ‘scratch’ .\n",
            "URL: https://tinyurl.com/qr22mrc\n",
            "--------------------------------------------------\n"
          ]
        },
        {
          "output_type": "stream",
          "name": "stderr",
          "text": [
            "Your max_length is set to 100, but your input_length is only 57. Since this is a summarization task, where outputs shorter than the input are typically wanted, you might consider decreasing max_length manually, e.g. summarizer('...', max_length=28)\n"
          ]
        },
        {
          "output_type": "stream",
          "name": "stdout",
          "text": [
            "Results for keyword: schematic representation of Navajo language\n",
            "\n",
            "Result 1: drawing\n",
            "Summary:  <span class=\"searchmatch\">of <span> drawing poker drawing <span drawing schematic and drawing technical drawing working drawing   draft drawer drawn work picture, likeness, diagram or representation .\n",
            "URL: https://tinyurl.com/yqb6xv8f\n",
            "--------------------------------------------------\n"
          ]
        },
        {
          "output_type": "stream",
          "name": "stderr",
          "text": [
            "Your max_length is set to 100, but your input_length is only 42. Since this is a summarization task, where outputs shorter than the input are typically wanted, you might consider decreasing max_length manually, e.g. summarizer('...', max_length=21)\n"
          ]
        },
        {
          "output_type": "stream",
          "name": "stdout",
          "text": [
            "Results for keyword: generic model of a Navajo language\n",
            "\n"
          ]
        },
        {
          "output_type": "stream",
          "name": "stderr",
          "text": [
            "Your max_length is set to 100, but your input_length is only 72. Since this is a summarization task, where outputs shorter than the input are typically wanted, you might consider decreasing max_length manually, e.g. summarizer('...', max_length=36)\n"
          ]
        },
        {
          "output_type": "stream",
          "name": "stdout",
          "text": [
            "Result 1: element\n",
            "Summary:  element element number element element element <span class=\"searchmatch\">of surprise element zero element zero endogenous viral element zero . element zero is a viral viral element . element global element identity is a global element element identity .\n",
            "URL: https://tinyurl.com/2do2ekje\n",
            "--------------------------------------------------\n",
            "Result 2: church\n",
            "Summary:  She goes to <span class=\"searchmatch\">a</span> strict separation between church and state . (informal) Any religious group . She goes from 16th c. to Wiccan church .\n",
            "URL: https://tinyurl.com/22dy6atd\n",
            "--------------------------------------------------\n"
          ]
        },
        {
          "output_type": "stream",
          "name": "stderr",
          "text": [
            "Your max_length is set to 100, but your input_length is only 67. Since this is a summarization task, where outputs shorter than the input are typically wanted, you might consider decreasing max_length manually, e.g. summarizer('...', max_length=33)\n"
          ]
        },
        {
          "output_type": "stream",
          "name": "stdout",
          "text": [
            "Results for keyword: generic model of an Navajo language\n",
            "\n"
          ]
        },
        {
          "output_type": "stream",
          "name": "stderr",
          "text": [
            "Your max_length is set to 100, but your input_length is only 58. Since this is a summarization task, where outputs shorter than the input are typically wanted, you might consider decreasing max_length manually, e.g. summarizer('...', max_length=29)\n"
          ]
        },
        {
          "output_type": "stream",
          "name": "stdout",
          "text": [
            "Result 1: element\n",
            "Summary:  Letters are the elements <span class=\"searchmatch\">of <span> written written letters . Letters are elements of the elements of a language. based. 1881, Benjamin Jowett, Thucydides .\n",
            "URL: https://tinyurl.com/2do2ekje\n",
            "--------------------------------------------------\n",
            "Result 2: church\n",
            "Summary:  Operator's Handbook, page 78: Many young people find their only role in church is models . 2007, John R. Dodd, Bucky and Friends, page 117: \"Bucky\"\n",
            "URL: https://tinyurl.com/22dy6atd\n",
            "--------------------------------------------------\n",
            "No results found for keyword: generic model representation of Navajo language\n",
            "\n"
          ]
        },
        {
          "output_type": "stream",
          "name": "stderr",
          "text": [
            "Your max_length is set to 100, but your input_length is only 53. Since this is a summarization task, where outputs shorter than the input are typically wanted, you might consider decreasing max_length manually, e.g. summarizer('...', max_length=26)\n"
          ]
        },
        {
          "output_type": "stream",
          "name": "stdout",
          "text": [
            "Results for keyword: floor plan of Navajo language\n",
            "\n"
          ]
        },
        {
          "output_type": "stream",
          "name": "stderr",
          "text": [
            "Your max_length is set to 100, but your input_length is only 50. Since this is a summarization task, where outputs shorter than the input are typically wanted, you might consider decreasing max_length manually, e.g. summarizer('...', max_length=25)\n"
          ]
        },
        {
          "output_type": "stream",
          "name": "stdout",
          "text": [
            "Result 1: design\n",
            "Summary:  A <span class=\"searchmatch\"> of an object or process, referring to requirements to be satisfied and thus conditions to be met for them to solve a problem . A specification specification is a specification of a solution to a problem or solution .\n",
            "URL: https://tinyurl.com/ytebeajx\n",
            "--------------------------------------------------\n",
            "Result 2: ground\n",
            "Summary:  noise ground offensive ground offensive . ground pangolin ground pine ground . ground plane ground plate ground plum ground plum . ground pounder ground power ground .\n",
            "URL: https://tinyurl.com/y8f6z9ra\n",
            "--------------------------------------------------\n"
          ]
        },
        {
          "output_type": "stream",
          "name": "stderr",
          "text": [
            "Your max_length is set to 100, but your input_length is only 51. Since this is a summarization task, where outputs shorter than the input are typically wanted, you might consider decreasing max_length manually, e.g. summarizer('...', max_length=25)\n"
          ]
        },
        {
          "output_type": "stream",
          "name": "stdout",
          "text": [
            "Results for keyword: trajectory of Navajo language\n",
            "\n"
          ]
        },
        {
          "output_type": "stream",
          "name": "stderr",
          "text": [
            "Your max_length is set to 100, but your input_length is only 78. Since this is a summarization task, where outputs shorter than the input are typically wanted, you might consider decreasing max_length manually, e.g. summarizer('...', max_length=39)\n"
          ]
        },
        {
          "output_type": "stream",
          "name": "stdout",
          "text": [
            "Result 1: female\n",
            "Summary:  Same dynamics within female career <span class=\"searchmatch\">trajectories</span> as in the other two country groups . Time-structure of careers already shows that female and male careers are different .\n",
            "URL: https://tinyurl.com/2b8dbqw5\n",
            "--------------------------------------------------\n",
            "Result 2: run\n",
            "Summary:  Run on Wikipedia rin, ren (dialectal) run (international standards) Run (International standards) ISO 639-2 &amp; ISO 6 39-3 <span class=\"searchmatch\">language</span> code .\n",
            "URL: https://tinyurl.com/pb4wa3y\n",
            "--------------------------------------------------\n"
          ]
        },
        {
          "output_type": "stream",
          "name": "stderr",
          "text": [
            "Your max_length is set to 100, but your input_length is only 71. Since this is a summarization task, where outputs shorter than the input are typically wanted, you might consider decreasing max_length manually, e.g. summarizer('...', max_length=35)\n"
          ]
        },
        {
          "output_type": "stream",
          "name": "stdout",
          "text": [
            "Results for keyword: motivation for Navajo language\n",
            "\n"
          ]
        },
        {
          "output_type": "stream",
          "name": "stderr",
          "text": [
            "Your max_length is set to 100, but your input_length is only 63. Since this is a summarization task, where outputs shorter than the input are typically wanted, you might consider decreasing max_length manually, e.g. summarizer('...', max_length=31)\n"
          ]
        },
        {
          "output_type": "stream",
          "name": "stdout",
          "text": [
            "Result 1: as\n",
            "Summary:  SI unit of time equal to 10−18 seconds. (metrology) arcsecond (international standards) ISO 639-1 <span class=\"searchmatch\">language</span> code for Assamese .\n",
            "URL: https://tinyurl.com/yqjbn9zn\n",
            "--------------------------------------------------\n",
            "Result 2: coffee\n",
            "Summary:  Doublet of café and caffè and cognate with the words <span class=\"searchmatch\">for <span> &quot;coffee&quot ; in other major European languages . Most of which are derived from Turkish and Italian .\n",
            "URL: https://tinyurl.com/ypwc3ca3\n",
            "--------------------------------------------------\n"
          ]
        },
        {
          "output_type": "stream",
          "name": "stderr",
          "text": [
            "Your max_length is set to 100, but your input_length is only 59. Since this is a summarization task, where outputs shorter than the input are typically wanted, you might consider decreasing max_length manually, e.g. summarizer('...', max_length=29)\n"
          ]
        },
        {
          "output_type": "stream",
          "name": "stdout",
          "text": [
            "Results for keyword: open-source alternatives for Navajo language\n",
            "\n"
          ]
        },
        {
          "output_type": "stream",
          "name": "stderr",
          "text": [
            "Your max_length is set to 100, but your input_length is only 52. Since this is a summarization task, where outputs shorter than the input are typically wanted, you might consider decreasing max_length manually, e.g. summarizer('...', max_length=26)\n"
          ]
        },
        {
          "output_type": "stream",
          "name": "stdout",
          "text": [
            "Result 1: Apache\n",
            "Summary:  Apache HTTP Server is a widely used web server software suite . Apache was released in 1995 and 2002 . Apache is the name of the Apache web server .\n",
            "URL: https://tinyurl.com/y4n7oeqf\n",
            "--------------------------------------------------\n",
            "Result 2: sunshine\n",
            "Summary:  Stevie Wonder (lyrics and music), “You Are. Sunshine”: Ain't no sunshine when she's gone / Only darkness every day . A <span class=\"searchmatch\">source</span> of cheerfulness or joy .\n",
            "URL: https://tinyurl.com/yvr25q5y\n",
            "--------------------------------------------------\n"
          ]
        },
        {
          "output_type": "stream",
          "name": "stderr",
          "text": [
            "Your max_length is set to 100, but your input_length is only 57. Since this is a summarization task, where outputs shorter than the input are typically wanted, you might consider decreasing max_length manually, e.g. summarizer('...', max_length=28)\n"
          ]
        },
        {
          "output_type": "stream",
          "name": "stdout",
          "text": [
            "Results for keyword: visual guide to Navajo language\n",
            "\n"
          ]
        },
        {
          "output_type": "stream",
          "name": "stderr",
          "text": [
            "Your max_length is set to 100, but your input_length is only 42. Since this is a summarization task, where outputs shorter than the input are typically wanted, you might consider decreasing max_length manually, e.g. summarizer('...', max_length=21)\n"
          ]
        },
        {
          "output_type": "stream",
          "name": "stdout",
          "text": [
            "Result 1: word\n",
            "Summary:  The smallest unit of <span class=\"searchmatch\">language</span> that has a particular meaning . verb and verve; further related . word (countable and uncountable, plural words)\n",
            "URL: https://tinyurl.com/ycy5kum5\n",
            "--------------------------------------------------\n",
            "Result 2: wide\n",
            "Summary:  Scientist: The single-imaging optic of the mammalian eye offers some distinct visual advantages . Such lenses can take in photons from a wide range of angles .\n",
            "URL: https://tinyurl.com/yvrquppt\n",
            "--------------------------------------------------\n"
          ]
        },
        {
          "output_type": "stream",
          "name": "stderr",
          "text": [
            "Your max_length is set to 100, but your input_length is only 63. Since this is a summarization task, where outputs shorter than the input are typically wanted, you might consider decreasing max_length manually, e.g. summarizer('...', max_length=31)\n"
          ]
        },
        {
          "output_type": "stream",
          "name": "stdout",
          "text": [
            "Results for keyword: audio guide to Navajo language\n",
            "\n"
          ]
        },
        {
          "output_type": "stream",
          "name": "stderr",
          "text": [
            "Your max_length is set to 100, but your input_length is only 87. Since this is a summarization task, where outputs shorter than the input are typically wanted, you might consider decreasing max_length manually, e.g. summarizer('...', max_length=43)\n"
          ]
        },
        {
          "output_type": "stream",
          "name": "stdout",
          "text": [
            "Result 1: family\n",
            "Summary:  See Wiktionary:Families for a guide to families . Wikipedia has an article on: family Wikipedia From Late Middle Middle English .\n",
            "URL: https://tinyurl.com/2774gajb\n",
            "--------------------------------------------------\n",
            "Result 2: infinitive\n",
            "Summary:  P. Le Brethon, L. Sandier, is a guide for people who wish to study French without the assistance of a teacher . The guide was devised for those who wish <span class=\"searchmatch\">to study French .\n",
            "URL: https://tinyurl.com/ynzzz63b\n",
            "--------------------------------------------------\n"
          ]
        },
        {
          "output_type": "stream",
          "name": "stderr",
          "text": [
            "Your max_length is set to 100, but your input_length is only 45. Since this is a summarization task, where outputs shorter than the input are typically wanted, you might consider decreasing max_length manually, e.g. summarizer('...', max_length=22)\n"
          ]
        },
        {
          "output_type": "stream",
          "name": "stdout",
          "text": [
            "Results for keyword: roadmap of Navajo language\n",
            "\n",
            "Result 1: map\n",
            "Summary:  Arnold's cat map is a map of the world . Map is a world map . Map was created by Hénon, the creator of the original map of Arnold's Cat .\n",
            "URL: https://tinyurl.com/yo3wspb6\n",
            "--------------------------------------------------\n"
          ]
        },
        {
          "output_type": "stream",
          "name": "stderr",
          "text": [
            "Your max_length is set to 100, but your input_length is only 44. Since this is a summarization task, where outputs shorter than the input are typically wanted, you might consider decreasing max_length manually, e.g. summarizer('...', max_length=22)\n"
          ]
        },
        {
          "output_type": "stream",
          "name": "stdout",
          "text": [
            "Results for keyword: summary of Navajo language\n",
            "\n"
          ]
        },
        {
          "output_type": "stream",
          "name": "stderr",
          "text": [
            "Your max_length is set to 100, but your input_length is only 80. Since this is a summarization task, where outputs shorter than the input are typically wanted, you might consider decreasing max_length manually, e.g. summarizer('...', max_length=40)\n"
          ]
        },
        {
          "output_type": "stream",
          "name": "stdout",
          "text": [
            "Result 1: management\n",
            "Summary:  managemental management cybernetics managementese management . management system manglement package management system performance. management system manglement package . management .\n",
            "URL: https://tinyurl.com/ynpkw7bb\n",
            "--------------------------------------------------\n",
            "Result 2: minute\n",
            "Summary:  George Bancroft, History of the United States from the discovery of the American continent‎[8] in 1876 [1834] to make a minute or a brief <span class=\"searchmatch\">summary</span>\n",
            "URL: https://tinyurl.com/yn7h8pls\n",
            "--------------------------------------------------\n"
          ]
        },
        {
          "output_type": "stream",
          "name": "stderr",
          "text": [
            "Your max_length is set to 100, but your input_length is only 85. Since this is a summarization task, where outputs shorter than the input are typically wanted, you might consider decreasing max_length manually, e.g. summarizer('...', max_length=42)\n"
          ]
        },
        {
          "output_type": "stream",
          "name": "stdout",
          "text": [
            "Results for keyword: meaning and significance of Navajo language\n",
            "\n"
          ]
        },
        {
          "output_type": "stream",
          "name": "stderr",
          "text": [
            "Your max_length is set to 100, but your input_length is only 78. Since this is a summarization task, where outputs shorter than the input are typically wanted, you might consider decreasing max_length manually, e.g. summarizer('...', max_length=39)\n"
          ]
        },
        {
          "output_type": "stream",
          "name": "stdout",
          "text": [
            "Result 1: in vain\n",
            "Summary:  N.H. Pijls, Maximal Myocardial Perfusion as a Measure of the Functional <span class=\"searchmatch\"> of the functional <span> Coronary Artery. were in vain .\n",
            "URL: https://tinyurl.com/28hu5nov\n",
            "--------------------------------------------------\n",
            "Result 2: read\n",
            "Summary:  She read my mind <span class=\"searchmatch\">and promptly rose to get me a glass of water . I can read his meaning, or infer a meaning, meaning, thought, intention, etc., from his mind .\n",
            "URL: https://tinyurl.com/ypfyfmjx\n",
            "--------------------------------------------------\n",
            "No results found for keyword: meaning, significance, and limitations of Navajo language\n",
            "\n",
            "No results found for keyword: please provide some critical equations and formulas for understanding Navajo language and demonstrate an example with Python code. Plot the output.\n",
            "\n"
          ]
        }
      ]
    },
    {
      "cell_type": "code",
      "source": [
        "# Wikipedia version with 2 summaries and URLs tabulated in a table format\n",
        "import requests\n",
        "from transformers import pipeline\n",
        "import pyshorteners\n",
        "from tabulate import tabulate\n",
        "\n",
        "keywords = [\n",
        "    'importance of X',\n",
        "    'ideal behavior of X',\n",
        "    'ideal vs. realistic behavior of X',\n",
        "    'significance of X',\n",
        "    'applications of X',\n",
        "    'physical significance of X',\n",
        "    'geometry for the measurement of X',\n",
        "    'typical characteristics of X',\n",
        "    'with and without X',\n",
        "    'what does X represent?',\n",
        "    'what is the concept of X?',\n",
        "    'taxonomy of X',\n",
        "    'table of X terms',\n",
        "    'the analog of X',\n",
        "    'physical meaning of X',\n",
        "    'X symbolism',\n",
        "    'iconographic meaning of X',\n",
        "    'why is X important?',\n",
        "    'generic model of a X',\n",
        "    'drawbacks of X',\n",
        "    'limitations of X',\n",
        "    'advantages of X',\n",
        "    'X table',\n",
        "    'table of X',\n",
        "    'X is related to?',\n",
        "    'linear model of X',\n",
        "    'schematic representation of X',\n",
        "    'generic model of a X',\n",
        "    'generic model of an X',\n",
        "    'generic model representation of X',\n",
        "    'floor plan of X',\n",
        "    'trajectory of X',\n",
        "    'motivation for X',\n",
        "    'open-source alternatives for X',\n",
        "    'visual guide to X',\n",
        "    'audio guide to X',\n",
        "    'roadmap of X',\n",
        "    'summary of X',\n",
        "    'meaning and significance of X',\n",
        "    'meaning, significance, and limitations of X',\n",
        "    'please provide some critical equations and formulas for understanding X and demonstrate an example with Python code. Plot the output.'\n",
        "]\n",
        "\n",
        "base_url = \"https://en.wikipedia.org/w/api.php\"\n",
        "params = {\n",
        "    \"action\": \"query\",\n",
        "    \"format\": \"json\",\n",
        "    \"list\": \"search\",\n",
        "    \"srsearch\": \"\",\n",
        "    \"srprop\": \"snippet\"\n",
        "}\n",
        "\n",
        "entry = input(\"Enter the word for X: \")\n",
        "\n",
        "summarizer = pipeline(\"summarization\")\n",
        "shortener = pyshorteners.Shortener()\n",
        "\n",
        "table_data = []\n",
        "\n",
        "for keyword in keywords:\n",
        "    keyword_with_entry = keyword.replace(\"X\", entry)\n",
        "    params[\"srsearch\"] = keyword_with_entry\n",
        "    response = requests.get(base_url, params=params).json()\n",
        "    results = response[\"query\"][\"search\"]\n",
        "    if len(results) > 0:\n",
        "        row = [keyword_with_entry]\n",
        "        for i, result in enumerate(results[:2]):\n",
        "            title = result[\"title\"]\n",
        "            snippet = result[\"snippet\"]\n",
        "            summary = summarizer(snippet, max_length=100, min_length=30, do_sample=False)[0]['summary_text']\n",
        "            page_url = f\"https://en.wikipedia.org/wiki/{title.replace(' ', '_')}\"\n",
        "            shortened_url = shortener.tinyurl.short(page_url)\n",
        "            row.extend([summary, shortened_url])\n",
        "        table_data.append(row)\n",
        "\n",
        "table_headers = [\"Keyword\", \"Summary 1\", \"URL 1\", \"Summary 2\", \"URL 2\"]\n",
        "table = tabulate(table_data, headers=table_headers, tablefmt=\"pipe\")\n",
        "\n",
        "print(table)\n"
      ],
      "metadata": {
        "colab": {
          "base_uri": "https://localhost:8080/"
        },
        "id": "PRwu-E_MBPHV",
        "outputId": "a6968947-41c8-45f8-c7a2-c7fe36278ad6"
      },
      "execution_count": 12,
      "outputs": [
        {
          "name": "stdout",
          "output_type": "stream",
          "text": [
            "Enter the word for X: Navajo dictionary\n"
          ]
        },
        {
          "output_type": "stream",
          "name": "stderr",
          "text": [
            "No model was supplied, defaulted to sshleifer/distilbart-cnn-12-6 and revision a4f8f3e (https://huggingface.co/sshleifer/distilbart-cnn-12-6).\n",
            "Using a pipeline without specifying a model name and revision in production is not recommended.\n",
            "Your max_length is set to 100, but your input_length is only 64. Since this is a summarization task, where outputs shorter than the input are typically wanted, you might consider decreasing max_length manually, e.g. summarizer('...', max_length=32)\n",
            "Your max_length is set to 100, but your input_length is only 69. Since this is a summarization task, where outputs shorter than the input are typically wanted, you might consider decreasing max_length manually, e.g. summarizer('...', max_length=34)\n",
            "Your max_length is set to 100, but your input_length is only 53. Since this is a summarization task, where outputs shorter than the input are typically wanted, you might consider decreasing max_length manually, e.g. summarizer('...', max_length=26)\n",
            "Your max_length is set to 100, but your input_length is only 55. Since this is a summarization task, where outputs shorter than the input are typically wanted, you might consider decreasing max_length manually, e.g. summarizer('...', max_length=27)\n",
            "Your max_length is set to 100, but your input_length is only 60. Since this is a summarization task, where outputs shorter than the input are typically wanted, you might consider decreasing max_length manually, e.g. summarizer('...', max_length=30)\n",
            "Your max_length is set to 100, but your input_length is only 99. Since this is a summarization task, where outputs shorter than the input are typically wanted, you might consider decreasing max_length manually, e.g. summarizer('...', max_length=49)\n",
            "Your max_length is set to 100, but your input_length is only 89. Since this is a summarization task, where outputs shorter than the input are typically wanted, you might consider decreasing max_length manually, e.g. summarizer('...', max_length=44)\n",
            "Your max_length is set to 100, but your input_length is only 86. Since this is a summarization task, where outputs shorter than the input are typically wanted, you might consider decreasing max_length manually, e.g. summarizer('...', max_length=43)\n",
            "Your max_length is set to 100, but your input_length is only 75. Since this is a summarization task, where outputs shorter than the input are typically wanted, you might consider decreasing max_length manually, e.g. summarizer('...', max_length=37)\n",
            "Your max_length is set to 100, but your input_length is only 99. Since this is a summarization task, where outputs shorter than the input are typically wanted, you might consider decreasing max_length manually, e.g. summarizer('...', max_length=49)\n",
            "Your max_length is set to 100, but your input_length is only 61. Since this is a summarization task, where outputs shorter than the input are typically wanted, you might consider decreasing max_length manually, e.g. summarizer('...', max_length=30)\n",
            "Your max_length is set to 100, but your input_length is only 70. Since this is a summarization task, where outputs shorter than the input are typically wanted, you might consider decreasing max_length manually, e.g. summarizer('...', max_length=35)\n",
            "Your max_length is set to 100, but your input_length is only 99. Since this is a summarization task, where outputs shorter than the input are typically wanted, you might consider decreasing max_length manually, e.g. summarizer('...', max_length=49)\n",
            "Your max_length is set to 100, but your input_length is only 65. Since this is a summarization task, where outputs shorter than the input are typically wanted, you might consider decreasing max_length manually, e.g. summarizer('...', max_length=32)\n",
            "Your max_length is set to 100, but your input_length is only 76. Since this is a summarization task, where outputs shorter than the input are typically wanted, you might consider decreasing max_length manually, e.g. summarizer('...', max_length=38)\n",
            "Your max_length is set to 100, but your input_length is only 73. Since this is a summarization task, where outputs shorter than the input are typically wanted, you might consider decreasing max_length manually, e.g. summarizer('...', max_length=36)\n",
            "Your max_length is set to 100, but your input_length is only 76. Since this is a summarization task, where outputs shorter than the input are typically wanted, you might consider decreasing max_length manually, e.g. summarizer('...', max_length=38)\n",
            "Your max_length is set to 100, but your input_length is only 90. Since this is a summarization task, where outputs shorter than the input are typically wanted, you might consider decreasing max_length manually, e.g. summarizer('...', max_length=45)\n",
            "Your max_length is set to 100, but your input_length is only 98. Since this is a summarization task, where outputs shorter than the input are typically wanted, you might consider decreasing max_length manually, e.g. summarizer('...', max_length=49)\n",
            "Your max_length is set to 100, but your input_length is only 55. Since this is a summarization task, where outputs shorter than the input are typically wanted, you might consider decreasing max_length manually, e.g. summarizer('...', max_length=27)\n",
            "Your max_length is set to 100, but your input_length is only 98. Since this is a summarization task, where outputs shorter than the input are typically wanted, you might consider decreasing max_length manually, e.g. summarizer('...', max_length=49)\n",
            "Your max_length is set to 100, but your input_length is only 88. Since this is a summarization task, where outputs shorter than the input are typically wanted, you might consider decreasing max_length manually, e.g. summarizer('...', max_length=44)\n",
            "Your max_length is set to 100, but your input_length is only 66. Since this is a summarization task, where outputs shorter than the input are typically wanted, you might consider decreasing max_length manually, e.g. summarizer('...', max_length=33)\n",
            "Your max_length is set to 100, but your input_length is only 94. Since this is a summarization task, where outputs shorter than the input are typically wanted, you might consider decreasing max_length manually, e.g. summarizer('...', max_length=47)\n",
            "Your max_length is set to 100, but your input_length is only 63. Since this is a summarization task, where outputs shorter than the input are typically wanted, you might consider decreasing max_length manually, e.g. summarizer('...', max_length=31)\n",
            "Your max_length is set to 100, but your input_length is only 85. Since this is a summarization task, where outputs shorter than the input are typically wanted, you might consider decreasing max_length manually, e.g. summarizer('...', max_length=42)\n",
            "Your max_length is set to 100, but your input_length is only 76. Since this is a summarization task, where outputs shorter than the input are typically wanted, you might consider decreasing max_length manually, e.g. summarizer('...', max_length=38)\n",
            "Your max_length is set to 100, but your input_length is only 72. Since this is a summarization task, where outputs shorter than the input are typically wanted, you might consider decreasing max_length manually, e.g. summarizer('...', max_length=36)\n",
            "Your max_length is set to 100, but your input_length is only 60. Since this is a summarization task, where outputs shorter than the input are typically wanted, you might consider decreasing max_length manually, e.g. summarizer('...', max_length=30)\n",
            "Your max_length is set to 100, but your input_length is only 74. Since this is a summarization task, where outputs shorter than the input are typically wanted, you might consider decreasing max_length manually, e.g. summarizer('...', max_length=37)\n",
            "Your max_length is set to 100, but your input_length is only 83. Since this is a summarization task, where outputs shorter than the input are typically wanted, you might consider decreasing max_length manually, e.g. summarizer('...', max_length=41)\n",
            "Your max_length is set to 100, but your input_length is only 75. Since this is a summarization task, where outputs shorter than the input are typically wanted, you might consider decreasing max_length manually, e.g. summarizer('...', max_length=37)\n",
            "Your max_length is set to 100, but your input_length is only 66. Since this is a summarization task, where outputs shorter than the input are typically wanted, you might consider decreasing max_length manually, e.g. summarizer('...', max_length=33)\n",
            "Your max_length is set to 100, but your input_length is only 76. Since this is a summarization task, where outputs shorter than the input are typically wanted, you might consider decreasing max_length manually, e.g. summarizer('...', max_length=38)\n",
            "Your max_length is set to 100, but your input_length is only 53. Since this is a summarization task, where outputs shorter than the input are typically wanted, you might consider decreasing max_length manually, e.g. summarizer('...', max_length=26)\n",
            "Your max_length is set to 100, but your input_length is only 62. Since this is a summarization task, where outputs shorter than the input are typically wanted, you might consider decreasing max_length manually, e.g. summarizer('...', max_length=31)\n",
            "Your max_length is set to 100, but your input_length is only 66. Since this is a summarization task, where outputs shorter than the input are typically wanted, you might consider decreasing max_length manually, e.g. summarizer('...', max_length=33)\n",
            "Your max_length is set to 100, but your input_length is only 62. Since this is a summarization task, where outputs shorter than the input are typically wanted, you might consider decreasing max_length manually, e.g. summarizer('...', max_length=31)\n",
            "Your max_length is set to 100, but your input_length is only 53. Since this is a summarization task, where outputs shorter than the input are typically wanted, you might consider decreasing max_length manually, e.g. summarizer('...', max_length=26)\n",
            "Your max_length is set to 100, but your input_length is only 54. Since this is a summarization task, where outputs shorter than the input are typically wanted, you might consider decreasing max_length manually, e.g. summarizer('...', max_length=27)\n",
            "Your max_length is set to 100, but your input_length is only 55. Since this is a summarization task, where outputs shorter than the input are typically wanted, you might consider decreasing max_length manually, e.g. summarizer('...', max_length=27)\n",
            "Your max_length is set to 100, but your input_length is only 84. Since this is a summarization task, where outputs shorter than the input are typically wanted, you might consider decreasing max_length manually, e.g. summarizer('...', max_length=42)\n",
            "Your max_length is set to 100, but your input_length is only 96. Since this is a summarization task, where outputs shorter than the input are typically wanted, you might consider decreasing max_length manually, e.g. summarizer('...', max_length=48)\n",
            "Your max_length is set to 100, but your input_length is only 83. Since this is a summarization task, where outputs shorter than the input are typically wanted, you might consider decreasing max_length manually, e.g. summarizer('...', max_length=41)\n",
            "Your max_length is set to 100, but your input_length is only 80. Since this is a summarization task, where outputs shorter than the input are typically wanted, you might consider decreasing max_length manually, e.g. summarizer('...', max_length=40)\n",
            "Your max_length is set to 100, but your input_length is only 55. Since this is a summarization task, where outputs shorter than the input are typically wanted, you might consider decreasing max_length manually, e.g. summarizer('...', max_length=27)\n",
            "Your max_length is set to 100, but your input_length is only 73. Since this is a summarization task, where outputs shorter than the input are typically wanted, you might consider decreasing max_length manually, e.g. summarizer('...', max_length=36)\n",
            "Your max_length is set to 100, but your input_length is only 77. Since this is a summarization task, where outputs shorter than the input are typically wanted, you might consider decreasing max_length manually, e.g. summarizer('...', max_length=38)\n",
            "Your max_length is set to 100, but your input_length is only 78. Since this is a summarization task, where outputs shorter than the input are typically wanted, you might consider decreasing max_length manually, e.g. summarizer('...', max_length=39)\n",
            "Your max_length is set to 100, but your input_length is only 75. Since this is a summarization task, where outputs shorter than the input are typically wanted, you might consider decreasing max_length manually, e.g. summarizer('...', max_length=37)\n",
            "Your max_length is set to 100, but your input_length is only 66. Since this is a summarization task, where outputs shorter than the input are typically wanted, you might consider decreasing max_length manually, e.g. summarizer('...', max_length=33)\n",
            "Your max_length is set to 100, but your input_length is only 64. Since this is a summarization task, where outputs shorter than the input are typically wanted, you might consider decreasing max_length manually, e.g. summarizer('...', max_length=32)\n",
            "Your max_length is set to 100, but your input_length is only 66. Since this is a summarization task, where outputs shorter than the input are typically wanted, you might consider decreasing max_length manually, e.g. summarizer('...', max_length=33)\n",
            "Your max_length is set to 100, but your input_length is only 67. Since this is a summarization task, where outputs shorter than the input are typically wanted, you might consider decreasing max_length manually, e.g. summarizer('...', max_length=33)\n",
            "Your max_length is set to 100, but your input_length is only 52. Since this is a summarization task, where outputs shorter than the input are typically wanted, you might consider decreasing max_length manually, e.g. summarizer('...', max_length=26)\n",
            "Your max_length is set to 100, but your input_length is only 82. Since this is a summarization task, where outputs shorter than the input are typically wanted, you might consider decreasing max_length manually, e.g. summarizer('...', max_length=41)\n",
            "Your max_length is set to 100, but your input_length is only 55. Since this is a summarization task, where outputs shorter than the input are typically wanted, you might consider decreasing max_length manually, e.g. summarizer('...', max_length=27)\n",
            "Your max_length is set to 100, but your input_length is only 96. Since this is a summarization task, where outputs shorter than the input are typically wanted, you might consider decreasing max_length manually, e.g. summarizer('...', max_length=48)\n",
            "Your max_length is set to 100, but your input_length is only 71. Since this is a summarization task, where outputs shorter than the input are typically wanted, you might consider decreasing max_length manually, e.g. summarizer('...', max_length=35)\n",
            "Your max_length is set to 100, but your input_length is only 62. Since this is a summarization task, where outputs shorter than the input are typically wanted, you might consider decreasing max_length manually, e.g. summarizer('...', max_length=31)\n",
            "Your max_length is set to 100, but your input_length is only 47. Since this is a summarization task, where outputs shorter than the input are typically wanted, you might consider decreasing max_length manually, e.g. summarizer('...', max_length=23)\n",
            "Your max_length is set to 100, but your input_length is only 76. Since this is a summarization task, where outputs shorter than the input are typically wanted, you might consider decreasing max_length manually, e.g. summarizer('...', max_length=38)\n",
            "Your max_length is set to 100, but your input_length is only 75. Since this is a summarization task, where outputs shorter than the input are typically wanted, you might consider decreasing max_length manually, e.g. summarizer('...', max_length=37)\n",
            "Your max_length is set to 100, but your input_length is only 82. Since this is a summarization task, where outputs shorter than the input are typically wanted, you might consider decreasing max_length manually, e.g. summarizer('...', max_length=41)\n",
            "Your max_length is set to 100, but your input_length is only 94. Since this is a summarization task, where outputs shorter than the input are typically wanted, you might consider decreasing max_length manually, e.g. summarizer('...', max_length=47)\n",
            "Your max_length is set to 100, but your input_length is only 62. Since this is a summarization task, where outputs shorter than the input are typically wanted, you might consider decreasing max_length manually, e.g. summarizer('...', max_length=31)\n",
            "Your max_length is set to 100, but your input_length is only 99. Since this is a summarization task, where outputs shorter than the input are typically wanted, you might consider decreasing max_length manually, e.g. summarizer('...', max_length=49)\n",
            "Your max_length is set to 100, but your input_length is only 65. Since this is a summarization task, where outputs shorter than the input are typically wanted, you might consider decreasing max_length manually, e.g. summarizer('...', max_length=32)\n",
            "Your max_length is set to 100, but your input_length is only 63. Since this is a summarization task, where outputs shorter than the input are typically wanted, you might consider decreasing max_length manually, e.g. summarizer('...', max_length=31)\n",
            "Your max_length is set to 100, but your input_length is only 60. Since this is a summarization task, where outputs shorter than the input are typically wanted, you might consider decreasing max_length manually, e.g. summarizer('...', max_length=30)\n",
            "Your max_length is set to 100, but your input_length is only 69. Since this is a summarization task, where outputs shorter than the input are typically wanted, you might consider decreasing max_length manually, e.g. summarizer('...', max_length=34)\n",
            "Your max_length is set to 100, but your input_length is only 77. Since this is a summarization task, where outputs shorter than the input are typically wanted, you might consider decreasing max_length manually, e.g. summarizer('...', max_length=38)\n",
            "Your max_length is set to 100, but your input_length is only 85. Since this is a summarization task, where outputs shorter than the input are typically wanted, you might consider decreasing max_length manually, e.g. summarizer('...', max_length=42)\n"
          ]
        },
        {
          "output_type": "stream",
          "name": "stdout",
          "text": [
            "| Keyword                                                     | Summary 1                                                                                                                                                                                                                                                               | URL 1                        | Summary 2                                                                                                                                                                                                                                         | URL 2                        |\n",
            "|:------------------------------------------------------------|:------------------------------------------------------------------------------------------------------------------------------------------------------------------------------------------------------------------------------------------------------------------------|:-----------------------------|:--------------------------------------------------------------------------------------------------------------------------------------------------------------------------------------------------------------------------------------------------|:-----------------------------|\n",
            "| importance of Navajo dictionary                             | Grandmother (Hopi Kokyangwuti, <span class=\"searchmatch\">Navajo) is an important figure in the mythology, oral traditions and folklore of many Native American cultures .                                                                                               | https://tinyurl.com/2846dm5g | Polish, <span class=\"searchmatch\">Navajo</span> and Elfdalian use a hook under the letter . In the standardized orthographies most varieties of Tupí-Guaraní are spoken in Bolivia .                                                              | https://tinyurl.com/ype8rh24 |\n",
            "| ideal behavior of Navajo dictionary                         | The Navajo people ate prairie dog baked in mud, while the Paiute ate gophers, squirrels, gophers and squirrels . muskrats, porcupines and groundhogs are eaten by humans .                                                                                              | https://tinyurl.com/nn6qsvn  | Athabaskan language–speaking peoples of the Southwest and the Southern Plains . They are linguistically related to the <span class=\"searchmatch\">Navajo .                                                                                         | https://tinyurl.com/yam2l6uk |\n",
            "| ideal vs. realistic behavior of Navajo dictionary           | America, also referred to as American culture, encompasses various social institutions, institutions, and norms in the United States . America is also known as America .                                                                                               | https://tinyurl.com/thje3fd  |                                                                                                                                                                                                                                                   |                              |\n",
            "| significance of Navajo dictionary                           | Tsé Bitʼaʼí is a monadnock rising nearly 1,583 feet (482.5 m) above the high-desert plain of the Navajo Nation .                                                                                                                                                        | https://tinyurl.com/26a3zhc4 | hogan is the primary, traditional dwelling <span class=\"searchmatch\">of the <span>Navajo</span> people . hooghan [hoːɣan] is a traditional dwelling of the Navajo people .                                                                        | https://tinyurl.com/qxy9xo2  |\n",
            "| applications of Navajo dictionary                           | The Navajo Nation is a Native American reservation <span class=\"searchmatch\"> of <span> people in the United States . Navajo is also known as Navajoland .                                                                                                              | https://tinyurl.com/gmchu2k  | Colors often considered &quot;shades of white include cream, eggshell, ivory, <span class=\"searchmatch\">Navajo</span> white, and vanilla . Even the lighting of a room can cause a pure white shade .                                             | https://tinyurl.com/hpa5ujp  |\n",
            "| physical significance of Navajo dictionary                  | Tsé Bitʼaʼí is a monadnock rising nearly 1,583 feet (482.5 m) above the high-desert plain of the Navajo Nation .                                                                                                                                                        | https://tinyurl.com/26a3zhc4 | These organic bodies <span class=\"searchmatch\">of water have attained religious significance not from the modern alteration or blessing . elevated with the sacramental blessing of a cleric .                                                    | https://tinyurl.com/ysa2opkk |\n",
            "| geometry for the measurement of Navajo dictionary           | Back catalogue of films made earlier were reissued under Coronet banner . It was quite common <span class=\"searchmatch\">for a film to be re-released as a &quot;2nd .                                                                                                   | https://tinyurl.com/yp82rzls | Pluto's mass is roughly 0.2% that of Earth, and far too small to account . Pluto's moon Charon allowed <span class=\"searchmatch\">the</span> first time: roughly 0 .2% of Earth's mass .                                                           | https://tinyurl.com/7lfltno  |\n",
            "| typical characteristics of Navajo dictionary                | Navajo has a limited number <span class=\"searchmatch\">of </span> labial sounds, both in terms of articulation and less at other places .                                                                                                                                | https://tinyurl.com/22g59alb | In the Basque country and Western U.S. Native American shepherding areas, mutton has been incorporated . In the United States, the Navajo people have incorporated mutton .                                                                       | https://tinyurl.com/p2wq489  |\n",
            "| with and without Navajo dictionary                          | Diné bizaad [tìnépìz̥ɑ̀ːt] is a Southern Athabaskan language .                                                                                                                                                                                                            | https://tinyurl.com/j5vymdg  | Navajo Nation is a Native American reservation of <span class=\"searchmatch\">Navajo</span> people in the United States . Navajoland is a reservation of Native American people .                                                                   | https://tinyurl.com/gmchu2k  |\n",
            "| what does Navajo dictionary represent?                      | Skin-walkers are a type of 'ánti'įhnii. specifically, they are a form of witchcraft . They represent the antithesis of Navajo cultural values .                                                                                                                         | https://tinyurl.com/q5ojt9y  | Navajo Nation is a Native American reservation of <span class=\"searchmatch\">Navajo</span> people in the United States . Navajoland is a reservation of Native American people .                                                                   | https://tinyurl.com/gmchu2k  |\n",
            "| what is the concept of Navajo dictionary?                   | In <span class=\"searchmatch\">Navajo</span> culture, a skin-walker is a type of harmful witch who has the ability to turn into, possess, or disguise themselves .                                                                                                        | https://tinyurl.com/q5ojt9y  | Tony Hillerman's crime novel is the second in the Joe Leaphorn/Jim Chee Tribal Police series . The novel is a crime novel by American writer Tony Hillman . It is the first in the series of novels by Hillerman .                                | https://tinyurl.com/ytxvzhek |\n",
            "| taxonomy of Navajo dictionary                               | Navajo or Navaho is a Southern Athabaskan language . Diné bizaad [tìnépìz̥ɑ̀ːt] or Naabeehóbizaad is the language of the Athabasan . Navajo is the name of the Native American tribe .                                                                                    | https://tinyurl.com/j5vymdg  | Athabaskan language–speaking peoples of the Southwest and the Southern Plains . They are linguistically related to the <span class=\"searchmatch\">Navajo .                                                                                         | https://tinyurl.com/yam2l6uk |\n",
            "| table of Navajo dictionary terms                            | Navajo has a limited number <span class=\"searchmatch\">of </span> labial sounds, both in terms and in terms of terms . It has a few coronal places and less at other places .                                                                                            | https://tinyurl.com/22g59alb | The <span class=\"searchmatch\">Navajo</span> Language: A Grammar and Colloquial Dictionary . University of New Mexico Press. p.99 .                                                                                                                | https://tinyurl.com/y37autcm |\n",
            "| the analog of Navajo dictionary                             | Láadan created <span class=\"searchmatch\">the first UCSD student ever to write two dissertations (on English and Navajo Navajo) She created the engineered language Ládan, the first language language created by a UCSD linguist .                                      | https://tinyurl.com/lon2e9p  | Cantonese preserves an .alog to <span class=\"searchmatch\">analog to the voicing distinction <span . class of Middle Chinese in . the manner shown in the chart . remembering . the . nine tones .                                                 | https://tinyurl.com/ynaclz2b |\n",
            "| physical meaning of Navajo dictionary                       | Navajo or Navaho is a Southern Athabaskan language . Diné bizaad [tìnépìz̥ɑ̀ːt] or Naabeehóbizaad is the language of the Athabasan . Navajo is the name of the Native American tribe .                                                                                    | https://tinyurl.com/j5vymdg  | Hopi Reservation is entirely surrounded by the much larger <span class=\"searchmatch\">Navajo</span> Reservation, which is the largest reservation in the country .                                                                                 | https://tinyurl.com/23a3wsbj |\n",
            "| Navajo dictionary symbolism                                 | Mircea Eliade (tr. Philip Mairet). &quot;<span class=\"searchmatch\">Symbolism of the Centre&quot ;t. Gheerbrandt. A Dictionary of Symbols. Penguin Books: London, 1996 .                                                                                                 | https://tinyurl.com/olllnut  | Co-authored with Adolph Bitanny, co-authored the story of the Coeur d'Alene . Hail Chant: Composition and <span class=\"searchmatch\">Symbolism</span> of the Ceirdene . Co-author: The Story of the Native Americans .                             | https://tinyurl.com/27w49wtp |\n",
            "| iconographic meaning of Navajo dictionary                   | The Mesoamerican deity appears on the earliest known depiction of the feathered-serpent deity . Mesoamanic cultures depict the deity as a feathered serpent . The earliest known depictions of the deity appear on religious and symbolic sites .                       | https://tinyurl.com/nr8kmwz  | Among various tribes, the swastika carries different meanings . The swastika is used by southwestern tribes, most notably the Navajo, and plains nations such as the Dakota .                                                                     | https://tinyurl.com/bppdhyz  |\n",
            "| why is Navajo dictionary important?                         | Spider Grandmother (Hopi Kokyangwuti, <span class=\"searchmatch\">Navajo</span> Na'ashjé'ii Asdzáá) is an important figure in Native American mythology .                                                                                                                 | https://tinyurl.com/2846dm5g | Atahensic. Asdzą́ą  Nádleehé and Yolkai Estsan - <span class=\"searchmatch\">Navajo</span> goddesses . Jukihú and Juracán - Twin sons of the goddesses.                                                                                              | https://tinyurl.com/ynvc3ul9 |\n",
            "| generic model of a Navajo dictionary                        | Native Americans have been known to use Datura spiritually . Native Americans, including Navajo and Navajo, have used it in their spiritual practices .                                                                                                                 | https://tinyurl.com/jzu2t4t  | Estrada, Gabriel (2011). &quot;Two Spirits, Nádleeh, and LGBTQ2 <span class=\"searchmatch\">Navajo</span> American Indian Culture and Research Journal. 35 (4): 167–190. September 2019.                                                            | https://tinyurl.com/ccnshl8  |\n",
            "| drawbacks of Navajo dictionary                              | Counter-rotating propellers come from the fact that, in order to reverse the rotation <span class=\"searchmatch\">of one propeller, the propeller can be reversed in the case of engine failure .                                                                         | https://tinyurl.com/hs3lkl5  | The Navajo people ate prairie dog baked in mud, while the Paiute ate gophers, squirrels, gophers and squirrels . muskrats, porcupines and groundhogs are eaten by humans .                                                                        | https://tinyurl.com/nn6qsvn  |\n",
            "| limitations of Navajo dictionary                            | Civil engineer proposed the idea of using the <span class=\"searchmatch\">Navajo\" language to be used in the Pacific Theater during World War II .                                                                                                                        | https://tinyurl.com/yqpbrutd | Google Translate. Irish language data from Foras na Gaeilge's New English-Irish Dictionary . The accuracy of the Irish language is a major <span class=\"searchmatch\">limitation</span> to the accuracy of Google .                                | https://tinyurl.com/yym9xwls |\n",
            "| advantages of Navajo dictionary                             | The term covers at least three distinct periods <span class=\"searchmatch\">of conflict in the American West: the Spanish (late 16th century through through 16th and 17th century) The term \"Navajo\" covers three periods of conflict in American West .                 | https://tinyurl.com/yoo9duwt | Navajo settled in the Colorado Basin after the 1000s . Spanish explorers began mapping and claiming the watershed in the 1500s . The watershed became part of Mexico .                                                                            | https://tinyurl.com/jq9cr3j  |\n",
            "| Navajo dictionary table                                     | This article is about the sound system of the <span class=\"searchmatch\">Navajo</span> language . The phonology of the language is intimately connected to its morphology .                                                                                              | https://tinyurl.com/22g59alb | Manuelito is famous for his leadership during and after the Long Walk of the <span class=\"searchmatch\">Navajo</span> Manuelito spoke the seven Southern Athabaskan languages .                                                                    | https://tinyurl.com/24yua8h4 |\n",
            "| table of Navajo dictionary                                  | The phonology of the language is intimately connected to its morphology . The entire range <span class=\"searchmatch\">of contrastive consonants is used in the sound system .                                                                                            | https://tinyurl.com/22g59alb | Havasupai Falls net: Lower <span class=\"searchmatch\">Navajo</span> Falls . Hinton, Leanne (1984). A Dictionary of Havasupsi language .                                                                                                            | https://tinyurl.com/ym6du8hy |\n",
            "| Navajo dictionary is related to?                            | Na-Dené family, through which it is related to languages spoken across the western areas of North America . Navajo is spoken primarily in the Southwestern areas of the country .                                                                                       | https://tinyurl.com/j5vymdg  | In <span class=\"searchmatch\">Navajo</span> culture, a skin-walker is a type of harmful witch who has the ability to turn into, possess, or disguise themselves .                                                                                  | https://tinyurl.com/q5ojt9y  |\n",
            "| linear model of Navajo dictionary                           | Athabaskan language–speaking peoples of the Southwest and the Southern Plains . They are linguistically related to the <span class=\"searchmatch\">Navajo .                                                                                                               | https://tinyurl.com/yam2l6uk | A long tradition of symmetry in carpet and rug patterns spans a variety of cultures . American <span class=\"searchmatch\">Navajo</span> Indians used bold diagonals .                                                                              | https://tinyurl.com/oyfvmsv  |\n",
            "| schematic representation of Navajo dictionary               | Herbst, Philip (1997). The Color <span class=\"searchmatch\">of</span> Words: An Encyclopaedic <span>Dictionary . Ethnic Bias in the United States .                                                                                                                      | https://tinyurl.com/6u6qpey  | Kokh-type tombs cut into multicoloured sandstone <span class=\"searchmatch\">of the sandstone . dissolution of some of the cement to produce secondary porosity .                                                                                   | https://tinyurl.com/y8gpw7k7 |\n",
            "| generic model of a Navajo dictionary                        | Native Americans have been known to use Datura spiritually . Native Americans, including Navajo and Navajo, have used it in their spiritual practices .                                                                                                                 | https://tinyurl.com/jzu2t4t  | Estrada, Gabriel (2011). &quot;Two Spirits, Nádleeh, and LGBTQ2 <span class=\"searchmatch\">Navajo</span> American Indian Culture and Research Journal. 35 (4): 167–190. September 2019.                                                            | https://tinyurl.com/ccnshl8  |\n",
            "| generic model of an Navajo dictionary                       | Native Americans have been known to use Datura spiritually . Native Americans are known to have used it in their spiritual practices . Native American tribes have also used it for spiritual purposes .                                                                | https://tinyurl.com/jzu2t4t  | Estrada, Gabriel (2011). &quot;Two Spirits, Nádleeh, and LGBTQ2 <span class=\"searchmatch\">Navajo</span> American Indian Culture and Research Journal. 35 (4): 167–190. September 2019.                                                            | https://tinyurl.com/ccnshl8  |\n",
            "| generic model representation of Navajo dictionary           | The ceremony was performed by singer (medicine man) Jeff King and recorded by artist and ethnologist Maud Oakes . Oakes recounts the story of a Native American ceremony .                                                                                              | https://tinyurl.com/l9krkbu  | First Parliament of the World's Religions was held in Chicago in 1893 . Representation at the Parliament was not comprehensive. came into use when the first Parliament was held .                                                                | https://tinyurl.com/kyolw5y  |\n",
            "| floor plan of Navajo dictionary                             | The Grand Canyon (Hopi: Öngtupqa, Yavapai: Wi:kaʼi:la) is the largest canyon in the world . Spanish: Gran Cañón or Gran Gran .                                                                                                                                          | https://tinyurl.com/gvye5yp  | Thai Regional Airline Flight 106, a Piper PA-31 (HS-FGB) arriving from Nakhon Ratchasima Airport with two passengers, crashed 1 August 2016 .                                                                                                     | https://tinyurl.com/jcpdw9l  |\n",
            "| trajectory of Navajo dictionary                             | A great deal <span class=\"searchmatch\">of trial and trial and the strength of the throw can be added to the throw . A great number of factors in the throw include tilt, tilt, the angle against the wind, the elevation, elevation and the degree of spin .            | https://tinyurl.com/yxtym5zu | The majority of people who have experienced a loss are resilient and that there are multiple <span class=\"searchmatch\">trajectories</span> following loss .                                                                                       | https://tinyurl.com/hntygop  |\n",
            "| motivation for Navajo dictionary                            | A total of 1,200 Pueblo men served in World War II; only about half came home alive . In addition, many more served as code code .                                                                                                                                      | https://tinyurl.com/kasqv8l  | Native people such as anthropologist Wesley Thomas of the Dine or <span class=\"searchmatch\">Navajo</span> tribe contributed to its creation . Thomas was a professor in the School of Anthropology .                                              | https://tinyurl.com/ydauavho |\n",
            "| open-source alternatives for Navajo dictionary              | Diné bizaad [tìnépìz̥ɑ̀ːt] is a Southern Athabaskan language .                                                                                                                                                                                                            | https://tinyurl.com/j5vymdg  | Navajo Nation is a Native American reservation of <span class=\"searchmatch\">Navajo</span> people in the United States . Navajoland is a reservation of Native American people .                                                                   | https://tinyurl.com/gmchu2k  |\n",
            "| visual guide to Navajo dictionary                           | Sandpainting is an aspect of <span class=\"searchmatch\">Navajo</span> healing ceremonies that inspired an art form . Navajos learned to weave on upright upright .                                                                                                       | https://tinyurl.com/ytgjqure | The Grand Canyon (Hopi: Öngtupqa, Yavapai: Wi:kaʼi:la) is the largest canyon in the world . Spanish: Gran Cañón or Gran Gran .                                                                                                                    | https://tinyurl.com/gvye5yp  |\n",
            "| audio guide to Navajo dictionary                            | Appendix: <span class=\"searchmatch\">Navajo</span> alphabet in Wiktionary . Hózhǫ́ Náhásdlį́į ́ – Language of the Holy People .                                                                                                                                             | https://tinyurl.com/j5vymdg  | Chihuahua, Coahuila and <span class=\"searchmatch\">to a much lesser degree in Durango and Nuevo León . Those languages are spoken by various groups of Apache and Navajo peoples .                                                                 | https://tinyurl.com/24yua8h4 |\n",
            "| roadmap of Navajo dictionary                                | Yootó Hahoodzo <span class=\"searchmatch\">Navajo</span> is a state in the Southwestern United States . It is one of the Mountain States .                                                                                                                                | https://tinyurl.com/6j2bsja  | Based on Paul Herget's The Names <span class=\"searchmatch\"> of the Minor Planets (DMP) and regularly updated the collection .                                                                                                                     | https://tinyurl.com/ysdophpt |\n",
            "| summary of Navajo dictionary                                | Hopi Reservation is entirely surrounded by the much larger <span class=\"searchmatch\">Navajo</span> Reservation, which is the largest reservation in the country .                                                                                                       | https://tinyurl.com/23a3wsbj | The film is based on the real story of code talkers during World War II . The film was theatrically released in 2009 . It stars Mark Ruffalo, Christian Slater and Christian Slater .                                                             | https://tinyurl.com/y5oyvyya |\n",
            "| meaning and significance of Navajo dictionary               | This article is about the sound system <span class=\"searchmatch\">of the <span searchmatch\" language . The phonology of the language is the phonological system .                                                                                                        | https://tinyurl.com/22g59alb | It is set primarily in Ramah Reservation (part of the Navajo Reservation) and the Zuni village in New Mexico, both in the American Southwest .                                                                                                    | https://tinyurl.com/ytxvzhek |\n",
            "| meaning, significance, and limitations of Navajo dictionary | Extreme Intentionalism holds that authorial. subject matter and content is authorial . Others prefer terms like <span class=\"searchmatch\">meaning <span> and <span class=\"Searchmatch\">and</span> connotations . Extreme intentalism is a form of extreme intentality . | https://tinyurl.com/d89fdfq  | Hall proposed a similar difference between <span class=\"searchmatch\">Navajo <span>-speakers in a United States school and English speakers in a U.S. school . He proposed a &quot;spectrum&quot ; of national cultures from . national cultures . | https://tinyurl.com/ybv8deec |\n"
          ]
        }
      ]
    }
  ]
}